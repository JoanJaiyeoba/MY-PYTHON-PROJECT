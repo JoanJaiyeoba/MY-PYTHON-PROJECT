{
 "cells": [
  {
   "cell_type": "markdown",
   "id": "c97a68ce",
   "metadata": {},
   "source": [
    "Objective\n",
    "Before you start, you will need Python installed on your computer. \n",
    "\n",
    "Install python by following the steps shown in this chapter.\n",
    "Once you finished installation, check your python version using python --version command\n",
    "Open your jupyter notebook (Just go to the anaconda navigator and click on Jupyter Notebook)\n",
    "Create a new notebook\n",
    "Now in the first cell type: print(\"Welcome to python world! Let's start coding\"), run and see the result.\n",
    "Save the notebook and tell us its extension."
   ]
  },
  {
   "cell_type": "code",
   "execution_count": 2,
   "id": "c67c2752",
   "metadata": {},
   "outputs": [
    {
     "name": "stdout",
     "output_type": "stream",
     "text": [
      "Welcome to pyhton world! Lets start coding\n"
     ]
    }
   ],
   "source": [
    "print ('Welcome to pyhton world! Lets start coding')"
   ]
  },
  {
   "cell_type": "code",
   "execution_count": null,
   "id": "ed4a40b1",
   "metadata": {},
   "outputs": [],
   "source": []
  }
 ],
 "metadata": {
  "kernelspec": {
   "display_name": "Python 3 (ipykernel)",
   "language": "python",
   "name": "python3"
  },
  "language_info": {
   "codemirror_mode": {
    "name": "ipython",
    "version": 3
   },
   "file_extension": ".py",
   "mimetype": "text/x-python",
   "name": "python",
   "nbconvert_exporter": "python",
   "pygments_lexer": "ipython3",
   "version": "3.9.7"
  }
 },
 "nbformat": 4,
 "nbformat_minor": 5
}

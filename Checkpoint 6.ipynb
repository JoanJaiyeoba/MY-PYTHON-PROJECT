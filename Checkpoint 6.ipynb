{
 "cells": [
  {
   "cell_type": "markdown",
   "id": "133652af",
   "metadata": {},
   "source": [
    "Question 1\n",
    "\n",
    "Write a Python program to convert an array to an ordinary list with the same items.\n",
    "\n",
    "we can use the np.tolist() function\n",
    "\n",
    "Question 2 \n",
    "\n",
    "Write a NumPy program to compute the sum of the diagonal elements of a given array.\n",
    "\n",
    "Hint: Two methods to solve this problem: 1. manually(without direct function). 2. using the trace function\n",
    "\n",
    "Question 3\n",
    "\n",
    "Given an array of your choice, get all the values higher than X :\n",
    "\n",
    "if a = [[1,2],[3,5]] and x = 2 :  then 3 and 5 are higher than 2. \n",
    "\n",
    "Question 4\n",
    "\n",
    "Given two arrays, A & B have the same shape. \n",
    "\n",
    "The task is to apply addition by hand: C is the new array. \n",
    "\n",
    "Question 5\n",
    "\n",
    "Write a NumPy program to subtract the mean of each row of a given matrix.\n",
    "\n",
    "Hint: use the mean function"
   ]
  },
  {
   "cell_type": "code",
   "execution_count": 58,
   "id": "ee6a5385",
   "metadata": {
    "scrolled": true
   },
   "outputs": [
    {
     "name": "stdout",
     "output_type": "stream",
     "text": [
      "QUESTION 1\n",
      "[[ 2  4  6]\n",
      " [ 8 10 12]]\n",
      "list:  [[2, 4, 6], [8, 10, 12]]\n"
     ]
    }
   ],
   "source": [
    "print ('QUESTION 1')\n",
    "array = np.array ([[2,4,6] , [8,10,12]])\n",
    "print (array)\n",
    "\n",
    "conversion = array.tolist()\n",
    "print ('list: ', conversion)"
   ]
  },
  {
   "cell_type": "code",
   "execution_count": 71,
   "id": "3336a2ad",
   "metadata": {},
   "outputs": [
    {
     "name": "stdout",
     "output_type": "stream",
     "text": [
      "QUESTION 2\n",
      "Original Matrix:\n",
      "[[55 25 15]\n",
      " [30 44  2]\n",
      " [11 45 77]]\n",
      "\n",
      "Trace of given 3X3 matrix:\n",
      "176\n"
     ]
    }
   ],
   "source": [
    "print ('QUESTION 2')\n",
    "import numpy as np\n",
    "\n",
    "array = np.array([[55, 25, 15], [30, 44, 2],[11, 45, 77]])\n",
    "\n",
    "print(\"Original Matrix:\")\n",
    "print(array)\n",
    "\n",
    "trace = np.trace(n_array)\n",
    "print(\"\\nTrace of given 3X3 matrix:\")\n",
    "print(trace)"
   ]
  },
  {
   "cell_type": "code",
   "execution_count": 67,
   "id": "b072f470",
   "metadata": {},
   "outputs": [
    {
     "name": "stdout",
     "output_type": "stream",
     "text": [
      "QUESTION 3\n",
      "[[1 2 3]\n",
      " [4 5 6]\n",
      " [7 8 9]]\n",
      "\n",
      "\n",
      "[8 9]\n"
     ]
    }
   ],
   "source": [
    "print ('QUESTION 3')\n",
    "import numpy as np\n",
    "array = np.array([[1,2,3], [4,5,6],[7,8,9]] )\n",
    "print (array)\n",
    "\n",
    "x=7\n",
    "print ('\\n')\n",
    "print (array[array>x])\n"
   ]
  },
  {
   "cell_type": "code",
   "execution_count": 68,
   "id": "e6032253",
   "metadata": {},
   "outputs": [
    {
     "name": "stdout",
     "output_type": "stream",
     "text": [
      "QUESTION 4\n",
      "[[ 6 13]\n",
      " [10 14]]\n"
     ]
    }
   ],
   "source": [
    "print ('QUESTION 4')\n",
    "import numpy as np\n",
    "A = np.array([[1,7],[3,4]],dtype=int ) \n",
    "B = np.array([[5,6],[7,10]],dtype=int )  \n",
    "\n",
    "C = A + B\n",
    "print (C)"
   ]
  },
  {
   "cell_type": "code",
   "execution_count": 70,
   "id": "90952ba3",
   "metadata": {},
   "outputs": [
    {
     "name": "stdout",
     "output_type": "stream",
     "text": [
      "QUESTION 5\n",
      "Original matrix:\n",
      "[[ 5 17  8]\n",
      " [18 42 76]\n",
      " [ 7 10 18]]\n",
      "\n",
      "\n",
      "[[ -5   7  -2]\n",
      " [-27  -3  31]\n",
      " [ -4  -1   7]]\n"
     ]
    }
   ],
   "source": [
    "print ('QUESTION 5')\n",
    "import numpy as np\n",
    "array = np.array([[5,17,8], [18,42,76],[7,10,18]] )\n",
    "print ('Original matrix:')\n",
    "print (array)\n",
    "\n",
    "x= array - array.mean(axis = 1 , keepdims = True , dtype=int)\n",
    "print (\"\\n\")\n",
    "print (x)"
   ]
  },
  {
   "cell_type": "code",
   "execution_count": null,
   "id": "c8b530bd",
   "metadata": {},
   "outputs": [],
   "source": []
  }
 ],
 "metadata": {
  "kernelspec": {
   "display_name": "Python 3 (ipykernel)",
   "language": "python",
   "name": "python3"
  },
  "language_info": {
   "codemirror_mode": {
    "name": "ipython",
    "version": 3
   },
   "file_extension": ".py",
   "mimetype": "text/x-python",
   "name": "python",
   "nbconvert_exporter": "python",
   "pygments_lexer": "ipython3",
   "version": "3.9.7"
  }
 },
 "nbformat": 4,
 "nbformat_minor": 5
}

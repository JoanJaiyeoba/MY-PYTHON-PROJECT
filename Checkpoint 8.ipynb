{
 "cells": [
  {
   "cell_type": "markdown",
   "id": "b8b6b042",
   "metadata": {},
   "source": [
    "Objective\n",
    "\n",
    "1. Write a Python program to read an entire text file.\n",
    "\n",
    "2. Write a Python program to read first n lines of a file.\n",
    "\n",
    "3. Write a Python program to read last n lines of a file\n",
    "\n",
    "4. Write a Python program that takes a text file as input and returns the number of words of a given text file.\n",
    "\n",
    "5. (bonus) Write a Python program to read last n lines of a file"
   ]
  },
  {
   "cell_type": "code",
   "execution_count": 110,
   "id": "86e75e4c",
   "metadata": {},
   "outputs": [
    {
     "name": "stdout",
     "output_type": "stream",
     "text": [
      "Write a Python program to read an entire text file.\n"
     ]
    }
   ],
   "source": [
    "print ('Write a Python program to read an entire text file.')\n",
    "f = open(\"sample_text.txt\",'r',encoding = 'utf-8')\n",
    "f.read() \n",
    "f.close()"
   ]
  },
  {
   "cell_type": "code",
   "execution_count": 100,
   "id": "19320431",
   "metadata": {},
   "outputs": [
    {
     "name": "stdout",
     "output_type": "stream",
     "text": [
      "Write a Python program to read first n lines of a file\n",
      "NAME:   Erwinia carotovora atroseptica\n",
      "Strain: LMG 2386\n",
      "Pheno:  0251034201\n",
      "Name:   Erwinia carotovora carotovora\n",
      "Strain: LMG 2404\n",
      "Pheno:  0251034204\n"
     ]
    }
   ],
   "source": [
    "print ('Write a Python program to read first n lines of a file')\n",
    "f = open(\"sample_text.txt\",'r',encoding = 'utf-8')\n",
    "\n",
    "def FirstNlines(f, N):\n",
    "    with open(f) as file:    # opening file using with() method so that file get closed after completing work\n",
    "        for line in (file.readlines() [:N]):  # loop to read iterate first n lines and print it\n",
    "            print(line, end ='')\n",
    "\n",
    "f = 'sample_text.txt'\n",
    "N = 6\n",
    "\n",
    "FirstNlines(f,N)\n"
   ]
  },
  {
   "cell_type": "code",
   "execution_count": 101,
   "id": "67e06465",
   "metadata": {},
   "outputs": [
    {
     "name": "stdout",
     "output_type": "stream",
     "text": [
      "Write a Python program to read last n lines of a file\n",
      "Name:   Erwinia cypripedii\n",
      "Strain: LMG 2657\n",
      "Pheno:  0051311301"
     ]
    }
   ],
   "source": [
    "print ('Write a Python program to read last n lines of a file')\n",
    "\n",
    "def LastNlines(f, N):\n",
    "    with open(f) as file:    # opening file using with() method so that file get closed after completing work\n",
    "        for line in (file.readlines() [-N:]):  # loop to read iterate last n lines and print it\n",
    "            print(line, end ='')\n",
    "\n",
    "f = 'sample_text.txt'\n",
    "N = 3\n",
    "\n",
    "LastNlines(f,N)"
   ]
  },
  {
   "cell_type": "code",
   "execution_count": 107,
   "id": "0c4ecc43",
   "metadata": {},
   "outputs": [
    {
     "name": "stdout",
     "output_type": "stream",
     "text": [
      "Write a Python program that takes a text file as input and returns the number of words of a given text file.\n",
      "['NAME:', 'Erwinia', 'carotovora', 'atroseptica']\n",
      "4\n",
      "['Strain:', 'LMG', '2386']\n",
      "3\n",
      "['Pheno:', '0251034201']\n",
      "2\n",
      "['Name:', 'Erwinia', 'carotovora', 'carotovora']\n",
      "4\n",
      "['Strain:', 'LMG', '2404']\n",
      "3\n",
      "['Pheno:', '0251034204']\n",
      "2\n",
      "['Name:', 'Erwinia', 'betavasculorum']\n",
      "3\n",
      "['Strain:', 'LMG', '2466']\n",
      "3\n",
      "['Pheno:', '0251034202']\n",
      "2\n",
      "['Name:', 'Erwinia', 'chrysanthemi']\n",
      "3\n",
      "['Strain:', 'LMG', '2804']\n",
      "3\n",
      "['Pheno:', '0253035205']\n",
      "2\n",
      "['Name:', 'Erwinia', 'cypripedii']\n",
      "3\n",
      "['Strain:', 'LMG', '2657']\n",
      "3\n",
      "['Pheno:', '0051311301']\n",
      "2\n",
      "42 words\n"
     ]
    }
   ],
   "source": [
    "print ('Write a Python program that takes a text file as input and returns the number of words of a given text file.') \n",
    "\n",
    "#Count the number of words including integers\n",
    "\n",
    "with open('sample_text.txt','r+') as f:\n",
    "    number_of_words=0\n",
    "    for line in f:\n",
    "        words= line.split()\n",
    "        print (words)\n",
    "        print (len(words))\n",
    "        number_of_words += len(words)\n",
    "    print(number_of_words,'words')\n",
    "    "
   ]
  },
  {
   "cell_type": "code",
   "execution_count": 109,
   "id": "d782e805",
   "metadata": {},
   "outputs": [
    {
     "name": "stdout",
     "output_type": "stream",
     "text": [
      "Write a Python program that takes a text file as input and returns the number of words of a given text file.\n",
      "32 words\n"
     ]
    }
   ],
   "source": [
    "print ('Write a Python program that takes a text file as input and returns the number of words of a given text file.') \n",
    "\n",
    "#Count the number of words excluding integers\n",
    "\n",
    "number_of_words = 0\n",
    "f = open(\"sample_text.txt\",'r',encoding = 'utf-8')\n",
    "\n",
    "data = f.read()\n",
    "lines = data.split()\n",
    "\n",
    "for word in lines:\n",
    "    if not word.isnumeric():\n",
    "        number_of_words += 1\n",
    "\n",
    "print(number_of_words,'words')\n",
    "\n",
    "f.close()"
   ]
  },
  {
   "cell_type": "code",
   "execution_count": null,
   "id": "dccd0a88",
   "metadata": {},
   "outputs": [],
   "source": []
  }
 ],
 "metadata": {
  "kernelspec": {
   "display_name": "Python 3 (ipykernel)",
   "language": "python",
   "name": "python3"
  },
  "language_info": {
   "codemirror_mode": {
    "name": "ipython",
    "version": 3
   },
   "file_extension": ".py",
   "mimetype": "text/x-python",
   "name": "python",
   "nbconvert_exporter": "python",
   "pygments_lexer": "ipython3",
   "version": "3.9.7"
  }
 },
 "nbformat": 4,
 "nbformat_minor": 5
}

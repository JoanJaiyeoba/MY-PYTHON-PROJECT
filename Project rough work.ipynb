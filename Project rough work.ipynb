{
 "cells": [
  {
   "cell_type": "markdown",
   "id": "328b626d",
   "metadata": {},
   "source": [
    "## FLAMES PROJECT (STEP 1) "
   ]
  },
  {
   "cell_type": "code",
   "execution_count": 30,
   "id": "8acf6f2a",
   "metadata": {},
   "outputs": [
    {
     "name": "stdout",
     "output_type": "stream",
     "text": [
      "Player 1 name : ujoan\n",
      "ujoan\n",
      "Player 2 name : jaS\n",
      "jas\n"
     ]
    },
    {
     "ename": "TypeError",
     "evalue": "unsupported operand type(s) for +: 'set' and 'list'",
     "output_type": "error",
     "traceback": [
      "\u001b[1;31m---------------------------------------------------------------------------\u001b[0m",
      "\u001b[1;31mTypeError\u001b[0m                                 Traceback (most recent call last)",
      "\u001b[1;32mC:\\Users\\TIMOTH~1\\AppData\\Local\\Temp/ipykernel_34068/2019503743.py\u001b[0m in \u001b[0;36m<module>\u001b[1;34m\u001b[0m\n\u001b[0;32m     43\u001b[0m \u001b[1;33m\u001b[0m\u001b[0m\n\u001b[0;32m     44\u001b[0m \u001b[0mproceed\u001b[0m \u001b[1;33m=\u001b[0m \u001b[1;32mTrue\u001b[0m\u001b[1;33m\u001b[0m\u001b[1;33m\u001b[0m\u001b[0m\n\u001b[1;32m---> 45\u001b[1;33m \u001b[0mremove_match_char\u001b[0m\u001b[1;33m(\u001b[0m\u001b[0ms1\u001b[0m\u001b[1;33m,\u001b[0m \u001b[0ms2\u001b[0m\u001b[1;33m)\u001b[0m\u001b[1;33m\u001b[0m\u001b[1;33m\u001b[0m\u001b[0m\n\u001b[0m",
      "\u001b[1;32mC:\\Users\\TIMOTH~1\\AppData\\Local\\Temp/ipykernel_34068/2019503743.py\u001b[0m in \u001b[0;36mremove_match_char\u001b[1;34m(list1, list2)\u001b[0m\n\u001b[0;32m     19\u001b[0m                 \u001b[1;31m# concatenation of two list elements with *\u001b[0m\u001b[1;33m\u001b[0m\u001b[1;33m\u001b[0m\u001b[0m\n\u001b[0;32m     20\u001b[0m                 \u001b[1;31m# * is act as border mark here\u001b[0m\u001b[1;33m\u001b[0m\u001b[1;33m\u001b[0m\u001b[0m\n\u001b[1;32m---> 21\u001b[1;33m                 \u001b[0mlist3\u001b[0m\u001b[1;33m=\u001b[0m \u001b[0mnew_list1\u001b[0m \u001b[1;33m+\u001b[0m \u001b[1;33m[\u001b[0m\u001b[1;34m'*'\u001b[0m\u001b[1;33m]\u001b[0m \u001b[1;33m+\u001b[0m \u001b[0mnew_list2\u001b[0m\u001b[1;33m\u001b[0m\u001b[1;33m\u001b[0m\u001b[0m\n\u001b[0m\u001b[0;32m     22\u001b[0m \u001b[1;33m\u001b[0m\u001b[0m\n\u001b[0;32m     23\u001b[0m                 \u001b[1;31m# return the concatenated list with True flag\u001b[0m\u001b[1;33m\u001b[0m\u001b[1;33m\u001b[0m\u001b[0m\n",
      "\u001b[1;31mTypeError\u001b[0m: unsupported operand type(s) for +: 'set' and 'list'"
     ]
    }
   ],
   "source": [
    "# TRIAL\n",
    "# function for removing common characters\n",
    "# with their respective occurrences\n",
    "def remove_match_char(list1, list2):\n",
    "\n",
    "    for i in range(len(list1)) :\n",
    "        for j in range(len(list2)) :\n",
    " \n",
    "            # if common character is found\n",
    "            # then remove that character\n",
    "            # and return list of concatenated\n",
    "            # list with True Flag\n",
    "            if list1[i] == list2[j] :\n",
    "                c = list1[i]\n",
    " \n",
    "                # remove character from the list\n",
    "                new_list1= {x.replace(c,'') for x in list1}\n",
    "                new_list2= {x.replace(c,'') for x in list2}\n",
    "       \n",
    "                # concatenation of two list elements with *\n",
    "                # * is act as border mark here\n",
    "                list3= new_list1 + ['*'] + new_list2\n",
    "            \n",
    "                # return the concatenated list with True flag\n",
    "                return [list3, True]\n",
    " \n",
    "    # no common characters is found\n",
    "    # return the concatenated list with False flag\n",
    "    list3 = new_list1.update(new_list2)\n",
    "    return [list3, False]\n",
    " \n",
    "    \n",
    "p1 = input(\"Player 1 name : \")\n",
    "p1 = p1.lower()\n",
    "p1 = p1.replace(\" \", \"\")\n",
    "print (p1)\n",
    "s1 = list(p1)\n",
    "\n",
    "p2 = input(\"Player 2 name : \")\n",
    "p2 = p2.lower()\n",
    "p2 = p2.replace(\" \", \"\")\n",
    "print (p2)\n",
    "s2 = list(p2)\n",
    "\n",
    "proceed = True\n",
    "remove_match_char(s1, s2)"
   ]
  },
  {
   "cell_type": "code",
   "execution_count": 5,
   "id": "9584c181",
   "metadata": {},
   "outputs": [
    {
     "name": "stdout",
     "output_type": "stream",
     "text": [
      "enter name:joan\n",
      "enter name:john\n",
      "{'n', 'o', 'j'}\n"
     ]
    }
   ],
   "source": [
    "p1 = input('enter name:')\n",
    "p2 = input('enter name:')\n",
    "\n",
    "#set will brk the strings into charachters. each charter rep. and elemnt\n",
    "s1 = set(p1)\n",
    "s2 = set(p2)\n",
    "\n",
    "lst= (s1 & s2)\n",
    "common_letters = '{}'.format(lst) \n",
    "print (common_letters)\n",
    "\n",
    "# Driver code\n",
    "if __name__ == \"__main__\":\n",
    "    \n",
    "    p1 = input(\"Player 1 name : \")\n",
    "    p1 = p1.lower()\n",
    "    p1.replace(\" \", \"\")\n",
    "    p1_list = list(p1)\n",
    "\n",
    "    p2 = input(\"Player 2 name : \")\n",
    "    p2 = p2.lower()\n",
    "    p2.replace(\" \", \"\")\n",
    "    p2_list = list(p2)\n",
    "\n",
    "    proceed = True\n",
    "    remove_match_char(p1, p2)"
   ]
  },
  {
   "cell_type": "code",
   "execution_count": null,
   "id": "0c5157e6",
   "metadata": {},
   "outputs": [],
   "source": [
    "# take first name\n",
    "    p1 = input(\"Player 1 name : \")\n",
    "# converted all letters into lower case\n",
    "    p1 = p1.lower()\n",
    "# replace any space with empty string\n",
    "    p1.replace(\" \", \"\")\n",
    "# make a list of letters or characters\n",
    "    p1_list = list(p1)\n",
    "\n",
    "# take 2nd name\n",
    "    p2 = input(\"Player 2 name : \")\n",
    "    p2 = p2.lower()\n",
    "    p2.replace(\" \", \"\")\n",
    "    p2_list = list(p2)\n",
    "\n",
    "# taking a flag as True initially\n",
    "    proceed = True\n",
    "# keep calling remove_match_char function "
   ]
  },
  {
   "cell_type": "code",
   "execution_count": 11,
   "id": "ed4938fc",
   "metadata": {},
   "outputs": [
    {
     "name": "stdout",
     "output_type": "stream",
     "text": [
      "eeksforeeks\n"
     ]
    }
   ],
   "source": [
    "# Python3 program to remove\n",
    "# a particular character\n",
    "# from a string.\n",
    "\n",
    "# function for removing the\n",
    "# occurrence of character\n",
    "def removeChar(s, c) :\n",
    "\t\n",
    "\t# find total no. of\n",
    "\t# occurrence of character\n",
    "\tcounts = s.count(c)\n",
    "\n",
    "\t# convert into list\n",
    "\t# of characters\n",
    "\ts = list(s)\n",
    "\n",
    "\t# keep looping until\n",
    "\t# counts become 0\n",
    "\twhile counts :\n",
    "\t\t\n",
    "\t\t# remove character\n",
    "\t\t# from the list\n",
    "\t\ts.remove(c)\n",
    "\n",
    "\t\t# decremented by one\n",
    "\t\tcounts -= 1\n",
    "\n",
    "\t# join all remaining characters\n",
    "\t# of the list with empty string\n",
    "\ts = '' . join(s)\n",
    "\t\n",
    "\tprint(s)\n",
    "\n",
    "# Driver code\n",
    "if __name__ == '__main__' :\n",
    "\t\n",
    "\ts = \"geeksforgeeks\"\n",
    "\tremoveChar(s,'g')\n",
    "\t\n",
    "# This code is contributed\n",
    "# by Ankit Rai\n"
   ]
  },
  {
   "cell_type": "code",
   "execution_count": null,
   "id": "8b1ee1f3",
   "metadata": {},
   "outputs": [],
   "source": [
    "# remove character from the list\n",
    "                new_list1= {x.replace(c,'') for x in list1}\n",
    "                new_list2= {x.replace(c,'') for x in list2}\n",
    "       "
   ]
  },
  {
   "cell_type": "code",
   "execution_count": 27,
   "id": "b929e819",
   "metadata": {
    "scrolled": true
   },
   "outputs": [
    {
     "name": "stdout",
     "output_type": "stream",
     "text": [
      "name:JOAN\n",
      "yoan\n"
     ]
    }
   ],
   "source": [
    "p1= input('name:')\n",
    "p1= p1.lower()\n",
    "p1= p1.replace('j', 'y')\n",
    "print (p1)"
   ]
  },
  {
   "cell_type": "code",
   "execution_count": 2,
   "id": "e2531962",
   "metadata": {},
   "outputs": [
    {
     "name": "stdout",
     "output_type": "stream",
     "text": [
      "# video url: https://youtu.be/c_8eXlfQAzw \n",
      "checking a\n",
      "found a\n",
      "replaced a\n",
      "checking j\n",
      "checking a\n",
      "checking y\n",
      "found y\n",
      "replaced y\n",
      "['_', 'j', 'a', '_']\n",
      "['p', 'r', 'i', '_', '_']\n",
      "['_', 'j', 'a', '_', 'p', 'r', 'i', '_', '_']\n",
      "5\n",
      "['F']\n"
     ]
    }
   ],
   "source": [
    "print ('# video url: https://youtu.be/c_8eXlfQAzw ')\n",
    "\n",
    "p1= 'ajay'\n",
    "p2= 'priya'\n",
    "\n",
    "p1_list =list(p1.lower())\n",
    "p2_list =list(p2.lower())\n",
    "\n",
    "for i in p1_list:\n",
    "    print('checking' , i)\n",
    "    if i in p2_list:\n",
    "        print ('found', i)\n",
    "        idx = p1_list.index(i)\n",
    "        p1_list[idx]= '_'\n",
    "        idx = p2_list.index(i)\n",
    "        p2_list[idx]= '_'\n",
    "        print('replaced' , i)\n",
    "print(p1_list)\n",
    "print(p2_list)\n",
    "\n",
    "p3 = p1_list + p2_list\n",
    "print (p3)\n",
    "\n",
    "count=0\n",
    "for i in p3:\n",
    "    if (i != '_' and i!= ' '):\n",
    "        count += 1\n",
    "        \n",
    "print (count)\n",
    "\n",
    "# run the FlAMES PROGRAM\n",
    "f = list('FLAMES')\n",
    "index =0\n",
    "\n",
    "while len(f) > 1:\n",
    "    for i in range(count):\n",
    "        index+=1\n",
    "        if index> len(f):\n",
    "            index=1\n",
    "    f.remove(f[index-1])\n",
    "    index -= 1\n",
    "\n",
    "print (f)"
   ]
  },
  {
   "cell_type": "markdown",
   "id": "dd72ee9a",
   "metadata": {},
   "source": [
    "Timer Objects in Python\n",
    "\n",
    "Timer objects are used to represent actions that needs to be scheduled to run after a certain instant of time. These objects get scheduled to run on a separate thread that carries out the action. However, the interval that a timer is initialized with might not be the actual instant when the action was actually performed by the interpreter because it is the responsibility of the thread scheduler to actually schedule the thread corresponding to the timer object.\n",
    "\n",
    "Timer is a sub class of Thread class defined in python. It is started by calling the start() function corresponding to the timer explicitly.\n",
    "\n",
    "Creating a Timer object\n",
    "\n",
    "Syntax:   threading.Timer(interval, function, args = None, kwargs = None) \n",
    "\n",
    "Create a timer that will run function with arguments args and keyword arguments kwargs, after interval seconds have passed. If args is None (the default) then an empty list will be used. If kwargs is None (the default) then an empty dict will be used."
   ]
  },
  {
   "cell_type": "code",
   "execution_count": 6,
   "id": "f6041fd8",
   "metadata": {},
   "outputs": [
    {
     "name": "stdout",
     "output_type": "stream",
     "text": [
      "Exit\n",
      "\n",
      "GeeksforGeeks\n"
     ]
    }
   ],
   "source": [
    "# Program to demonstrate\n",
    "# timer objects in python\n",
    "\n",
    "import threading\n",
    "def gfg():\n",
    "\tprint(\"GeeksforGeeks\")\n",
    "\n",
    "timer = threading.Timer(2.0, gfg)\n",
    "timer.start()\n",
    "print(\"Exit\\n\")\n"
   ]
  },
  {
   "cell_type": "markdown",
   "id": "940f2ac6",
   "metadata": {},
   "source": [
    "Cancelling a timer\n",
    "\n",
    "Syntax: timer.cancel()\n",
    "\n",
    "Stop the timer, and cancel the execution of the timer’s action. This will only work if the timer is still in its waiting stage."
   ]
  },
  {
   "cell_type": "code",
   "execution_count": 7,
   "id": "ba96224f",
   "metadata": {},
   "outputs": [
    {
     "name": "stdout",
     "output_type": "stream",
     "text": [
      "Cancelling timer\n",
      "\n",
      "Exit\n",
      "\n"
     ]
    }
   ],
   "source": [
    "# Program to cancel the timer\n",
    "import threading\n",
    "\n",
    "def gfg():\n",
    "\tprint(\"GeeksforGeeks\\n\")\n",
    "\n",
    "timer = threading.Timer(5.0, gfg)\n",
    "timer.start()\n",
    "print(\"Cancelling timer\\n\")\n",
    "timer.cancel()\n",
    "print(\"Exit\\n\")\n"
   ]
  },
  {
   "cell_type": "markdown",
   "id": "f7b550c9",
   "metadata": {},
   "source": [
    "## COUNTDOWN TIMER "
   ]
  },
  {
   "cell_type": "code",
   "execution_count": 5,
   "id": "ca860732",
   "metadata": {},
   "outputs": [
    {
     "name": "stdout",
     "output_type": "stream",
     "text": [
      "Enter the time in seconds: 20\n",
      "Fire in the hole!!\n"
     ]
    }
   ],
   "source": [
    "# import the time module\n",
    "import time\n",
    "\n",
    "# define the countdown func.\n",
    "def countdown(t):\n",
    "\t\n",
    "\twhile t:\n",
    "\t\tmins, secs = divmod(t, 60)\n",
    "\t\ttimer = '{:02d}:{:02d}'.format(mins, secs)\n",
    "\t\tprint(timer, end=\"\\r\")\n",
    "\t\ttime.sleep(1)\n",
    "\t\tt -= 1\n",
    "\t\n",
    "\tprint('Fire in the hole!!')\n",
    "\n",
    "\n",
    "# input time in seconds\n",
    "t = input(\"Enter the time in seconds: \")\n",
    "\n",
    "# function call\n",
    "countdown(int(t))\n"
   ]
  },
  {
   "cell_type": "markdown",
   "id": "a2298acf",
   "metadata": {},
   "source": [
    "Approach: Take two names as input then remove the common characters with their respective common occurrences. \n",
    "\n",
    "For removing purpose we create user-defined remove_match_char function with two arguments as list1 and list2 which stores list of characters of two players name respectively and return list of concatenated list(list1 + “*” flagst2) and flag value which we store in ret_list variable.\n",
    "\n",
    "After removing all the common characters, count the total no. of remaining characters then create a result list with FLAMES acronym i.e [“Friends”, “Love”, “Affection”, “Marriage”, “Enemy”, “Siblings”]. \n",
    "\n",
    "Now start removing word one by one until list not contains only one word, using the total count which we got. the word which remains in the last, is the result."
   ]
  },
  {
   "cell_type": "code",
   "execution_count": 49,
   "id": "9c32536b",
   "metadata": {},
   "outputs": [
    {
     "name": "stdout",
     "output_type": "stream",
     "text": [
      "Player 1 name : ajay\n",
      "Player 2 name : priya\n",
      "Relationship status : Friends\n"
     ]
    }
   ],
   "source": [
    "# function for removing common characters\n",
    "# with their respective occurrences\n",
    "def remove_match_char(list1, list2):\n",
    "\n",
    "\tfor i in range(len(list1)) :\n",
    "\t\tfor j in range(len(list2)) :\n",
    "\n",
    "\t\t\t# if common character is found\n",
    "\t\t\t# then remove that character\n",
    "\t\t\t# and return list of concatenated\n",
    "\t\t\t# list with True Flag\n",
    "\t\t\tif list1[i] == list2[j] :\n",
    "\t\t\t\tc = list1[i]\n",
    "\n",
    "\t\t\t\t# remove character from the list\n",
    "\t\t\t\tlist1.remove(c)\n",
    "\t\t\t\tlist2.remove(c)\n",
    "\n",
    "\t\t\t\t# concatenation of two list elements with *\n",
    "\t\t\t\t# * is act as border mark here\n",
    "\t\t\t\tlist3 = list1 + [\"*\"] + list2\n",
    "\n",
    "\t\t\t\t# return the concatenated list with True flag\n",
    "\t\t\t\treturn [list3, True]\n",
    "\n",
    "\t# no common characters is found\n",
    "\t# return the concatenated list with False flag\n",
    "\tlist3 = list1 + [\"*\"] + list2\n",
    "\treturn [list3, False]\n",
    "\n",
    "# Driver code\n",
    "if __name__ == \"__main__\" :\n",
    "\t\n",
    "\t# take first name\n",
    "\tp1 = input(\"Player 1 name : \")\n",
    "\n",
    "\t# converted all letters into lower case\n",
    "\tp1 = p1.lower()\n",
    "\n",
    "\t# replace any space with empty string\n",
    "\tp1.replace(\" \", \"\")\n",
    "\n",
    "\t# make a list of letters or characters\n",
    "\tp1_list = list(p1)\n",
    "\n",
    "\t# take 2nd name\n",
    "\tp2 = input(\"Player 2 name : \")\n",
    "\tp2 = p2.lower()\n",
    "\tp2.replace(\" \", \"\")\n",
    "\tp2_list = list(p2)\n",
    "\n",
    "\t# taking a flag as True initially\n",
    "\tproceed = True\n",
    "\t\n",
    "\t# keep calling remove_match_char function\n",
    "\t# until common characters is found or\n",
    "\t# keep looping until proceed flag is True\n",
    "\twhile proceed :\n",
    "\n",
    "\t\t# function calling and store return value\n",
    "\t\tret_list = remove_match_char(p1_list, p2_list)\n",
    "\n",
    "\t\t# take out concatenated list from return list\n",
    "\t\tcon_list = ret_list[0]\n",
    "\n",
    "\t\t# take out flag value from return list\n",
    "\t\tproceed = ret_list[1]\n",
    "\n",
    "\t\t# find the index of \"*\" / border mark\n",
    "\t\tstar_index = con_list.index(\"*\")\n",
    "\n",
    "\t\t# list slicing perform\n",
    "\t\t\n",
    "\t\t# all characters before * store in p1_list\n",
    "\t\tp1_list = con_list[ : star_index]\n",
    "\n",
    "\t\t# all characters after * store in p2_list\n",
    "\t\tp2_list = con_list[star_index + 1 : ]\n",
    "\n",
    "\n",
    "\t# count total remaining characters\n",
    "\tcount = len(p1_list) + len(p2_list)\n",
    "\n",
    "\t# list of FLAMES acronym\n",
    "\tresult = [\"Friends\", \"Love\", \"Affection\", \"Marriage\", \"Enemy\", \"Siblings\"]\n",
    "\n",
    "\t# keep looping until only one item\n",
    "\t# is not remaining in the result list\n",
    "\twhile len(result) > 1 :\n",
    "\n",
    "\t\t# store that index value from\n",
    "\t\t# where we have to perform slicing.\n",
    "\t\tsplit_index = (count % len(result) - 1)\n",
    "\n",
    "\t\t# this steps is done for performing\n",
    "\t\t# anticlock-wise circular fashion counting.\n",
    "\t\tif split_index >= 0 :\n",
    "\n",
    "\t\t\t# list slicing\n",
    "\t\t\tright = result[split_index + 1 : ]\n",
    "\t\t\tleft = result[ : split_index]\n",
    "\n",
    "\t\t\t# list concatenation\n",
    "\t\t\tresult = right + left\n",
    "\n",
    "\t\telse :\n",
    "\t\t\tresult = result[ : len(result) - 1]\n",
    "\n",
    "\t# print final result\n",
    "\tprint(\"Relationship status :\", result[0])\n"
   ]
  },
  {
   "cell_type": "code",
   "execution_count": null,
   "id": "4f8d5a1f",
   "metadata": {},
   "outputs": [],
   "source": []
  }
 ],
 "metadata": {
  "kernelspec": {
   "display_name": "Python 3 (ipykernel)",
   "language": "python",
   "name": "python3"
  },
  "language_info": {
   "codemirror_mode": {
    "name": "ipython",
    "version": 3
   },
   "file_extension": ".py",
   "mimetype": "text/x-python",
   "name": "python",
   "nbconvert_exporter": "python",
   "pygments_lexer": "ipython3",
   "version": "3.9.7"
  }
 },
 "nbformat": 4,
 "nbformat_minor": 5
}

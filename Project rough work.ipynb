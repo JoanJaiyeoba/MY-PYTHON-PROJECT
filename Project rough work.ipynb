{
 "cells": [
  {
   "cell_type": "markdown",
   "id": "328b626d",
   "metadata": {},
   "source": [
    "## FLAMES PROJECT (STEP 1) "
   ]
  },
  {
   "cell_type": "code",
   "execution_count": 11,
   "id": "ed4938fc",
   "metadata": {},
   "outputs": [
    {
     "name": "stdout",
     "output_type": "stream",
     "text": [
      "eeksforeeks\n"
     ]
    }
   ],
   "source": [
    "# Python3 program to remove\n",
    "# a particular character\n",
    "# from a string.\n",
    "\n",
    "# function for removing the\n",
    "# occurrence of character\n",
    "def removeChar(s, c) :\n",
    "\t\n",
    "\t# find total no. of\n",
    "\t# occurrence of character\n",
    "\tcounts = s.count(c)\n",
    "\n",
    "\t# convert into list\n",
    "\t# of characters\n",
    "\ts = list(s)\n",
    "\n",
    "\t# keep looping until\n",
    "\t# counts become 0\n",
    "\twhile counts :\n",
    "\t\t\n",
    "\t\t# remove character\n",
    "\t\t# from the list\n",
    "\t\ts.remove(c)\n",
    "\n",
    "\t\t# decremented by one\n",
    "\t\tcounts -= 1\n",
    "\n",
    "\t# join all remaining characters\n",
    "\t# of the list with empty string\n",
    "\ts = '' . join(s)\n",
    "\t\n",
    "\tprint(s)\n",
    "\n",
    "# Driver code\n",
    "if __name__ == '__main__' :\n",
    "\t\n",
    "\ts = \"geeksforgeeks\"\n",
    "\tremoveChar(s,'g')\n",
    "\t\n",
    "# This code is contributed\n",
    "# by Ankit Rai\n"
   ]
  },
  {
   "cell_type": "code",
   "execution_count": null,
   "id": "8b1ee1f3",
   "metadata": {},
   "outputs": [],
   "source": [
    "# remove character from the list\n",
    "                new_list1= {x.replace(c,'') for x in list1}\n",
    "                new_list2= {x.replace(c,'') for x in list2}\n",
    "       "
   ]
  },
  {
   "cell_type": "code",
   "execution_count": 2,
   "id": "e2531962",
   "metadata": {},
   "outputs": [
    {
     "name": "stdout",
     "output_type": "stream",
     "text": [
      "# video url: https://youtu.be/c_8eXlfQAzw \n",
      "checking a\n",
      "found a\n",
      "replaced a\n",
      "checking j\n",
      "checking a\n",
      "checking y\n",
      "found y\n",
      "replaced y\n",
      "['_', 'j', 'a', '_']\n",
      "['p', 'r', 'i', '_', '_']\n",
      "['_', 'j', 'a', '_', 'p', 'r', 'i', '_', '_']\n",
      "5\n",
      "['F']\n"
     ]
    }
   ],
   "source": [
    "print ('# video url: https://youtu.be/c_8eXlfQAzw ')\n",
    "\n",
    "p1= 'ajay'\n",
    "p2= 'priya'\n",
    "\n",
    "p1_list =list(p1.lower())\n",
    "p2_list =list(p2.lower())\n",
    "\n",
    "for i in p1_list:\n",
    "    print('checking' , i)\n",
    "    if i in p2_list:\n",
    "        print ('found', i)\n",
    "        idx = p1_list.index(i)\n",
    "        p1_list[idx]= '_'\n",
    "        idx = p2_list.index(i)\n",
    "        p2_list[idx]= '_'\n",
    "        print('replaced' , i)\n",
    "print(p1_list)\n",
    "print(p2_list)\n",
    "\n",
    "p3 = p1_list + p2_list\n",
    "print (p3)\n",
    "\n",
    "count=0\n",
    "for i in p3:\n",
    "    if (i != '_' and i!= ' '):\n",
    "        count += 1\n",
    "        \n",
    "print (count)\n",
    "\n",
    "# run the FlAMES PROGRAM\n",
    "f = list('FLAMES')\n",
    "index =0\n",
    "\n",
    "while len(f) > 1:\n",
    "    for i in range(count):\n",
    "        index+=1\n",
    "        if index> len(f):\n",
    "            index=1\n",
    "    f.remove(f[index-1])\n",
    "    index -= 1\n",
    "\n",
    "print (f)"
   ]
  },
  {
   "cell_type": "markdown",
   "id": "dd72ee9a",
   "metadata": {},
   "source": [
    "Timer Objects in Python\n",
    "\n",
    "Timer objects are used to represent actions that needs to be scheduled to run after a certain instant of time. These objects get scheduled to run on a separate thread that carries out the action. However, the interval that a timer is initialized with might not be the actual instant when the action was actually performed by the interpreter because it is the responsibility of the thread scheduler to actually schedule the thread corresponding to the timer object.\n",
    "\n",
    "Timer is a sub class of Thread class defined in python. It is started by calling the start() function corresponding to the timer explicitly.\n",
    "\n",
    "Creating a Timer object\n",
    "\n",
    "Syntax:   threading.Timer(interval, function, args = None, kwargs = None) \n",
    "\n",
    "Create a timer that will run function with arguments args and keyword arguments kwargs, after interval seconds have passed. If args is None (the default) then an empty list will be used. If kwargs is None (the default) then an empty dict will be used."
   ]
  },
  {
   "cell_type": "code",
   "execution_count": 6,
   "id": "f6041fd8",
   "metadata": {},
   "outputs": [
    {
     "name": "stdout",
     "output_type": "stream",
     "text": [
      "Exit\n",
      "\n",
      "GeeksforGeeks\n"
     ]
    }
   ],
   "source": [
    "# Program to demonstrate\n",
    "# timer objects in python\n",
    "\n",
    "import threading\n",
    "def gfg():\n",
    "\tprint(\"GeeksforGeeks\")\n",
    "\n",
    "timer = threading.Timer(2.0, gfg)\n",
    "timer.start()\n",
    "print(\"Exit\\n\")\n"
   ]
  },
  {
   "cell_type": "markdown",
   "id": "940f2ac6",
   "metadata": {},
   "source": [
    "Cancelling a timer\n",
    "\n",
    "Syntax: timer.cancel()\n",
    "\n",
    "Stop the timer, and cancel the execution of the timer’s action. This will only work if the timer is still in its waiting stage."
   ]
  },
  {
   "cell_type": "code",
   "execution_count": 7,
   "id": "ba96224f",
   "metadata": {},
   "outputs": [
    {
     "name": "stdout",
     "output_type": "stream",
     "text": [
      "Cancelling timer\n",
      "\n",
      "Exit\n",
      "\n"
     ]
    }
   ],
   "source": [
    "# Program to cancel the timer\n",
    "import threading\n",
    "\n",
    "def gfg():\n",
    "\tprint(\"GeeksforGeeks\\n\")\n",
    "\n",
    "timer = threading.Timer(5.0, gfg)\n",
    "timer.start()\n",
    "print(\"Cancelling timer\\n\")\n",
    "timer.cancel()\n",
    "print(\"Exit\\n\")\n"
   ]
  },
  {
   "cell_type": "markdown",
   "id": "adc16d38",
   "metadata": {},
   "source": [
    "# Flames Game"
   ]
  },
  {
   "cell_type": "markdown",
   "id": "36ad6683",
   "metadata": {},
   "source": [
    "### Method 1"
   ]
  },
  {
   "cell_type": "markdown",
   "id": "a2298acf",
   "metadata": {},
   "source": [
    "Approach: Take two names as input then remove the common characters with their respective common occurrences. \n",
    "\n",
    "For removing purpose we create user-defined remove_match_char function with two arguments as list1 and list2 which stores list of characters of two players name respectively and return list of concatenated list(list1 + “*” flagst2) and flag value which we store in ret_list variable.\n",
    "\n",
    "After removing all the common characters, count the total no. of remaining characters then create a result list with FLAMES acronym i.e [“Friends”, “Love”, “Affection”, “Marriage”, “Enemy”, “Siblings”]. \n",
    "\n",
    "Now start removing word one by one until list not contains only one word, using the total count which we got. the word which remains in the last, is the result."
   ]
  },
  {
   "cell_type": "code",
   "execution_count": 1,
   "id": "d511ffa6",
   "metadata": {},
   "outputs": [
    {
     "name": "stdout",
     "output_type": "stream",
     "text": [
      "Player 1 name : ajay\n",
      "Player 2 name : priya\n",
      "['j', 'a', 'y', '*', 'p', 'r', 'i', 'y']: True\n",
      "['j', 'a', '*', 'p', 'r', 'i']: True\n",
      "['j', 'a', '*', 'p', 'r', 'i']: False\n",
      "Relationship status : Friends\n"
     ]
    }
   ],
   "source": [
    "# function for removing common characters\n",
    "# with their respective occurrences\n",
    "def remove_match_char(list1, list2):\n",
    " \n",
    "    for i in range(len(list1)) :\n",
    "        for j in range(len(list2)) :\n",
    " \n",
    "            # if common character is found\n",
    "            # then remove that character\n",
    "            # and return list of concatenated\n",
    "            # list with True Flag\n",
    "            if list1[i] == list2[j] :\n",
    "                c = list1[i]\n",
    " \n",
    "                # remove character from the list\n",
    "                list1.remove(c)\n",
    "                list2.remove(c)\n",
    " \n",
    "                # concatenation of two list elements with *\n",
    "                # * is act as border mark here\n",
    "                list3 = list1 + [\"*\"] + list2\n",
    "                print(f\"{list3}: True\")\n",
    "                # return the concatenated list with True flag\n",
    "                return [list3, True]\n",
    " \n",
    "    # no common characters is found\n",
    "    # return the concatenated list with False flag\n",
    "    list3 = list1 + [\"*\"] + list2\n",
    "    print(f\"{list3}: False\")\n",
    "    return [list3, False]\n",
    " \n",
    "# Driver code\n",
    "if __name__ == \"__main__\" :\n",
    "     \n",
    "    # take first name  \n",
    "    p1 = input(\"Player 1 name : \")\n",
    " \n",
    "    # converted all letters into lower case\n",
    "    p1 = p1.lower()    \n",
    " \n",
    "    # replace any space with empty string\n",
    "    p1.replace(' ','')\n",
    " \n",
    "    # make a list of letters or characters\n",
    "    p1_list = list(p1)\n",
    " \n",
    "    # take 2nd name\n",
    "    p2 = input(\"Player 2 name : \")\n",
    "    p2 = p2.lower()\n",
    "    p2.replace(' ','')\n",
    "    p2_list = list(p2)\n",
    " \n",
    "    # taking a flag as True initially\n",
    "    proceed = True\n",
    "     \n",
    "    # keep calling remove_match_char function\n",
    "    # until common characters is found or\n",
    "    # keep looping until proceed flag is True\n",
    "    while proceed :\n",
    " \n",
    "        # function calling and store return value\n",
    "        ret_list = remove_match_char(p1_list, p2_list)\n",
    " \n",
    "        # take out concatenated list from return list\n",
    "        con_list = ret_list[0]\n",
    " \n",
    "        # take out flag value from return list\n",
    "        proceed = ret_list[1] \n",
    " \n",
    "        # find the index of \"*\" / border mark\n",
    "        star_index = con_list.index(\"*\")\n",
    " \n",
    "        # list slicing perform\n",
    "         \n",
    "        # all characters before * store in p1_list\n",
    "        p1_list = con_list[ : star_index]\n",
    " \n",
    "        # all characters after * store in p2_list\n",
    "        p2_list = con_list[star_index + 1 : ]\n",
    " \n",
    " \n",
    "    # count total remaining characters\n",
    "    count = len(p1_list) +len(p2_list)\n",
    " \n",
    "    # list of FLAMES acronym\n",
    "    result = [\"Friends\", \"Love\", \"Affection\", \"Marriage\", \"Enemy\", \"Siblings\"]\n",
    " \n",
    "    # keep looping until only one item\n",
    "    # is not remaining in the result list\n",
    "    while len(result) > 1 :\n",
    " \n",
    "        # store that index value from\n",
    "        # where we have to perform slicing.\n",
    "        split_index = (count % len(result) - 1)\n",
    " \n",
    "        # this steps is done for performing\n",
    "        # anticlock-wise circular fashion counting.\n",
    "        if split_index >= 0 :\n",
    " \n",
    "            # list slicing\n",
    "            right = result[split_index + 1 : ]\n",
    "            left = result[ : split_index]\n",
    " \n",
    "            # list concatenation\n",
    "            result = right + left\n",
    " \n",
    "        else :\n",
    "            result = result[ : len(result) - 1]\n",
    " \n",
    "    # print final result\n",
    "    print(\"Relationship status :\", result[0])"
   ]
  },
  {
   "cell_type": "markdown",
   "id": "b152c711",
   "metadata": {},
   "source": [
    "### Method 2"
   ]
  },
  {
   "cell_type": "code",
   "execution_count": 23,
   "id": "4f8d5a1f",
   "metadata": {},
   "outputs": [
    {
     "name": "stdout",
     "output_type": "stream",
     "text": [
      "video url: https://www.youtube.com/watch?v=9L-gnvlgYDM \n",
      "Player 1 name :ajay\n",
      "Player 2 name :pr iya\n",
      "5\n",
      "Relationship status: Friends\n"
     ]
    }
   ],
   "source": [
    "print ('video url: https://www.youtube.com/watch?v=9L-gnvlgYDM ')\n",
    "name1= input('Player 1 name :').lower()\n",
    "name2= input('Player 2 name :').lower()\n",
    "\n",
    "name1= name1.replace(' ','')\n",
    "name2= name2.replace(' ','')\n",
    "\n",
    "for i in name1:\n",
    "    for j in name2:\n",
    "        if i==j:\n",
    "            name1= name1.replace(i,'',1)\n",
    "            name2= name2.replace(j,'',1) \n",
    "            break\n",
    "            \n",
    "count = len(name1 + name2)\n",
    "print (count)\n",
    "\n",
    "if count>0:\n",
    "    result= [\"Friends\", \"Love\", \"Affection\", \"Marriage\", \"Enemy\", \"Siblings\"] \n",
    "    while len(result)>1:\n",
    "        c = count % len(result) \n",
    "        s_index = c-1\n",
    "        if s_index >= 0:\n",
    "            left = result[:s_index]\n",
    "            right = result[s_index+1:]\n",
    "            result = right + left\n",
    "        else: \n",
    "            x= result[:len(result)-1]\n",
    "            result = x\n",
    "    print ('Relationship status:' , result[0])\n",
    "    \n",
    "else: \n",
    "    print ('Enter different names')\n",
    "    \n",
    "#NOTE: The “TypeError: 'builtin_function_or_method' object is not subscriptable” error is raised when you try to use square brackets to call a function. \n",
    "#This error is raised because Python interprets square brackets as a way of accessing items from an iterable object. \n",
    "#Functions must be called using parenthesis\n"
   ]
  },
  {
   "cell_type": "markdown",
   "id": "d91e170f",
   "metadata": {},
   "source": [
    "### Method 3"
   ]
  },
  {
   "cell_type": "code",
   "execution_count": 11,
   "id": "6bf3654d",
   "metadata": {},
   "outputs": [
    {
     "name": "stdout",
     "output_type": "stream",
     "text": [
      "Player 1 name: ajay\n",
      "Playe 2 name: priya\n"
     ]
    }
   ],
   "source": [
    "p1 = input ('Player 1 name: ')\n",
    "p2 = input (\"Playe 2 name: \")\n",
    "name = list(p1)\n",
    "name2 = list(p2)\n",
    "name_addition = None"
   ]
  },
  {
   "cell_type": "code",
   "execution_count": 12,
   "id": "174b9e32",
   "metadata": {},
   "outputs": [],
   "source": [
    "def friend_compare(friend, friend_2):\n",
    "    for index, value in enumerate(friend):\n",
    "        try:\n",
    "            index_no = friend_2.index(value)\n",
    "            friend_2.pop(index_no)\n",
    "            friend.pop(index)\n",
    "        except:\n",
    "            pass\n",
    "    return friend  + friend_2"
   ]
  },
  {
   "cell_type": "code",
   "execution_count": 14,
   "id": "80ceea53",
   "metadata": {},
   "outputs": [
    {
     "name": "stdout",
     "output_type": "stream",
     "text": [
      "['j', 'a', 'p', 'r', 'i']\n"
     ]
    }
   ],
   "source": [
    "name_addition = friend_compare(name, name2)\n",
    "print(name_addition)"
   ]
  },
  {
   "cell_type": "code",
   "execution_count": 15,
   "id": "8859753d",
   "metadata": {},
   "outputs": [],
   "source": [
    "name_count = len(name_addition)"
   ]
  },
  {
   "cell_type": "code",
   "execution_count": 16,
   "id": "356fb32f",
   "metadata": {},
   "outputs": [],
   "source": [
    "relationship = [\"Friends\", \"Love\", \"Affection\", \"Marriage\", \"Enemy\", \"Siblings\"]"
   ]
  },
  {
   "cell_type": "code",
   "execution_count": 17,
   "id": "ba694b6c",
   "metadata": {},
   "outputs": [
    {
     "name": "stdout",
     "output_type": "stream",
     "text": [
      "['Friends']\n"
     ]
    }
   ],
   "source": [
    "while len(relationship) > 1: \n",
    "    if name_count > len(relationship): \n",
    "        required_index = ((name_count % len(relationship)) - 1)\n",
    "    else:\n",
    "        required_index = name_count - 1\n",
    "    if required_index != 0 and -1: \n",
    "        relationship = relationship[required_index + 1:] + relationship[:required_index] \n",
    "    elif required_index == 0:\n",
    "        relationship = relationship[required_index + 1:] \n",
    "    elif required_index ==  -1:\n",
    "        relationship = relationship[:required_index]\n",
    "print(relationship)\n",
    "        "
   ]
  },
  {
   "cell_type": "markdown",
   "id": "33bbeae8",
   "metadata": {},
   "source": [
    "### Method 4"
   ]
  },
  {
   "cell_type": "code",
   "execution_count": 18,
   "id": "78fac6c9",
   "metadata": {},
   "outputs": [
    {
     "name": "stdout",
     "output_type": "stream",
     "text": [
      "# video url: https://youtu.be/c_8eXlfQAzw \n",
      "checking a\n",
      "found a\n",
      "replaced a\n",
      "checking j\n",
      "checking a\n",
      "checking y\n",
      "found y\n",
      "replaced y\n",
      "['_', 'j', 'a', '_']\n",
      "['p', 'r', 'i', '_', '_']\n",
      "['_', 'j', 'a', '_', 'p', 'r', 'i', '_', '_']\n",
      "5\n",
      "['F']\n"
     ]
    }
   ],
   "source": [
    "print ('# video url: https://youtu.be/c_8eXlfQAzw ')\n",
    "\n",
    "p1= 'ajay'\n",
    "p2= 'priya'\n",
    "\n",
    "p1_list =list(p1.lower())\n",
    "p2_list =list(p2.lower())\n",
    "\n",
    "for i in p1_list:\n",
    "    print('checking' , i)\n",
    "    if i in p2_list:\n",
    "        print ('found', i)\n",
    "        idx = p1_list.index(i)\n",
    "        p1_list[idx]= '_'\n",
    "        idx = p2_list.index(i)\n",
    "        p2_list[idx]= '_'\n",
    "        print('replaced' , i)\n",
    "print(p1_list)\n",
    "print(p2_list)\n",
    "\n",
    "p3 = p1_list + p2_list\n",
    "print (p3)\n",
    "\n",
    "count=0\n",
    "for i in p3:\n",
    "    if (i != '_' and i!= ' '):\n",
    "        count += 1\n",
    "        \n",
    "print (count)\n",
    "\n",
    "# run the FlAMES PROGRAM\n",
    "f = list('FLAMES')\n",
    "index =0\n",
    "\n",
    "while len(f) > 1:\n",
    "    for i in range(count):\n",
    "        index+=1\n",
    "        if index> len(f):\n",
    "            index=1\n",
    "    f.remove(f[index-1])\n",
    "    index -= 1\n",
    "\n",
    "print (f)"
   ]
  },
  {
   "cell_type": "markdown",
   "id": "f7b550c9",
   "metadata": {},
   "source": [
    "## COUNTDOWN TIMER "
   ]
  },
  {
   "cell_type": "code",
   "execution_count": 31,
   "id": "ca860732",
   "metadata": {
    "scrolled": true
   },
   "outputs": [
    {
     "name": "stdout",
     "output_type": "stream",
     "text": [
      "Enter the time in seconds: 5\n",
      "Fire in the hole!!\n"
     ]
    }
   ],
   "source": [
    "# import the time module\n",
    "import time\n",
    "\n",
    "# define the countdown func.\n",
    "def countdown(t):\n",
    " \n",
    "    while t:\n",
    "        mins, secs = divmod(t, 60)\n",
    "        timer = f'{mins:02d}:{secs:02d}'\n",
    "        print(timer, end='\\r')\n",
    "        time.sleep(1)\n",
    "        t -= 1 \n",
    "    \n",
    "    print('Fire in the hole!!')\n",
    "\n",
    "# input time in seconds\n",
    "t = input(\"Enter the time in seconds: \")\n",
    "\n",
    "# function call\n",
    "countdown(int(t))\n"
   ]
  },
  {
   "cell_type": "markdown",
   "id": "6692eb71",
   "metadata": {},
   "source": [
    "### Explanation"
   ]
  },
  {
   "cell_type": "markdown",
   "id": "2d3b9355",
   "metadata": {},
   "source": [
    "Explanation\n",
    "\n",
    "divmod(x, y, /)\n",
    "    Return the tuple (x//y, x%y).\n",
    "    \n",
    "In 'divmod': floor division(//) returns the whole number and modulus(%) returns th remainder\n",
    "\n",
    "'02d' returns the minute or second value in 2 digits\n",
    "\n",
    "Example: 02d: 06:50   amd 03d: 006:050 and so on\n",
    "\n",
    "In older versions, it was written as timer = '{:02d}:{:02d}'.format(mins, secs). Now the f-string in f'{mins:02d}:{secs:02d}' formats the string neater. \n",
    "\n",
    "By default 'print' displays results on different lines\n",
    "\n",
    "Using \"end\" will display the result on the same line\n",
    "\n",
    "End has to be defined eg ='' or ' ' or \\n or \\r\n",
    "\n",
    "Newline, \\n is used for new lines\n",
    "\n",
    "Carriage return, \\r is used to replace values on same spot. It moves the cursor to the beginning of the line and then keeps outputting characters as normal.\n",
    "\n",
    "The 'sleep' function allwos the value to change every second. Increasing it to two will make it countdown n double the time because it will wait 2 seconds to move to the next value.\n",
    "\n",
    "All inputs are strings so int(t) is needed to convert time to workable integer"
   ]
  },
  {
   "cell_type": "markdown",
   "id": "b76e4032",
   "metadata": {},
   "source": [
    "### Truthy and Falsy values"
   ]
  },
  {
   "cell_type": "code",
   "execution_count": null,
   "id": "ff804f93",
   "metadata": {},
   "outputs": [],
   "source": [
    "Truthy and Falsy values\n",
    "\n",
    "In Python, individual values can evaluate to either True or False.\n",
    "The basic rules are:\n",
    "\n",
    "Values that evaluate to False are considered Falsy.\n",
    "Values that evaluate to True are considered Truthy.\n",
    "\n",
    "Any object can be tested for truth value, for use in an if or while condition or as operand of the Boolean operations below (and, or, not).\n",
    "\n",
    "Falsy Values\n",
    "Sequences and Collections:\n",
    "\n",
    "Empty lists []\n",
    "Empty tuples ()\n",
    "Empty dictionaries {}\n",
    "Empty sets set()\n",
    "Empty strings \"\"\n",
    "Empty ranges range(0)\n",
    "Numbers\n",
    "\n",
    "Zero of any numeric type.\n",
    "Integer: 0\n",
    "Float: 0.0\n",
    "Complex: 0j\n",
    "Constants\n",
    "\n",
    "None\n",
    "False\n",
    "\n",
    "Truthy Values\n",
    "According to the Python Documentation:\n",
    "\n",
    "By default, an object is considered true.\n",
    "Truthy values include:\n",
    "\n",
    "Non-empty sequences or collections (lists, tuples, strings, dictionaries, sets).\n",
    "Numeric values that are not zero.\n",
    "True\n",
    "\n",
    "The Built-in bool() Function\n",
    "You can check if a value is either truthy or falsy with the built-in bool() function.\n",
    "\n",
    "bool(-5)\n",
    "True\n",
    "bool(0.0)\n",
    "False"
   ]
  },
  {
   "cell_type": "code",
   "execution_count": null,
   "id": "1be10ab7",
   "metadata": {},
   "outputs": [],
   "source": [
    "Real Examples\n",
    "\n",
    "def print_even(data):\n",
    "\tif len(data) > 0:\n",
    "\t\tfor value in data:\n",
    "\t\t\tif value % 2 == 0:\n",
    "\t\t\t\tprint(value)\n",
    " \telse:\n",
    " \t\tprint(\"The argument cannot be empty\")\n",
    "        \n",
    "We can make the condition much more concise with truthy and falsy values:\n",
    "\n",
    "if data:\n",
    "    \n",
    "If the list is empty, data will evaluate to False. If it's not empty, it will evaluate to True. We get the same functionality with more concise code.\n",
    "\n",
    "This would be our final function:\n",
    "\n",
    "def print_even(data):\n",
    "\tif data:\n",
    "\t\tfor value in data:\n",
    "\t\t\tif value % 2 == 0:\n",
    "\t\t\t\tprint(value)\n",
    " \telse:\n",
    " \t\tprint(\"The argument cannot be empty\")        \n"
   ]
  },
  {
   "cell_type": "code",
   "execution_count": null,
   "id": "dd426cd4",
   "metadata": {},
   "outputs": [],
   "source": [
    "Example:\n",
    "We could also use truthy and falsy values to raise an exception (error) when the argument passed to a function is not valid.\n",
    "\n",
    ">>> def print_even(data):\n",
    "\n",
    "\tif not data:\n",
    "\t\traise ValueError(\"The argument data cannot be empty\")\n",
    "\n",
    "\tfor value in data:\n",
    "\t\tif value % 2 == 0:\n",
    "\t\t\tprint(value)\n",
    "In this case, by using not data as the condition of the if statement, we are getting the opposite truth value of data for the if condition.\n",
    "\n",
    "Let's analyze not data in more detail:\n",
    "\n",
    "If data is empty:\n",
    "\n",
    "It will be a falsy value, so data will evaluate to False.\n",
    "not data will be equivalent to not False, which is True.\n",
    "The condition will be True.\n",
    "The exception will be raised.\n",
    "If data is not empty:\n",
    "\n",
    "It will be a truthy value, so it will evaluate to True.\n",
    "not data will be equivalent to not True, which is False .\n",
    "The condition will be False.\n",
    "The exception will not be raised."
   ]
  },
  {
   "cell_type": "code",
   "execution_count": null,
   "id": "51e37da2",
   "metadata": {},
   "outputs": [],
   "source": [
    "Making Custom Objects Truthy and Falsy Values\n",
    "\n",
    "If you are familiar with classes and Object-Oriented Programming, you can add a special method to your classes to make your objects act like truthy and falsy values.\n",
    "\n",
    "__bool __()\n",
    "With the special method __bool__(), you can set a \"customized\" condition that will determine when an object of your class will evaluate to True or False.\n",
    "\n",
    "According to the Python Documentation:\n",
    "\n",
    "By default, an object is considered true unless its class defines either a __bool__() method that returns False or a __len__() method that returns zero, when called with the object.\n",
    "For example, if we have this very simple class:\n",
    "\n",
    ">>> class Account:\n",
    "\t\n",
    "\tdef __init__(self, balance):\n",
    "\t\tself.balance = balance\n",
    "You can see that no special methods are defined, so all the objects that you create from this class will always evaluate to True:\n",
    "\n",
    ">>> account1 = Account(500)\n",
    ">>> bool(account1)\n",
    "True\n",
    ">>> account2 = Account(0)\n",
    ">>> bool(account2)\n",
    "True\n",
    "We can customize this behavior by adding the special method __bool__():\n",
    "\n",
    ">>> class Account:\n",
    "\tdef __init__(self, balance):\n",
    "\t\tself.balance = balance\n",
    "\t\t\n",
    "\tdef __bool__(self):\n",
    "\t\treturn self.balance > 0\n",
    "Now, if the account balance is greater than zero, the object will evaluate to True. Otherwise, if the account balance is zero, the object will evaluate to False.\n",
    "\n",
    ">>> account1 = Account(500)\n",
    ">>> bool(account1)\n",
    "True\n",
    ">>> account2 = Account(0)\n",
    ">>> bool(account2)\n",
    "False"
   ]
  },
  {
   "cell_type": "code",
   "execution_count": null,
   "id": "653c05ac",
   "metadata": {},
   "outputs": [],
   "source": [
    "In Summary\n",
    "\n",
    "Truthy values are values that evaluate to True in a boolean context.\n",
    "Falsy values are values that evaluate to False in a boolean context.\n",
    "Falsy values include empty sequences (lists, tuples, strings, dictionaries, sets), zero in every numeric type, None, and False.\n",
    "Truthy values include non-empty sequences, numbers (except 0 in every numeric type), and basically every value that is not falsy.\n",
    "They can be used to make your code more concise."
   ]
  },
  {
   "cell_type": "code",
   "execution_count": null,
   "id": "18b1cf63",
   "metadata": {},
   "outputs": [],
   "source": []
  }
 ],
 "metadata": {
  "kernelspec": {
   "display_name": "Python 3 (ipykernel)",
   "language": "python",
   "name": "python3"
  },
  "language_info": {
   "codemirror_mode": {
    "name": "ipython",
    "version": 3
   },
   "file_extension": ".py",
   "mimetype": "text/x-python",
   "name": "python",
   "nbconvert_exporter": "python",
   "pygments_lexer": "ipython3",
   "version": "3.9.7"
  }
 },
 "nbformat": 4,
 "nbformat_minor": 5
}

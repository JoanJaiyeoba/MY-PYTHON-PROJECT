{
 "cells": [
  {
   "cell_type": "code",
   "execution_count": 23,
   "id": "196533ee",
   "metadata": {},
   "outputs": [
    {
     "name": "stdout",
     "output_type": "stream",
     "text": [
      "QUESTION 1\n",
      "List:20,35,19\n",
      "The list is  [20, 35, 19]\n",
      "The maximum element in the list is  35\n"
     ]
    }
   ],
   "source": [
    "print ('QUESTION 1')\n",
    "l=[ int(l) for l in input(\"List:\").split(\",\")]\n",
    "print(\"The list is \",l)\n",
    " \n",
    "# Assign first element as a minimum.\n",
    "max1 = l[0]\n",
    " \n",
    "for i in range(len(l)):\n",
    " \n",
    "    # If the other element is min than first element\n",
    "    if l[i] > max1:\n",
    "        max1 = l[i] #It will change\n",
    " \n",
    "print(\"The maximum element in the list is \",max1)"
   ]
  },
  {
   "cell_type": "code",
   "execution_count": 36,
   "id": "e781b251",
   "metadata": {},
   "outputs": [
    {
     "name": "stdout",
     "output_type": "stream",
     "text": [
      "QUESTION 2\n",
      "First element : 40\n",
      "Second element : 10\n",
      "(50, 30)\n"
     ]
    }
   ],
   "source": [
    "print ('QUESTION 2')\n",
    "n1 = int(input('First element : '))\n",
    "n2 = int(input('Second element : '))\n",
    "\n",
    "def add_and_minus():\n",
    "    return ((n1+n2) ,(n1-n2))\n",
    "print (add_and_minus())\n",
    "\n",
    " "
   ]
  },
  {
   "cell_type": "code",
   "execution_count": 53,
   "id": "f26266c5",
   "metadata": {},
   "outputs": [
    {
     "name": "stdout",
     "output_type": "stream",
     "text": [
      "QUESTION 3\n",
      "sum : 30\n",
      "product :  28350\n"
     ]
    }
   ],
   "source": [
    "print ('QUESTION 3')\n",
    "grand_list = [1,2,3,4,5,6,7,8,9,10]\n",
    "\n",
    "result = 0 \n",
    "for x in grand_list:\n",
    "    if x % 2 == 0:\n",
    "        result += x\n",
    "print ('sum :' , result)\n",
    "\n",
    "for x in grand_list:\n",
    "    if x % 2 != 0:\n",
    "        result *= x\n",
    "print ('product : ' , result)\n",
    "\n"
   ]
  },
  {
   "cell_type": "code",
   "execution_count": 1,
   "id": "1bc14eb6",
   "metadata": {},
   "outputs": [
    {
     "name": "stdout",
     "output_type": "stream",
     "text": [
      "QUESTION 4\n",
      "List:green-red-yellow-black-white\n",
      "black-green-red-white-yellow\n"
     ]
    }
   ],
   "source": [
    "print('QUESTION 4')\n",
    "l=[ str(l) for l in input(\"List:\").split(\"-\")]\n",
    "\n",
    "l.sort() \n",
    "print('-'.join(l))   \n",
    "\n"
   ]
  },
  {
   "cell_type": "code",
   "execution_count": 49,
   "id": "cbfdbeaf",
   "metadata": {},
   "outputs": [
    {
     "name": "stdout",
     "output_type": "stream",
     "text": [
      "QUESTION 5\n",
      "18.24828759089466\n"
     ]
    }
   ],
   "source": [
    "print ('QUESTION 5')  #Dont know what to do to answr question completely. \n",
    "import math \n",
    "\n",
    "d= 100\n",
    "C = 50\n",
    "H = 30\n",
    "    \n",
    "def formula():\n",
    "        return   math.sqrt((2 * C * d ) // H)\n",
    "\n",
    "print (formula())"
   ]
  },
  {
   "cell_type": "code",
   "execution_count": null,
   "id": "73d70e83",
   "metadata": {},
   "outputs": [],
   "source": []
  }
 ],
 "metadata": {
  "kernelspec": {
   "display_name": "Python 3 (ipykernel)",
   "language": "python",
   "name": "python3"
  },
  "language_info": {
   "codemirror_mode": {
    "name": "ipython",
    "version": 3
   },
   "file_extension": ".py",
   "mimetype": "text/x-python",
   "name": "python",
   "nbconvert_exporter": "python",
   "pygments_lexer": "ipython3",
   "version": "3.9.7"
  }
 },
 "nbformat": 4,
 "nbformat_minor": 5
}

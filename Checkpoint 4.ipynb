{
 "cells": [
  {
   "cell_type": "markdown",
   "id": "412f8600",
   "metadata": {},
   "source": [
    "Objective\n",
    "Functions are very important \n",
    "\n",
    "Question 1\n",
    "\n",
    "Write a Python function to find the Max of three numbers.\n",
    "\n",
    "for example, the max of these three numbers 20, 35, 19 is 35\n",
    "\n",
    "Question 2\n",
    "\n",
    "Write a function calculation() such that it can accept two variables and calculate the addition and subtraction of it. And also it must return both addition and subtraction in a single return call\n",
    "\n",
    "For example:\n",
    "\n",
    "calculation(40, 10) should produce 50, 30\n",
    "\n",
    "Question 3\n",
    "\n",
    "* Write a function that sums the elements of a list of integers.\n",
    "* Write a function that multiplies the elements of an integer list.\n",
    "* Use the two functions to sum the elements whose position is an even number (0,2,4…) and multiply the rest.\n",
    "Hint: Consider extracting two lists from a first list \n",
    "\n",
    "Question 4\n",
    "\n",
    "Write a Python program that accepts a hyphen-separated sequence of words as input and prints the words in a hyphen-separated sequence after sorting them alphabetically.\n",
    "\n",
    "Sample Items : green-red-yellow-black-white\n",
    "Expected Result : black-green-red-white-yellow\n",
    "\n",
    "Hint : There's a split function to separate your input string into words and a sort function to sort.\n",
    "\n",
    "Question 5 (Bonus)\n",
    "\n",
    "Write a function that calculates and prints the value according to the given formula: Q = Square root of [(2 * C * D)/H] Following are the fixed values of C and H: C is 50. H is 30. D is the variable whose values should be input to your program in a comma-separated sequence. Example Let us assume the following comma separated input sequence is given to the function: 100,150,180 The output of the program should be: 18,22,24 \n",
    "\n",
    "Hints: If the output received is in decimal form, it should be rounded off to its nearest value (for example, if the output received is 26.0, it should be printed as 26) In case of input data being supplied to the question, it should be assumed to be a console input. "
   ]
  },
  {
   "cell_type": "code",
   "execution_count": 23,
   "id": "196533ee",
   "metadata": {},
   "outputs": [
    {
     "name": "stdout",
     "output_type": "stream",
     "text": [
      "QUESTION 1\n",
      "List:20,35,19\n",
      "The list is  [20, 35, 19]\n",
      "The maximum element in the list is  35\n"
     ]
    }
   ],
   "source": [
    "print ('QUESTION 1')\n",
    "l=[ int(l) for l in input(\"List:\").split(\",\")]\n",
    "print(\"The list is \",l)\n",
    " \n",
    "# Assign first element as a minimum.\n",
    "max1 = l[0]\n",
    " \n",
    "for i in range(len(l)):\n",
    " \n",
    "    # If the other element is min than first element\n",
    "    if l[i] > max1:\n",
    "        max1 = l[i] #It will change\n",
    " \n",
    "print(\"The maximum element in the list is \",max1)"
   ]
  },
  {
   "cell_type": "code",
   "execution_count": 36,
   "id": "e781b251",
   "metadata": {},
   "outputs": [
    {
     "name": "stdout",
     "output_type": "stream",
     "text": [
      "QUESTION 2\n",
      "First element : 40\n",
      "Second element : 10\n",
      "(50, 30)\n"
     ]
    }
   ],
   "source": [
    "print ('QUESTION 2')\n",
    "n1 = int(input('First element : '))\n",
    "n2 = int(input('Second element : '))\n",
    "\n",
    "def add_and_minus():\n",
    "    return ((n1+n2) ,(n1-n2))\n",
    "print (add_and_minus())\n",
    "\n",
    " "
   ]
  },
  {
   "cell_type": "code",
   "execution_count": 53,
   "id": "f26266c5",
   "metadata": {},
   "outputs": [
    {
     "name": "stdout",
     "output_type": "stream",
     "text": [
      "QUESTION 3\n",
      "sum : 30\n",
      "product :  28350\n"
     ]
    }
   ],
   "source": [
    "print ('QUESTION 3')\n",
    "grand_list = [1,2,3,4,5,6,7,8,9,10]\n",
    "\n",
    "result = 0 \n",
    "for x in grand_list:\n",
    "    if x % 2 == 0:\n",
    "        result += x\n",
    "print ('sum :' , result)\n",
    "\n",
    "for x in grand_list:\n",
    "    if x % 2 != 0:\n",
    "        result *= x\n",
    "print ('product : ' , result)\n",
    "\n"
   ]
  },
  {
   "cell_type": "code",
   "execution_count": 8,
   "id": "1bc14eb6",
   "metadata": {},
   "outputs": [
    {
     "name": "stdout",
     "output_type": "stream",
     "text": [
      "QUESTION 4\n",
      "List:boy-toy\n",
      "boy-toy\n"
     ]
    }
   ],
   "source": [
    "print('QUESTION 4')\n",
    "l=[ str(l) for l in input(\"List:\").split(\"-\")]\n",
    "\n",
    "l.sort() \n",
    "print('-'.join(l))   \n",
    "\n"
   ]
  },
  {
   "cell_type": "code",
   "execution_count": 3,
   "id": "899a5fa7",
   "metadata": {},
   "outputs": [
    {
     "name": "stdout",
     "output_type": "stream",
     "text": [
      "QUESTION 5\n",
      "Enter list of numbers : 100,150,180\n",
      "['100', '150', '180']\n",
      "[18, 22, 24]\n"
     ]
    }
   ],
   "source": [
    "print ('QUESTION 5')  #Dont know what to do to answr question completely. \n",
    "import math \n",
    "\n",
    "D = input('Enter list of numbers : ').split(',')     #split accepts values in str form \n",
    "print (D) \n",
    "\n",
    "l = [] \n",
    " \n",
    "for i in D:\n",
    "    B =  round(math.sqrt((2 * 50 * int(i)/ 30 ))) \n",
    "    l.append(B)\n",
    "print (l)   \n"
   ]
  },
  {
   "cell_type": "code",
   "execution_count": 28,
   "id": "5d8b21ba",
   "metadata": {},
   "outputs": [
    {
     "ename": "SyntaxError",
     "evalue": "invalid syntax (Temp/ipykernel_17480/3875451022.py, line 16)",
     "output_type": "error",
     "traceback": [
      "\u001b[1;36m  File \u001b[1;32m\"C:\\Users\\JOANJA~1\\AppData\\Local\\Temp/ipykernel_17480/3875451022.py\"\u001b[1;36m, line \u001b[1;32m16\u001b[0m\n\u001b[1;33m    A = str(Q)                                  #to change answrers back to str\u001b[0m\n\u001b[1;37m    ^\u001b[0m\n\u001b[1;31mSyntaxError\u001b[0m\u001b[1;31m:\u001b[0m invalid syntax\n"
     ]
    }
   ],
   "source": [
    "print ('QUESTION 5')  #Dont know what to do to answr question completely. \n",
    "import math \n",
    "\n",
    "D = input('Enter list of numbers : ').split(',')    #split accepts values in str form \n",
    "print (D) \n",
    "\n",
    "C= 50  \n",
    "H=30\n",
    " \n",
    "def calculation(D,C,H):\n",
    "    l = [] \n",
    "    for i in range(len(D)):\n",
    "        print (i)\n",
    "        D[i] = int(D[i])                            # to change the values from str to int\n",
    "        Q =  round(math.sqrt((2 * C * int(D[i])/H))\n",
    "        A = str(Q)                                  #to change answrers back to str \n",
    "        l.append(A)                                 # add str members to empty lsit\n",
    "    B = print(\",\".join(A))                          # join values with , \n",
    "    return (B)\n",
    "\n",
    "calculation(D,50,30)"
   ]
  },
  {
   "cell_type": "code",
   "execution_count": null,
   "id": "811a6d11",
   "metadata": {},
   "outputs": [],
   "source": []
  }
 ],
 "metadata": {
  "kernelspec": {
   "display_name": "Python 3 (ipykernel)",
   "language": "python",
   "name": "python3"
  },
  "language_info": {
   "codemirror_mode": {
    "name": "ipython",
    "version": 3
   },
   "file_extension": ".py",
   "mimetype": "text/x-python",
   "name": "python",
   "nbconvert_exporter": "python",
   "pygments_lexer": "ipython3",
   "version": "3.9.7"
  }
 },
 "nbformat": 4,
 "nbformat_minor": 5
}

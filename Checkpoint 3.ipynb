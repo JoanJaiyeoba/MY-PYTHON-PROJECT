{
 "cells": [
  {
   "cell_type": "code",
   "execution_count": 2,
   "id": "1e56f883",
   "metadata": {},
   "outputs": [
    {
     "name": "stdout",
     "output_type": "stream",
     "text": [
      "QUESTION 1\n",
      "total number of elements in the list:3\n",
      "enter elments of list:2\n",
      "enter elments of list:3\n",
      "enter elments of list:6\n",
      "36\n"
     ]
    }
   ],
   "source": [
    "print ('QUESTION 1')\n",
    "list1 = []\n",
    "num = int (input('total number of elements in the list:'))\n",
    "\n",
    "for i in range(1, num+1):\n",
    "    no = int(input('enter elments of list:'))\n",
    "    list1.append (no)\n",
    "\n",
    "result = 1\n",
    "\n",
    "for x in list1:\n",
    "    result *= x   #or result = result * x\n",
    "print (result)    \n"
   ]
  },
  {
   "cell_type": "code",
   "execution_count": 37,
   "id": "5c0fa9e9",
   "metadata": {},
   "outputs": [
    {
     "name": "stdout",
     "output_type": "stream",
     "text": [
      "QUESTION 2\n",
      "Sorted:\n",
      "[(2, 1), (1, 2), (2, 3), (4, 4), (2, 5)]\n"
     ]
    }
   ],
   "source": [
    "print ('QUESTION 2')\n",
    "def last(n):\n",
    "    return n[-1]  \n",
    "   \n",
    "def sort(a):\n",
    "    return sorted(a, key=last)\n",
    "   \n",
    "a= [(2, 5), (1, 2), (4, 4), (2, 3), (2, 1)]\n",
    "print(\"Sorted:\")\n",
    "print(sort(a))"
   ]
  },
  {
   "cell_type": "code",
   "execution_count": 33,
   "id": "a1a171e9",
   "metadata": {},
   "outputs": [
    {
     "name": "stdout",
     "output_type": "stream",
     "text": [
      "QUESTION 3\n",
      "{'a': 400, 'b': 400, 'c': 300, 'd': 400}\n"
     ]
    }
   ],
   "source": [
    "print ('QUESTION 3')\n",
    "d1 = {'a': 100, 'b': 200, 'c':300}\n",
    "d2 = {'a': 300, 'b': 200, 'd':400}\n",
    "\n",
    "for key in d2:\n",
    "    if key in d2 and key in d1:\n",
    "        d2[key] = d2[key] + d1[key]\n",
    "        \n",
    "d1.update (d2)\n",
    "print (d1)\n"
   ]
  },
  {
   "cell_type": "code",
   "execution_count": 53,
   "id": "8be86956",
   "metadata": {},
   "outputs": [
    {
     "name": "stdout",
     "output_type": "stream",
     "text": [
      "Question 4\n",
      "Type a number: 8\n",
      "{1: 1, 2: 4, 3: 9, 4: 16, 5: 25, 6: 36, 7: 49, 8: 64}\n"
     ]
    }
   ],
   "source": [
    "print ('Question 4')\n",
    "n = int(input(\"Type a number: \"))\n",
    "\n",
    "dictionary = {}\n",
    "for i in range(1, n+1):\n",
    "    dictionary[i] = i*i\n",
    "\n",
    "print(dictionary)"
   ]
  },
  {
   "cell_type": "code",
   "execution_count": 59,
   "id": "ee20a972",
   "metadata": {},
   "outputs": [
    {
     "name": "stdout",
     "output_type": "stream",
     "text": [
      "QUESTION 5\n",
      "[('item3', '24.5'), ('item2', '15.10'), ('item1', '12.20')]\n"
     ]
    }
   ],
   "source": [
    "print ('QUESTION 5')\n",
    "listt = [('item1', '12.20'), ('item2', '15.10'), ('item3', '24.5')]\n",
    "print( sorted(listt, key=lambda x: float(x[1]), reverse=True))\n",
    "\n"
   ]
  }
 ],
 "metadata": {
  "kernelspec": {
   "display_name": "Python 3 (ipykernel)",
   "language": "python",
   "name": "python3"
  },
  "language_info": {
   "codemirror_mode": {
    "name": "ipython",
    "version": 3
   },
   "file_extension": ".py",
   "mimetype": "text/x-python",
   "name": "python",
   "nbconvert_exporter": "python",
   "pygments_lexer": "ipython3",
   "version": "3.9.7"
  }
 },
 "nbformat": 4,
 "nbformat_minor": 5
}

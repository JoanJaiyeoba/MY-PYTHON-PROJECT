{
 "cells": [
  {
   "cell_type": "code",
   "execution_count": 80,
   "id": "7c453e96",
   "metadata": {},
   "outputs": [
    {
     "name": "stdout",
     "output_type": "stream",
     "text": [
      "QUESTION 1\n",
      "enter firts name:TIMOTHY\n",
      "enter last name:JAIYEOBA\n",
      "JAIYEOBA TIMOTHY\n"
     ]
    }
   ],
   "source": [
    "print ('QUESTION 1')\n",
    "first_name = input('enter firts name:')\n",
    "last_name = input ('enter last name:')\n",
    "print (last_name + ' ' + first_name)"
   ]
  },
  {
   "cell_type": "code",
   "execution_count": 81,
   "id": "071291ec",
   "metadata": {},
   "outputs": [
    {
     "name": "stdout",
     "output_type": "stream",
     "text": [
      "QUESTION  2\n",
      "Input an integer : 5\n",
      "Answer =  615\n"
     ]
    }
   ],
   "source": [
    "print (\"QUESTION  2\")\n",
    "a = int(input(\"Input an integer : \"))\n",
    "n1 = int( \"%s\" % a )\n",
    "n2 = int( \"%s%s\" % (a,a) )\n",
    "n3 = int( \"%s%s%s\" % (a,a,a) )\n",
    "print (\"Answer = \", n1+n2+n3) \n"
   ]
  },
  {
   "cell_type": "code",
   "execution_count": 82,
   "id": "eaaf1829",
   "metadata": {},
   "outputs": [
    {
     "name": "stdout",
     "output_type": "stream",
     "text": [
      "QUESTION 3\n",
      "Input a number (x): 4567\n",
      "x is an odd number\n"
     ]
    }
   ],
   "source": [
    "print ('QUESTION 3')\n",
    "x = int(input('Input a number (x): '))\n",
    "if x%2 == 0:\n",
    "    print (\"x is an even number\")\n",
    "else:\n",
    "    print ('x is an odd number')"
   ]
  },
  {
   "cell_type": "code",
   "execution_count": 79,
   "id": "b69cd2fe",
   "metadata": {},
   "outputs": [
    {
     "name": "stdout",
     "output_type": "stream",
     "text": [
      "QUESTION 4\n",
      "2002 2009 2016 2023 2037 2044 2051 2058 2072 2079 2086 2093 2107 2114 2121 2128 2142 2149 2156 2163 2177 2184 2191 2198 2212 2219 2226 2233 2247 2254 2261 2268 2282 2289 2296 2303 2317 2324 2331 2338 2352 2359 2366 2373 2387 2394 2401 2408 2422 2429 2436 2443 2457 2464 2471 2478 2492 2499 2506 2513 2527 2534 2541 2548 2562 2569 2576 2583 2597 2604 2611 2618 2632 2639 2646 2653 2667 2674 2681 2688 2702 2709 2716 2723 2737 2744 2751 2758 2772 2779 2786 2793 2807 2814 2821 2828 2842 2849 2856 2863 2877 2884 2891 2898 2912 2919 2926 2933 2947 2954 2961 2968 2982 2989 2996 3003 3017 3024 3031 3038 3052 3059 3066 3073 3087 3094 3101 3108 3122 3129 3136 3143 3157 3164 3171 3178 3192 3199 "
     ]
    }
   ],
   "source": [
    "print ('QUESTION 4')\n",
    "for x in range (2000,3201):\n",
    "    if x%7 == 0 and x%5 != 0:\n",
    "        print (x,  end=' ')"
   ]
  },
  {
   "cell_type": "code",
   "execution_count": 15,
   "id": "c315cb41",
   "metadata": {},
   "outputs": [
    {
     "name": "stdout",
     "output_type": "stream",
     "text": [
      "QUESTION 5\n",
      "Input a number to compute the factiorial : 8\n",
      "40320\n"
     ]
    }
   ],
   "source": [
    "print ('QUESTION 5')\n",
    "n = int(input(\"Input a number to compute the factiorial : \"))\n",
    "def factorial(n):\n",
    "    if n == 0:\n",
    "        return 1\n",
    "    else:\n",
    "        return n * factorial(n-1)\n",
    "print(factorial(n))\n"
   ]
  },
  {
   "cell_type": "code",
   "execution_count": 17,
   "id": "9e433a7f",
   "metadata": {},
   "outputs": [
    {
     "name": "stdout",
     "output_type": "stream",
     "text": [
      "QUESTION 6\n",
      "hlota\n"
     ]
    }
   ],
   "source": [
    "print ('QUESTION 6')\n",
    "def odd_values_string(str):\n",
    "    result = ''\n",
    "    for i in range(len(str)):\n",
    "        if i % 2 == 0:\n",
    "            result = result + str[i]\n",
    "    return result \n",
    "        \n",
    "print (odd_values_string ('hello team'))"
   ]
  },
  {
   "cell_type": "code",
   "execution_count": 46,
   "id": "df37e5a0",
   "metadata": {},
   "outputs": [
    {
     "name": "stdout",
     "output_type": "stream",
     "text": [
      "QUESTION 7\n",
      "Price : 4567\n",
      "2283.5\n"
     ]
    }
   ],
   "source": [
    "print ('QUESTION 7')\n",
    "x = float(input('Price : '))\n",
    "if x >= 500:\n",
    "    print (float(x- (0.5 * x)))\n",
    "elif x>=200 and x<500:\n",
    "    print (float(x- (0.3 * x)))\n",
    "elif x<200:\n",
    "    print (float(x- (0.1 * x)))\n"
   ]
  },
  {
   "cell_type": "code",
   "execution_count": null,
   "id": "b9b6d2c5",
   "metadata": {},
   "outputs": [],
   "source": []
  }
 ],
 "metadata": {
  "kernelspec": {
   "display_name": "Python 3 (ipykernel)",
   "language": "python",
   "name": "python3"
  },
  "language_info": {
   "codemirror_mode": {
    "name": "ipython",
    "version": 3
   },
   "file_extension": ".py",
   "mimetype": "text/x-python",
   "name": "python",
   "nbconvert_exporter": "python",
   "pygments_lexer": "ipython3",
   "version": "3.9.7"
  }
 },
 "nbformat": 4,
 "nbformat_minor": 5
}

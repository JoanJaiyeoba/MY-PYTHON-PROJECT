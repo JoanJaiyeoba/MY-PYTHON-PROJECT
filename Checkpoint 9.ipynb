{
 "cells": [
  {
   "cell_type": "markdown",
   "id": "9125ac46",
   "metadata": {},
   "source": [
    "Objective\n",
    "\n",
    "1. Write a Python program for binary search.\n",
    "\n",
    "Test Data :\n",
    "\n",
    "binary_search([1,2,3,5,8], 6) -> False\n",
    "\n",
    "binary_search([1,2,3,5,8], 5) -> True\n",
    "\n",
    "\n",
    "2. Write a Python program to calculate the value of 'a' to the power 'b'.\n",
    "\n",
    "Test Data : \n",
    "(power(3,4) -> 81\n",
    "\n",
    "\n",
    "3. Write a Python program to sort a list of elements using the bubble sort algorithm.\n",
    "\n",
    "Sample Data: [29,13,22,37,52,49,46,71,56]\n",
    "\n",
    "Expected Result: [13, 22, 29, 37, 42, 46, 49, 56, 71]\n",
    "\n",
    "\n",
    "4. Write a Python program to sort a list of elements using the merge sort algorithm.\n",
    "\n",
    "Sample Data: [29,13,22,37,52,49,46,71,56]\n",
    "\n",
    "Expected Result: [13, 22, 29, 37, 42, 46, 49, 56, 71]\n",
    "\n",
    "   \n",
    "5. Write a Python program to sort a list of elements using the quick sort algorithm.\n",
    "\n",
    "Sample Data: [29,13,22,37,52,49,46,71,56]\n",
    "\n",
    "Expected Result: [13, 22, 29, 37, 42, 46, 49, 56, 71]\n",
    "\n",
    " "
   ]
  },
  {
   "cell_type": "code",
   "execution_count": 91,
   "id": "72453722",
   "metadata": {},
   "outputs": [
    {
     "name": "stdout",
     "output_type": "stream",
     "text": [
      "1. Write a Python program for binary search.\n",
      "False\n",
      "True\n"
     ]
    }
   ],
   "source": [
    "print (\"1. Write a Python program for binary search.\")\n",
    "\n",
    "def binary_search(sequence, item):\n",
    "    low = 0\n",
    "    high = len(sequence) - 1\n",
    "\n",
    "    while low <= high:\n",
    "        midpoint = (low + high ) // 2        \n",
    "        midpoint_value = sequence[midpoint]\n",
    "         \n",
    "        if midpoint_value == item:\n",
    "            return True\n",
    "\n",
    "        elif item < midpoint_value:\n",
    "            high = midpoint - 1\n",
    "\n",
    "        else:\n",
    "            low = midpoint + 1\n",
    "\n",
    "    return False\n",
    "\n",
    "print(binary_search([1,2,3,5,8],6))\n",
    "print(binary_search([1,2,3,5,8],5))"
   ]
  },
  {
   "cell_type": "code",
   "execution_count": 41,
   "id": "fc6d3033",
   "metadata": {},
   "outputs": [
    {
     "name": "stdout",
     "output_type": "stream",
     "text": [
      "2. Write a Python program to calculate the value of 'a' to the power 'b'.\n",
      "81\n"
     ]
    }
   ],
   "source": [
    "print (\"2. Write a Python program to calculate the value of 'a' to the power 'b'.\")\n",
    "def power(a,b):\n",
    "    formula = a**b\n",
    "    return formula\n",
    "print (power(3,4))"
   ]
  },
  {
   "cell_type": "code",
   "execution_count": 42,
   "id": "2af3a168",
   "metadata": {},
   "outputs": [
    {
     "name": "stdout",
     "output_type": "stream",
     "text": [
      " 3. Write a Python program to sort a list of elements using the bubble sort algorithm.\n",
      "\n",
      "Original list: [29, 13, 22, 37, 52, 49, 46, 71, 56]\n",
      "\n",
      "Sorted list: [13, 22, 29, 37, 46, 49, 52, 56, 71]\n"
     ]
    }
   ],
   "source": [
    "print (\" 3. Write a Python program to sort a list of elements using the bubble sort algorithm.\")\n",
    "\n",
    "def bubble_sort(seq):          \n",
    "    for i in range (len(seq)):  \n",
    "        for j in range (len(seq)-i-1):\n",
    "              if seq[j]>seq[j+1]:\n",
    "                seq[j] , seq[j+1] = seq[j+1] , seq[j] \n",
    "                   \n",
    "sample = [29,13,22,37,52,49,46,71,56]\n",
    "print ('\\nOriginal list:', sample)\n",
    "\n",
    "bubble_sort(sample)\n",
    "print ('\\nSorted list:' , sample)"
   ]
  },
  {
   "cell_type": "code",
   "execution_count": 101,
   "id": "84c175fc",
   "metadata": {},
   "outputs": [
    {
     "name": "stdout",
     "output_type": "stream",
     "text": [
      "4. Write a Python program to sort a list of elements using the merge sort algorithm.\n",
      "\n",
      " Original list: [29, 13, 22, 37, 52, 49, 46, 71, 56]\n",
      "\n",
      " Sorted list: [13, 22, 29, 37, 46, 49, 52, 56, 71]\n"
     ]
    }
   ],
   "source": [
    "print (\"4. Write a Python program to sort a list of elements using the merge sort algorithm.\")\n",
    "\n",
    "def merge_sort(myList):\n",
    "    if len(myList) > 1:\n",
    "        mid = len(myList) // 2\n",
    "        left = myList[:mid]\n",
    "        right = myList[mid:]\n",
    "\n",
    "        merge_sort(left)\n",
    "        merge_sort(right)\n",
    "\n",
    "        i = 0\n",
    "        j = 0\n",
    "        k = 0\n",
    "        \n",
    "        while i < len(left) and j < len(right):\n",
    "            if left[i] < right[j]:\n",
    "                myList[k] = left[i]\n",
    "                i += 1\n",
    "            else:\n",
    "                myList[k] = right[j]\n",
    "                j += 1\n",
    "            k += 1\n",
    "\n",
    "        while i < len(left):\n",
    "            myList[k] = left[i]\n",
    "            i += 1\n",
    "            k += 1\n",
    "\n",
    "        while j < len(right):\n",
    "            myList[k]=right[j]\n",
    "            j += 1\n",
    "            k += 1\n",
    "\n",
    "myList = [29, 13, 22, 37, 52, 49, 46, 71, 56]\n",
    "print ('\\n Original list:' , myList)\n",
    "\n",
    "merge_sort(myList)\n",
    "print('\\n Sorted list:' , myList)\n"
   ]
  },
  {
   "cell_type": "code",
   "execution_count": 92,
   "id": "00ffe9e6",
   "metadata": {},
   "outputs": [
    {
     "name": "stdout",
     "output_type": "stream",
     "text": [
      "5. Write a Python program to sort a list of elements using the quick sort algorithm.\n",
      "\n",
      "Original list: [29, 13, 22, 37, 52, 49, 46, 71, 56]\n",
      "\n",
      "Sorted list: [13, 22, 29, 37, 46, 49, 52, 71]\n"
     ]
    }
   ],
   "source": [
    "print ('5. Write a Python program to sort a list of elements using the quick sort algorithm.')\n",
    "\n",
    "def quick_sort(sequence):\n",
    "    length = len(sequence)\n",
    "    if length <= 1:\n",
    "        return sequence\n",
    "    else:\n",
    "        pivot = sequence.pop()\n",
    "\n",
    "    items_greater = []\n",
    "    items_lower = []\n",
    "\n",
    "    for item in sequence:\n",
    "        if item > pivot:\n",
    "            items_greater.append(item)\n",
    "\n",
    "        else:\n",
    "            items_lower.append(item)\n",
    "\n",
    "    return quick_sort(items_lower) + [pivot] + quick_sort(items_greater)\n",
    "\n",
    "sample = [29,13,22,37,52,49,46,71,56]\n",
    "print ('\\nOriginal list:' , sample)\n",
    "\n",
    "quick_sort(sample)\n",
    "print ('\\nSorted list:' , quick_sort(sample))\n"
   ]
  },
  {
   "cell_type": "code",
   "execution_count": null,
   "id": "7423946e",
   "metadata": {},
   "outputs": [],
   "source": []
  }
 ],
 "metadata": {
  "kernelspec": {
   "display_name": "Python 3 (ipykernel)",
   "language": "python",
   "name": "python3"
  },
  "language_info": {
   "codemirror_mode": {
    "name": "ipython",
    "version": 3
   },
   "file_extension": ".py",
   "mimetype": "text/x-python",
   "name": "python",
   "nbconvert_exporter": "python",
   "pygments_lexer": "ipython3",
   "version": "3.9.7"
  }
 },
 "nbformat": 4,
 "nbformat_minor": 5
}

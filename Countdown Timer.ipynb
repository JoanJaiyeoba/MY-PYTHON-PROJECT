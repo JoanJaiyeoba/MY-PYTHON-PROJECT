{
 "cells": [
  {
   "cell_type": "markdown",
   "id": "78f0837c",
   "metadata": {},
   "source": [
    "Objective\n",
    "\n",
    "In this project, you will be able to create a countdown timer using Python. \n",
    "The code will take input from the user regarding the length of the countdown in seconds. \n",
    "After that, a countdown will begin on the screen of the format ‘minutes: seconds. We will use the time module here.\n",
    "\n",
    "Instructions\n",
    "\n",
    "In this project, we will be using the time module and its sleep() function. \n",
    "Follow the below steps to create a countdown timer:\n",
    "\n",
    "1.Import the time module.\n",
    "\n",
    "2.Ask the user to input the length of the countdown in seconds.\n",
    "\n",
    "3.This value is sent as a parameter ‘t’ to the user-defined function countdown(). Any variable read using the input function is a string. So, convert this parameter to ‘int’ as it is of string type.\n",
    "\n",
    "4.In this function, a while loop runs until time becomes 0.\n",
    "\n",
    "5.Use divmod() to calculate the number of minutes and seconds. You can read more about it here.\n",
    "\n",
    "6.Now print the minutes and seconds on the screen using the variable timeformat.\n",
    "\n",
    "7.Using end = ‘\\r’ we force the cursor to go back to the start of the screen (carriage return) so that the next line printed will overwrite the previous one.\n",
    "\n",
    "8.The time.sleep() is used to make the code wait for one sec.\n",
    "\n",
    "9.Now decrement time so that the while loop can converge.\n",
    "\n",
    "10.After the completion of the loop, we will print “Fire in the hole” to signify the end of the countdown."
   ]
  },
  {
   "cell_type": "code",
   "execution_count": 2,
   "id": "5fd573bf",
   "metadata": {},
   "outputs": [
    {
     "name": "stdout",
     "output_type": "stream",
     "text": [
      "Enter the time in seconds: 10\n",
      "Fire in the hole!!\n"
     ]
    }
   ],
   "source": [
    "# import the time module\n",
    "import time\n",
    "\n",
    "# define the countdown func.\n",
    "def countdown(t):\n",
    "\t\n",
    "\twhile t:\n",
    "\t\tmins, secs = divmod(t, 60)\n",
    "\t\ttimer = '{:02d}:{:02d}'.format(mins, secs)\n",
    "\t\tprint(timer, end=\"\\r\")\n",
    "\t\ttime.sleep(1)\n",
    "\t\tt -= 1\n",
    "\t\n",
    "\tprint('Fire in the hole!!')\n",
    "\n",
    "\n",
    "# input time in seconds\n",
    "t = input(\"Enter the time in seconds: \")\n",
    "\n",
    "# function call\n",
    "countdown(int(t))\n"
   ]
  },
  {
   "cell_type": "code",
   "execution_count": null,
   "id": "465dcd08",
   "metadata": {},
   "outputs": [],
   "source": []
  }
 ],
 "metadata": {
  "kernelspec": {
   "display_name": "Python 3 (ipykernel)",
   "language": "python",
   "name": "python3"
  },
  "language_info": {
   "codemirror_mode": {
    "name": "ipython",
    "version": 3
   },
   "file_extension": ".py",
   "mimetype": "text/x-python",
   "name": "python",
   "nbconvert_exporter": "python",
   "pygments_lexer": "ipython3",
   "version": "3.9.7"
  }
 },
 "nbformat": 4,
 "nbformat_minor": 5
}

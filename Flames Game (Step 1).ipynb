{
 "cells": [
  {
   "cell_type": "markdown",
   "metadata": {
    "colab_type": "text",
    "id": "view-in-github"
   },
   "source": [
    "<a href=\"https://colab.research.google.com/github/JoanJaiyeoba/MY-PYTHON-PROJECT/blob/main/Flames%20Game%20(Step%201).ipynb\" target=\"_parent\"><img src=\"https://colab.research.google.com/assets/colab-badge.svg\" alt=\"Open In Colab\"/></a>"
   ]
  },
  {
   "cell_type": "markdown",
   "metadata": {},
   "source": [
    "Objective\n",
    "\n",
    "FLAMES is a popular game named after the acronym: Friends, Lovers, Affectionate, Marriage, Enemies, Sibling. This game does not accurately predict whether or not an individual is right for you, but it can be fun to play this with your friends.\n",
    "\n",
    "Python is a multipurpose language and one can do literally anything with it. Python can also be used for game development. Let’s create a simple FLAMES game without using any external game libraries like PyGame.\n",
    "\n",
    "There are two steps in this game:\n",
    "\n",
    "Take the two names.\n",
    "Remove the common characters with their respective common occurrences.\n",
    "Get the count of the characters that are left.\n",
    "Take FLAMES letters as [“F”, “L”, “A”, “M”, “E”, “S”]\n",
    "Start removing letters using the count we got.\n",
    "The letter which lasts the process is the result.\n",
    "Example : \n",
    "\n",
    "Input :   player 1 name : AJAY\n",
    "\n",
    "player 2 name: PRIYA\n",
    "\n",
    "Output: Relationship status: Friends\n",
    "\n",
    "Explanation: In the above given, two names A and Y are common letters that are occurring one time(common count) in both names, so we are removing these letters from both names. Now count the total letters that are left here it is 5. Now start removing letters one by one from FLAMES using the count we got and the letter which lasts the process is the result.\n",
    "\n",
    "Counting is done in an anti-clockwise circular fashion.\n",
    "\n",
    "FLAMES \n",
    "\n",
    "Counting starts from F, E is at 5th count so we remove E and start counting again but this time starts, but from S. \n",
    "\n",
    "FLAMS \n",
    "\n",
    "M is at 5th count so we remove M and counting starts from S. \n",
    "\n",
    "FLAS \n",
    "\n",
    "S is at 5th count so we remove S and counting starts from F. \n",
    "\n",
    "FLA \n",
    "\n",
    "L is at 5th count so we remove L and counting starts from A. \n",
    "\n",
    "FA \n",
    "\n",
    "A is at 5th count so we remove A. now we have only one letter is remaining so this is the final answer. \n",
    "\n",
    "F \n",
    "\n",
    "So, the relationship is F i.e. Friends."
   ]
  },
  {
   "cell_type": "code",
   "execution_count": 1,
   "metadata": {
    "id": "Xu6LpGQHeCo_"
   },
   "outputs": [],
   "source": [
    "# function for removing common characters\n",
    "# with their respective occurrences\n",
    "def remove_match_char(list1, list2):\n",
    " \n",
    "    for i in range(len(list1)) :\n",
    "        for j in range(len(list2)) :\n",
    " \n",
    "            # if common character is found\n",
    "            # then remove that character\n",
    "            # and return list of concatenated\n",
    "            # list with True Flag\n",
    "            if list1[i] == list2[j] :\n",
    "                c = list1[i]\n",
    " \n",
    "                # remove character from the list\n",
    "                list1.remove(c)\n",
    "                list2.remove(c)\n",
    " \n",
    "                # concatenation of two list elements with *\n",
    "                # * is act as border mark here\n",
    "                list3 = list1 + [\"*\"] + list2\n",
    " \n",
    "                # return the concatenated list with True flag\n",
    "                return [list3, True]\n",
    " \n",
    "    # no common characters is found\n",
    "    # return the concatenated list with False flag\n",
    "    list3 = list1 + [\"*\"] + list2\n",
    "    return [list3, False] "
   ]
  }
 ],
 "metadata": {
  "colab": {
   "collapsed_sections": [],
   "include_colab_link": true,
   "name": "step 1 (flames game).ipynb",
   "provenance": []
  },
  "kernelspec": {
   "display_name": "Python 3 (ipykernel)",
   "language": "python",
   "name": "python3"
  },
  "language_info": {
   "codemirror_mode": {
    "name": "ipython",
    "version": 3
   },
   "file_extension": ".py",
   "mimetype": "text/x-python",
   "name": "python",
   "nbconvert_exporter": "python",
   "pygments_lexer": "ipython3",
   "version": "3.9.7"
  }
 },
 "nbformat": 4,
 "nbformat_minor": 1
}

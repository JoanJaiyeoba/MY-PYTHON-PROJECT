{
 "cells": [
  {
   "cell_type": "markdown",
   "id": "b0f5edcf",
   "metadata": {},
   "source": [
    "Objective\n",
    "Objective \n",
    "\n",
    "In this checkpoint, you will solve programming problems by creating objects \n",
    "\n",
    "Instructions\n",
    "Write a python class named Point3D defined by x, y, and z. Define a method that returns (x, y ,z). This tells Python to represent this object in the following format: (x, y, z). Then create a variable named my_point containing a new instance of Point3D with x=1, y=2, and z=3 and print it.\n",
    "Write a Python class named Rectangle constructed by a length and width. Define two methods area and perimeter which will compute the area and the perimeter of the rectangle. Then create a variable named my_rectangle containing a new instance of Rectangle with width=3 and length = 4 and compute both of area and perimeter ( the area is expected to be 3*4=12 and perimeter 2*(3+4)=14)\n",
    "Write a Python  class named Circle constructed by its center O and radius r. Define two methods area and perimeter which will compute the area and the perimeter of the circle, and isInside() method of the class which allows to test whether a point A(x, y) belongs to the circle C(O, r) or not.\n",
    "Suppose we want to model a bank account with support for deposit and withdraw operations. Let’s create a python class named bank defined by its balance. Define two methods deposit and withdraw to compute the new amount of each operation."
   ]
  },
  {
   "cell_type": "code",
   "execution_count": 1,
   "id": "39970e5c",
   "metadata": {},
   "outputs": [
    {
     "name": "stdout",
     "output_type": "stream",
     "text": [
      "Question 1\n",
      "1,2,3\n"
     ]
    }
   ],
   "source": [
    "print ('Question 1')  \n",
    "class Point3D():\n",
    "    def __init__(self,x,y,z):\n",
    "        self.x=x\n",
    "        self.y=y\n",
    "        self.z=z\n",
    "        \n",
    "    def method(self):\n",
    "        return '{},{},{}'.format(self.x,self.y,self.z)\n",
    "    \n",
    "\n",
    "my_point= Point3D(1,2,3)\n",
    "print (my_point.method())   #not sure why i need to input 1,2,3, again"
   ]
  },
  {
   "cell_type": "code",
   "execution_count": 4,
   "id": "63b880a1",
   "metadata": {},
   "outputs": [
    {
     "name": "stdout",
     "output_type": "stream",
     "text": [
      "Question 2\n",
      "Area = 12 cm²\n",
      "Perimeter = 14 cm\n"
     ]
    }
   ],
   "source": [
    "print('Question 2')\n",
    "class Rectangle():\n",
    "    def __init__(self, l, w):\n",
    "        self.length = l\n",
    "        self.width  = w\n",
    "\n",
    "    def area(self):\n",
    "        return self.length*self.width\n",
    "    def perimeter(self):\n",
    "        return (2*(self.length+self.width))\n",
    "\n",
    "my_Rectangle = Rectangle(4, 3)\n",
    "print('Area =', my_Rectangle.area() , 'cm\\u00b2' )    #dont know how to imput cm^2 unit  \n",
    "print('Perimeter =', my_Rectangle.perimeter() , 'cm') "
   ]
  },
  {
   "cell_type": "code",
   "execution_count": 2,
   "id": "2139d6a4",
   "metadata": {},
   "outputs": [
    {
     "name": "stdout",
     "output_type": "stream",
     "text": [
      "QUESTION 3\n",
      "I am the circle class and i have just been initialized.\n",
      "I am the circle class and i have just been initialized.\n",
      "Area =  78.53981633974483\n",
      "Circumference =  31.41592653589793\n"
     ]
    }
   ],
   "source": [
    "print ('QUESTION 3')\n",
    "import math\n",
    "class Circle():\n",
    "  \n",
    "    \n",
    "    def __init__(self,radius):\n",
    "        self._radius = radius\n",
    "        print(\"I am the circle class and i have just been initialized.\")\n",
    "    \n",
    "    def area(self):\n",
    "        return (math.pi*self._radius*self._radius)\n",
    "    def perimeter(self):\n",
    "        return 2*math.pi*self._radius\n",
    "    \n",
    "    def distance(self,a, b, x, y):\n",
    "        d = math.sqrt (self._radius**2 - ((x-a)^2 + (y-b)^2))\n",
    "        if (d>0): \n",
    "            print(\"The point is inside the circle\")\n",
    "        elif (d==0):\n",
    "            print(\"The point is on the circle's circumference\")\n",
    "        else:\n",
    "            print(\"The point is outside the circle\")\n",
    "    \n",
    "    \n",
    "center = Circle(5)            #first initialization\n",
    "another_center = Circle(10)   #second intiliazation \n",
    "print('Area = ',center.area())\n",
    "print ('Circumference = ', center.perimeter())"
   ]
  },
  {
   "cell_type": "code",
   "execution_count": 3,
   "id": "e4f7fb40",
   "metadata": {},
   "outputs": [
    {
     "name": "stdout",
     "output_type": "stream",
     "text": [
      "I am the circle class and i have just been initialized.\n"
     ]
    }
   ],
   "source": [
    "test_center = Circle(5)"
   ]
  },
  {
   "cell_type": "code",
   "execution_count": 4,
   "id": "6480c1c9",
   "metadata": {},
   "outputs": [
    {
     "name": "stdout",
     "output_type": "stream",
     "text": [
      "I am the circle class and i have just been initialized.\n"
     ]
    }
   ],
   "source": [
    "another_centre = Circle(10)"
   ]
  },
  {
   "cell_type": "code",
   "execution_count": 22,
   "id": "949b3135",
   "metadata": {
    "scrolled": true
   },
   "outputs": [
    {
     "data": {
      "text/plain": [
       "['__class__',\n",
       " '__delattr__',\n",
       " '__dict__',\n",
       " '__dir__',\n",
       " '__doc__',\n",
       " '__eq__',\n",
       " '__format__',\n",
       " '__ge__',\n",
       " '__getattribute__',\n",
       " '__gt__',\n",
       " '__hash__',\n",
       " '__init__',\n",
       " '__init_subclass__',\n",
       " '__le__',\n",
       " '__lt__',\n",
       " '__module__',\n",
       " '__ne__',\n",
       " '__new__',\n",
       " '__reduce__',\n",
       " '__reduce_ex__',\n",
       " '__repr__',\n",
       " '__setattr__',\n",
       " '__sizeof__',\n",
       " '__str__',\n",
       " '__subclasshook__',\n",
       " '__weakref__',\n",
       " 'area',\n",
       " 'distance',\n",
       " 'perimeter']"
      ]
     },
     "execution_count": 22,
     "metadata": {},
     "output_type": "execute_result"
    }
   ],
   "source": [
    "dir(Circle)"
   ]
  },
  {
   "cell_type": "code",
   "execution_count": 134,
   "id": "de4ee37f",
   "metadata": {},
   "outputs": [
    {
     "name": "stdout",
     "output_type": "stream",
     "text": [
      "Question 4\n",
      "Welcome to Deposit & Withdrawal Machine!\n",
      "\n",
      "Enter amount to be deposited : 1000000\n",
      "Amount deposited =  1000000.0\n",
      "\n",
      "Enter amount for withdrawal : 7000\n",
      "Amount withdrawn =  7000.0\n",
      "\n",
      "Net balance =  993000.0\n"
     ]
    }
   ],
   "source": [
    "print ('Question 4')\n",
    "class Bank_Account:\n",
    "    def __init__(self):\n",
    "        self.balance=0\n",
    "        print(\"Welcome to Deposit & Withdrawal Machine!\")\n",
    "        \n",
    "    def deposit(self):\n",
    "        amount = float(input('\\nEnter amount to be deposited : '))\n",
    "        self.balance += amount\n",
    "        print ('Amount deposited = ', amount)\n",
    "        \n",
    "    def withdraw(self):\n",
    "        amount = float(input('\\nEnter amount for withdrawal : '))\n",
    "        if self.balance>= amount:\n",
    "            self.balance -= amount\n",
    "            print ('Amount withdrawn = ', amount)\n",
    "        else:\n",
    "            print(\"Insufficient balance \")\n",
    "            \n",
    "    def display(self):               #need to learn how to display negative values \n",
    "            print ('\\nNet balance = ', self.balance)\n",
    "        \n",
    "account = Bank_Account()\n",
    "account.deposit()\n",
    "account.withdraw()\n",
    "account.display()"
   ]
  }
 ],
 "metadata": {
  "kernelspec": {
   "display_name": "Python 3 (ipykernel)",
   "language": "python",
   "name": "python3"
  },
  "language_info": {
   "codemirror_mode": {
    "name": "ipython",
    "version": 3
   },
   "file_extension": ".py",
   "mimetype": "text/x-python",
   "name": "python",
   "nbconvert_exporter": "python",
   "pygments_lexer": "ipython3",
   "version": "3.9.7"
  }
 },
 "nbformat": 4,
 "nbformat_minor": 5
}

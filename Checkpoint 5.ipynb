{
 "cells": [
  {
   "cell_type": "code",
   "execution_count": 106,
   "id": "39970e5c",
   "metadata": {},
   "outputs": [
    {
     "name": "stdout",
     "output_type": "stream",
     "text": [
      "Question 1\n",
      "1,2,3\n"
     ]
    }
   ],
   "source": [
    "print ('Question 1')  \n",
    "class Point3D():\n",
    "    def __init__(self,x,y,z):\n",
    "        self.x=x\n",
    "        self.y=y\n",
    "        self.z=z\n",
    "        \n",
    "    def method(self,x,y,z):\n",
    "        return '{},{},{}'.format(self.x,self.y,self.z)\n",
    "    \n",
    "\n",
    "my_point= Point3D(1,2,3)\n",
    "print (my_point.method(1,2,3))   #not sure why i need to input 1,2,3, again"
   ]
  },
  {
   "cell_type": "code",
   "execution_count": 109,
   "id": "63b880a1",
   "metadata": {},
   "outputs": [
    {
     "name": "stdout",
     "output_type": "stream",
     "text": [
      "Question 2\n",
      "Area = 12\n",
      "Perimeter = 14 cm\n"
     ]
    }
   ],
   "source": [
    "print('Question 2')\n",
    "class Rectangle():\n",
    "    def __init__(self, l, w):\n",
    "        self.length = l\n",
    "        self.width  = w\n",
    "\n",
    "    def area(self):\n",
    "        return self.length*self.width\n",
    "    def perimeter(self):\n",
    "        return (2*(self.length+self.width))\n",
    "\n",
    "my_Rectangle = Rectangle(4, 3)\n",
    "print('Area =', my_Rectangle.area())    #dont know how to imput cm^2 unit\n",
    "print('Perimeter =', my_Rectangle.perimeter() , 'cm')"
   ]
  },
  {
   "cell_type": "code",
   "execution_count": 110,
   "id": "87ff6d64",
   "metadata": {},
   "outputs": [
    {
     "name": "stdout",
     "output_type": "stream",
     "text": [
      "Question 3\n",
      "Area =  254.46900494077323\n",
      "Circumference =  56.548667764616276\n",
      "The point is inside the circle\n"
     ]
    }
   ],
   "source": [
    "print ('Question 3')   #unsure of process used\n",
    "class circle():\n",
    "  \n",
    "    import math\n",
    "    \n",
    "    def __init__(self,O,radius):\n",
    "        self.radius = r\n",
    "    \n",
    "    def area(self):\n",
    "        return (math.pi*self.radius**2)\n",
    "    def perimeter(self):\n",
    "        return 2*math.pi*self.radius\n",
    "    \n",
    "    \n",
    "center = circle(3,2)\n",
    "print('Area = ',center.area())\n",
    "print ('Circumference = ', center.perimeter())\n",
    "\n",
    "\n",
    "class circle(): \n",
    "    \n",
    "    def pointA(x,y):\n",
    "        x=4\n",
    "        y=5\n",
    "    d = r^2 - ((O-x)^2 + (r-y)^2)\n",
    "    if(d>0):\n",
    "        print(\"The point is inside the circle\")\n",
    "    elif (d==0):\n",
    "        print(\"The point is on the circle's circumference\")\n",
    "    else:\n",
    "        print(\"The point is outside the circle\")    \n",
    "\n"
   ]
  },
  {
   "cell_type": "code",
   "execution_count": 134,
   "id": "de4ee37f",
   "metadata": {},
   "outputs": [
    {
     "name": "stdout",
     "output_type": "stream",
     "text": [
      "Question 4\n",
      "Welcome to Deposit & Withdrawal Machine!\n",
      "\n",
      "Enter amount to be deposited : 1000000\n",
      "Amount deposited =  1000000.0\n",
      "\n",
      "Enter amount for withdrawal : 7000\n",
      "Amount withdrawn =  7000.0\n",
      "\n",
      "Net balance =  993000.0\n"
     ]
    }
   ],
   "source": [
    "print ('Question 4')\n",
    "class Bank_Account:\n",
    "    def __init__(self):\n",
    "        self.balance=0\n",
    "        print(\"Welcome to Deposit & Withdrawal Machine!\")\n",
    "        \n",
    "    def deposit(self):\n",
    "        amount = float(input('\\nEnter amount to be deposited : '))\n",
    "        self.balance += amount\n",
    "        print ('Amount deposited = ', amount)\n",
    "        \n",
    "    def withdraw(self):\n",
    "        amount = float(input('\\nEnter amount for withdrawal : '))\n",
    "        if self.balance>= amount:\n",
    "            self.balance -= amount\n",
    "            print ('Amount withdrawn = ', amount)\n",
    "        else:\n",
    "            print(\"Insufficient balance \")\n",
    "            \n",
    "    def display(self):               #need to learn how to display negative values \n",
    "            print ('\\nNet balance = ', self.balance)\n",
    "        \n",
    "account = Bank_Account()\n",
    "account.deposit()\n",
    "account.withdraw()\n",
    "account.display()"
   ]
  },
  {
   "cell_type": "code",
   "execution_count": null,
   "id": "390d2312",
   "metadata": {},
   "outputs": [],
   "source": []
  }
 ],
 "metadata": {
  "kernelspec": {
   "display_name": "Python 3 (ipykernel)",
   "language": "python",
   "name": "python3"
  },
  "language_info": {
   "codemirror_mode": {
    "name": "ipython",
    "version": 3
   },
   "file_extension": ".py",
   "mimetype": "text/x-python",
   "name": "python",
   "nbconvert_exporter": "python",
   "pygments_lexer": "ipython3",
   "version": "3.9.7"
  }
 },
 "nbformat": 4,
 "nbformat_minor": 5
}

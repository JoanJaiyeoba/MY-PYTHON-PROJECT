{
 "cells": [
  {
   "cell_type": "code",
   "execution_count": 6,
   "id": "f8043fc4",
   "metadata": {},
   "outputs": [
    {
     "name": "stdout",
     "output_type": "stream",
     "text": [
      "Hello world\n"
     ]
    }
   ],
   "source": [
    "print ('Hello world')"
   ]
  },
  {
   "cell_type": "code",
   "execution_count": 14,
   "id": "bf48951e",
   "metadata": {
    "scrolled": true
   },
   "outputs": [
    {
     "name": "stdout",
     "output_type": "stream",
     "text": [
      "1\n",
      "5\n",
      "9\n"
     ]
    }
   ],
   "source": [
    "i = 1 \n",
    "while i <= 10:\n",
    "    print (i)\n",
    "    i = i + 4    "
   ]
  },
  {
   "cell_type": "markdown",
   "id": "ba963e23",
   "metadata": {},
   "source": [
    "# Headline\n",
    "## Sub headline\n",
    "### Marker\n",
    "\n",
    "*text* \n",
    "**text**\n",
    "***text*** \n",
    "****text****\n",
    "\n",
    "More text\n"
   ]
  },
  {
   "cell_type": "code",
   "execution_count": 2,
   "id": "0afff9cc",
   "metadata": {},
   "outputs": [
    {
     "name": "stdout",
     "output_type": "stream",
     "text": [
      "clueless\n",
      "clueless\n",
      "clueless\n"
     ]
    }
   ],
   "source": [
    "x = y = z = \"clueless\"\n",
    "print (x)\n",
    "print (y)\n",
    "print (z)\n"
   ]
  },
  {
   "cell_type": "code",
   "execution_count": 9,
   "id": "df5b6e78",
   "metadata": {},
   "outputs": [
    {
     "name": "stdout",
     "output_type": "stream",
     "text": [
      "5\n",
      "3\n",
      "2\n"
     ]
    }
   ],
   "source": [
    "a,b,c = 5,3,2 \n",
    "print (a)\n",
    "print (b)\n",
    "print (c) \n"
   ]
  },
  {
   "cell_type": "code",
   "execution_count": 3,
   "id": "b2d0c2ef",
   "metadata": {
    "scrolled": true
   },
   "outputs": [
    {
     "name": "stdout",
     "output_type": "stream",
     "text": [
      "hello Joan 56\n",
      "Joan 56\n"
     ]
    }
   ],
   "source": [
    "a,b,c,d = \"hello\",\"I\",\"am\",\"Joan 56\"\n",
    "print (a,d)\n",
    "print (d)\n",
    "\n"
   ]
  },
  {
   "cell_type": "code",
   "execution_count": 18,
   "id": "ec864af9",
   "metadata": {},
   "outputs": [
    {
     "name": "stdout",
     "output_type": "stream",
     "text": [
      "welcome home\n"
     ]
    }
   ],
   "source": [
    "x=10 \n",
    "x= 'welcome home'\n",
    "print (x)\n"
   ]
  },
  {
   "cell_type": "code",
   "execution_count": 27,
   "id": "d2929621",
   "metadata": {},
   "outputs": [
    {
     "name": "stdout",
     "output_type": "stream",
     "text": [
      "31\n"
     ]
    }
   ],
   "source": [
    "x= int (18 + 13)\n",
    "print(x) "
   ]
  },
  {
   "cell_type": "code",
   "execution_count": 29,
   "id": "9b116216",
   "metadata": {},
   "outputs": [
    {
     "name": "stdout",
     "output_type": "stream",
     "text": [
      "31\n"
     ]
    }
   ],
   "source": [
    "x= (18 + 13)\n",
    "print(x) "
   ]
  },
  {
   "cell_type": "code",
   "execution_count": 30,
   "id": "a6999b4b",
   "metadata": {},
   "outputs": [
    {
     "name": "stdout",
     "output_type": "stream",
     "text": [
      "31\n"
     ]
    }
   ],
   "source": [
    "x= 18 + 13\n",
    "print(x) "
   ]
  },
  {
   "cell_type": "code",
   "execution_count": 19,
   "id": "baf17b03",
   "metadata": {},
   "outputs": [
    {
     "name": "stdout",
     "output_type": "stream",
     "text": [
      "<class 'int'>\n"
     ]
    }
   ],
   "source": [
    "x= 23\n",
    "print (type(x))"
   ]
  },
  {
   "cell_type": "code",
   "execution_count": 24,
   "id": "74f724af",
   "metadata": {},
   "outputs": [
    {
     "name": "stdout",
     "output_type": "stream",
     "text": [
      "<class 'str'>\n"
     ]
    }
   ],
   "source": [
    "x= 'joan_is_here'\n",
    "print (type(x))"
   ]
  },
  {
   "cell_type": "code",
   "execution_count": 25,
   "id": "77a28f2d",
   "metadata": {},
   "outputs": [
    {
     "name": "stdout",
     "output_type": "stream",
     "text": [
      "joan is here\n"
     ]
    }
   ],
   "source": [
    "x= 'joan is here'\n",
    "print (x)"
   ]
  },
  {
   "cell_type": "code",
   "execution_count": 26,
   "id": "ed6f4428",
   "metadata": {},
   "outputs": [
    {
     "name": "stdout",
     "output_type": "stream",
     "text": [
      "joan_is_here\n"
     ]
    }
   ],
   "source": [
    "x= 'joan_is_here'\n",
    "print (x)"
   ]
  },
  {
   "cell_type": "code",
   "execution_count": 36,
   "id": "8cdac246",
   "metadata": {},
   "outputs": [],
   "source": [
    "# change the function parameters if you need \n",
    "def test(a, b):\n",
    "  # write your code below this line \n",
    "  \n",
    "  x = int(a)\n",
    "  y = int(b)\n",
    "  \n",
    "  return ((x+12)**2-y**3) // 9  # write here the returned value of the function  \n",
    "  # Write your code above this line"
   ]
  },
  {
   "cell_type": "code",
   "execution_count": 37,
   "id": "5ce745eb",
   "metadata": {},
   "outputs": [
    {
     "data": {
      "text/plain": [
       "14"
      ]
     },
     "execution_count": 37,
     "metadata": {},
     "output_type": "execute_result"
    }
   ],
   "source": [
    "test (2,4)\n"
   ]
  },
  {
   "cell_type": "code",
   "execution_count": 38,
   "id": "b7b319a3",
   "metadata": {},
   "outputs": [
    {
     "name": "stdout",
     "output_type": "stream",
     "text": [
      "welcome to python\n"
     ]
    }
   ],
   "source": [
    "_my_string = 'welcome to python'\n",
    "print (_my_string)"
   ]
  },
  {
   "cell_type": "code",
   "execution_count": 41,
   "id": "4d8163b7",
   "metadata": {},
   "outputs": [
    {
     "name": "stdout",
     "output_type": "stream",
     "text": [
      "1st letter = w\n"
     ]
    }
   ],
   "source": [
    "_my_string = 'welcome to python'\n",
    "print ('1st letter =', _my_string [0] )"
   ]
  },
  {
   "cell_type": "code",
   "execution_count": 42,
   "id": "bb515d65",
   "metadata": {},
   "outputs": [
    {
     "name": "stdout",
     "output_type": "stream",
     "text": [
      "last letter = n\n"
     ]
    }
   ],
   "source": [
    "_my_string = 'welcome to python'\n",
    "print ('last letter =', _my_string [-1] )"
   ]
  },
  {
   "cell_type": "code",
   "execution_count": 44,
   "id": "fbd8d49b",
   "metadata": {},
   "outputs": [
    {
     "name": "stdout",
     "output_type": "stream",
     "text": [
      "2nd letter = e\n"
     ]
    }
   ],
   "source": [
    "_my_string = 'welcome to python'\n",
    "print ('2nd letter =', _my_string [1] )"
   ]
  },
  {
   "cell_type": "code",
   "execution_count": 48,
   "id": "c5bada92",
   "metadata": {},
   "outputs": [
    {
     "name": "stdout",
     "output_type": "stream",
     "text": [
      "3rd last letter = h\n"
     ]
    }
   ],
   "source": [
    "_my_string = 'welcome to python'\n",
    "print ('3rd last letter =', _my_string [-3] )"
   ]
  },
  {
   "cell_type": "code",
   "execution_count": 51,
   "id": "e28a9d98",
   "metadata": {},
   "outputs": [
    {
     "name": "stdout",
     "output_type": "stream",
     "text": [
      "_my_string [1:6]= elcom\n"
     ]
    }
   ],
   "source": [
    "_my_string = 'welcome to python'\n",
    "print ('_my_string [1:6]=', _my_string [1:6] )"
   ]
  },
  {
   "cell_type": "code",
   "execution_count": 52,
   "id": "44185695",
   "metadata": {},
   "outputs": [
    {
     "name": "stdout",
     "output_type": "stream",
     "text": [
      "_my_string [3:-4]= come to py\n"
     ]
    }
   ],
   "source": [
    "_my_string = 'welcome to python'\n",
    "print ('_my_string [3:-4]=', _my_string [3:-4] )"
   ]
  },
  {
   "cell_type": "code",
   "execution_count": 56,
   "id": "989ea611",
   "metadata": {},
   "outputs": [
    {
     "name": "stdout",
     "output_type": "stream",
     "text": [
      "str1 + str2 + int1 =  Welcome to coding world !404\n"
     ]
    }
   ],
   "source": [
    "str1 = \"Welcome to \"\n",
    "str2 =\"coding world !\"\n",
    "int1 = '404'\n",
    "print(\"str1 + str2 + int1 = \", str1 + str2 + int1) "
   ]
  },
  {
   "cell_type": "code",
   "execution_count": 71,
   "id": "c80f22b9",
   "metadata": {},
   "outputs": [
    {
     "name": "stdout",
     "output_type": "stream",
     "text": [
      "27\n"
     ]
    }
   ],
   "source": [
    "my_string = \"welcome to my coding world!\"\n",
    "print(len(my_string))   "
   ]
  },
  {
   "cell_type": "code",
   "execution_count": 73,
   "id": "883d156b",
   "metadata": {},
   "outputs": [],
   "source": [
    "def test2 (str1, str2):\n",
    "    return str1[0:4] + str2[0:3]\n",
    "    "
   ]
  },
  {
   "cell_type": "code",
   "execution_count": 76,
   "id": "4c1d608d",
   "metadata": {},
   "outputs": [
    {
     "data": {
      "text/plain": [
       "'codiwor'"
      ]
     },
     "execution_count": 76,
     "metadata": {},
     "output_type": "execute_result"
    }
   ],
   "source": [
    "test2 ('coding','world')"
   ]
  },
  {
   "cell_type": "code",
   "execution_count": 78,
   "id": "5f725dd8",
   "metadata": {},
   "outputs": [
    {
     "data": {
      "text/plain": [
       "29"
      ]
     },
     "execution_count": 78,
     "metadata": {},
     "output_type": "execute_result"
    }
   ],
   "source": [
    "test (10,6)"
   ]
  },
  {
   "cell_type": "code",
   "execution_count": 79,
   "id": "e38b5ecd",
   "metadata": {},
   "outputs": [
    {
     "data": {
      "text/plain": [
       "'JoanJai'"
      ]
     },
     "execution_count": 79,
     "metadata": {},
     "output_type": "execute_result"
    }
   ],
   "source": [
    "test2 ('Joan', 'Jaiyeoba')"
   ]
  },
  {
   "cell_type": "code",
   "execution_count": 81,
   "id": "fcdee37c",
   "metadata": {},
   "outputs": [
    {
     "name": "stdout",
     "output_type": "stream",
     "text": [
      "11\n"
     ]
    }
   ],
   "source": [
    "str1 = 'welcomehome'\n",
    "print(len(str1))"
   ]
  },
  {
   "cell_type": "code",
   "execution_count": 2,
   "id": "6091f95c",
   "metadata": {},
   "outputs": [
    {
     "name": "stdout",
     "output_type": "stream",
     "text": [
      "2\n"
     ]
    }
   ],
   "source": [
    "great = 1+1\n",
    "print (great)"
   ]
  },
  {
   "cell_type": "code",
   "execution_count": 12,
   "id": "cdd3552e",
   "metadata": {},
   "outputs": [
    {
     "name": "stdout",
     "output_type": "stream",
     "text": [
      "x is a positive number\n"
     ]
    }
   ],
   "source": [
    "x = 16 \n",
    "\n",
    "if x > 0:\n",
    "    print ('x is a positive number')\n",
    "\n"
   ]
  },
  {
   "cell_type": "code",
   "execution_count": 13,
   "id": "d8f0b8af",
   "metadata": {},
   "outputs": [
    {
     "name": "stdout",
     "output_type": "stream",
     "text": [
      "Negative number\n"
     ]
    }
   ],
   "source": [
    "num = -55\n",
    "if num >= 0: \n",
    "    print(\"Positive or Zero\")  \n",
    "else:\n",
    "    print(\"Negative number\") "
   ]
  },
  {
   "cell_type": "code",
   "execution_count": 15,
   "id": "c7048719",
   "metadata": {},
   "outputs": [
    {
     "name": "stdout",
     "output_type": "stream",
     "text": [
      "Positive or Zero\n"
     ]
    }
   ],
   "source": [
    "num = 153\n",
    "if num >= 0: \n",
    "    print(\"Positive or Zero\")  \n",
    "else:\n",
    "    print(\"Negative number\") "
   ]
  },
  {
   "cell_type": "code",
   "execution_count": 4,
   "id": "f25a8905",
   "metadata": {},
   "outputs": [
    {
     "name": "stdout",
     "output_type": "stream",
     "text": [
      "Good evening\n"
     ]
    }
   ],
   "source": [
    "x=19\n",
    "\n",
    "if x < 10:\n",
    "    print (\"Good morning\")\n",
    "elif x<12: \n",
    "    print (\"Soon time for lunch\")\n",
    "\n",
    "elif x<18: \n",
    "    print (\"Good day\")\n",
    "\n",
    "elif x<22: \n",
    "    print (\"Good evening\")\n",
    "\n",
    "else: \n",
    "    print (\"Good night\")\n",
    "         "
   ]
  },
  {
   "cell_type": "code",
   "execution_count": 4,
   "id": "0ccf81b5",
   "metadata": {},
   "outputs": [
    {
     "name": "stdout",
     "output_type": "stream",
     "text": [
      "Negative\n"
     ]
    }
   ],
   "source": [
    "num = -55\n",
    "if num > 0:\n",
    "    print ('positive')\n",
    "elif num == 0: \n",
    "    print(\"Zero\")  \n",
    "else:\n",
    "    print(\"Negative\") "
   ]
  },
  {
   "cell_type": "code",
   "execution_count": 21,
   "id": "ea299bcf",
   "metadata": {},
   "outputs": [
    {
     "name": "stdout",
     "output_type": "stream",
     "text": [
      "x is True\n"
     ]
    }
   ],
   "source": [
    "x = (2>5) == (3==6)\n",
    "if x :\n",
    "    print('x is True')\n",
    "else:\n",
    "    print('x is not True')"
   ]
  },
  {
   "cell_type": "code",
   "execution_count": 27,
   "id": "877069ab",
   "metadata": {},
   "outputs": [
    {
     "name": "stdout",
     "output_type": "stream",
     "text": [
      "X= odd number\n"
     ]
    }
   ],
   "source": [
    "x= 5\n",
    "if x==2:\n",
    "    print ('x is an even number')\n",
    "elif x==4:\n",
    "    print ('x is an even number')\n",
    "elif x==6:\n",
    "    print ('x is an even number') \n",
    "elif x==8:\n",
    "    print ('x is an even number') \n",
    "elif x==10:\n",
    "    print ('x is an even number')\n",
    "else: \n",
    "    print ('X=', 'odd number') "
   ]
  },
  {
   "cell_type": "code",
   "execution_count": 30,
   "id": "a179dd0c",
   "metadata": {},
   "outputs": [
    {
     "name": "stdout",
     "output_type": "stream",
     "text": [
      "positive number\n"
     ]
    }
   ],
   "source": [
    "num = 16 \n",
    "if num < 0:\n",
    "    print ('negative number')\n",
    "else:\n",
    "    print ('positive number')"
   ]
  },
  {
   "cell_type": "code",
   "execution_count": 31,
   "id": "3408dc99",
   "metadata": {},
   "outputs": [
    {
     "name": "stdout",
     "output_type": "stream",
     "text": [
      "6\n",
      "5\n",
      "3\n",
      "8\n",
      "4\n",
      "2\n",
      "5\n",
      "4\n",
      "11\n",
      "the for ends here\n"
     ]
    }
   ],
   "source": [
    "numbers = [6, 5, 3, 8, 4, 2, 5, 4, 11]\n",
    "for val in numbers: # iterate over the list\n",
    "\tprint(val)\n",
    "print(\"the for ends here\")"
   ]
  },
  {
   "cell_type": "code",
   "execution_count": 32,
   "id": "65cd549e",
   "metadata": {},
   "outputs": [
    {
     "name": "stdout",
     "output_type": "stream",
     "text": [
      "0\n",
      "1\n",
      "2\n",
      "3\n",
      "4\n"
     ]
    }
   ],
   "source": [
    "for i in range(5):\n",
    "    print(i)"
   ]
  },
  {
   "cell_type": "code",
   "execution_count": 36,
   "id": "04f3bb75",
   "metadata": {},
   "outputs": [
    {
     "name": "stdout",
     "output_type": "stream",
     "text": [
      "range(3, 101, 3)\n"
     ]
    }
   ],
   "source": [
    "a= range(3,101,3)\n",
    "print (a)"
   ]
  },
  {
   "cell_type": "code",
   "execution_count": 37,
   "id": "a5055739",
   "metadata": {},
   "outputs": [
    {
     "data": {
      "text/plain": [
       "range(0, 5)"
      ]
     },
     "execution_count": 37,
     "metadata": {},
     "output_type": "execute_result"
    }
   ],
   "source": [
    "range (5)"
   ]
  },
  {
   "cell_type": "code",
   "execution_count": 43,
   "id": "f17a8b70",
   "metadata": {},
   "outputs": [
    {
     "name": "stdout",
     "output_type": "stream",
     "text": [
      "3\n",
      "6\n",
      "9\n",
      "12\n",
      "15\n",
      "18\n",
      "21\n",
      "24\n",
      "27\n",
      "30\n",
      "33\n",
      "36\n",
      "39\n",
      "42\n",
      "45\n",
      "48\n",
      "51\n",
      "54\n",
      "57\n",
      "60\n",
      "63\n",
      "66\n",
      "69\n",
      "72\n",
      "75\n",
      "78\n",
      "81\n",
      "84\n",
      "87\n",
      "90\n",
      "93\n",
      "96\n",
      "99\n"
     ]
    }
   ],
   "source": [
    "for b in range(3,101,3): \n",
    "    print (b)"
   ]
  },
  {
   "cell_type": "code",
   "execution_count": 1,
   "id": "5e07e466",
   "metadata": {
    "scrolled": true
   },
   "outputs": [
    {
     "name": "stdout",
     "output_type": "stream",
     "text": [
      "6\n",
      "5\n",
      "4\n",
      "3\n",
      "2\n"
     ]
    }
   ],
   "source": [
    "n= 7\n",
    "while n> 2:\n",
    "    n = n-1\n",
    "    print (n)\n"
   ]
  },
  {
   "cell_type": "markdown",
   "id": "d340c03e",
   "metadata": {},
   "source": [
    "MUTABLE: it is when something is changeable or has the ability to change. \n",
    "In Python, 'mutable' is the ability of objects to change their values. \n",
    "These are often the objects that store a collection of data.\n",
    "Immutable data types are those that can never change their value in place\n",
    "\n",
    "ORDERED: When we say that lists are ordered, it means that the items have a defined order, and that order will not change. \n",
    "If you add new items to a list, the new items will be placed at the end of the list.\n",
    "\n",
    "INDEXED: is the postion of an item in a data type. Unindexed means, we cannot access the elements of a set using the indexes like we can do in list and tuples.\n",
    "Note that dictionaries are unordered - since the values in the dictionary are indexed by keys, they are not held in any particular order, \n",
    "unlike a list, where each item can be located by its position in the list.\n",
    "\n",
    "DUPLICATE MEMBERS: this is whether or not data types accept duplicate members\n",
    "    "
   ]
  },
  {
   "cell_type": "markdown",
   "id": "3282290e",
   "metadata": {},
   "source": [
    "There are four collection data types in the Python programming language:\n",
    "\n",
    "List is a collection which is ordered, indexed, and changeable. Allows duplicate members.\n",
    "\n",
    "Tuple is a collection which is ordered, indexed, and unchangeable. Allows duplicate members. \n",
    "\n",
    "Set is a collection which is unordered, changeable, and unindexed. No duplicate members. \n",
    "\n",
    "Dictionary is a collection which is unordered** , indexed, and changeable. No duplicate members.\n",
    "\n",
    "**As of Python version 3.7, dictionaries are ordered. In Python 3.6 and earlier, dictionaries are unordered. \n",
    "\n",
    "Python dictionaries are an unordered collection of objects that holds value in a key-value structure. \n",
    "The key should be unique and must be an immutable object like a number, strings, and tuples. \n",
    "The values can be any Python object."
   ]
  },
  {
   "cell_type": "code",
   "execution_count": 2,
   "id": "9d500221",
   "metadata": {},
   "outputs": [
    {
     "name": "stdout",
     "output_type": "stream",
     "text": [
      "Hello Geek! Are you enjoying being at Geeks for Geeks for preparations.\n"
     ]
    }
   ],
   "source": [
    "# declaring a string variable\n",
    "var1 = \"Geek!\"\n",
    "var2 = \"Geeks for Geeks\"\n",
    "  \n",
    "# append multiple strings within a string\n",
    "print(\"Hello %s Are you enjoying being at %s for preparations.\" % (var1, var2))"
   ]
  },
  {
   "cell_type": "code",
   "execution_count": 3,
   "id": "82bcdf34",
   "metadata": {},
   "outputs": [
    {
     "name": "stdout",
     "output_type": "stream",
     "text": [
      "Hello Geek! Are you enjoying being at here for preparations.\n"
     ]
    }
   ],
   "source": [
    "# declaring a string variable\n",
    "var1 = \"Geek!\"\n",
    "var2 = \"Geeks for Geeks\"\n",
    "var3 = 'here'\n",
    "  \n",
    "# append multiple strings within a string\n",
    "print(\"Hello %s Are you enjoying being at %s for preparations.\" % (var1, var3))"
   ]
  },
  {
   "cell_type": "code",
   "execution_count": 6,
   "id": "c27fa4c8",
   "metadata": {},
   "outputs": [
    {
     "name": "stdout",
     "output_type": "stream",
     "text": [
      "Concatenating multiple strings using Python '%s' operator:\n",
      "\n",
      "Understanding at GeeksforGeeks \n"
     ]
    }
   ],
   "source": [
    "# declaring string variables\n",
    "str1 = 'Understanding'\n",
    "str2 = '%s'\n",
    "str3 = 'at'\n",
    "str4 = 'GeeksforGeeks'\n",
    "  \n",
    "# concatenating strings\n",
    "final_str = \"%s %s %s \" % (str1, str3, str4)\n",
    "  \n",
    "# printing the final string\n",
    "print(\"Concatenating multiple strings using Python '%s' operator:\\n\")\n",
    "print(final_str)"
   ]
  },
  {
   "cell_type": "code",
   "execution_count": 8,
   "id": "7fc025d9",
   "metadata": {},
   "outputs": [
    {
     "name": "stdout",
     "output_type": "stream",
     "text": [
      "Concatenating multiple strings using Python '%s' operator:\n",
      "\n",
      "Understanding at at GeeksforGeeks\n"
     ]
    }
   ],
   "source": [
    "# declaring string variables with dictionary\n",
    "dct = {'str1': 'at',\n",
    "       'str2': 'GeeksforGeeks',\n",
    "       'str3': 'Understanding',\n",
    "       'str4': '%s'}\n",
    "  \n",
    "# concatenating strings\n",
    "final_str = \"%(str3)s %(str1)s %(str1)s %(str2)s\" % dct\n",
    "  \n",
    "# printing the final string\n",
    "print(\"Concatenating multiple strings using Python '%s' operator:\\n\")\n",
    "print(final_str)"
   ]
  },
  {
   "cell_type": "code",
   "execution_count": 13,
   "id": "11c211ce",
   "metadata": {},
   "outputs": [
    {
     "name": "stdout",
     "output_type": "stream",
     "text": [
      "Concatenating multiple values using Python '%s' operator:\n",
      "\n",
      "Understanding integers at GeeksforGeeks =  ['part 1', 'part 2', 'part 3']\n"
     ]
    }
   ],
   "source": [
    "# declaring string variables\n",
    "str1 = 'Understanding'\n",
    "str2 = 'integers'\n",
    "str3 = 'at'\n",
    "str4 = 'GeeksforGeeks = '\n",
    "  \n",
    "# declaring list variables\n",
    "version = ['part 1', 'part 2', 'part 3']\n",
    "  \n",
    "# concatenating strings as well as list\n",
    "final_str = \"%s %s %s %s %s\" % (str1, str2, str3, str4, version)\n",
    "  \n",
    "# printing the final string\n",
    "print(\"Concatenating multiple values using Python '%s' operator:\\n\")\n",
    "print(final_str)"
   ]
  },
  {
   "cell_type": "markdown",
   "id": "0313adaa",
   "metadata": {},
   "source": [
    "### CHECKPOINT 2 (1-7)"
   ]
  },
  {
   "cell_type": "code",
   "execution_count": 2,
   "id": "3b0d26b6",
   "metadata": {},
   "outputs": [
    {
     "name": "stdout",
     "output_type": "stream",
     "text": [
      "QUESTION 1\n",
      "enter firts name:Joan\n",
      "enter last name:Jaiyeoba\n",
      "Jaiyeoba Joan\n"
     ]
    }
   ],
   "source": [
    "print ('QUESTION 1')\n",
    "first_name = input('enter firts name:')\n",
    "last_name = input ('enter last name:')\n",
    "print (last_name + ' ' + first_name)"
   ]
  },
  {
   "cell_type": "code",
   "execution_count": 1,
   "id": "3cbd088c",
   "metadata": {},
   "outputs": [
    {
     "name": "stdout",
     "output_type": "stream",
     "text": [
      "QUESTION  2\n",
      "Input an integer : 4\n",
      "Answer =  492\n"
     ]
    }
   ],
   "source": [
    "print (\"QUESTION  2\")\n",
    "a = int(input(\"Input an integer : \"))\n",
    "n1 = int( \"%s\" % a )\n",
    "n2 = int( \"%s%s\" % (a,a) )\n",
    "n3 = int( \"%s%s%s\" % (a,a,a) )\n",
    "print (\"Answer = \", n1+n2+n3) \n"
   ]
  },
  {
   "cell_type": "code",
   "execution_count": 5,
   "id": "e2eccd12",
   "metadata": {},
   "outputs": [
    {
     "name": "stdout",
     "output_type": "stream",
     "text": [
      "QUESTION 3\n",
      "Input a number (x): 3456\n",
      "x is an even number\n"
     ]
    }
   ],
   "source": [
    "print ('QUESTION 3')\n",
    "x = int(input('Input a number (x): '))\n",
    "if x%2 == 0:\n",
    "    print (\"x is an even number\")\n",
    "else:\n",
    "    print ('x is an odd number')"
   ]
  },
  {
   "cell_type": "markdown",
   "id": "499bfe27",
   "metadata": {},
   "source": [
    "##### QUESTION 4 METHODS "
   ]
  },
  {
   "cell_type": "code",
   "execution_count": 14,
   "id": "9151a42e",
   "metadata": {},
   "outputs": [
    {
     "name": "stdout",
     "output_type": "stream",
     "text": [
      "2002,2009,2016,2023,2037,2044,2051,2058,2072,2079,2086,2093,2107,2114,2121,2128,2142,2149,2156,2163,2177,2184,2191,2198,2212,2219,2226,2233,2247,2254,2261,2268,2282,2289,2296,2303,2317,2324,2331,2338,2352,2359,2366,2373,2387,2394,2401,2408,2422,2429,2436,2443,2457,2464,2471,2478,2492,2499,2506,2513,2527,2534,2541,2548,2562,2569,2576,2583,2597,2604,2611,2618,2632,2639,2646,2653,2667,2674,2681,2688,2702,2709,2716,2723,2737,2744,2751,2758,2772,2779,2786,2793,2807,2814,2821,2828,2842,2849,2856,2863,2877,2884,2891,2898,2912,2919,2926,2933,2947,2954,2961,2968,2982,2989,2996,3003,3017,3024,3031,3038,3052,3059,3066,3073,3087,3094,3101,3108,3122,3129,3136,3143,3157,3164,3171,3178,3192,3199\n"
     ]
    }
   ],
   "source": [
    "nl=[]\n",
    "for x in range(2000, 3201):\n",
    "    if (x%7==0) and not (x%5==0):\n",
    "        nl.append(str(x))\n",
    "print (','.join(nl))\n"
   ]
  },
  {
   "cell_type": "code",
   "execution_count": 12,
   "id": "0d52642f",
   "metadata": {},
   "outputs": [
    {
     "name": "stdout",
     "output_type": "stream",
     "text": [
      "2002 2009 2016 2023 2037 2044 2051 2058 2072 2079 2086 2093 2107 2114 2121 2128 2142 2149 2156 2163 2177 2184 2191 2198 2212 2219 2226 2233 2247 2254 2261 2268 2282 2289 2296 2303 2317 2324 2331 2338 2352 2359 2366 2373 2387 2394 2401 2408 2422 2429 2436 2443 2457 2464 2471 2478 2492 2499 2506 2513 2527 2534 2541 2548 2562 2569 2576 2583 2597 2604 2611 2618 2632 2639 2646 2653 2667 2674 2681 2688 2702 2709 2716 2723 2737 2744 2751 2758 2772 2779 2786 2793 2807 2814 2821 2828 2842 2849 2856 2863 2877 2884 2891 2898 2912 2919 2926 2933 2947 2954 2961 2968 2982 2989 2996 3003 3017 3024 3031 3038 3052 3059 3066 3073 3087 3094 3101 3108 3122 3129 3136 3143 3157 3164 3171 3178 3192 3199 "
     ]
    }
   ],
   "source": [
    "import math \n",
    " \n",
    "lower = math.ceil(2000 / 7) \n",
    "upper = math.floor(3201 / 7) \n",
    "for i in range(lower, upper+1): \n",
    "    if (7 * i) % 5 != 0: \n",
    "        print(7 * i, end =' ') \n",
    "    else: \n",
    "        continue "
   ]
  },
  {
   "cell_type": "code",
   "execution_count": 13,
   "id": "f32fe955",
   "metadata": {},
   "outputs": [
    {
     "name": "stdout",
     "output_type": "stream",
     "text": [
      "2002\n",
      "2009\n",
      "2016\n",
      "2023\n",
      "2037\n",
      "2044\n",
      "2051\n",
      "2058\n",
      "2072\n",
      "2079\n",
      "2086\n",
      "2093\n",
      "2107\n",
      "2114\n",
      "2121\n",
      "2128\n",
      "2142\n",
      "2149\n",
      "2156\n",
      "2163\n",
      "2177\n",
      "2184\n",
      "2191\n",
      "2198\n",
      "2212\n",
      "2219\n",
      "2226\n",
      "2233\n",
      "2247\n",
      "2254\n",
      "2261\n",
      "2268\n",
      "2282\n",
      "2289\n",
      "2296\n",
      "2303\n",
      "2317\n",
      "2324\n",
      "2331\n",
      "2338\n",
      "2352\n",
      "2359\n",
      "2366\n",
      "2373\n",
      "2387\n",
      "2394\n",
      "2401\n",
      "2408\n",
      "2422\n",
      "2429\n",
      "2436\n",
      "2443\n",
      "2457\n",
      "2464\n",
      "2471\n",
      "2478\n",
      "2492\n",
      "2499\n",
      "2506\n",
      "2513\n",
      "2527\n",
      "2534\n",
      "2541\n",
      "2548\n",
      "2562\n",
      "2569\n",
      "2576\n",
      "2583\n",
      "2597\n",
      "2604\n",
      "2611\n",
      "2618\n",
      "2632\n",
      "2639\n",
      "2646\n",
      "2653\n",
      "2667\n",
      "2674\n",
      "2681\n",
      "2688\n",
      "2702\n",
      "2709\n",
      "2716\n",
      "2723\n",
      "2737\n",
      "2744\n",
      "2751\n",
      "2758\n",
      "2772\n",
      "2779\n",
      "2786\n",
      "2793\n",
      "2807\n",
      "2814\n",
      "2821\n",
      "2828\n",
      "2842\n",
      "2849\n",
      "2856\n",
      "2863\n",
      "2877\n",
      "2884\n",
      "2891\n",
      "2898\n",
      "2912\n",
      "2919\n",
      "2926\n",
      "2933\n",
      "2947\n",
      "2954\n",
      "2961\n",
      "2968\n",
      "2982\n",
      "2989\n",
      "2996\n",
      "3003\n",
      "3017\n",
      "3024\n",
      "3031\n",
      "3038\n",
      "3052\n",
      "3059\n",
      "3066\n",
      "3073\n",
      "3087\n",
      "3094\n",
      "3101\n",
      "3108\n",
      "3122\n",
      "3129\n",
      "3136\n",
      "3143\n",
      "3157\n",
      "3164\n",
      "3171\n",
      "3178\n",
      "3192\n",
      "3199\n"
     ]
    }
   ],
   "source": [
    "for x in range (2000,3201):\n",
    "    if x%7 == 0 and x%5 != 0:\n",
    "        print (x)    # answer wouldnt be displayed vertically"
   ]
  },
  {
   "cell_type": "code",
   "execution_count": 19,
   "id": "0b4ff47b",
   "metadata": {},
   "outputs": [
    {
     "name": "stdout",
     "output_type": "stream",
     "text": [
      "2002 2009 2016 2023 2037 2044 2051 2058 2072 2079 2086 2093 2107 2114 2121 2128 2142 2149 2156 2163 2177 2184 2191 2198 2212 2219 2226 2233 2247 2254 2261 2268 2282 2289 2296 2303 2317 2324 2331 2338 2352 2359 2366 2373 2387 2394 2401 2408 2422 2429 2436 2443 2457 2464 2471 2478 2492 2499 2506 2513 2527 2534 2541 2548 2562 2569 2576 2583 2597 2604 2611 2618 2632 2639 2646 2653 2667 2674 2681 2688 2702 2709 2716 2723 2737 2744 2751 2758 2772 2779 2786 2793 2807 2814 2821 2828 2842 2849 2856 2863 2877 2884 2891 2898 2912 2919 2926 2933 2947 2954 2961 2968 2982 2989 2996 3003 3017 3024 3031 3038 3052 3059 3066 3073 3087 3094 3101 3108 3122 3129 3136 3143 3157 3164 3171 3178 3192 3199 "
     ]
    }
   ],
   "source": [
    "for x in range (2000,3201):\n",
    "    if x%7 == 0 and x%5 != 0:\n",
    "        print (x, end=' ')"
   ]
  },
  {
   "cell_type": "code",
   "execution_count": 56,
   "id": "0df9688d",
   "metadata": {},
   "outputs": [
    {
     "name": "stdout",
     "output_type": "stream",
     "text": [
      "[2002, 2009, 2016, 2023, 2037, 2044, 2051, 2058, 2072, 2079, 2086, 2093, 2107, 2114, 2121, 2128, 2142, 2149, 2156, 2163, 2177, 2184, 2191, 2198, 2212, 2219, 2226, 2233, 2247, 2254, 2261, 2268, 2282, 2289, 2296, 2303, 2317, 2324, 2331, 2338, 2352, 2359, 2366, 2373, 2387, 2394, 2401, 2408, 2422, 2429, 2436, 2443, 2457, 2464, 2471, 2478, 2492, 2499, 2506, 2513, 2527, 2534, 2541, 2548, 2562, 2569, 2576, 2583, 2597, 2604, 2611, 2618, 2632, 2639, 2646, 2653, 2667, 2674, 2681, 2688, 2702, 2709, 2716, 2723, 2737, 2744, 2751, 2758, 2772, 2779, 2786, 2793, 2807, 2814, 2821, 2828, 2842, 2849, 2856, 2863, 2877, 2884, 2891, 2898, 2912, 2919, 2926, 2933, 2947, 2954, 2961, 2968, 2982, 2989, 2996, 3003, 3017, 3024, 3031, 3038, 3052, 3059, 3066, 3073, 3087, 3094, 3101, 3108, 3122, 3129, 3136, 3143, 3157, 3164, 3171, 3178, 3192, 3199]\n"
     ]
    }
   ],
   "source": [
    "b = []\n",
    "for x in range (2000,3201):\n",
    "    if x%7 == 0 and x%5 != 0:\n",
    "        b.append(x)\n",
    "print (b)    "
   ]
  },
  {
   "cell_type": "code",
   "execution_count": 2,
   "id": "11aedef5",
   "metadata": {},
   "outputs": [
    {
     "name": "stdout",
     "output_type": "stream",
     "text": [
      "QUESTION 5\n",
      "Input a number to compute the factiorial : 9\n",
      "362880\n"
     ]
    }
   ],
   "source": [
    "print ('QUESTION 5')\n",
    "n = int(input(\"Input a number to compute the factiorial : \"))\n",
    "def factorial(n):\n",
    "    if n == 0:\n",
    "        return 1\n",
    "    else:\n",
    "        return n * factorial(n-1)\n",
    "print(factorial(n))"
   ]
  },
  {
   "cell_type": "code",
   "execution_count": 1,
   "id": "4f951b37",
   "metadata": {},
   "outputs": [
    {
     "name": "stdout",
     "output_type": "stream",
     "text": [
      "QUESTION 6\n",
      "hlota\n"
     ]
    }
   ],
   "source": [
    "print ('QUESTION 6')\n",
    "def odd_values_string(str):\n",
    "    result = ''\n",
    "    for i in range(len(str)):\n",
    "        if i % 2 == 0:\n",
    "            result = result + str[i]\n",
    "    return result \n",
    "        \n",
    "print (odd_values_string ('hello team'))"
   ]
  },
  {
   "cell_type": "code",
   "execution_count": 2,
   "id": "7e8e5acb",
   "metadata": {},
   "outputs": [
    {
     "name": "stdout",
     "output_type": "stream",
     "text": [
      "QUESTION 7\n",
      "Price : 347\n",
      "242.9\n"
     ]
    }
   ],
   "source": [
    "print ('QUESTION 7')\n",
    "x = float(input('Price : '))\n",
    "if x >= 500:\n",
    "    print (float(x- (0.5 * x)))\n",
    "elif x>=200 and x<500:\n",
    "    print (float(x- (0.3 * x)))\n",
    "elif x<200:\n",
    "    print (float(x- (0.1 * x)))\n"
   ]
  },
  {
   "cell_type": "code",
   "execution_count": 3,
   "id": "763ba2de",
   "metadata": {},
   "outputs": [
    {
     "name": "stdout",
     "output_type": "stream",
     "text": [
      "python\n"
     ]
    }
   ],
   "source": [
    "my_list = [\"python\", \"java\", \"SQL\",\"R\", \"SAS\", \"C++\", \"php\", \"html\"]\n",
    "print (my_list[0])"
   ]
  },
  {
   "cell_type": "code",
   "execution_count": 4,
   "id": "a63b88d1",
   "metadata": {},
   "outputs": [
    {
     "name": "stdout",
     "output_type": "stream",
     "text": [
      "php\n"
     ]
    }
   ],
   "source": [
    "my_list = [\"python\", \"java\", \"SQL\",\"R\", \"SAS\", \"C++\", \"php\", \"html\"]\n",
    "print (my_list[-2])"
   ]
  },
  {
   "cell_type": "code",
   "execution_count": 7,
   "id": "2c84186a",
   "metadata": {},
   "outputs": [
    {
     "name": "stdout",
     "output_type": "stream",
     "text": [
      "SQL\n"
     ]
    }
   ],
   "source": [
    "my_list = [\"python\", \"java\", \"SQL\",\"R\", \"SAS\", \"C++\", \"php\", \"html\"]\n",
    "print (my_list[2])"
   ]
  },
  {
   "cell_type": "code",
   "execution_count": 8,
   "id": "44b1c1b6",
   "metadata": {},
   "outputs": [
    {
     "name": "stdout",
     "output_type": "stream",
     "text": [
      "C++\n"
     ]
    }
   ],
   "source": [
    "my_list = [\"python\", \"java\", \"SQL\",\"R\", \"SAS\", \"C++\", \"php\", \"html\"]\n",
    "print (my_list[5])"
   ]
  },
  {
   "cell_type": "code",
   "execution_count": 9,
   "id": "6df8627f",
   "metadata": {},
   "outputs": [
    {
     "name": "stdout",
     "output_type": "stream",
     "text": [
      "['SQL', 'R', 'SAS']\n"
     ]
    }
   ],
   "source": [
    "my_list = [\"python\", \"java\", \"SQL\",\"R\", \"SAS\", \"C++\", \"php\", \"html\"]\n",
    "print (my_list[2:5])"
   ]
  },
  {
   "cell_type": "code",
   "execution_count": 10,
   "id": "7a107785",
   "metadata": {},
   "outputs": [
    {
     "name": "stdout",
     "output_type": "stream",
     "text": [
      "['python']\n"
     ]
    }
   ],
   "source": [
    "my_list = [\"python\", \"java\", \"SQL\",\"R\", \"SAS\", \"C++\", \"php\", \"html\"]\n",
    "print (my_list[0:1])"
   ]
  },
  {
   "cell_type": "code",
   "execution_count": 11,
   "id": "2835993b",
   "metadata": {},
   "outputs": [
    {
     "name": "stdout",
     "output_type": "stream",
     "text": [
      "['SQL', 'R', 'SAS', 'C++']\n"
     ]
    }
   ],
   "source": [
    "my_list = [\"python\", \"java\", \"SQL\",\"R\", \"SAS\", \"C++\", \"php\", \"html\"]\n",
    "print (my_list[2:-2])"
   ]
  },
  {
   "cell_type": "code",
   "execution_count": 12,
   "id": "0f38c664",
   "metadata": {},
   "outputs": [
    {
     "name": "stdout",
     "output_type": "stream",
     "text": [
      "8\n"
     ]
    }
   ],
   "source": [
    "my_list = [\"python\", \"java\", \"SQL\",\"R\", \"SAS\", \"C++\", \"php\", \"html\"]\n",
    "print (len(my_list))"
   ]
  },
  {
   "cell_type": "code",
   "execution_count": 28,
   "id": "c6b6d089",
   "metadata": {},
   "outputs": [
    {
     "name": "stdout",
     "output_type": "stream",
     "text": [
      "['python', 'java', 'SQL', 'R', 'SAS', 'C++', 'php', 'html']\n",
      "['python', 'java', 'SQL', 'R', 'SAS', 'C++', 'php', 'html', 'COBOL']\n",
      "['python', 'java', 'SQL', 'COBOL', 'R', 'SAS', 'C++', 'php', 'html', 'COBOL']\n",
      "10\n",
      "['python', 'java', 'SQL', 'COBOL', 'R', 'SAS', 'C++', 'php', 'html', 'FORTRAN']\n",
      "['python', 'java', 'SQL', 'COBOL', 'R', 'SAS', 'C++', 'html', 'FORTRAN']\n",
      "9\n",
      "['python', 'java', 'SQL', 'COBOL', 'R', 'SAS', 'html', 'FORTRAN']\n"
     ]
    }
   ],
   "source": [
    "my_list = [\"python\", \"java\", \"SQL\",\"R\", \"SAS\", \"C++\", \"php\", \"html\"]\n",
    "print (my_list)\n",
    "my_list.append('COBOL')\n",
    "print (my_list)\n",
    "my_list.insert (3,'COBOL')\n",
    "print (my_list)\n",
    "print (len(my_list))\n",
    "my_list [9] = 'FORTRAN'\n",
    "print (my_list)\n",
    "my_list.remove ('php')\n",
    "print(my_list)\n",
    "print (len(my_list))\n",
    "del my_list [6]\n",
    "print (my_list)"
   ]
  },
  {
   "cell_type": "code",
   "execution_count": 44,
   "id": "69142cab",
   "metadata": {},
   "outputs": [
    {
     "name": "stdout",
     "output_type": "stream",
     "text": [
      "KEYS\n",
      "knowledge\n",
      "tool\n",
      "year\n",
      "week\n",
      "VALUES\n",
      "Data Science\n",
      "python\n",
      "2020\n",
      "4\n",
      "ITEMS\n",
      "('knowledge', 'Data Science')\n",
      "('tool', 'python')\n",
      "('year', 2020)\n",
      "('week', 4)\n",
      "4\n"
     ]
    }
   ],
   "source": [
    "my_dictionary = {\"knowledge\": \"Data Science\",\"tool\": \"python\",\"year\": 2020, 'week': 4 }\n",
    "print ('KEYS')\n",
    "for key in my_dictionary.keys():\n",
    "    print (key)\n",
    "print ('VALUES')\n",
    "for value in my_dictionary.values():\n",
    "    print (value)\n",
    "print ('ITEMS')\n",
    "for item in my_dictionary.items():\n",
    "    print (item)\n",
    "print (len(my_dictionary))"
   ]
  },
  {
   "cell_type": "code",
   "execution_count": 28,
   "id": "1916af82",
   "metadata": {},
   "outputs": [
    {
     "name": "stdout",
     "output_type": "stream",
     "text": [
      "{'knowledge': 'Data Science', 'tool': 'python', 'year': 2020, 'week': 4, 'learn': 'true'}\n",
      "{'knowledge': 'Data Science', 'tool': 'python', 'year': 2020, 'learn': 'true'}\n"
     ]
    }
   ],
   "source": [
    "my_dictionary = {\"knowledge\": \"Data Science\",\"tool\": \"python\",\"year\": 2020, 'week': 4 }\n",
    "my_dictionary['learn'] = 'true'\n",
    "print (my_dictionary)\n",
    "my_dictionary.pop ('week')\n",
    "print (my_dictionary)\n",
    "del my_dictionary\n"
   ]
  },
  {
   "cell_type": "code",
   "execution_count": 74,
   "id": "94d4bbba",
   "metadata": {},
   "outputs": [
    {
     "name": "stdout",
     "output_type": "stream",
     "text": [
      "1  2  3  4  5  6  7  8  9  10  11  12  (1, 'January')\n",
      "(2, 'February')\n",
      "(3, 'March')\n",
      "(4, 'April')\n",
      "(5, 'May')\n",
      "(6, 'June')\n",
      "(7, 'July')\n",
      "(8, 'August')\n",
      "(9, 'Septmeber')\n",
      "(10, 'October')\n",
      "(11, 'November')\n",
      "(12, 'December')\n",
      "January February March April May June July August Septmeber October November December 12\n"
     ]
    }
   ],
   "source": [
    "months = {1: 'January', 2:'February',3:'March',4:'April',5:'May',6:'June',7:'July',8:'August',9:'Septmeber',10:'October',11:'November',12:'December'\n",
    "         }\n",
    "for keys in months.keys():\n",
    "    print (keys, end = '  ') \n",
    "for items in months.items():\n",
    "    print (items)\n",
    "for values in months.values():\n",
    "    print (values, end = ' ')\n",
    "print (len(months))"
   ]
  },
  {
   "cell_type": "code",
   "execution_count": 75,
   "id": "f56f1eab",
   "metadata": {},
   "outputs": [
    {
     "name": "stdout",
     "output_type": "stream",
     "text": [
      "June and July\n",
      "dict_keys([1, 2, 3, 4, 6, 7, 8, 9, 10, 11, 12])\n",
      "dict_values(['January', 'February', 'March', 'April', 'June', 'July', 'August', 'Septmeber', 'October', 'November', 'December'])\n",
      "dict_items([(1, 'January'), (2, 'February'), (3, 'March'), (4, 'April'), (6, 'June'), (7, 'July'), (8, 'August'), (9, 'Septmeber'), (10, 'October'), (11, 'November'), (12, 'December')])\n",
      "dict_keys([1, 2, 3, 4, 6, 7, 8, 9, 10, 11, 12, 5])\n",
      "{1: 'January', 2: 'Feb', 3: 'March', 4: 'April', 6: 'June', 7: 'July', 8: 'August', 9: 'Septmeber', 10: 'October', 11: 'November', 12: 'December', 5: 'May'}\n",
      "dict_keys([1, 2, 3, 4, 6, 7, 8, 9, 10, 11, 12, 5])\n"
     ]
    }
   ],
   "source": [
    "months = {1: 'January', 2:'February',3:'March',4:'April',5:'May',6:'June',7:'July',8:'August',9:'Septmeber',10:'October',11:'November',12:'December'\n",
    "         }\n",
    "mid_year= months[6] + ' and ' + months[7]\n",
    "print (mid_year)\n",
    "del (months[5])\n",
    "print (months.keys())\n",
    "print (months.values())\n",
    "print (months.items())\n",
    "months [5] = 'May'\n",
    "print (months.keys())\n",
    "months [2] = 'Feb'\n",
    "print (months)\n",
    "sortedkeys = months.keys()\n",
    "print (sortedkeys)\n"
   ]
  },
  {
   "cell_type": "code",
   "execution_count": 90,
   "id": "48e88b1a",
   "metadata": {},
   "outputs": [
    {
     "name": "stdout",
     "output_type": "stream",
     "text": [
      "dict_items([(1, 'January'), (2, 'February'), (3, 'March'), (4, 'April'), (5, 'May'), (6, 'June'), (7, 'July'), (8, 'August'), (9, 'Septmeber'), (10, 'October'), (11, 'November'), (12, 'December')])\n",
      "1 January\n",
      "2 February\n",
      "3 March\n",
      "4 April\n",
      "5 May\n",
      "6 June\n",
      "7 July\n",
      "8 August\n",
      "9 Septmeber\n",
      "10 October\n",
      "11 November\n",
      "12 December\n",
      "1 January\n",
      "2 February\n",
      "3 March\n",
      "4 April\n",
      "5 May\n",
      "6 June\n",
      "7 July\n",
      "8 August\n",
      "9 Septmeber\n",
      "10 October\n",
      "11 November\n",
      "12 December\n",
      "The entries in the dictionary are:\n",
      "months[  1  ] =  January\n",
      "months[  2  ] =  February\n",
      "months[  3  ] =  March\n",
      "months[  4  ] =  April\n",
      "months[  5  ] =  May\n",
      "months[  6  ] =  June\n",
      "months[  7  ] =  July\n",
      "months[  8  ] =  August\n",
      "months[  9  ] =  Septmeber\n",
      "months[  10  ] =  October\n",
      "months[  11  ] =  November\n",
      "months[  12  ] =  December\n"
     ]
    }
   ],
   "source": [
    "months = {1: 'January', 2:'February',3:'March',4:'April',5:'May',6:'June',7:'July',8:'August',9:'Septmeber',10:'October',11:'November',12:'December'\n",
    "         }\n",
    "print (months.items())\n",
    "#Iterating over keys\n",
    "for key in months:\n",
    "    print (key, months[key])\n",
    "    \n",
    "#Iterating over (key, value) pairs\n",
    "for key, value in months.items():\n",
    "    print (key, value)\n",
    "    \n",
    "print (\"The entries in the dictionary are:\")\n",
    "for item in months.keys():\n",
    "    print (\"months[ \", item, \" ] = \", months[ item ])"
   ]
  },
  {
   "cell_type": "code",
   "execution_count": 102,
   "id": "655caf98",
   "metadata": {},
   "outputs": [
    {
     "name": "stdout",
     "output_type": "stream",
     "text": [
      "p\n",
      "y\n",
      "t\n",
      "h\n",
      "o\n",
      "n\n"
     ]
    }
   ],
   "source": [
    "text = 'python'\n",
    "\n",
    "for character in text:\n",
    "    print (character)"
   ]
  },
  {
   "cell_type": "code",
   "execution_count": 115,
   "id": "c3443196",
   "metadata": {},
   "outputs": [
    {
     "name": "stdout",
     "output_type": "stream",
     "text": [
      "{'python', 'java', 'R'}\n",
      "{'python', 'scala', 'java', 'R'}\n",
      "{'python', 'scala', 'java'}\n"
     ]
    }
   ],
   "source": [
    "my_set = {\"python\", \"java\", \"R\"}\n",
    "print (my_set)\n",
    "my_set.add(\"scala\")    #add \"scala\" to the set\n",
    "print(my_set)    #{'scala', 'python', 'java', 'R'}\n",
    "my_set.remove(\"R\")    #remove \"R\" item\n",
    "print(my_set)    #{'scala', 'python', 'java'}\n",
    "del my_set\n"
   ]
  },
  {
   "cell_type": "code",
   "execution_count": 118,
   "id": "56f7c1a2",
   "metadata": {},
   "outputs": [],
   "source": [
    "s = set(['a', 'b', 'c'])"
   ]
  },
  {
   "cell_type": "code",
   "execution_count": 121,
   "id": "b9b7e768",
   "metadata": {},
   "outputs": [],
   "source": [
    "s = {'a', 'b', 'c'}"
   ]
  },
  {
   "cell_type": "code",
   "execution_count": 122,
   "id": "97e66d6d",
   "metadata": {},
   "outputs": [],
   "source": [
    "s = {('a', 'b', 'c')}"
   ]
  },
  {
   "cell_type": "code",
   "execution_count": 129,
   "id": "742653eb",
   "metadata": {},
   "outputs": [
    {
     "name": "stdout",
     "output_type": "stream",
     "text": [
      "R\n",
      "('a', 'b', 'c', 1, 2, 3)\n"
     ]
    }
   ],
   "source": [
    "my_tuple=(\"python\", \"java\", \"R\")\n",
    "print(my_tuple[2])  \n",
    "\n",
    "#Join Two Tuples\n",
    "tuple1 = (\"a\", \"b\" , \"c\")\n",
    "tuple2 = (1, 2, 3)\n",
    "tuple3 = tuple1 + tuple2     #join the two tuples by + operator\n",
    "print(tuple3)     #('a', 'b', 'c', 1, 2, 3)"
   ]
  },
  {
   "cell_type": "code",
   "execution_count": 135,
   "id": "7f99dd29",
   "metadata": {},
   "outputs": [
    {
     "name": "stdout",
     "output_type": "stream",
     "text": [
      "36\n"
     ]
    }
   ],
   "source": [
    "def multiply_list(items):\n",
    "    total = 1\n",
    "    for x in items:\n",
    "        total *= x\n",
    "    return total\n",
    "print(multiply_list([2,3,6]))\n"
   ]
  },
  {
   "cell_type": "code",
   "execution_count": 7,
   "id": "dcc02f86",
   "metadata": {},
   "outputs": [
    {
     "name": "stdout",
     "output_type": "stream",
     "text": [
      "36\n"
     ]
    }
   ],
   "source": [
    "my_list =  [2,3,6]\n",
    "result = 1\n",
    "\n",
    "for x in my_list:\n",
    "    result *= x   #or result = result * x\n",
    "print (result)\n",
    "    "
   ]
  },
  {
   "cell_type": "code",
   "execution_count": 1,
   "id": "203626f4",
   "metadata": {},
   "outputs": [
    {
     "name": "stdout",
     "output_type": "stream",
     "text": [
      "36\n"
     ]
    }
   ],
   "source": [
    "import numpy as np\n",
    "my_list = [2,3,6]\n",
    "result = np.product (my_list)\n",
    "print (result)"
   ]
  },
  {
   "cell_type": "code",
   "execution_count": 2,
   "id": "5322eb07",
   "metadata": {},
   "outputs": [
    {
     "name": "stdout",
     "output_type": "stream",
     "text": [
      "-2\n",
      "-4\n",
      "-5\n",
      "-48\n",
      "-49\n",
      "-80\n",
      "-394\n",
      "-448\n",
      "-504\n",
      "-557\n",
      "-610\n",
      "-1285\n",
      "-1289\n",
      "-1368\n",
      "-1376\n"
     ]
    }
   ],
   "source": [
    "listt=[3,2,1,43,1,31,314,54,56,53,53,675,4,79,8]\n",
    "result=1\n",
    "for x in listt:\n",
    "  result -=  x \n",
    "  print(result)\n",
    "\n",
    "    "
   ]
  },
  {
   "cell_type": "code",
   "execution_count": 3,
   "id": "2ea8e5df",
   "metadata": {},
   "outputs": [
    {
     "data": {
      "text/plain": [
       "36"
      ]
     },
     "execution_count": 3,
     "metadata": {},
     "output_type": "execute_result"
    }
   ],
   "source": [
    "import math\n",
    "math.prod([ 2, 3, 6])\n"
   ]
  },
  {
   "cell_type": "code",
   "execution_count": 11,
   "id": "d8162c42",
   "metadata": {},
   "outputs": [
    {
     "name": "stdout",
     "output_type": "stream",
     "text": [
      "[12, 12, 84, 327, 462, 4691]\n",
      "smallest value is: 12\n",
      "largest value is: 4691\n"
     ]
    }
   ],
   "source": [
    "listt = [12,84,462,4691,327,12]\n",
    "listt.sort()\n",
    "print (listt)\n",
    "print ('smallest value is:' ,  listt[0])\n",
    "print ('largest value is:' , listt[-1])"
   ]
  },
  {
   "cell_type": "code",
   "execution_count": 13,
   "id": "f515c516",
   "metadata": {},
   "outputs": [
    {
     "name": "stdout",
     "output_type": "stream",
     "text": [
      "smallest: 12\n",
      "largest: 4691\n"
     ]
    }
   ],
   "source": [
    "listt = [12,84,462,4691,327,12]\n",
    "print ('smallest:' , min(listt))\n",
    "print ('largest:' , max(listt))"
   ]
  },
  {
   "cell_type": "code",
   "execution_count": 16,
   "id": "94282acf",
   "metadata": {
    "scrolled": true
   },
   "outputs": [
    {
     "name": "stdout",
     "output_type": "stream",
     "text": [
      "first number234\n",
      "second number2345\n",
      "smallest: 234\n",
      "largest: 2345\n"
     ]
    }
   ],
   "source": [
    "n1 = int(input('first number'))\n",
    "n2 = int (input('second number'))\n",
    "listt = [n1,n2]\n",
    "print ('smallest:' , min(listt))\n",
    "print ('largest:' , max(listt))"
   ]
  },
  {
   "cell_type": "code",
   "execution_count": 20,
   "id": "7595cb8b",
   "metadata": {},
   "outputs": [
    {
     "name": "stdout",
     "output_type": "stream",
     "text": [
      "Enter number of elements in list: 4\n",
      "Enter elements: 56\n",
      "Enter elements: 678\n",
      "Enter elements: 5678\n",
      "Enter elements: 56789\n",
      "Smallest element is: 56\n"
     ]
    }
   ],
   "source": [
    "# Python program to find smallest\n",
    "# number in a list\n",
    " \n",
    "# creating empty list\n",
    "list1 = []\n",
    " \n",
    "# asking number of elements to put in list\n",
    "num = int(input(\"Enter number of elements in list: \"))\n",
    " \n",
    "# iterating till num to append elements in list\n",
    "for i in range(1, num + 1):\n",
    "    ele= int(input(\"Enter elements: \"))\n",
    "    list1.append(ele)\n",
    "     \n",
    "# print maximum element\n",
    "print(\"Smallest element is:\", min(list1))"
   ]
  },
  {
   "cell_type": "code",
   "execution_count": 29,
   "id": "33c94793",
   "metadata": {},
   "outputs": [
    {
     "name": "stdout",
     "output_type": "stream",
     "text": [
      "List:3,6,7\n",
      "The list is  [3, 6, 7]\n",
      "The smallest element in the list is  3\n"
     ]
    }
   ],
   "source": [
    "# Python program to find smallest\n",
    "# number in a list\n",
    " \n",
    "l=[ int(l) for l in input(\"List:\").split(\",\")]\n",
    "print(\"The list is \",l)\n",
    " \n",
    "# Assign first element as a minimum.\n",
    "min1 = l[0]\n",
    " \n",
    "for i in range(len(l)):\n",
    " \n",
    "    # If the other element is min than first element\n",
    "    if l[i] < min1:\n",
    "        min1 = l[i] #It will change\n",
    " \n",
    "print(\"The smallest element in the list is \",min1)"
   ]
  },
  {
   "cell_type": "code",
   "execution_count": 69,
   "id": "b59fbc9e",
   "metadata": {},
   "outputs": [
    {
     "name": "stdout",
     "output_type": "stream",
     "text": [
      "total number of elements in the list:3\n",
      "enter elments of list:2\n",
      "enter elments of list:3\n",
      "enter elments of list:6\n",
      "36\n"
     ]
    }
   ],
   "source": [
    "list1 = []\n",
    "num = int (input('total number of elements in the list:'))\n",
    "\n",
    "for i in range(1, num+1):\n",
    "    no = int(input('enter elments of list:'))\n",
    "    list1.append (no)\n",
    "\n",
    "result = 1\n",
    "\n",
    "for x in list1:\n",
    "    result *= x   #or result = result * x\n",
    "print (result)    \n"
   ]
  },
  {
   "cell_type": "markdown",
   "id": "06ccd055",
   "metadata": {},
   "source": [
    "# CHECKPOINT 3 (1-5)\n"
   ]
  },
  {
   "cell_type": "code",
   "execution_count": 31,
   "id": "96133a5d",
   "metadata": {},
   "outputs": [
    {
     "name": "stdout",
     "output_type": "stream",
     "text": [
      "QUESTION 1\n",
      "total number of elements in the list:3\n",
      "enter elments of list:2\n",
      "enter elments of list:3\n",
      "enter elments of list:6\n",
      "36\n"
     ]
    }
   ],
   "source": [
    "print ('QUESTION 1')\n",
    "list1 = []\n",
    "num = int (input('total number of elements in the list:'))\n",
    "\n",
    "for i in range(1, num+1):\n",
    "    no = int(input('enter elments of list:'))\n",
    "    list1.append (no)\n",
    "\n",
    "result = 1\n",
    "\n",
    "for x in list1:\n",
    "    result *= x   #or result = result * x\n",
    "print (result)    \n"
   ]
  },
  {
   "cell_type": "code",
   "execution_count": 5,
   "id": "27c6ddd3",
   "metadata": {},
   "outputs": [
    {
     "name": "stdout",
     "output_type": "stream",
     "text": [
      "QUESTION 2\n",
      "[(2, 1), (1, 2), (2, 3), (4, 4), (2, 5)]\n"
     ]
    }
   ],
   "source": [
    "print ('QUESTION 2')\n",
    "def last(n):\n",
    "    return n[-1]\n",
    "def sort_list_last(tuples):\n",
    "    return sorted(tuples,key=last)\n",
    "print(sort_list_last( [(2, 5), (1, 2), (4, 4), (2, 3), (2, 1)]))\n",
    "\n"
   ]
  },
  {
   "cell_type": "code",
   "execution_count": 4,
   "id": "a9dea78d",
   "metadata": {
    "scrolled": true
   },
   "outputs": [
    {
     "name": "stdout",
     "output_type": "stream",
     "text": [
      "QUESTION 2\n",
      "Sorted:\n",
      "[(2, 1), (1, 2), (2, 3), (4, 4), (2, 5)]\n"
     ]
    }
   ],
   "source": [
    "print ('QUESTION 2')\n",
    "def last(n):\n",
    "    return n[-1]  \n",
    "   \n",
    "def sort(a):\n",
    "    return sorted(a, key=last)\n",
    "   \n",
    "a= [(2, 5), (1, 2), (4, 4), (2, 3), (2, 1)]\n",
    "print(\"Sorted:\")\n",
    "print(sort(a))"
   ]
  },
  {
   "cell_type": "code",
   "execution_count": 40,
   "id": "40d22b33",
   "metadata": {},
   "outputs": [
    {
     "name": "stdout",
     "output_type": "stream",
     "text": [
      "QUESTION 3\n",
      "{'a': 400, 'b': 400, 'c': 300, 'd': 400}\n"
     ]
    }
   ],
   "source": [
    "print ('QUESTION 3')\n",
    "d1 = {'a': 100, 'b': 200, 'c':300}\n",
    "d2 = {'a': 300, 'b': 200, 'd':400}\n",
    "\n",
    "for key in d2:\n",
    "    if key in d2 and key in d1:\n",
    "        d2[key] = d2[key] + d1[key]\n",
    "        \n",
    "d1.update (d2)\n",
    "print (d1)\n"
   ]
  },
  {
   "cell_type": "code",
   "execution_count": 70,
   "id": "6925ce08",
   "metadata": {},
   "outputs": [
    {
     "name": "stdout",
     "output_type": "stream",
     "text": [
      "Question 4\n",
      "Type a number: 8\n",
      "{1: 1, 2: 4, 3: 9, 4: 16, 5: 25, 6: 36, 7: 49, 8: 64}\n"
     ]
    }
   ],
   "source": [
    "print ('Question 4')\n",
    "n = int(input(\"Type a number: \"))\n",
    "\n",
    "numberDict = {}\n",
    "for i in range(1, n+1):\n",
    "    numberDict[i] = i*i\n",
    "\n",
    "print(numberDict)"
   ]
  },
  {
   "cell_type": "code",
   "execution_count": 6,
   "id": "a509310f",
   "metadata": {},
   "outputs": [
    {
     "name": "stdout",
     "output_type": "stream",
     "text": [
      "Initial empty Tuple: \n",
      "()\n",
      "\n",
      "Tuple with the use of String: \n",
      "('Geeks', 'For')\n",
      "\n",
      "Tuple using List: \n",
      "(1, 2, 4, 5, 6)\n",
      "\n",
      "Tuple with the use of function: \n",
      "('G', 'e', 'e', 'k', 's')\n"
     ]
    }
   ],
   "source": [
    "# Creating an empty Tuple\n",
    "Tuple1 = ()\n",
    "print(\"Initial empty Tuple: \")\n",
    "print(Tuple1)\n",
    "\n",
    "# Creating a Tuple\n",
    "# with the use of string\n",
    "Tuple1 = ('Geeks', 'For')\n",
    "print(\"\\nTuple with the use of String: \")\n",
    "print(Tuple1)\n",
    "\n",
    "# Creating a Tuple with\n",
    "# the use of list\n",
    "list1 = [1, 2, 4, 5, 6]\n",
    "print(\"\\nTuple using List: \")\n",
    "print(tuple(list1))\n",
    "\n",
    "# Creating a Tuple\n",
    "# with the use of built-in function\n",
    "Tuple1 = tuple('Geeks')\n",
    "print(\"\\nTuple with the use of function: \")\n",
    "print(Tuple1)\n"
   ]
  },
  {
   "cell_type": "code",
   "execution_count": 71,
   "id": "91e6be89",
   "metadata": {},
   "outputs": [
    {
     "name": "stdout",
     "output_type": "stream",
     "text": [
      "QUESTION 4\n",
      "Enter the value of n: 8\n",
      "{1: 1, 2: 4, 3: 9, 4: 16, 5: 25, 6: 36, 7: 49, 8: 64}\n"
     ]
    }
   ],
   "source": [
    "print ('QUESTION 4')\n",
    "n = int(input(\"Enter the value of n: \"))\n",
    "squares = {i : i*i for i in range(1, n+1)}\n",
    "print(squares)\n"
   ]
  },
  {
   "cell_type": "code",
   "execution_count": 73,
   "id": "d20b4883",
   "metadata": {},
   "outputs": [
    {
     "name": "stdout",
     "output_type": "stream",
     "text": [
      "QUESTION 5\n",
      "[('item3', '24.5'), ('item2', '15.10'), ('item1', '12.20')]\n"
     ]
    }
   ],
   "source": [
    "print ('QUESTION 5')\n",
    "listt = [('item1', '12.20'), ('item2', '15.10'), ('item3', '24.5')]\n",
    "print( sorted(listt, key=lambda x: float(x[1]), reverse=True))\n",
    "\n"
   ]
  },
  {
   "cell_type": "code",
   "execution_count": 17,
   "id": "e6de2ef3",
   "metadata": {},
   "outputs": [
    {
     "name": "stdout",
     "output_type": "stream",
     "text": [
      "\n",
      "Tuple with Mixed Datatypes: \n",
      "(5, 'Welcome', 7, 'Geeks')\n",
      "\n",
      "Tuple with nested tuples: \n",
      "((0, 1, 2, 3), ('python', 'geek'))\n",
      "\n",
      "Tuple with repetition: \n",
      "('Geeks', 'Geeks', 'Geeks')\n",
      "\n",
      "Tuple with a loop\n",
      "('Geeks',)\n",
      "(('Geeks',),)\n",
      "((('Geeks',),),)\n",
      "(((('Geeks',),),),)\n",
      "((((('Geeks',),),),),)\n"
     ]
    }
   ],
   "source": [
    "# Creating a Tuple\n",
    "# with Mixed Datatype\n",
    "Tuple1 = (5, 'Welcome', 7, 'Geeks')\n",
    "print(\"\\nTuple with Mixed Datatypes: \")\n",
    "print(Tuple1)\n",
    "\n",
    "# Creating a Tuple\n",
    "# with nested tuples\n",
    "Tuple1 = (0, 1, 2, 3)\n",
    "Tuple2 = ('python', 'geek')\n",
    "Tuple3 = (Tuple1, Tuple2)\n",
    "print(\"\\nTuple with nested tuples: \")\n",
    "print(Tuple3)\n",
    "\n",
    "# Creating a Tuple\n",
    "# with repetition\n",
    "Tuple1 = ('Geeks',) * 3\n",
    "print(\"\\nTuple with repetition: \")\n",
    "print(Tuple1)\n",
    "\n",
    "# Creating a Tuple\n",
    "# with the use of loop\n",
    "Tuple1 = ('Geeks')\n",
    "n = 5\n",
    "print(\"\\nTuple with a loop\")\n",
    "for i in range(int(n)):\n",
    "\tTuple1 = (Tuple1,)\n",
    "\tprint(Tuple1)\n"
   ]
  },
  {
   "cell_type": "code",
   "execution_count": 15,
   "id": "e0114466",
   "metadata": {},
   "outputs": [
    {
     "name": "stdout",
     "output_type": "stream",
     "text": [
      "\n",
      "First element of Tuple: \n",
      "G\n",
      "\n",
      "Values after unpacking: \n",
      "Geeks\n",
      "For\n",
      "Geeks\n"
     ]
    }
   ],
   "source": [
    "# Accessing Tuple\n",
    "# with Indexing\n",
    "Tuple1 = tuple(\"Geeks\")\n",
    "print(\"\\nFirst element of Tuple: \")\n",
    "print(Tuple1[0])\n",
    "\n",
    "\n",
    "# Tuple unpacking\n",
    "Tuple1 = (\"Geeks\", \"For\", \"Geeks\")\n",
    "\n",
    "# This line unpack\n",
    "# values of Tuple1\n",
    "a, b, c = Tuple1\n",
    "print(\"\\nValues after unpacking: \")\n",
    "print(a)\n",
    "print(b)\n",
    "print(c)\n"
   ]
  },
  {
   "cell_type": "code",
   "execution_count": 18,
   "id": "66225c24",
   "metadata": {},
   "outputs": [
    {
     "name": "stdout",
     "output_type": "stream",
     "text": [
      "Tuple 1: \n",
      "(0, 1, 2, 3)\n",
      "\n",
      "Tuple2: \n",
      "('Geeks', 'For', 'Geeks')\n",
      "\n",
      "Tuples after Concatenation: \n",
      "(0, 1, 2, 3, 'Geeks', 'For', 'Geeks')\n"
     ]
    }
   ],
   "source": [
    "# Concatenation of tuples\n",
    "Tuple1 = (0, 1, 2, 3)\n",
    "Tuple2 = ('Geeks', 'For', 'Geeks')\n",
    "\n",
    "Tuple3 = Tuple1 + Tuple2\n",
    "\n",
    "# Printing first Tuple\n",
    "print(\"Tuple 1: \")\n",
    "print(Tuple1)\n",
    "\n",
    "# Printing Second Tuple\n",
    "print(\"\\nTuple2: \")\n",
    "print(Tuple2)\n",
    "\n",
    "# Printing Final Tuple\n",
    "print(\"\\nTuples after Concatenation: \")\n",
    "print(Tuple3)\n"
   ]
  },
  {
   "cell_type": "code",
   "execution_count": 19,
   "id": "08a6707d",
   "metadata": {},
   "outputs": [
    {
     "name": "stdout",
     "output_type": "stream",
     "text": [
      "Removal of First Element: \n",
      "('E', 'E', 'K', 'S', 'F', 'O', 'R', 'G', 'E', 'E', 'K', 'S')\n",
      "\n",
      "Tuple after sequence of Element is reversed: \n",
      "('S', 'K', 'E', 'E', 'G', 'R', 'O', 'F', 'S', 'K', 'E', 'E', 'G')\n",
      "\n",
      "Printing elements between Range 4-9: \n",
      "('S', 'F', 'O', 'R', 'G')\n"
     ]
    }
   ],
   "source": [
    "# Slicing of a Tuple\n",
    "\n",
    "# Slicing of a Tuple\n",
    "# with Numbers\n",
    "Tuple1 = tuple('GEEKSFORGEEKS')\n",
    "\n",
    "# Removing First element\n",
    "print(\"Removal of First Element: \")\n",
    "print(Tuple1[1:])\n",
    "\n",
    "# Reversing the Tuple\n",
    "print(\"\\nTuple after sequence of Element is reversed: \")\n",
    "print(Tuple1[::-1])\n",
    "\n",
    "# Printing elements of a Range\n",
    "print(\"\\nPrinting elements between Range 4-9: \")\n",
    "print(Tuple1[4:9])\n"
   ]
  },
  {
   "cell_type": "code",
   "execution_count": 24,
   "id": "269353a4",
   "metadata": {},
   "outputs": [],
   "source": [
    "# Deleting a Tuple\n",
    "\n",
    "Tuple1 = (0, 1, 2, 3, 4)\n",
    "del Tuple1          #printing of tuple after deletion results in an error\n"
   ]
  },
  {
   "cell_type": "code",
   "execution_count": 48,
   "id": "0b09ba61",
   "metadata": {},
   "outputs": [
    {
     "name": "stdout",
     "output_type": "stream",
     "text": [
      "Mike\n",
      "Bob\n",
      "{'name': 'Bob', 'age': 25, 'weight': 80.5, 'gender': 'm'}\n",
      "Bob\n",
      "None\n",
      "Not available \n"
     ]
    }
   ],
   "source": [
    "person = {'name': \"Mike\", 'age': 25, 'weight': 80.5}\n",
    "\n",
    "print(person['name'])\n",
    "person['name'] = \"Bob\" # Changing existing value\n",
    "print(person['name'])\n",
    "\n",
    "person['gender'] = 'm' # Creating new key-value pair\n",
    "print(person)\n",
    "\n",
    "print(person.get('name'))\n",
    "print (person.get('phone'))\n",
    "print (person.get('phone' , 'Not available '))"
   ]
  },
  {
   "cell_type": "code",
   "execution_count": 55,
   "id": "86034ee1",
   "metadata": {},
   "outputs": [
    {
     "name": "stdout",
     "output_type": "stream",
     "text": [
      "Bob\n",
      "Anna\n",
      "Max\n",
      "John\n",
      "dict_keys(['Bob', 'Anna', 'Max', 'John'])\n",
      "[50, 28, 30, 76]\n",
      "[('Bob', 50), ('Anna', 28), ('Max', 30), ('John', 76)]\n"
     ]
    }
   ],
   "source": [
    "names_ages = {'Bob': 50,\n",
    "              'Anna': 28,\n",
    "              'Max': 30,\n",
    "              'John': 76}\n",
    "\n",
    "for element in names_ages:\n",
    "    print(element)\n",
    "    \n",
    "# Output: Bob  Anna  Max  John\n",
    "\n",
    "print(names_ages.keys())\n",
    "print(list(names_ages.values()))\n",
    "print(list(names_ages.items()))\n"
   ]
  },
  {
   "cell_type": "code",
   "execution_count": 56,
   "id": "46cc9faf",
   "metadata": {},
   "outputs": [
    {
     "name": "stdout",
     "output_type": "stream",
     "text": [
      "{'a': 10, 'b': 20, 'c': 50}\n",
      "{'a': 10, 'b': 20, 'c': 50}\n"
     ]
    }
   ],
   "source": [
    "d1 = {'a': 10, 'b': 20, 'c': 30}\n",
    "d2 = d1\n",
    "d2['c'] = 50\n",
    "\n",
    "print(d1)\n",
    "print(d2)\n",
    "\n",
    "# Output\n",
    "# {'a': 10, 'b': 20, 'c': 50}\n",
    "# {'a': 10, 'b': 20, 'c': 50}"
   ]
  },
  {
   "cell_type": "code",
   "execution_count": 57,
   "id": "2deafe19",
   "metadata": {},
   "outputs": [
    {
     "name": "stdout",
     "output_type": "stream",
     "text": [
      "{'a': 10, 'b': 20, 'c': 30}\n"
     ]
    }
   ],
   "source": [
    "d1 = {'a': 10, 'b': 20, 'c': 30}\n",
    "d2 = dict(d1)\n",
    "d3 = d1.copy()\n",
    "\n",
    "d2['b'] = 50\n",
    "d3['a'] = -90\n",
    "print(d1) # unchanged"
   ]
  },
  {
   "cell_type": "code",
   "execution_count": 61,
   "id": "55cdc47a",
   "metadata": {},
   "outputs": [
    {
     "name": "stdout",
     "output_type": "stream",
     "text": [
      "{'a': 10, 'b': 20, 'c': 40, 'd': 60, 'e': 20}\n",
      "OR\n",
      "{'a': 10, 'b': 20, 'c': 40, 'd': 60, 'e': 20}\n"
     ]
    }
   ],
   "source": [
    "d1 = {'a': 10, 'b': 20, 'c': 30}\n",
    "d2 = {'c': 40, 'd': 60, 'e': 20}\n",
    "d1.update(d2)\n",
    "print(d1)\n",
    "\n",
    "print  ('OR')\n",
    "\n",
    "d3 = {**d1, **d2}\n",
    "print(d3)"
   ]
  },
  {
   "cell_type": "code",
   "execution_count": 65,
   "id": "10d4c5e9",
   "metadata": {},
   "outputs": [],
   "source": [
    "# avaliable in python 3.9\n",
    "d1 = {'a': 10, 'b': 20, 'c': 30}\n",
    "d2 = {'c': 40, 'd': 60, 'e': 20}\n",
    "\n",
    "d3 = d1 | d2  # Merging\n",
    "d1 |= d2      # Updating"
   ]
  },
  {
   "cell_type": "code",
   "execution_count": 66,
   "id": "7cef9edb",
   "metadata": {},
   "outputs": [
    {
     "name": "stdout",
     "output_type": "stream",
     "text": [
      "Enter the value of n: 8\n",
      "{1: 1, 2: 4, 3: 9, 4: 16, 5: 25, 6: 36, 7: 49, 8: 64}\n"
     ]
    }
   ],
   "source": [
    "# Take User Input of Number\n",
    "\n",
    "n = int(input(\"Enter the value of n: \"))\n",
    "\n",
    "# Create a dictionary of squares\n",
    "\n",
    "squares = {i : i*i for i in range(1, n+1)}\n",
    "\n",
    "# Print the dictionary\n",
    "\n",
    "print(squares)\n",
    "\n"
   ]
  },
  {
   "cell_type": "code",
   "execution_count": 76,
   "id": "f90779d1",
   "metadata": {},
   "outputs": [
    {
     "name": "stdout",
     "output_type": "stream",
     "text": [
      "3\n",
      "3\n"
     ]
    }
   ],
   "source": [
    "liste = [1,2,3]\n",
    "Length = 0 \n",
    "for i in liste :\n",
    "    Length +=1\n",
    "print(Length)\n",
    "\n",
    "# or\n",
    "liste = [1,2,3]\n",
    "print(len(liste))"
   ]
  },
  {
   "cell_type": "code",
   "execution_count": 77,
   "id": "6e7cfedd",
   "metadata": {},
   "outputs": [
    {
     "name": "stdout",
     "output_type": "stream",
     "text": [
      "Hello World, this is my first function\n"
     ]
    }
   ],
   "source": [
    "def function_name():\n",
    "      # set of tasks\n",
    "     print(\"Hello World, this is my first function\")\n",
    "# end of function\n",
    "function_name()\n"
   ]
  },
  {
   "cell_type": "code",
   "execution_count": 78,
   "id": "11371c1f",
   "metadata": {},
   "outputs": [
    {
     "name": "stdout",
     "output_type": "stream",
     "text": [
      "I want to learn to code!\n",
      "I want to learn to do AI!\n"
     ]
    }
   ],
   "source": [
    "def my_function(parameter):\n",
    "    print(\"I want to learn \"+parameter)\n",
    "my_function(\"to code!\")  #it returns \"I want to learn to code!\"\n",
    "my_function(\"to do AI!\")  #it returns \"I want to learn to do AI!\""
   ]
  },
  {
   "cell_type": "code",
   "execution_count": 85,
   "id": "0c5bfb1d",
   "metadata": {},
   "outputs": [
    {
     "name": "stdout",
     "output_type": "stream",
     "text": [
      "I want to learn 234\n"
     ]
    }
   ],
   "source": [
    "def my_function(parameter):\n",
    "    print(\"I want to learn \"+parameter)\n",
    "my_function('234') #can only concat str to str so parameter shpuld be enclosed in ''"
   ]
  },
  {
   "cell_type": "code",
   "execution_count": 87,
   "id": "5fc95889",
   "metadata": {},
   "outputs": [
    {
     "name": "stdout",
     "output_type": "stream",
     "text": [
      "16\n",
      "21\n"
     ]
    }
   ],
   "source": [
    "def operation(x,y,z): #order matter while using multiple parameters\n",
    "      print((x+y)*z)\n",
    "operation(5,3,2) #16\n",
    "operation(5,2,3) #21"
   ]
  },
  {
   "cell_type": "code",
   "execution_count": 90,
   "id": "bed7988a",
   "metadata": {},
   "outputs": [
    {
     "name": "stdout",
     "output_type": "stream",
     "text": [
      "I am from Maroc\n",
      "I am from Algeria\n",
      "I am from Tunisia\n"
     ]
    }
   ],
   "source": [
    "def my_function(country=\"Tunisia\"):\n",
    "    print(\"I am from \"+country)\n",
    "my_function(\"Maroc\")\n",
    "my_function(\"Algeria\")\n",
    "my_function()"
   ]
  },
  {
   "cell_type": "code",
   "execution_count": 102,
   "id": "e2dfbf31",
   "metadata": {},
   "outputs": [
    {
     "data": {
      "text/plain": [
       "15"
      ]
     },
     "execution_count": 102,
     "metadata": {},
     "output_type": "execute_result"
    }
   ],
   "source": [
    "def minimum(a,b):\n",
    "    if a<b:\n",
    "        return(a)\n",
    "    else:\n",
    "        return(b)\n",
    "minimum(15,24) # this is not possible without return "
   ]
  },
  {
   "cell_type": "code",
   "execution_count": 126,
   "id": "f2f4541c",
   "metadata": {},
   "outputs": [
    {
     "ename": "SyntaxError",
     "evalue": "'return' outside function (Temp/ipykernel_9936/3466597191.py, line 5)",
     "output_type": "error",
     "traceback": [
      "\u001b[1;36m  File \u001b[1;32m\"C:\\Users\\JOANJA~1\\AppData\\Local\\Temp/ipykernel_9936/3466597191.py\"\u001b[1;36m, line \u001b[1;32m5\u001b[0m\n\u001b[1;33m    return (x-y)\u001b[0m\n\u001b[1;37m    ^\u001b[0m\n\u001b[1;31mSyntaxError\u001b[0m\u001b[1;31m:\u001b[0m 'return' outside function\n"
     ]
    }
   ],
   "source": [
    "# change the function parameters if you need \n",
    "def subtract(a,b):\n",
    "    x = int(a)\n",
    "    y = int(b)\n",
    "return (x-y)  \n",
    "\n",
    "subtract (10,3)"
   ]
  },
  {
   "cell_type": "code",
   "execution_count": 122,
   "id": "821d7764",
   "metadata": {},
   "outputs": [
    {
     "name": "stdout",
     "output_type": "stream",
     "text": [
      "None\n"
     ]
    }
   ],
   "source": [
    ">>> def return_none():\n",
    "...     return\n",
    "... \n",
    ">>> print(return_none())\n",
    "None\n",
    ">>> "
   ]
  },
  {
   "cell_type": "code",
   "execution_count": 124,
   "id": "7c74b160",
   "metadata": {},
   "outputs": [
    {
     "data": {
      "text/plain": [
       "'even'"
      ]
     },
     "execution_count": 124,
     "metadata": {},
     "output_type": "execute_result"
    }
   ],
   "source": [
    "def type_of_int(i):\n",
    "    if i % 2 == 0:\n",
    "        return 'even'\n",
    "    else:\n",
    "        return 'odd'\n",
    "    \n",
    "type_of_int (56)"
   ]
  },
  {
   "cell_type": "code",
   "execution_count": 13,
   "id": "f35ed919",
   "metadata": {},
   "outputs": [
    {
     "data": {
      "text/plain": [
       "'None'"
      ]
     },
     "execution_count": 13,
     "metadata": {},
     "output_type": "execute_result"
    }
   ],
   "source": [
    "def get_demo_data(object_type):\n",
    "    if 'str' == object_type:\n",
    "        return 'test'\n",
    "    elif 'tuple' == object_type:\n",
    "        return (1, 2, 3)\n",
    "    elif 'list' == object_type:\n",
    "        return [1, 2, 3]\n",
    "    elif 'dict' == object_type:\n",
    "        return {\"1\": 1, \"2\": 2, \"3\": 3}\n",
    "    else:\n",
    "        return 'None'\n",
    "get_demo_data ('pi')"
   ]
  },
  {
   "cell_type": "code",
   "execution_count": 15,
   "id": "4756ccc7",
   "metadata": {},
   "outputs": [
    {
     "name": "stdout",
     "output_type": "stream",
     "text": [
      "<class 'str'>\n"
     ]
    }
   ],
   "source": [
    "str('1')\n",
    "print (str)"
   ]
  },
  {
   "cell_type": "code",
   "execution_count": 18,
   "id": "fab5c609",
   "metadata": {},
   "outputs": [
    {
     "name": "stdout",
     "output_type": "stream",
     "text": [
      "0\n"
     ]
    }
   ],
   "source": [
    "listee= str()\n",
    "print (len(listee))   #length of empty string is 0"
   ]
  },
  {
   "cell_type": "code",
   "execution_count": 21,
   "id": "03524377",
   "metadata": {},
   "outputs": [
    {
     "name": "stdout",
     "output_type": "stream",
     "text": [
      "[1, 2, 4, 5]\n"
     ]
    }
   ],
   "source": [
    "a = [1,2,3,4,5]\n",
    "a.remove (3) \n",
    "print (a)"
   ]
  },
  {
   "cell_type": "code",
   "execution_count": 30,
   "id": "acbf4361",
   "metadata": {},
   "outputs": [
    {
     "data": {
      "text/plain": [
       "dict_values(['Data Science', 'python', 2020, 4])"
      ]
     },
     "execution_count": 30,
     "metadata": {},
     "output_type": "execute_result"
    }
   ],
   "source": [
    "# dictionary keys must be unchangeable/immutable\n",
    "# set cannot be odered ie u can only add items to end of the set and not insert items between the set\n",
    "# sets \n",
    "\n",
    "my_dictionary = {\"knowledge\": \"Data Science\",\"tool\": \"python\",\"year\": 2020, 'week': 4 }\n",
    "my_dictionary.values()"
   ]
  },
  {
   "cell_type": "code",
   "execution_count": 46,
   "id": "fff5cbbd",
   "metadata": {},
   "outputs": [
    {
     "name": "stdout",
     "output_type": "stream",
     "text": [
      "{'a': 100, 'b': 200, 'c': 300, 'g': '345'}\n",
      "{'a': 100, 'b': 200, 'c': 300, 'g': '345', 'd': 300, 'e': 200, 'f ': 400}\n"
     ]
    }
   ],
   "source": [
    "d1 = {'a': 100, 'b': 200, 'c':300}\n",
    "d2 = {'d': 300, 'e': 200, 'f ':400}\n",
    "\n",
    "d1['g'] = '345'\n",
    "print (d1)\n",
    "\n",
    "d1.update (d2)\n",
    "print (d1)"
   ]
  },
  {
   "cell_type": "code",
   "execution_count": 61,
   "id": "a1b15943",
   "metadata": {
    "scrolled": true
   },
   "outputs": [
    {
     "name": "stdout",
     "output_type": "stream",
     "text": [
      "Sorted:\n",
      "[(4, 4, 2, 3), (2, 5, 4, 5), (1, 2, 5, 6), (2, 1, 6, 1), (6, 3, 7, 7)]\n"
     ]
    }
   ],
   "source": [
    "\n",
    "def position(n):    \n",
    "    return n[2]  # 0 represent first element\n",
    "   \n",
    "def arrange(a):\n",
    "    return sorted(a, key=position)\n",
    "   \n",
    "a= [(2, 5,4,5), (1, 2,5,6), (4, 4,2,3), (6, 3,7,7), (2, 1,6,1)]\n",
    "print(\"Sorted:\")\n",
    "print(arrange(a))"
   ]
  },
  {
   "cell_type": "code",
   "execution_count": 62,
   "id": "193460f0",
   "metadata": {},
   "outputs": [
    {
     "name": "stdout",
     "output_type": "stream",
     "text": [
      "[('item3', '24.5'), ('item2', '15.10'), ('item1', '12.20')]\n"
     ]
    }
   ],
   "source": [
    "\n",
    "listt = [('item1', '12.20'), ('item2', '15.10'), ('item3', '24.5')]\n",
    "print( sorted(listt, key=lambda x: float(x[1]), reverse=True))\n",
    "\n"
   ]
  },
  {
   "cell_type": "code",
   "execution_count": 55,
   "id": "9e9c7624",
   "metadata": {
    "scrolled": true
   },
   "outputs": [
    {
     "name": "stdout",
     "output_type": "stream",
     "text": [
      "[2002, 2009, 2016, 2023, 2037, 2044, 2051, 2058, 2072, 2079, 2086, 2093, 2107, 2114, 2121, 2128, 2142, 2149, 2156, 2163, 2177, 2184, 2191, 2198, 2212, 2219, 2226, 2233, 2247, 2254, 2261, 2268, 2282, 2289, 2296, 2303, 2317, 2324, 2331, 2338, 2352, 2359, 2366, 2373, 2387, 2394, 2401, 2408, 2422, 2429, 2436, 2443, 2457, 2464, 2471, 2478, 2492, 2499, 2506, 2513, 2527, 2534, 2541, 2548, 2562, 2569, 2576, 2583, 2597, 2604, 2611, 2618, 2632, 2639, 2646, 2653, 2667, 2674, 2681, 2688, 2702, 2709, 2716, 2723, 2737, 2744, 2751, 2758, 2772, 2779, 2786, 2793, 2807, 2814, 2821, 2828, 2842, 2849, 2856, 2863, 2877, 2884, 2891, 2898, 2912, 2919, 2926, 2933, 2947, 2954, 2961, 2968, 2982, 2989, 2996, 3003, 3017, 3024, 3031, 3038, 3052, 3059, 3066, 3073, 3087, 3094, 3101, 3108, 3122, 3129, 3136, 3143, 3157, 3164, 3171, 3178, 3192, 3199]\n"
     ]
    }
   ],
   "source": [
    "b = []\n",
    "for x in range (2000,3201):\n",
    "    if x%7 == 0 and x%5 != 0:\n",
    "        b.append(x)\n",
    "print (b)    "
   ]
  },
  {
   "cell_type": "code",
   "execution_count": 1,
   "id": "7c331d98",
   "metadata": {},
   "outputs": [
    {
     "name": "stdout",
     "output_type": "stream",
     "text": [
      "(1, 2, 3)\n",
      "<class 'tuple'>\n"
     ]
    }
   ],
   "source": [
    "def return_multiple_values():\n",
    "    return 1, 2, 3\n",
    " \n",
    " \n",
    "print(return_multiple_values())\n",
    "print(type(return_multiple_values()))"
   ]
  },
  {
   "cell_type": "code",
   "execution_count": 3,
   "id": "0dc7ccac",
   "metadata": {},
   "outputs": [
    {
     "name": "stdout",
     "output_type": "stream",
     "text": [
      "finally block\n",
      "hello try\n",
      "finally block\n",
      "hello except\n"
     ]
    }
   ],
   "source": [
    "#When return statement is executed inside a try-except block, the finally block code is executed first before returning the value to the caller.\n",
    "\n",
    "def hello():\n",
    "    try:\n",
    "        return 'hello try'\n",
    "    finally:\n",
    "        print('finally block')\n",
    " \n",
    " \n",
    "def hello_new():\n",
    "    try:\n",
    "        raise TypeError\n",
    "    except TypeError as te:\n",
    "        return 'hello except'\n",
    "    finally:\n",
    "        print('finally block')\n",
    " \n",
    " \n",
    "print(hello())\n",
    "print(hello_new())"
   ]
  },
  {
   "cell_type": "code",
   "execution_count": 4,
   "id": "8b4946f1",
   "metadata": {},
   "outputs": [
    {
     "name": "stdout",
     "output_type": "stream",
     "text": [
      "finally block\n",
      "hello from finally\n"
     ]
    }
   ],
   "source": [
    "#If the finally block has a return statement, then the earlier return statement gets ignored and the value from the finally block is returned.\n",
    "\n",
    "def hello():\n",
    "    try:\n",
    "        return 'hello try'\n",
    "    finally:\n",
    "        print('finally block')\n",
    "        return 'hello from finally'\n",
    " \n",
    " \n",
    "print(hello())"
   ]
  },
  {
   "cell_type": "code",
   "execution_count": 6,
   "id": "8910b47e",
   "metadata": {},
   "outputs": [
    {
     "name": "stdout",
     "output_type": "stream",
     "text": [
      "11\n"
     ]
    }
   ],
   "source": [
    "sum = lambda a,b,c : a+b+c\n",
    "print(sum(2,6,3)) #11"
   ]
  },
  {
   "cell_type": "code",
   "execution_count": 15,
   "id": "02137ece",
   "metadata": {},
   "outputs": [
    {
     "name": "stdout",
     "output_type": "stream",
     "text": [
      "20204\n",
      "3\n",
      "310\n"
     ]
    }
   ],
   "source": [
    "digits = lambda num : num[:5]   \n",
    "num = \"20204310\"\n",
    "print(digits(num)) # :5 returns 20204 (values before the 5th item)\n",
    "\n",
    "year = lambda ch : ch[5]   \n",
    "ch = \"20204310\"\n",
    "print(year(ch))    # 5 returns 3       (returns 5th item )\n",
    "\n",
    "year = lambda ch : ch[5:]   \n",
    "ch = \"20204310\"\n",
    "print(year(ch)) # 5: returns 310     (returns 5th item and beyond)"
   ]
  },
  {
   "cell_type": "code",
   "execution_count": 10,
   "id": "84595516",
   "metadata": {},
   "outputs": [
    {
     "name": "stdout",
     "output_type": "stream",
     "text": [
      "[4, 15, 15]\n"
     ]
    }
   ],
   "source": [
    "tuple1 = (1,7,6)\n",
    "tuple2 = (3,8,9)\n",
    "result = list(map(lambda a,b: a+b , tuple1 , tuple2))\n",
    "print (result)"
   ]
  },
  {
   "cell_type": "code",
   "execution_count": 30,
   "id": "1d018b90",
   "metadata": {
    "scrolled": false
   },
   "outputs": [
    {
     "name": "stdout",
     "output_type": "stream",
     "text": [
      "[4, 15, 15]\n"
     ]
    }
   ],
   "source": [
    "def function (a,b):\n",
    "    return a+b\n",
    "result = list(map(lambda a,b: a+b, tuple1, tuple2))\n",
    "print (result)\n"
   ]
  },
  {
   "cell_type": "code",
   "execution_count": 23,
   "id": "b55212b9",
   "metadata": {},
   "outputs": [
    {
     "name": "stdout",
     "output_type": "stream",
     "text": [
      "[4, 9, 9]\n"
     ]
    }
   ],
   "source": [
    "#OR\n",
    "tuple1 = (1,1,6)\n",
    "tuple2 = (3,8,3)\n",
    "result = list(map(lambda tuple1, tuple2: tuple1 + tuple2, tuple1, tuple2))\n",
    "print (result) "
   ]
  },
  {
   "cell_type": "code",
   "execution_count": 34,
   "id": "ad5e7e47",
   "metadata": {},
   "outputs": [
    {
     "name": "stdout",
     "output_type": "stream",
     "text": [
      "[2, 4, 6, 8]\n"
     ]
    }
   ],
   "source": [
    "# map(fun, iter)\n",
    "# Python program to demonstrate working of map.\n",
    "\n",
    "# Return double of n\n",
    "def addition(n):\n",
    "\treturn n + n\n",
    "\n",
    "# We double all numbers using map()\n",
    "numbers = (1, 2, 3, 4)\n",
    "result = map(addition, numbers)\n",
    "print(list(result))\n"
   ]
  },
  {
   "cell_type": "code",
   "execution_count": 35,
   "id": "f15a31a0",
   "metadata": {},
   "outputs": [
    {
     "name": "stdout",
     "output_type": "stream",
     "text": [
      "[2, 4, 6, 8]\n"
     ]
    }
   ],
   "source": [
    "# Double all numbers using map and lambda\n",
    "\n",
    "numbers = (1, 2, 3, 4)\n",
    "result = map(lambda x: x + x, numbers)\n",
    "print(list(result))\n"
   ]
  },
  {
   "cell_type": "code",
   "execution_count": 36,
   "id": "69e7bfe9",
   "metadata": {},
   "outputs": [
    {
     "name": "stdout",
     "output_type": "stream",
     "text": [
      "[5, 7, 9]\n"
     ]
    }
   ],
   "source": [
    "# Add two lists using map and lambda\n",
    "\n",
    "numbers1 = [1, 2, 3]\n",
    "numbers2 = [4, 5, 6]\n",
    "\n",
    "result = map(lambda x, y: x + y, numbers1, numbers2)\n",
    "print(list(result))\n"
   ]
  },
  {
   "cell_type": "code",
   "execution_count": 37,
   "id": "289d28ef",
   "metadata": {},
   "outputs": [
    {
     "name": "stdout",
     "output_type": "stream",
     "text": [
      "[['s', 'a', 't'], ['b', 'a', 't'], ['c', 'a', 't'], ['m', 'a', 't']]\n"
     ]
    }
   ],
   "source": [
    "# List of strings\n",
    "l = ['sat', 'bat', 'cat', 'mat']\n",
    "\n",
    "# map() can listify the list of strings individually\n",
    "test = list(map(list, l))\n",
    "print(test)\n"
   ]
  },
  {
   "cell_type": "markdown",
   "id": "7213f328",
   "metadata": {},
   "source": [
    "# CHECKPOINT 4\n"
   ]
  },
  {
   "cell_type": "code",
   "execution_count": 40,
   "id": "6a12e2ea",
   "metadata": {},
   "outputs": [
    {
     "name": "stdout",
     "output_type": "stream",
     "text": [
      "QUESTION 1\n",
      "Number of elements in the list : 3\n",
      "Enter elememts of the list : 20\n",
      "Enter elememts of the list : 35\n",
      "Enter elememts of the list : 19\n",
      "Maximum number :  35\n"
     ]
    }
   ],
   "source": [
    "print ('QUESTION 1')\n",
    "listt = []\n",
    "num = int(input('Number of elements in the list : '))\n",
    "for i in range(1 , num+1):\n",
    "    others= int(input('Enter elememts of the list : '))\n",
    "    listt.append(others)\n",
    "    \n",
    "print ('Maximum number : ' , max(listt))\n",
    "        \n"
   ]
  },
  {
   "cell_type": "code",
   "execution_count": 42,
   "id": "8f59b756",
   "metadata": {},
   "outputs": [
    {
     "name": "stdout",
     "output_type": "stream",
     "text": [
      "QUESTION 1\n",
      "List:20,35,19\n",
      "The list is  [20, 35, 19]\n",
      "The maximum element in the list is  35\n"
     ]
    }
   ],
   "source": [
    "print ('QUESTION 1')\n",
    "l=[ int(l) for l in input(\"List:\").split(\",\")]\n",
    "print(\"The list is \",l)\n",
    " \n",
    "# Assign first element as a minimum.\n",
    "max1 = l[0]\n",
    " \n",
    "for i in range(len(l)):\n",
    " \n",
    "    # If the other element is min than first element\n",
    "    if l[i] > max1:\n",
    "        max1 = l[i] #It will change\n",
    " \n",
    "print(\"The maximum element in the list is \",max1)"
   ]
  },
  {
   "cell_type": "code",
   "execution_count": 43,
   "id": "0b723b2f",
   "metadata": {},
   "outputs": [
    {
     "name": "stdout",
     "output_type": "stream",
     "text": [
      "QUESTION 2\n",
      "First element : 40\n",
      "Second element : 10\n",
      "(50, 30)\n"
     ]
    }
   ],
   "source": [
    "print ('QUESTION 2')\n",
    "n1 = int(input('First element : '))\n",
    "n2 = int(input('Second element : '))\n",
    "\n",
    "def add_and_minus():\n",
    "    return ((n1+n2) ,(n1-n2))\n",
    "print (add_and_minus())\n",
    "\n",
    " "
   ]
  },
  {
   "cell_type": "code",
   "execution_count": 45,
   "id": "04068533",
   "metadata": {},
   "outputs": [
    {
     "name": "stdout",
     "output_type": "stream",
     "text": [
      "QUESTION 2\n",
      "First element : 40\n",
      "Second element : 10\n",
      "50\n",
      "30\n"
     ]
    }
   ],
   "source": [
    "print ('QUESTION 2')\n",
    "n1 = int(input('First element : '))\n",
    "n2 = int(input('Second element : '))\n",
    "\n",
    "def addition():\n",
    "    return n1+n2  \n",
    "print (addition())\n",
    "\n",
    "def subtraction():\n",
    "    return n1-n2\n",
    "print (subtraction())\n",
    " "
   ]
  },
  {
   "cell_type": "code",
   "execution_count": 1,
   "id": "6c80c22b",
   "metadata": {},
   "outputs": [
    {
     "name": "stdout",
     "output_type": "stream",
     "text": [
      "QUESTION 3\n",
      "sum : 30\n",
      "product :  28350\n"
     ]
    }
   ],
   "source": [
    "print ('QUESTION 3')\n",
    "grand_list = [1,2,3,4,5,6,7,8,9,10]\n",
    "\n",
    "result = 0 \n",
    "for x in grand_list:\n",
    "    if x % 2 == 0:\n",
    "        result += x\n",
    "print ('sum :' , result)\n",
    "\n",
    "for x in grand_list:\n",
    "    if x % 2 != 0:\n",
    "        result *= x\n",
    "print ('product : ' , result)\n",
    "\n"
   ]
  },
  {
   "cell_type": "code",
   "execution_count": 4,
   "id": "9440c5b7",
   "metadata": {},
   "outputs": [
    {
     "name": "stdout",
     "output_type": "stream",
     "text": [
      "QUESTION 4\n",
      "List:green-red-yellow-black-white\n",
      "black-green-red-white-yellow\n"
     ]
    }
   ],
   "source": [
    "print('QUESTION 4')\n",
    "l=[ str(l) for l in input(\"List:\").split(\"-\")]\n",
    "\n",
    "l.sort() \n",
    "print('-'.join(l))   \n",
    "\n"
   ]
  },
  {
   "cell_type": "code",
   "execution_count": 2,
   "id": "d456fbac",
   "metadata": {},
   "outputs": [
    {
     "name": "stdout",
     "output_type": "stream",
     "text": [
      "QUESTION 4\n",
      "enter the string: green-red-yellow-black-white\n",
      "black-green-red-white-yellow\n"
     ]
    }
   ],
   "source": [
    "print ('QUESTION 4')\n",
    "n=input(\"enter the string: \") \n",
    "l=n.split('-') \n",
    "l.sort() \n",
    "print('-'.join(l)) "
   ]
  },
  {
   "cell_type": "code",
   "execution_count": 7,
   "id": "17236177",
   "metadata": {},
   "outputs": [
    {
     "name": "stdout",
     "output_type": "stream",
     "text": [
      "QUESTION 4\n",
      "Enter list : green-red-yellow-black-white\n"
     ]
    },
    {
     "data": {
      "text/plain": [
       "'black-green-red-white-yellow'"
      ]
     },
     "execution_count": 7,
     "metadata": {},
     "output_type": "execute_result"
    }
   ],
   "source": [
    "print ('QUESTION 4')\n",
    "def str_sort(string):\n",
    "  b = string.split('-')\n",
    "  b.sort()\n",
    "  c = '-'.join(b)\n",
    "  return c\n",
    "\n",
    "a = input('Enter list : ')\n",
    "str_sort(a)"
   ]
  },
  {
   "cell_type": "code",
   "execution_count": 115,
   "id": "ff46d8f2",
   "metadata": {},
   "outputs": [
    {
     "name": "stdout",
     "output_type": "stream",
     "text": [
      "QUESTION 5\n",
      "Enter list of numbers : 100,150,180\n",
      "['100', '150', '180']\n",
      "[18, 22, 24]\n"
     ]
    }
   ],
   "source": [
    "print ('QUESTION 5')  #Dont know what to do to answr question completely. \n",
    "import math \n",
    "\n",
    "D = input('Enter list of numbers : ').split(',')     #split accepts values in str form \n",
    "print (D) \n",
    "\n",
    "l = [] \n",
    " \n",
    "for i in D:\n",
    "    B =  round(math.sqrt((2 * 50 * int(i)/ 30 ))) \n",
    "    l.append(B)\n",
    "print (l)   \n"
   ]
  },
  {
   "cell_type": "code",
   "execution_count": 10,
   "id": "3d759d08",
   "metadata": {},
   "outputs": [
    {
     "name": "stdout",
     "output_type": "stream",
     "text": [
      "0.0\n",
      "2.0\n",
      "1.8708286933869707\n"
     ]
    }
   ],
   "source": [
    "# Python3 program to demonstrate the\n",
    "# sqrt() method\n",
    "\n",
    "# import the math module\n",
    "import math\n",
    "\n",
    "# print the square root of 0\n",
    "print(math.sqrt(0))\n",
    "\n",
    "# print the square root of 4\n",
    "print(math.sqrt(4))\n",
    "\n",
    "# print the square root of 3.5\n",
    "print(math.sqrt(3.5))\n"
   ]
  },
  {
   "cell_type": "code",
   "execution_count": 11,
   "id": "2ab7a96d",
   "metadata": {},
   "outputs": [
    {
     "name": "stdout",
     "output_type": "stream",
     "text": [
      "prime\n"
     ]
    }
   ],
   "source": [
    "# Python program for practical application of sqrt() function\n",
    "\n",
    "# import math module\n",
    "import math\n",
    "\n",
    "# function to check if prime or not\n",
    "def check(n):\n",
    "\tif n == 1:\n",
    "\t\treturn False\n",
    "\t\t\n",
    "\t\t# from 1 to sqrt(n)\n",
    "\tfor x in range(2, (int)(math.sqrt(n))+1):\n",
    "\t\tif n % x == 0:\n",
    "\t\t\treturn False\n",
    "\treturn True\n",
    "\n",
    "# driver code\n",
    "n = 23\n",
    "if check(n):\n",
    "\tprint(\"prime\")\n",
    "else:\n",
    "\tprint(\"not prime\")\n"
   ]
  },
  {
   "cell_type": "code",
   "execution_count": 2,
   "id": "e4b2a9a4",
   "metadata": {},
   "outputs": [
    {
     "name": "stdout",
     "output_type": "stream",
     "text": [
      "Blu is a bird\n",
      "Woo is also a bird\n",
      "Blu is 10 years old\n",
      "Woo is 15 years old\n"
     ]
    }
   ],
   "source": [
    "\n",
    "class Parrot:\n",
    "    # class attribute\n",
    "    species = \"bird\"\n",
    "\n",
    "    # instance attribute\n",
    "    def __init__(self, name, age):\n",
    "        self.name = name\n",
    "        self.age = age\n",
    "\n",
    "# instantiate the Parrot class\n",
    "blu = Parrot(\"Blu\", 10)\n",
    "woo = Parrot(\"Woo\", 15)\n",
    "\n",
    "# access the class attributes\n",
    "print(\"Blu is a {}\".format(blu.__class__.species))\n",
    "print(\"Woo is also a {}\".format(woo.__class__.species))\n",
    "\n",
    "# access the instance attributes\n",
    "print(\"{} is {} years old\".format( blu.name, blu.age))\n",
    "print(\"{} is {} years old\".format( woo.name, woo.age))"
   ]
  },
  {
   "cell_type": "code",
   "execution_count": 5,
   "id": "9a4e619f",
   "metadata": {},
   "outputs": [
    {
     "name": "stdout",
     "output_type": "stream",
     "text": [
      "This is my docstring, this explains brief about the class\n"
     ]
    }
   ],
   "source": [
    "class DemoClass:\n",
    "    \"\"\"This is my docstring, this explains brief about the class\"\"\"\n",
    "\n",
    "# this prints the docstring of the class\n",
    "print(DemoClass.__doc__)"
   ]
  },
  {
   "cell_type": "code",
   "execution_count": 2,
   "id": "b6ed125e",
   "metadata": {
    "scrolled": true
   },
   "outputs": [
    {
     "name": "stdout",
     "output_type": "stream",
     "text": [
      "100\n",
      "5000\n",
      "Hello World!\n",
      "This class demonstrates the creation of objects\n"
     ]
    }
   ],
   "source": [
    "class MyNewClass:\n",
    "    \"\"\"This class demonstrates the creation of objects\"\"\"\n",
    "\n",
    "    # instance attribute\n",
    "    num = 100\n",
    "    value = 5000\n",
    "    \n",
    "\n",
    "    # instance method\n",
    "    def hello(self):\n",
    "        print(\"Hello World!\")\n",
    "\n",
    "\n",
    "# creating object of MyNewClass\n",
    "obj = MyNewClass()\n",
    "\n",
    "# prints attribute value\n",
    "print(obj.num)\n",
    "print (obj.value)\n",
    "\n",
    "# calling method hello()\n",
    "obj.hello()\n",
    "\n",
    "# prints docstring\n",
    "print(MyNewClass.__doc__)\n"
   ]
  },
  {
   "cell_type": "code",
   "execution_count": 8,
   "id": "7ac6789b",
   "metadata": {},
   "outputs": [
    {
     "name": "stdout",
     "output_type": "stream",
     "text": [
      "Blu sings 'Happy'\n",
      "Blu is now dancing\n"
     ]
    }
   ],
   "source": [
    "class Parrot:\n",
    "    \n",
    "    # instance attributes\n",
    "    def __init__(self, name, age):\n",
    "        self.name = name\n",
    "        self.age = age\n",
    "    \n",
    "    # instance method\n",
    "    def sing(self, song):\n",
    "        return \"{} sings {}\".format(self.name, song)\n",
    "\n",
    "    def dance(self):\n",
    "        return \"{} is now dancing\".format(self.name)\n",
    "\n",
    "# instantiate the object\n",
    "blu = Parrot(\"Blu\", 10)\n",
    "\n",
    "# call our instance methods\n",
    "print(blu.sing(\"'Happy'\"))\n",
    "print(blu.dance())\n"
   ]
  },
  {
   "cell_type": "code",
   "execution_count": 4,
   "id": "7e5ce59b",
   "metadata": {},
   "outputs": [
    {
     "name": "stdout",
     "output_type": "stream",
     "text": [
      "Bird is ready\n",
      "Penguin is ready\n",
      "Bird\n",
      "Swim faster\n"
     ]
    }
   ],
   "source": [
    "# parent class\n",
    "class Bird:\n",
    "    def __init__(self):\n",
    "        print(\"Bird is ready\")\n",
    "\n",
    "    def whoisThis(self):\n",
    "        print(\"Bird\")\n",
    "    \n",
    "    def swim(self):\n",
    "        print(\"Swim faster\")\n",
    "\n",
    "# child class\n",
    "class Penguin(Bird):\n",
    "    def __init__(self):            \n",
    "        super().__init__()          # call super() function\n",
    "        print(\"Penguin is ready\")\n",
    "\n",
    "def whoisThis(self):\n",
    "    print(\"Penguin\")\n",
    "\n",
    "def run(self):\n",
    "    print(\"Run faster\")\n",
    "\n",
    "peggy = Penguin()\n",
    "peggy.whoisThis()\n",
    "peggy.swim()\n",
    "\n",
    "\n",
    "#In the above program, we created two classes i.e. Bird (parent class) and Penguin (child class). \n",
    "#The child class inherits the functions of parent class. We can see this from the swim() method.\n",
    "#Again, the child class modified the behavior of the parent class. We can see this from the whoisThis() method. \n",
    "#Furthermore, we extend the functions of the parent class, by creating a new run() method.  (peggy.run())"
   ]
  },
  {
   "cell_type": "code",
   "execution_count": 22,
   "id": "f25cd635",
   "metadata": {},
   "outputs": [
    {
     "name": "stdout",
     "output_type": "stream",
     "text": [
      "Blu sings 'Happy'\n",
      "Blu is now dancing\n",
      "20\n",
      "yay sings 'Never again'\n",
      "yay is now dancing\n",
      "yep sings 'Hone alone'\n",
      "yep is now dancing\n"
     ]
    }
   ],
   "source": [
    "class Parrot:\n",
    "    \n",
    "    # instance attributes\n",
    "    def __init__(self, name, age):\n",
    "        self.name = name\n",
    "        self.age = age\n",
    "    \n",
    "    # instance method\n",
    "    def sing(self, song):\n",
    "        return \"{} sings {}\".format(self.name, song)\n",
    "\n",
    "    def dance(self):\n",
    "        return \"{} is now dancing\".format(self.name)\n",
    "\n",
    "# instantiate the object\n",
    "blu = Parrot(\"Blu\", 10)\n",
    "yay = Parrot('yay', 26)\n",
    "yep = Parrot('yep', 43)\n",
    "\n",
    "# call our instance methods\n",
    "print(blu.sing(\"'Happy'\"))\n",
    "print(blu.dance())\n",
    "\n",
    "blu.age=20  # modify the age of blu from 10 to 20\n",
    "print (blu.age)\n",
    "\n",
    "print(yay.sing(\"'Never again'\"))\n",
    "print(yay.dance())\n",
    "\n",
    "del yay.age  #delete the age property from the yay object\n",
    "# print (yay.age) will display 'Parrot' object has no attribute 'age' but print (blu.age) still displasy 20\n",
    "\n",
    "print(yep.sing(\"'Hone alone'\"))\n",
    "print(yep.dance())\n",
    "\n",
    "del yep  # delete the yep object\n",
    "# print(yep.dance()) displays name 'yep' is not defined \n"
   ]
  },
  {
   "cell_type": "code",
   "execution_count": 28,
   "id": "44c73d67",
   "metadata": {},
   "outputs": [
    {
     "name": "stdout",
     "output_type": "stream",
     "text": [
      "Blu sings 'Happy'\n",
      "Blu is now dancing\n"
     ]
    },
    {
     "data": {
      "text/plain": [
       "False"
      ]
     },
     "execution_count": 28,
     "metadata": {},
     "output_type": "execute_result"
    }
   ],
   "source": [
    "class Parrot:\n",
    "    \n",
    "    # instance attributes\n",
    "    def __init__(self, name, age):\n",
    "        self.name = name\n",
    "        self.age = age\n",
    "    \n",
    "    # instance method\n",
    "    def sing(self, song):\n",
    "        return \"{} sings {}\".format(self.name, song)\n",
    "\n",
    "    def dance(self):\n",
    "        return \"{} is now dancing\".format(self.name)\n",
    "\n",
    "blu = Parrot(\"Blu\", 10) \n",
    "\n",
    "# call our instance methods\n",
    "print(blu.sing(\"'Happy'\"))\n",
    "print(blu.dance())\n",
    "\n",
    "#Now that we have a parrot class, let’s create some parrots!\n",
    "\n",
    "#Creating a new object from a class is called instantiating an object. You can instantiate a new parrot object by typing the name of the class, followed by opening and closing parentheses:\n",
    "\n",
    "Parrot('yay', 26)\n",
    "#You now have a new parrot object at 0x106702d30. \n",
    "#This funny-looking string of letters and numbers is a memory address that indicates where the parrot object is stored in your computer’s memory. \n",
    "#Note that the address you see on your screen will be different.\n",
    "\n",
    "#Now instantiate a second parrot object:\n",
    "\n",
    "Parrot('yep', 43)\n",
    "#The new parrot instance is located at a different memory address. \n",
    "#That’s because it’s an entirely new instance and is completely unique from the first parrot object that you instantiated.\n",
    "\n",
    "#To see this another way, type the following:\n",
    "\n",
    "a = Parrot('yay', 26)\n",
    "b = Parrot('yep', 43)\n",
    "a==b\n",
    "\n",
    "#In this code, you create two new parrot objects and assign them to the variables a and b. \n",
    "#When you compare a and b using the == operator, the result is False. \n",
    "#Even though a and b are both instances of the parrot class, they represent two distinct objects in memory.\n"
   ]
  },
  {
   "cell_type": "code",
   "execution_count": 30,
   "id": "64ba69fb",
   "metadata": {},
   "outputs": [
    {
     "data": {
      "text/plain": [
       "False"
      ]
     },
     "execution_count": 30,
     "metadata": {},
     "output_type": "execute_result"
    }
   ],
   "source": [
    "class parrot:\n",
    "    def hello(self):\n",
    "        print ('welcome')\n",
    "\n",
    "parrot() \n",
    "parrot()\n",
    "\n",
    "a=parrot()\n",
    "b= parrot()\n",
    "a==b"
   ]
  },
  {
   "cell_type": "code",
   "execution_count": 5,
   "id": "bea344f9",
   "metadata": {},
   "outputs": [
    {
     "name": "stdout",
     "output_type": "stream",
     "text": [
      "Welcome to Deposit & Withdrawal Machine!\n",
      "Enter amount to be deposited: 50000\n",
      "Amount Deposited:  50000.0\n",
      "Enter amount to withdraw: 4000\n",
      "You withdraw:  4000.0\n",
      "Net Available Balance= 46000.0\n"
     ]
    }
   ],
   "source": [
    "#Creating bank account class with deposit and withdraw function.\n",
    "#Step 1: Create a class Bank_Acccount. Then define a function using __init__ with default argument self. This keyword is used in Python to initialize attributes of the class when an object of that class is created. This step is followed by initializing the balance as 0.\n",
    "\n",
    "class Bank_Account:\n",
    "    def __init__(self):\n",
    "        self.balance=0\n",
    "        print(\"Welcome to Deposit & Withdrawal Machine!\")\n",
    "        \n",
    "#Step 2: Now we have to create a function deposit such that the amount of money is taken by input using float and is then added to the balance. Then the amount deposited will be displayed using the print statement in the next line as shown in the code below:\n",
    "\n",
    "    def deposit(self):\n",
    "        amount=float(input(\"Enter amount to be deposited: \"))\n",
    "        self.balance += amount\n",
    "        print(\"Amount Deposited: \",amount)\n",
    "\n",
    "#Step 3: Just like step 2, we are going to create another function withdraw in which we are going to take float input for the amount to get withdraw. \n",
    "#We are using an if condition here just to check if we have sufficient balance available to perform a withdrawal of any amount from the account. \n",
    "#If the balance is not sufficient then our class will show “Insufficient balance”.\n",
    "\n",
    "    def withdraw(self):\n",
    "        amount = float(input(\"Enter amount to withdraw: \"))\n",
    "        if self.balance>=amount:\n",
    "            self.balance-=amount\n",
    "            print(\"You withdraw: \",amount)\n",
    "        else:\n",
    "            print(\"Insufficient balance \")\n",
    "\n",
    "#Step 4: Now we are going to create our final function which is display function. It will display the final balance of the account after withdrawal and deposit.\n",
    "\n",
    "    def display(self):\n",
    "        print(\"Net Available Balance=\",self.balance)\n",
    "\n",
    "#Step 5: As a final step we are going to create an object of our class so that we can call all the functions with that class to execute our code.\n",
    "\n",
    "#creating an object of class\n",
    "s = Bank_Account()\n",
    "#calling functions with that class\n",
    "s.deposit()\n",
    "s.withdraw()\n",
    "s.display()"
   ]
  },
  {
   "cell_type": "markdown",
   "id": "6f699d9d",
   "metadata": {},
   "source": [
    "## Checkpoint 5"
   ]
  },
  {
   "cell_type": "code",
   "execution_count": 12,
   "id": "5bfa4458",
   "metadata": {},
   "outputs": [
    {
     "name": "stdout",
     "output_type": "stream",
     "text": [
      "Question 1\n",
      "1,2,3\n"
     ]
    }
   ],
   "source": [
    "print ('Question 1')  \n",
    "class Point3D():\n",
    "    def __init__(self,x,y,z):\n",
    "        self.x=x\n",
    "        self.y=y\n",
    "        self.z=z\n",
    "        \n",
    "    def method(self,x,y,z):\n",
    "        return '{},{},{}'.format(self.x,self.y,self.z)\n",
    "    \n",
    "\n",
    "my_point= Point3D(1,2,3)\n",
    "print (my_point.method(1,2,3))   #not sure why i need to input 1,2,3, again"
   ]
  },
  {
   "cell_type": "code",
   "execution_count": 9,
   "id": "6658a877",
   "metadata": {},
   "outputs": [
    {
     "name": "stdout",
     "output_type": "stream",
     "text": [
      "Question 2\n",
      "Area = 12\n",
      "Perimeter = 14 cm\n"
     ]
    }
   ],
   "source": [
    "print('Question 2')\n",
    "class Rectangle():\n",
    "    def __init__(self, l, w):\n",
    "        self.length = l\n",
    "        self.width  = w\n",
    "\n",
    "    def area(self):\n",
    "        return self.length*self.width\n",
    "    def perimeter(self):\n",
    "        return (2*(self.length+self.width))\n",
    "\n",
    "my_Rectangle = Rectangle(4, 3)\n",
    "print('Area =', my_Rectangle.area())    #dont know how to imput cm^2 unit\n",
    "print('Perimeter =', my_Rectangle.perimeter() , 'cm')"
   ]
  },
  {
   "cell_type": "code",
   "execution_count": 118,
   "id": "afc52bcb",
   "metadata": {},
   "outputs": [
    {
     "name": "stdout",
     "output_type": "stream",
     "text": [
      "QUESTION 3\n",
      "I am the circle class and i have just been initialized.\n",
      "I am the circle class and i have just been initialized.\n",
      "Area =  79\n",
      "Circumference =  31\n"
     ]
    }
   ],
   "source": [
    "print ('QUESTION 3')\n",
    "import math\n",
    "class Circle():\n",
    "  \n",
    "    \n",
    "    def __init__(self,radius):\n",
    "        self._radius = radius\n",
    "        print(\"I am the circle class and i have just been initialized.\")\n",
    "    \n",
    "    def area(self):\n",
    "        return round((math.pi*self._radius*self._radius)) \n",
    "    def perimeter(self):\n",
    "        return round(2*math.pi*self._radius) \n",
    "    \n",
    "    def distance(self,a, b, x, y):\n",
    "        d = math.sqrt (self._radius**2 - ((x-a)^2 + (y-b)^2))\n",
    "        if (d>0): \n",
    "            print(\"The point is inside the circle\")\n",
    "        elif (d==0):\n",
    "            print(\"The point is on the circle's circumference\")\n",
    "        else:\n",
    "            print(\"The point is outside the circle\")\n",
    "    \n",
    "    \n",
    "center = Circle(5)            #first initialization\n",
    "another_center = Circle(10)   #second intiliazation \n",
    "print('Area = ',center.area())\n",
    "print ('Circumference = ', center.perimeter())"
   ]
  },
  {
   "cell_type": "code",
   "execution_count": 119,
   "id": "1c05d78a",
   "metadata": {},
   "outputs": [
    {
     "name": "stdout",
     "output_type": "stream",
     "text": [
      "I am the circle class and i have just been initialized.\n"
     ]
    }
   ],
   "source": [
    "test_center = Circle(5)"
   ]
  },
  {
   "cell_type": "code",
   "execution_count": 120,
   "id": "4620ec10",
   "metadata": {},
   "outputs": [
    {
     "name": "stdout",
     "output_type": "stream",
     "text": [
      "I am the circle class and i have just been initialized.\n"
     ]
    }
   ],
   "source": [
    "another_centre = Circle(10)"
   ]
  },
  {
   "cell_type": "code",
   "execution_count": 121,
   "id": "fc99fd19",
   "metadata": {},
   "outputs": [
    {
     "data": {
      "text/plain": [
       "['__class__',\n",
       " '__delattr__',\n",
       " '__dict__',\n",
       " '__dir__',\n",
       " '__doc__',\n",
       " '__eq__',\n",
       " '__format__',\n",
       " '__ge__',\n",
       " '__getattribute__',\n",
       " '__gt__',\n",
       " '__hash__',\n",
       " '__init__',\n",
       " '__init_subclass__',\n",
       " '__le__',\n",
       " '__lt__',\n",
       " '__module__',\n",
       " '__ne__',\n",
       " '__new__',\n",
       " '__reduce__',\n",
       " '__reduce_ex__',\n",
       " '__repr__',\n",
       " '__setattr__',\n",
       " '__sizeof__',\n",
       " '__str__',\n",
       " '__subclasshook__',\n",
       " '__weakref__',\n",
       " 'area',\n",
       " 'distance',\n",
       " 'perimeter']"
      ]
     },
     "execution_count": 121,
     "metadata": {},
     "output_type": "execute_result"
    }
   ],
   "source": [
    "dir(Circle)"
   ]
  },
  {
   "cell_type": "code",
   "execution_count": 11,
   "id": "fd16b82a",
   "metadata": {
    "scrolled": true
   },
   "outputs": [
    {
     "name": "stdout",
     "output_type": "stream",
     "text": [
      "Question 4\n",
      "Welcome to Deposit & Withdrawal Machine!\n",
      "\n",
      "Enter amount to be deposited : 100000\n",
      "Amount deposited =  100000.0\n",
      "\n",
      "Enter amount for withdrawal : 3000\n",
      "Amount withdrawn =  3000.0\n",
      "\n",
      "Net balance =  97000.0\n"
     ]
    }
   ],
   "source": [
    "print ('Question 4')\n",
    "class Bank_Account:\n",
    "    def __init__(self):\n",
    "        self.balance=0\n",
    "        print(\"Welcome to Deposit & Withdrawal Machine!\")\n",
    "        \n",
    "    def deposit(self):\n",
    "        amount = float(input('\\nEnter amount to be deposited : '))\n",
    "        self.balance += amount\n",
    "        print ('Amount deposited = ', amount)\n",
    "        \n",
    "    def withdraw(self):\n",
    "        amount = float(input('\\nEnter amount for withdrawal : '))\n",
    "        if self.balance>= amount:\n",
    "            self.balance -= amount\n",
    "            print ('Amount withdrawn = ', amount)\n",
    "        else:\n",
    "            print(\"Insufficient balance \")\n",
    "            \n",
    "    def display(self):               #need to learn how to display negative values \n",
    "            print ('\\nNet balance = ', self.balance)\n",
    "        \n",
    "account = Bank_Account()\n",
    "account.deposit()\n",
    "account.withdraw()\n",
    "account.display()"
   ]
  },
  {
   "cell_type": "code",
   "execution_count": 25,
   "id": "6509dce6",
   "metadata": {},
   "outputs": [],
   "source": [
    "#But before we get started with NumpPy, we need to import the specific package often designated by np :\n",
    "\n",
    "#  import numpy as np\n",
    "\n",
    "# We usually rename numpy by np just to make manipulations easier.\n",
    "\n",
    "# One dimensional array     new_array=np.array([1,2,3])\n",
    "# Multi dimensional array   new_array=np.array([[1,2,3],[4,5,6]])\n"
   ]
  },
  {
   "cell_type": "code",
   "execution_count": 12,
   "id": "fa9abdb3",
   "metadata": {},
   "outputs": [
    {
     "data": {
      "text/plain": [
       "6"
      ]
     },
     "execution_count": 12,
     "metadata": {},
     "output_type": "execute_result"
    }
   ],
   "source": [
    "import numpy as np\n",
    "a = np.array([(1, 2), (3, 4), (5,6)])\n",
    "a.shape #it returns (3,2) where 3 number of lines, and 2 number of columns\n",
    "a.size"
   ]
  },
  {
   "cell_type": "code",
   "execution_count": 13,
   "id": "dec687f5",
   "metadata": {
    "scrolled": true
   },
   "outputs": [
    {
     "name": "stdout",
     "output_type": "stream",
     "text": [
      "[[0 0 0 0]\n",
      " [1 0 0 0]]\n"
     ]
    },
    {
     "data": {
      "text/plain": [
       "8"
      ]
     },
     "execution_count": 13,
     "metadata": {},
     "output_type": "execute_result"
    }
   ],
   "source": [
    "import numpy as n\n",
    "a =n.array([0,0,0,0,1,0,0,0])\n",
    "b = a.reshape(2,4)\n",
    "print (b)\n",
    "b.size"
   ]
  },
  {
   "cell_type": "markdown",
   "id": "53211f7e",
   "metadata": {},
   "source": [
    "There is a very easy way to print superscripts and subscripts using Unicode characters. Do the following:\n",
    "\n",
    "Press alt+f2\n",
    "Type \"charmap\"\n",
    "On doing so, you'll get tons of characters including subscripts, superscripts, etc. On the bottom left end of the window, you'd see something like 'U-xxxx' where x can be any alpha-numeric character(e.g 1,2,A,B..).\n",
    "\n",
    "For example:\n",
    "\n",
    "If you want to print a string x^2, you should write the string as:\n",
    "\n",
    "'x\\u00b2', where u00b2 is 'U+00B2' shown in the Character Map."
   ]
  },
  {
   "cell_type": "code",
   "execution_count": 6,
   "id": "79462c89",
   "metadata": {},
   "outputs": [
    {
     "data": {
      "text/plain": [
       "'cm²'"
      ]
     },
     "execution_count": 6,
     "metadata": {},
     "output_type": "execute_result"
    }
   ],
   "source": [
    "#how to input superscript\n",
    "'cm\\u00b2'"
   ]
  },
  {
   "cell_type": "markdown",
   "id": "75c3d985",
   "metadata": {},
   "source": [
    "Indexing in Numpy\n",
    "As you know items in a NumPy array are stored at a specific index\n",
    "Let's create a 2 dimentional array together :\n",
    "\n",
    "a = np.array([[0,1,2],[3,4,5],[6,7,8]])\n",
    "This is how your array is stored :Since 2 is in the first row and third column this is how we do it :\n",
    "\n",
    "print(a[0,2])\n",
    "Remember that Arrays in Python always start with 0.\n"
   ]
  },
  {
   "cell_type": "code",
   "execution_count": 2,
   "id": "197c1bdb",
   "metadata": {
    "scrolled": true
   },
   "outputs": [
    {
     "name": "stdout",
     "output_type": "stream",
     "text": [
      "2\n"
     ]
    }
   ],
   "source": [
    "import numpy as np\n",
    "a = np.array([[0,1,2],[3,4,5],[6,7,8]]) \n",
    "# 2 is in the first row and third column\n",
    "print (a[0,2])"
   ]
  },
  {
   "cell_type": "markdown",
   "id": "4d0b109d",
   "metadata": {},
   "source": [
    "Slicing in NumPy\n",
    "Since we have an array with 3 row and 3 columns we start with 0 and end with 2 for column/row numbers.\n",
    "\n",
    "Get a row\n",
    "This is how we will get the second row :\n",
    "\n",
    "print(a[1,:])\n",
    "The output is 1 dimentional array.\n",
    "Get a column\n",
    "This is how we will get the last column :\n",
    "\n",
    "print(a[:, 2])\n",
    "#if you dont know how many columns you have dont worry!\n",
    "print(a[:,-1])\n",
    "The output is 1 dimentional array.\n"
   ]
  },
  {
   "cell_type": "code",
   "execution_count": 3,
   "id": "ea0f3f81",
   "metadata": {
    "scrolled": true
   },
   "outputs": [
    {
     "name": "stdout",
     "output_type": "stream",
     "text": [
      "[0 1 2]\n",
      "[3 4 5]\n",
      "[6 7 8]\n",
      "[0 3 6]\n",
      "[0 3 6]\n",
      "[1 4 7]\n",
      "[1 4 7]\n",
      "[2 5 8]\n",
      "[2 5 8]\n"
     ]
    }
   ],
   "source": [
    "a = np.array([[0,1,2],[3,4,5],[6,7,8]]) \n",
    "\n",
    "# This is how we will get the first row\n",
    "print(a[0,:])\n",
    "# This is how we will get the second row\n",
    "print(a[1,:]) \n",
    "# This is how we will get the second row\n",
    "print(a[2,:])\n",
    "\n",
    "\n",
    "# This is how we will get the first column\n",
    "print(a[:, 0]) \n",
    "print(a[:,-3])\n",
    "# # This is how we will get the second column\n",
    "print(a[:, 1]) \n",
    "print(a[:,-2])\n",
    "# This is how we will get the third column\n",
    "print(a[:, 2]) \n",
    "print(a[:,-1])"
   ]
  },
  {
   "cell_type": "markdown",
   "id": "1ad5ad7c",
   "metadata": {},
   "source": [
    "iNumPy random\n",
    "NumPy also provides many functions to create arrays:\n",
    "\n",
    "random.random() function returns random integers between 0 and 1.\n",
    "\n",
    "import numpy as np\n",
    "value=np.random.random()\n",
    "print(value)\n",
    "We can also create arrays that contains random values between 0 and 1 by specifying the shape of the array.\n",
    "\n",
    "import numpy as np\n",
    "array=np.random.random((2,2))\n",
    "print(array)"
   ]
  },
  {
   "cell_type": "code",
   "execution_count": 14,
   "id": "2a34fdc9",
   "metadata": {},
   "outputs": [
    {
     "name": "stdout",
     "output_type": "stream",
     "text": [
      "0.07331120339667796\n"
     ]
    }
   ],
   "source": [
    "import numpy as np\n",
    "value=np.random.random() #random.random() function returns random integers between 0 and 1.\n",
    "print(value)\n"
   ]
  },
  {
   "cell_type": "code",
   "execution_count": 16,
   "id": "e1cc665a",
   "metadata": {},
   "outputs": [
    {
     "name": "stdout",
     "output_type": "stream",
     "text": [
      "[[0.76319562 0.13465323]\n",
      " [0.81295441 0.02839341]\n",
      " [0.9124578  0.82305579]]\n"
     ]
    }
   ],
   "source": [
    "import numpy as np\n",
    "array=np.random.random((3,2))\n",
    "print(array)"
   ]
  },
  {
   "cell_type": "code",
   "execution_count": 25,
   "id": "1ba11f80",
   "metadata": {},
   "outputs": [
    {
     "name": "stdout",
     "output_type": "stream",
     "text": [
      "[[54 89 49 78 49 93 38]\n",
      " [ 4 20 12 86 75 50 29]]\n"
     ]
    }
   ],
   "source": [
    "import numpy as np\n",
    "#With random.randint() function we will create an array that contains random integers between\n",
    "# a minimum value and a maximum value with a specified shape\n",
    "array=np.random.randint(1 , 100, size=(2,7))\n",
    "print(array)"
   ]
  },
  {
   "cell_type": "code",
   "execution_count": 7,
   "id": "47780c1d",
   "metadata": {},
   "outputs": [
    {
     "name": "stdout",
     "output_type": "stream",
     "text": [
      "[[ 1  2  3  4  5  6]\n",
      " [ 7  8  9 10 11 12]]\n",
      "[[0 0 0]\n",
      " [0 0 0]]\n",
      "[[0 0 0 0 0 0 0 0 0 0 0 0 0 0 0 0 0 0 0 0 0 0 0 0 0 0 0 0 0 0]\n",
      " [0 0 0 0 0 0 0 0 0 0 0 0 0 0 0 0 0 0 0 0 0 0 0 0 0 0 0 0 0 0]\n",
      " [0 0 0 0 0 0 0 0 0 0 0 0 0 0 0 0 0 0 0 0 0 0 0 0 0 0 0 0 0 0]]\n"
     ]
    }
   ],
   "source": [
    "import numpy as np\n",
    "a=np.array([[1,2,3,4,5,6],[7,8,9,10,11,12]])\n",
    "print (a)\n",
    "b=np.array([[0,0,0],[0,0,0]])\n",
    "print (b)\n",
    "c= np.array([[0,0,0,0,0,0,0,0,0,0,0,0,0,0,0,0,0,0,0,0,0,0,0,0,0,0,0,0,0,0]\n",
    ",[0,0,0,0,0,0,0,0,0,0,0,0,0,0,0,0,0,0,0,0,0,0,0,0,0,0,0,0,0,0]\n",
    ",[0,0,0,0,0,0,0,0,0,0,0,0,0,0,0,0,0,0,0,0,0,0,0,0,0,0,0,0,0,0]])\n",
    "print (c)\n"
   ]
  },
  {
   "cell_type": "code",
   "execution_count": 10,
   "id": "064733b6",
   "metadata": {},
   "outputs": [
    {
     "data": {
      "text/plain": [
       "array([[0., 0., 0., 0., 0., 0., 0., 0., 0., 0., 0., 0., 0., 0., 0., 0.,\n",
       "        0., 0., 0., 0., 0., 0., 0., 0., 0., 0., 0., 0., 0., 0.],\n",
       "       [0., 0., 0., 0., 0., 0., 0., 0., 0., 0., 0., 0., 0., 0., 0., 0.,\n",
       "        0., 0., 0., 0., 0., 0., 0., 0., 0., 0., 0., 0., 0., 0.],\n",
       "       [0., 0., 0., 0., 0., 0., 0., 0., 0., 0., 0., 0., 0., 0., 0., 0.,\n",
       "        0., 0., 0., 0., 0., 0., 0., 0., 0., 0., 0., 0., 0., 0.]])"
      ]
     },
     "execution_count": 10,
     "metadata": {},
     "output_type": "execute_result"
    }
   ],
   "source": [
    "np.zeros(90). reshape ((3,30))"
   ]
  },
  {
   "cell_type": "markdown",
   "id": "2702b630",
   "metadata": {},
   "source": [
    "You basically call the function with the code numpy.zeros().\n",
    "\n",
    "Then inside the zeros() function, there is a set of arguments. The first positional argument is a tuple of values that specifies the dimensions of the new array.\n",
    "\n",
    "Next, there’s an argument that enables you to specify the data type. If you don’t specify a data type, np.zeros() will use floats by default."
   ]
  },
  {
   "cell_type": "code",
   "execution_count": 29,
   "id": "75da6c95",
   "metadata": {},
   "outputs": [
    {
     "name": "stdout",
     "output_type": "stream",
     "text": [
      "[0. 0. 0. 0. 0.]\n",
      "[0 0 0 0 0]\n",
      "[[0. 0. 0. 0. 0.]\n",
      " [0. 0. 0. 0. 0.]]\n",
      "[[0. 0. 0. 0. 0.]\n",
      " [0. 0. 0. 0. 0.]]\n",
      "[[0 0 0 0 0]\n",
      " [0 0 0 0 0]]\n",
      "[[[0 0 0 0 0]\n",
      "  [0 0 0 0 0]]\n",
      "\n",
      " [[0 0 0 0 0]\n",
      "  [0 0 0 0 0]]\n",
      "\n",
      " [[0 0 0 0 0]\n",
      "  [0 0 0 0 0]]]\n"
     ]
    }
   ],
   "source": [
    "np.zeros(5)\n",
    "print (np.zeros(5))\n",
    "np.zeros(5, dtype = int)\n",
    "print (np.zeros(5, dtype = int))\n",
    "np.zeros(5, dtype = int).dtype\n",
    "\n",
    "np.zeros(shape = (2, 5))\n",
    "print (np.zeros(shape = (2, 5)))\n",
    "#or\n",
    "np.zeros((2, 5))\n",
    "print (np.zeros((2, 5)))\n",
    "\n",
    "np.zeros(shape = (2, 5), dtype = 'int')\n",
    "print (np.zeros(shape = (2, 5), dtype = 'int'))\n",
    "\n",
    "np.zeros(shape = (3, 2, 5), dtype = 'int')\n",
    "print (np.zeros(shape = (3, 2, 5), dtype = 'int'))"
   ]
  },
  {
   "cell_type": "markdown",
   "id": "0004e05d",
   "metadata": {},
   "source": [
    "numpy.full\n",
    "numpy.full(shape, fill_value, dtype=None, order='C', *, like=None)[source]\n",
    "Return a new array of given shape and type, filled with fill_value.\n",
    "\n",
    "Parameters\n",
    "shapeint or sequence of ints\n",
    "Shape of the new array, e.g., (2, 3) or 2.\n",
    "\n",
    "fill_valuescalar or array_like\n",
    "Fill value.\n",
    "\n",
    "dtypedata-type, optional\n",
    "The desired data-type for the array The default, None, means\n",
    "np.array(fill_value).dtype.\n",
    "\n",
    "order{‘C’, ‘F’}, optional\n",
    "Whether to store multidimensional data in C- or Fortran-contiguous (row- or column-wise) order in memory.\n",
    "\n",
    "likearray_like\n",
    "Reference object to allow the creation of arrays which are not NumPy arrays. If an array-like passed in as like supports the __array_function__ protocol, the result will be defined by it. In this case, it ensures the creation of an array object compatible with that passed in via this argument.\n",
    "\n",
    "New in version 1.20.0.\n",
    "\n",
    "Returns\n",
    "outndarray\n",
    "Array of fill_value with the given shape, dtype, and order.\n",
    "\n",
    "See also\n",
    "\n",
    "full_like\n",
    "Return a new array with shape of input filled with value.\n",
    "\n",
    "empty\n",
    "Return a new uninitialized array.\n",
    "\n",
    "ones\n",
    "Return a new array setting values to one.\n",
    "\n",
    "zeros\n",
    "Return a new array setting values to zero"
   ]
  },
  {
   "cell_type": "code",
   "execution_count": 73,
   "id": "46c5fc79",
   "metadata": {},
   "outputs": [
    {
     "name": "stdout",
     "output_type": "stream",
     "text": [
      "[0 0 0]\n",
      "[[5 5 5]\n",
      " [5 5 5]]\n",
      "[6 6 6 6]\n"
     ]
    }
   ],
   "source": [
    "#Zeros and Full function\n",
    "#Zeros function returns a new array of a given shape and type filled with zeros:\n",
    "array=np.zeros(3, dtype = int)\n",
    "print(array)\n",
    "\n",
    "#Full function returns a new array of a given shape and type filled with fill_value :\n",
    "array=np.full((2,3), 5)\n",
    "print(array)\n",
    "\n",
    "array=np.full(4, 6)\n",
    "print(array)"
   ]
  },
  {
   "cell_type": "code",
   "execution_count": 9,
   "id": "73a92102",
   "metadata": {},
   "outputs": [
    {
     "name": "stdout",
     "output_type": "stream",
     "text": [
      "[[inf inf]\n",
      " [inf inf]]\n",
      "[['b' 'b' 'b' 'b' 'b' 'b']\n",
      " ['b' 'b' 'b' 'b' 'b' 'b']]\n",
      "[[3 5 8]\n",
      " [3 5 8]]\n"
     ]
    }
   ],
   "source": [
    "import numpy as np\n",
    "a = np.full((2, 2), np.inf)\n",
    "print (a)\n",
    "\n",
    "b= np.full((2, 6), 'bored' , dtype = str )\n",
    "print (b)\n",
    "\n",
    "c = np.full((2, 3) , [3, 5,8])\n",
    "print (c)"
   ]
  },
  {
   "cell_type": "code",
   "execution_count": 78,
   "id": "05f02f87",
   "metadata": {},
   "outputs": [
    {
     "name": "stdout",
     "output_type": "stream",
     "text": [
      "[[1 0 0 0]\n",
      " [0 1 0 0]\n",
      " [0 0 1 0]\n",
      " [0 0 0 1]]\n",
      "[1 1 1 1 1 1 1 1 1 1]\n"
     ]
    }
   ],
   "source": [
    "#Eye and Ones Functions\n",
    "#Eye function returns a 2D array with ones on the diagonal and zeros elsewhere :\n",
    "array=np.eye(4 , dtype = int)\n",
    "print(array)\n",
    "\n",
    "#Ones function returns a new array of given shape and type filled with ones :\n",
    "array=np.ones(10, dtype= int)\n",
    "print(array)"
   ]
  },
  {
   "cell_type": "code",
   "execution_count": 92,
   "id": "ca0c0279",
   "metadata": {},
   "outputs": [
    {
     "name": "stdout",
     "output_type": "stream",
     "text": [
      "[[ 6. 13.]\n",
      " [10. 14.]]\n",
      "[[ 6. 13.]\n",
      " [10. 14.]]\n"
     ]
    }
   ],
   "source": [
    "#NumPy addition\n",
    "#First, let's start by creating two arrays :\n",
    "\n",
    "import numpy as np\n",
    "x=np.array([[1,7],[3,4]], dtype=np.float64)  # x and y must have the same shape \n",
    "y=np.array([[5,6],[7,10]], dtype=np.float64)  # without dtype=np.float64 there will be no '.'\n",
    "\n",
    "#The function add returns the sum of two arrays :\n",
    "\n",
    "#First method:\n",
    "a=np.add(x, y)\n",
    "print (a)\n",
    "\n",
    "#Second method:\n",
    "b=x+y\n",
    "print (b)"
   ]
  },
  {
   "cell_type": "code",
   "execution_count": 95,
   "id": "315dc785",
   "metadata": {},
   "outputs": [
    {
     "name": "stdout",
     "output_type": "stream",
     "text": [
      "[[-4.  1.]\n",
      " [-4. -6.]]\n",
      "[[-4.  1.]\n",
      " [-4. -6.]]\n"
     ]
    }
   ],
   "source": [
    "#NumPy Subtract\n",
    "#The function subtract returns the difference between two numpy arrays\n",
    "\n",
    "#First method:\n",
    "a=np.subtract(x, y)\n",
    "print (a)\n",
    "\n",
    "#Second method:\n",
    "b=x-y \n",
    "print (b)\n",
    "\n"
   ]
  },
  {
   "cell_type": "code",
   "execution_count": 96,
   "id": "09d57484",
   "metadata": {
    "scrolled": true
   },
   "outputs": [
    {
     "name": "stdout",
     "output_type": "stream",
     "text": [
      "Add:\n",
      "5.0\n",
      "Subtract:\n",
      "-3.0\n",
      "Multiply:\n",
      "4.0\n",
      "Divide:\n",
      "0.25\n"
     ]
    }
   ],
   "source": [
    "import numpy as np\n",
    "print(\"Add:\")\n",
    "print(np.add(1.0, 4.0))\n",
    "print(\"Subtract:\")\n",
    "print(np.subtract(1.0, 4.0))\n",
    "print(\"Multiply:\")\n",
    "print(np.multiply(1.0, 4.0))\n",
    "print(\"Divide:\")\n",
    "print(np.divide(1.0, 4.0))\n"
   ]
  },
  {
   "cell_type": "code",
   "execution_count": 114,
   "id": "0daf143f",
   "metadata": {
    "scrolled": true
   },
   "outputs": [
    {
     "name": "stdout",
     "output_type": "stream",
     "text": [
      "sum =  7\n",
      "7\n",
      "minus =  -1\n",
      "-1\n",
      "multiply =  12\n",
      "12\n",
      "divide =  0\n",
      "0.75\n"
     ]
    }
   ],
   "source": [
    "x = np.array( 3 )\n",
    "y = np.array( 4 )\n",
    "\n",
    "\n",
    "print('sum = ' ,  x+y)\n",
    "print(np.add(x,y))\n",
    "\n",
    "print('minus = ' ,  x-y)\n",
    "print(np.subtract(x,y))\n",
    "\n",
    "print('multiply = ' ,  x*y)\n",
    "print(np.multiply(x,y))\n",
    "\n",
    "print('divide = ' ,  x//y)   # floor division '//' approximates to nearest integer\n",
    "print(np.divide(x,y))"
   ]
  },
  {
   "cell_type": "code",
   "execution_count": 1,
   "id": "09297c6b",
   "metadata": {},
   "outputs": [
    {
     "name": "stdout",
     "output_type": "stream",
     "text": [
      "[45, 34, 67]\n"
     ]
    }
   ],
   "source": [
    "from array import *\n",
    "def array_list(array_num):\n",
    "\tnum_list = array_num.tolist() # list\n",
    "\tprint(num_list)\n",
    "\n",
    "# driver code\n",
    "array_num = array('i', [45,34,67]) # array\n",
    "array_list(array_num)\n"
   ]
  },
  {
   "cell_type": "code",
   "execution_count": 5,
   "id": "f451153e",
   "metadata": {
    "scrolled": true
   },
   "outputs": [
    {
     "name": "stdout",
     "output_type": "stream",
     "text": [
      "Original array: array('i', [1, 3, 5, 3, 7, 1, 9, 3])\n",
      "Convert the said array to an ordinary list with the same items:\n",
      "[1, 3, 5, 3, 7, 1, 9, 3]\n"
     ]
    }
   ],
   "source": [
    "from array import *\n",
    "array_num = array('i', [1, 3, 5, 3, 7, 1, 9, 3])\n",
    "print(\"Original array: \"+str(array_num))\n",
    "num_list = array_num.tolist()\n",
    "print(\"Convert the said array to an ordinary list with the same items:\")\n",
    "print(num_list)\n"
   ]
  },
  {
   "cell_type": "code",
   "execution_count": 1,
   "id": "3b1d6f55",
   "metadata": {},
   "outputs": [
    {
     "name": "stdout",
     "output_type": "stream",
     "text": [
      "Numpy Matrix is:\n",
      "[[55 25 15]\n",
      " [30 44  2]\n",
      " [11 45 77]]\n",
      "\n",
      "Trace of given 3X3 matrix:\n",
      "176\n"
     ]
    }
   ],
   "source": [
    "# Method 1: Finding the sum of diagonal elements using numpy.trace()\n",
    "# Syntax : numpy.trace(a, offset=0, axis1=0, axis2=1, dtype=None, out=None)  \n",
    "# importing Numpy package\n",
    "\n",
    "import numpy as np\n",
    "\n",
    "# creating a 3X3 Numpy matrix\n",
    "n_array = np.array([[55, 25, 15], [30, 44, 2],[11, 45, 77]])\n",
    "\n",
    "# Displaying the Matrix\n",
    "print(\"Numpy Matrix is:\")\n",
    "print(n_array)\n",
    "\n",
    "# calculating the Trace of a matrix\n",
    "trace = np.trace(n_array)\n",
    "print(\"\\nTrace of given 3X3 matrix:\")\n",
    "print(trace)\n"
   ]
  },
  {
   "cell_type": "code",
   "execution_count": 2,
   "id": "8d9a3334",
   "metadata": {},
   "outputs": [
    {
     "name": "stdout",
     "output_type": "stream",
     "text": [
      "Numpy Matrix is:\n",
      "[[ 5  2  1  4  6]\n",
      " [ 9  4  2  5  2]\n",
      " [11  5  7  3  9]\n",
      " [ 5  6  6  7  2]\n",
      " [ 7  5  9  3  3]]\n",
      "\n",
      "Diagonal elements are:\n",
      "[5 4 7 7 3]\n",
      "\n",
      "Sum of Diagonal elements is:\n",
      "26\n"
     ]
    }
   ],
   "source": [
    "#Method 2: Finding the sum of diagonal elements using numpy.diagonal()\n",
    "#Syntax : numpy.diagonal(a, offset=0, axis1=0, axis2=1\n",
    "\n",
    "# importing Numpy package\n",
    "import numpy as np\n",
    "\n",
    "# creating a 5X5 Numpy matrix\n",
    "n_array = np.array([[5, 2, 1, 4, 6],\n",
    "\t\t\t\t\t[9, 4, 2, 5, 2],\n",
    "\t\t\t\t\t[11, 5, 7, 3, 9],\n",
    "\t\t\t\t\t[5, 6, 6, 7, 2],\n",
    "\t\t\t\t\t[7, 5, 9, 3, 3]])\n",
    "\n",
    "# Displaying the Matrix\n",
    "print(\"Numpy Matrix is:\")\n",
    "print(n_array)\n",
    "\n",
    "# Finding the diagonal elements of a matrix\n",
    "diag = np.diagonal(n_array)\n",
    "\n",
    "print(\"\\nDiagonal elements are:\")\n",
    "print(diag)\n",
    "\n",
    "print(\"\\nSum of Diagonal elements is:\")\n",
    "print(sum(diag))\n"
   ]
  },
  {
   "cell_type": "raw",
   "id": "74be8196",
   "metadata": {},
   "source": [
    "Syntax: numpy.where(condition[, x, y])\n",
    "Return: [ndarray or tuple of ndarrays] If both x and y are specified, the output array contains elements of x where condition is True, and elements from y elsewhere.\n",
    "\n",
    "Syntax: numpy.any(a, axis = None, out = None, keepdims = class numpy._globals._NoValue at 0x40ba726c)\n",
    "\n",
    "Return: [ndarray, optional]Output array with same dimensions as Input array, Placed with result\n",
    "\n",
    "Example :\n",
    "\n",
    "Arr = [[1,2,3,4,5], \n",
    "      [10,-3,30,4,5], \n",
    "      [3,2,5,-4,5], \n",
    "      [9,7,3,6,5]] \n",
    "and X = 6 then output is [ 0, 2 ].\n",
    "\n",
    "Here, \n",
    "[[1,2,3,4,5],\n",
    "no element is greater than 6 so output is [0].\n",
    "\n",
    "[10,-3,30,4,5],\n",
    "10 is greater than 6 so output is [0].\n",
    "\n",
    "[3,2,5,-4,5],\n",
    "no element is greater than 6 so output is [0, 2].\n",
    "\n",
    "[4,7,3,6,5]]\n",
    "7 is greater than 6 so output is [0, 2]."
   ]
  },
  {
   "cell_type": "code",
   "execution_count": 3,
   "id": "07120c2b",
   "metadata": {
    "scrolled": true
   },
   "outputs": [
    {
     "name": "stdout",
     "output_type": "stream",
     "text": [
      "Given Array:\n",
      " [[ 1  2  3  4  5]\n",
      " [10 -3 30  4  5]\n",
      " [ 3  2  5 -4  5]\n",
      " [ 9  7  3  6  5]]\n",
      "Result:\n",
      " (array([1, 3], dtype=int64),)\n"
     ]
    }
   ],
   "source": [
    "# importing library\n",
    "import numpy\n",
    "\n",
    "# create numpy array\n",
    "arr = numpy.array([[1, 2, 3, 4, 5],\n",
    "\t\t\t\t[10, -3, 30, 4, 5],\n",
    "\t\t\t\t[3, 2, 5, -4, 5],\n",
    "\t\t\t\t[9, 7, 3, 6, 5]\n",
    "\t\t\t\t])\n",
    "\n",
    "# declare specified value\n",
    "X = 6\n",
    "\n",
    "# view array\n",
    "print(\"Given Array:\\n\", arr)\n",
    "\n",
    "# finding out the row numbers\n",
    "output = numpy.where(numpy.any(arr > X,\n",
    "\t\t\t\t\t\t\t\taxis = 1))\n",
    "\n",
    "# view output\n",
    "print(\"Result:\\n\", output)\n"
   ]
  },
  {
   "cell_type": "markdown",
   "id": "0c90a43a",
   "metadata": {},
   "source": [
    "## CHECKPOINT 6"
   ]
  },
  {
   "cell_type": "code",
   "execution_count": 6,
   "id": "baa79854",
   "metadata": {},
   "outputs": [
    {
     "name": "stdout",
     "output_type": "stream",
     "text": [
      "QUESTION 1\n",
      "[[ 2  4  6]\n",
      " [ 8 10 12]]\n",
      "list:  [[2, 4, 6], [8, 10, 12]]\n"
     ]
    }
   ],
   "source": [
    "print ('QUESTION 1')\n",
    "array = np.array ([[2,4,6] , [8,10,12]])\n",
    "print (array)\n",
    "\n",
    "conversion = array.tolist()\n",
    "print ('list: ', conversion)"
   ]
  },
  {
   "cell_type": "code",
   "execution_count": 14,
   "id": "4cc0b97e",
   "metadata": {},
   "outputs": [
    {
     "name": "stdout",
     "output_type": "stream",
     "text": [
      "QUESTION 2\n",
      "Original Matrix:\n",
      "[[55 25 15]\n",
      " [30 44  2]\n",
      " [11 45 77]]\n",
      "\n",
      "Trace of given 3X3 matrix:\n",
      "176\n"
     ]
    }
   ],
   "source": [
    "print ('QUESTION 2')\n",
    "import numpy as np\n",
    "\n",
    "array = np.array([[55, 25, 15], [30, 44, 2],[11, 45, 77]])\n",
    "\n",
    "print(\"Original Matrix:\")\n",
    "print(array)\n",
    "\n",
    "trace = np.trace(n_array)\n",
    "print(\"\\nTrace of given 3X3 matrix:\")\n",
    "print(trace)"
   ]
  },
  {
   "cell_type": "code",
   "execution_count": 9,
   "id": "97ac3d34",
   "metadata": {},
   "outputs": [
    {
     "name": "stdout",
     "output_type": "stream",
     "text": [
      "QUESTION 3\n",
      "[[1 2 3]\n",
      " [4 5 6]\n",
      " [7 8 9]]\n",
      "\n",
      "\n",
      "[8 9]\n"
     ]
    }
   ],
   "source": [
    "print ('QUESTION 3')\n",
    "import numpy as np\n",
    "array = np.array([[1,2,3], [4,5,6],[7,8,9]] )\n",
    "print (array)\n",
    "\n",
    "x=7\n",
    "print ('\\n')\n",
    "print (array[array>x])"
   ]
  },
  {
   "cell_type": "code",
   "execution_count": 15,
   "id": "9e21266f",
   "metadata": {},
   "outputs": [
    {
     "name": "stdout",
     "output_type": "stream",
     "text": [
      "QUESTION 4\n",
      "[[ 6 13]\n",
      " [10 14]]\n"
     ]
    }
   ],
   "source": [
    "print ('QUESTION 4')\n",
    "import numpy as np\n",
    "A = np.array([[1,7],[3,4]],dtype=int ) \n",
    "B = np.array([[5,6],[7,10]],dtype=int )  \n",
    "\n",
    "C = A + B\n",
    "print (C)"
   ]
  },
  {
   "cell_type": "code",
   "execution_count": 11,
   "id": "6618fe4c",
   "metadata": {},
   "outputs": [
    {
     "name": "stdout",
     "output_type": "stream",
     "text": [
      "QUESTION 5\n",
      "[[ 5 17  8]\n",
      " [18 42 76]\n",
      " [ 7 10 18]]\n",
      "\n",
      "\n",
      "[[ -5   7  -2]\n",
      " [-27  -3  31]\n",
      " [ -4  -1   7]]\n"
     ]
    }
   ],
   "source": [
    "print ('QUESTION 5')\n",
    "import numpy as np\n",
    "array = np.array([[5,17,8], [18,42,76],[7,10,18]] )\n",
    "print (array)\n",
    "\n",
    "x= array - array.mean(axis = 1 , keepdims = True , dtype=int)\n",
    "print (\"\\n\")\n",
    "print (x)"
   ]
  },
  {
   "cell_type": "code",
   "execution_count": 12,
   "id": "9090a7df",
   "metadata": {},
   "outputs": [
    {
     "name": "stdout",
     "output_type": "stream",
     "text": [
      "QUESTION 5\n",
      "[[ 5 17  8]\n",
      " [18 42 76]\n",
      " [ 7 10 18]]\n",
      "[[10]\n",
      " [45]\n",
      " [11]]\n",
      "[[ -5   7  -2]\n",
      " [-27  -3  31]\n",
      " [ -4  -1   7]]\n"
     ]
    }
   ],
   "source": [
    "print ('QUESTION 5')\n",
    "import numpy as np\n",
    "array = np.array([[5,17,8], [18,42,76],[7,10,18]] )\n",
    "print (array)\n",
    "\n",
    "x = array.mean(axis=1, keepdims= True, dtype = int)\n",
    "print (x)\n",
    "\n",
    "y = array - x \n",
    "print (y)"
   ]
  },
  {
   "cell_type": "code",
   "execution_count": 13,
   "id": "827bfa26",
   "metadata": {},
   "outputs": [
    {
     "name": "stdout",
     "output_type": "stream",
     "text": [
      "[[ 5 17  8]\n",
      " [18 42 76]\n",
      " [ 7 10 18]]\n",
      "[[ -5 -28  -3]\n",
      " [  8  -3  65]\n",
      " [ -3 -35   7]]\n"
     ]
    }
   ],
   "source": [
    "import numpy as np\n",
    "array = np.array([[5,17,8], [18,42,76],[7,10,18]] )\n",
    "print (array)\n",
    "\n",
    "x= array - array.mean(axis = 1 , keepdims = False , dtype=int)\n",
    "print (x)"
   ]
  },
  {
   "cell_type": "markdown",
   "id": "a0b0a9c3",
   "metadata": {},
   "source": [
    "What's Pandas\n",
    "\n",
    "Pandas is an open source package that provides numerous tools for data analysis. \n",
    "\n",
    "It offers fast, flexible and expressive data structures that can be used for many different data manipulation tasks.\n",
    "\n",
    "In order to use Pandas in your Python IDE you need to import the Pandas library first: import pandas as pd\n",
    "\n",
    "Pandas data structures\n",
    "The two primary data structures of pandas are:\n",
    "\n",
    "Series: is one-dimensional array. It can store data of any type. Its values are mutable but the size is immutable.\n",
    "\n",
    "DataFrame: is two-dimensional data with mutable size, it allows to store and manipulate tabular data in rows of observations and columns of variables."
   ]
  },
  {
   "cell_type": "code",
   "execution_count": 18,
   "id": "6b0f1b69",
   "metadata": {},
   "outputs": [
    {
     "name": "stdout",
     "output_type": "stream",
     "text": [
      "0      blue\n",
      "1    yellow\n",
      "2      pink\n",
      "3    purple\n",
      "dtype: object\n"
     ]
    }
   ],
   "source": [
    "import pandas as pd\n",
    "import numpy as np\n",
    "array = np.array([\"blue\", \"yellow\", \"pink\", \"purple\"]) # get the array\n",
    "series1 = pd.Series(array)  #create the series from the array\n",
    "print(series1)"
   ]
  },
  {
   "cell_type": "code",
   "execution_count": 3,
   "id": "c0acb051",
   "metadata": {},
   "outputs": [
    {
     "name": "stdout",
     "output_type": "stream",
     "text": [
      "0     19\n",
      "1    175\n",
      "2     41\n",
      "3     22\n",
      "dtype: int64\n"
     ]
    }
   ],
   "source": [
    "import pandas as pd\n",
    "list = [19, 175, 41, 22]\n",
    "series2 = pd.Series(list) #create the series from the list\n",
    "print(series2)"
   ]
  },
  {
   "cell_type": "code",
   "execution_count": 6,
   "id": "5898b203",
   "metadata": {},
   "outputs": [
    {
     "name": "stdout",
     "output_type": "stream",
     "text": [
      "pink     20\n",
      "white    15\n",
      "black     6\n",
      "blue     43\n",
      "dtype: int64\n"
     ]
    }
   ],
   "source": [
    "import pandas as pd\n",
    "color=[\"pink\", \"white\", \"black\", \"blue\"]\n",
    "occurence = [20, 15, 6, 43]\n",
    "S=pd.Series(occurence, index=color)\n",
    "print(S)"
   ]
  },
  {
   "cell_type": "code",
   "execution_count": 18,
   "id": "9f5e110d",
   "metadata": {},
   "outputs": [
    {
     "name": "stdout",
     "output_type": "stream",
     "text": [
      "pink     23\n",
      "white    27\n",
      "black    15\n",
      "blue     53\n",
      "dtype: int64\n"
     ]
    },
    {
     "data": {
      "text/plain": [
       "pink     23\n",
       "white    27\n",
       "black    15\n",
       "blue     53\n",
       "dtype: int64"
      ]
     },
     "execution_count": 18,
     "metadata": {},
     "output_type": "execute_result"
    }
   ],
   "source": [
    "import pandas as pd\n",
    "color=[\"pink\", \"white\", \"black\", \"blue\"]\n",
    "S1=pd.Series([20, 15, 6, 43], index=color)\n",
    "S2=pd.Series([3, 12, 9, 10], index=color)\n",
    "print(S1+S2)\n",
    "\n",
    "#or \n",
    "S1.add(S2, fill_value=0)\n"
   ]
  },
  {
   "cell_type": "markdown",
   "id": "5fce9147",
   "metadata": {},
   "source": [
    "pandas.Series.add\n",
    "Series.add(other, level=None, fill_value=None, axis=0)[source]\n",
    "Return Addition of series and other, element-wise (binary operator add).\n",
    "\n",
    "Equivalent to series + other, but with support to substitute a fill_value for missing data in either one of the inputs.\n",
    "\n",
    "Parameters\n",
    "otherSeries or scalar value\n",
    "fill_valueNone or float value, default None (NaN)\n",
    "Fill existing missing (NaN) values, and any new element needed for successful Series alignment, with this value before computation. If data in both corresponding Series locations is missing the result of filling (at that location) will be missing.\n",
    "\n",
    "levelint or name\n",
    "Broadcast across a level, matching Index values on the passed MultiIndex level.\n",
    "\n",
    "Returns\n",
    "Series\n",
    "The result of the operation.\n",
    "\n",
    "See also\n",
    "\n",
    "Series.radd\n",
    "Reverse of the Addition operator, see Python documentation for more details."
   ]
  },
  {
   "cell_type": "code",
   "execution_count": 14,
   "id": "b5f77d7f",
   "metadata": {},
   "outputs": [
    {
     "name": "stdout",
     "output_type": "stream",
     "text": [
      "a    1.0\n",
      "b    1.0\n",
      "c    1.0\n",
      "d    NaN\n",
      "dtype: float64\n",
      "a    1.0\n",
      "b    NaN\n",
      "d    1.0\n",
      "e    NaN\n",
      "dtype: float64\n"
     ]
    },
    {
     "data": {
      "text/plain": [
       "a    2.0\n",
       "b    1.0\n",
       "c    1.0\n",
       "d    1.0\n",
       "e    NaN\n",
       "dtype: float64"
      ]
     },
     "execution_count": 14,
     "metadata": {},
     "output_type": "execute_result"
    }
   ],
   "source": [
    "import numpy as np\n",
    "import pandas as pd\n",
    "a = pd.Series([1, 1, 1, np.nan], index=['a', 'b', 'c', 'd'])\n",
    "print (a)\n",
    "b = pd.Series([1, np.nan, 1, np.nan], index=['a', 'b', 'd', 'e'])\n",
    "print(b)\n",
    "a.add(b, fill_value=0)"
   ]
  },
  {
   "cell_type": "markdown",
   "id": "f0766723",
   "metadata": {},
   "source": [
    "pandas.Series.add_prefix\n",
    "Series.add_prefix(prefix)[source]\n",
    "Prefix labels with string prefix.\n",
    "\n",
    "For Series, the row labels are prefixed. For DataFrame, the column labels are prefixed.\n",
    "\n",
    "Parameters\n",
    "prefixstr\n",
    "The string to add before each label.\n",
    "\n",
    "Returns\n",
    "Series or DataFrame\n",
    "New Series or DataFrame with updated labels.\n",
    "\n",
    "See also\n",
    "\n",
    "Series.add_suffix\n",
    "Suffix row labels with string suffix.\n",
    "\n",
    "DataFrame.add_suffix\n",
    "Suffix column labels with string suffix."
   ]
  },
  {
   "cell_type": "code",
   "execution_count": 16,
   "id": "55e81000",
   "metadata": {
    "scrolled": true
   },
   "outputs": [
    {
     "name": "stdout",
     "output_type": "stream",
     "text": [
      "0    1\n",
      "1    2\n",
      "2    3\n",
      "3    4\n",
      "dtype: int64\n",
      "item_0    1\n",
      "item_1    2\n",
      "item_2    3\n",
      "item_3    4\n",
      "dtype: int64\n",
      "   A  B\n",
      "0  1  3\n",
      "1  2  4\n",
      "2  3  5\n",
      "3  4  6\n"
     ]
    },
    {
     "data": {
      "text/html": [
       "<div>\n",
       "<style scoped>\n",
       "    .dataframe tbody tr th:only-of-type {\n",
       "        vertical-align: middle;\n",
       "    }\n",
       "\n",
       "    .dataframe tbody tr th {\n",
       "        vertical-align: top;\n",
       "    }\n",
       "\n",
       "    .dataframe thead th {\n",
       "        text-align: right;\n",
       "    }\n",
       "</style>\n",
       "<table border=\"1\" class=\"dataframe\">\n",
       "  <thead>\n",
       "    <tr style=\"text-align: right;\">\n",
       "      <th></th>\n",
       "      <th>col_A</th>\n",
       "      <th>col_B</th>\n",
       "    </tr>\n",
       "  </thead>\n",
       "  <tbody>\n",
       "    <tr>\n",
       "      <th>0</th>\n",
       "      <td>1</td>\n",
       "      <td>3</td>\n",
       "    </tr>\n",
       "    <tr>\n",
       "      <th>1</th>\n",
       "      <td>2</td>\n",
       "      <td>4</td>\n",
       "    </tr>\n",
       "    <tr>\n",
       "      <th>2</th>\n",
       "      <td>3</td>\n",
       "      <td>5</td>\n",
       "    </tr>\n",
       "    <tr>\n",
       "      <th>3</th>\n",
       "      <td>4</td>\n",
       "      <td>6</td>\n",
       "    </tr>\n",
       "  </tbody>\n",
       "</table>\n",
       "</div>"
      ],
      "text/plain": [
       "   col_A  col_B\n",
       "0      1      3\n",
       "1      2      4\n",
       "2      3      5\n",
       "3      4      6"
      ]
     },
     "execution_count": 16,
     "metadata": {},
     "output_type": "execute_result"
    }
   ],
   "source": [
    "s = pd.Series([1, 2, 3, 4])\n",
    "print (s)\n",
    "\n",
    "s.add_prefix('item_')\n",
    "print (s.add_prefix('item_'))\n",
    "\n",
    "df = pd.DataFrame({'A': [1, 2, 3, 4], 'B': [3, 4, 5, 6]})\n",
    "print (df)\n",
    "\n",
    "df.add_prefix('col_')\n"
   ]
  },
  {
   "cell_type": "code",
   "execution_count": 20,
   "id": "ac5a74d0",
   "metadata": {},
   "outputs": [
    {
     "name": "stdout",
     "output_type": "stream",
     "text": [
      "apples        NaN\n",
      "cherries      NaN\n",
      "cirese        NaN\n",
      "grapes       90.0\n",
      "mere          NaN\n",
      "oranges       NaN\n",
      "pears         NaN\n",
      "pere          NaN\n",
      "portocale     NaN\n",
      "dtype: float64\n"
     ]
    }
   ],
   "source": [
    "import pandas as pd\n",
    "fruits = [\"apples\", \"oranges\", \"cherries\", \"pears\",'grapes']\n",
    "fruits_ro = [\"mere\", \"portocale\", \"cirese\", \"pere\",'grapes']\n",
    "S = pd.Series([20, 33, 52, 10,89], index=fruits)\n",
    "S2 = pd.Series([17, 13, 311, 32,1], index=fruits_ro)\n",
    "print(S+S2)"
   ]
  },
  {
   "cell_type": "markdown",
   "id": "9e702269",
   "metadata": {},
   "source": [
    "Dataframe Introduction\n",
    "DataFrame is a 2-dimensional labeled data structure with columns of potentially different types.\n",
    "\n",
    "Dataframe columns are made up of pandas Series.\n",
    "You can think of it like a spreadsheet or SQL table,or a dictionary of Series."
   ]
  },
  {
   "cell_type": "code",
   "execution_count": 32,
   "id": "0e32f427",
   "metadata": {},
   "outputs": [
    {
     "name": "stdout",
     "output_type": "stream",
     "text": [
      "        name  age      city\n",
      "0       Jack   34     Paris\n",
      "1     Thomas   30      Roma\n",
      "2  Alexandre   16  New York\n"
     ]
    }
   ],
   "source": [
    "import pandas as pd\n",
    "list = [['Jack', 34, 'Paris'], ['Thomas', 30, 'Roma'], \n",
    "       ['Alexandre', 16, 'New York']] \n",
    "df = pd.DataFrame(list, columns =['name', 'age', 'city'])\n",
    "print (df) #using print() removes the tabular structure"
   ]
  },
  {
   "cell_type": "code",
   "execution_count": 29,
   "id": "1260db5a",
   "metadata": {
    "scrolled": true
   },
   "outputs": [
    {
     "data": {
      "text/html": [
       "<div>\n",
       "<style scoped>\n",
       "    .dataframe tbody tr th:only-of-type {\n",
       "        vertical-align: middle;\n",
       "    }\n",
       "\n",
       "    .dataframe tbody tr th {\n",
       "        vertical-align: top;\n",
       "    }\n",
       "\n",
       "    .dataframe thead th {\n",
       "        text-align: right;\n",
       "    }\n",
       "</style>\n",
       "<table border=\"1\" class=\"dataframe\">\n",
       "  <thead>\n",
       "    <tr style=\"text-align: right;\">\n",
       "      <th></th>\n",
       "      <th>name</th>\n",
       "      <th>age</th>\n",
       "      <th>city</th>\n",
       "    </tr>\n",
       "  </thead>\n",
       "  <tbody>\n",
       "    <tr>\n",
       "      <th>0</th>\n",
       "      <td>Jack</td>\n",
       "      <td>34</td>\n",
       "      <td>Paris</td>\n",
       "    </tr>\n",
       "    <tr>\n",
       "      <th>1</th>\n",
       "      <td>Thomas</td>\n",
       "      <td>30</td>\n",
       "      <td>Roma</td>\n",
       "    </tr>\n",
       "    <tr>\n",
       "      <th>2</th>\n",
       "      <td>Alexandre</td>\n",
       "      <td>16</td>\n",
       "      <td>New York</td>\n",
       "    </tr>\n",
       "  </tbody>\n",
       "</table>\n",
       "</div>"
      ],
      "text/plain": [
       "        name  age      city\n",
       "0       Jack   34     Paris\n",
       "1     Thomas   30      Roma\n",
       "2  Alexandre   16  New York"
      ]
     },
     "execution_count": 29,
     "metadata": {},
     "output_type": "execute_result"
    }
   ],
   "source": [
    "import pandas as pd\n",
    "dictionary  = { 'name' : ['Jack', 'Thomas', 'Alexandre'],\n",
    "                'age' : [34, 30, 16],\n",
    "                'city' : ['Paris', 'Roma', 'New York']}\n",
    "\n",
    "df = pd.DataFrame(dictionary)\n",
    "df"
   ]
  },
  {
   "cell_type": "code",
   "execution_count": 87,
   "id": "ddcf355b",
   "metadata": {},
   "outputs": [
    {
     "name": "stdout",
     "output_type": "stream",
     "text": [
      "   a  b  c  d\n",
      "0  8  6  5  9\n",
      "1  8  8  7  5\n"
     ]
    }
   ],
   "source": [
    "import numpy as np\n",
    "import pandas as pd\n",
    "\n",
    "array=np.random.randint(5, 10, size=(2,4))\n",
    "\n",
    "df=pd.DataFrame(array, columns=['a','b','c','d'])\n",
    "print(df)"
   ]
  },
  {
   "cell_type": "code",
   "execution_count": 2,
   "id": "e97bc22f",
   "metadata": {},
   "outputs": [
    {
     "data": {
      "text/html": [
       "<div>\n",
       "<style scoped>\n",
       "    .dataframe tbody tr th:only-of-type {\n",
       "        vertical-align: middle;\n",
       "    }\n",
       "\n",
       "    .dataframe tbody tr th {\n",
       "        vertical-align: top;\n",
       "    }\n",
       "\n",
       "    .dataframe thead th {\n",
       "        text-align: right;\n",
       "    }\n",
       "</style>\n",
       "<table border=\"1\" class=\"dataframe\">\n",
       "  <thead>\n",
       "    <tr style=\"text-align: right;\">\n",
       "      <th></th>\n",
       "      <th>name</th>\n",
       "      <th>age</th>\n",
       "      <th>city</th>\n",
       "    </tr>\n",
       "  </thead>\n",
       "  <tbody>\n",
       "    <tr>\n",
       "      <th>0</th>\n",
       "      <td>Jack</td>\n",
       "      <td>34</td>\n",
       "      <td>Paris</td>\n",
       "    </tr>\n",
       "    <tr>\n",
       "      <th>1</th>\n",
       "      <td>Thomas</td>\n",
       "      <td>30</td>\n",
       "      <td>Roma</td>\n",
       "    </tr>\n",
       "    <tr>\n",
       "      <th>2</th>\n",
       "      <td>Alexandre</td>\n",
       "      <td>16</td>\n",
       "      <td>New York</td>\n",
       "    </tr>\n",
       "  </tbody>\n",
       "</table>\n",
       "</div>"
      ],
      "text/plain": [
       "        name  age      city\n",
       "0       Jack   34     Paris\n",
       "1     Thomas   30      Roma\n",
       "2  Alexandre   16  New York"
      ]
     },
     "execution_count": 2,
     "metadata": {},
     "output_type": "execute_result"
    }
   ],
   "source": [
    "import pandas as pd\n",
    "df=pd.read_csv(\"data.csv\")\n",
    "df "
   ]
  },
  {
   "cell_type": "code",
   "execution_count": 3,
   "id": "84cf9b1e",
   "metadata": {},
   "outputs": [],
   "source": [
    "#creating a text file\n",
    "f = open(\"test.txt\", 'w')\n",
    "f.write(\"I'm toye \\nI studied data analysis\")\n",
    "f.close()"
   ]
  },
  {
   "cell_type": "markdown",
   "id": "11295459",
   "metadata": {},
   "source": [
    "#EXPLAIN: creating a dataframe from a csv file\n",
    "https://www.geeksforgeeks.org/creating-a-dataframe-using-csv-files/\n",
    "    "
   ]
  },
  {
   "cell_type": "code",
   "execution_count": 26,
   "id": "19e08533",
   "metadata": {},
   "outputs": [
    {
     "data": {
      "text/html": [
       "<div>\n",
       "<style scoped>\n",
       "    .dataframe tbody tr th:only-of-type {\n",
       "        vertical-align: middle;\n",
       "    }\n",
       "\n",
       "    .dataframe tbody tr th {\n",
       "        vertical-align: top;\n",
       "    }\n",
       "\n",
       "    .dataframe thead th {\n",
       "        text-align: right;\n",
       "    }\n",
       "</style>\n",
       "<table border=\"1\" class=\"dataframe\">\n",
       "  <thead>\n",
       "    <tr style=\"text-align: right;\">\n",
       "      <th></th>\n",
       "      <th>Name</th>\n",
       "      <th>marks</th>\n",
       "    </tr>\n",
       "  </thead>\n",
       "  <tbody>\n",
       "    <tr>\n",
       "      <th>rank1</th>\n",
       "      <td>Tom</td>\n",
       "      <td>99</td>\n",
       "    </tr>\n",
       "    <tr>\n",
       "      <th>rank2</th>\n",
       "      <td>Jack</td>\n",
       "      <td>98</td>\n",
       "    </tr>\n",
       "    <tr>\n",
       "      <th>rank3</th>\n",
       "      <td>nick</td>\n",
       "      <td>95</td>\n",
       "    </tr>\n",
       "    <tr>\n",
       "      <th>rank4</th>\n",
       "      <td>juli</td>\n",
       "      <td>90</td>\n",
       "    </tr>\n",
       "  </tbody>\n",
       "</table>\n",
       "</div>"
      ],
      "text/plain": [
       "       Name  marks\n",
       "rank1   Tom     99\n",
       "rank2  Jack     98\n",
       "rank3  nick     95\n",
       "rank4  juli     90"
      ]
     },
     "execution_count": 26,
     "metadata": {},
     "output_type": "execute_result"
    }
   ],
   "source": [
    "# Python code demonstrate creating\n",
    "# pandas DataFrame with indexed by\n",
    "\n",
    "# DataFrame using arrays.\n",
    "import pandas as pd\n",
    "\n",
    "# initialize data of lists.\n",
    "data = {'Name':['Tom', 'Jack', 'nick', 'juli'],\n",
    "\t\t'marks':[99, 98, 95, 90]}\n",
    "\n",
    "# Creates pandas DataFrame.\n",
    "df = pd.DataFrame(data, index =['rank1',\n",
    "\t\t\t\t\t\t\t\t'rank2',\n",
    "\t\t\t\t\t\t\t\t'rank3',\n",
    "\t\t\t\t\t\t\t\t'rank4'])\n",
    "\n",
    "# print the data\n",
    "df\n"
   ]
  },
  {
   "cell_type": "code",
   "execution_count": 33,
   "id": "aa41f952",
   "metadata": {},
   "outputs": [
    {
     "data": {
      "text/html": [
       "<div>\n",
       "<style scoped>\n",
       "    .dataframe tbody tr th:only-of-type {\n",
       "        vertical-align: middle;\n",
       "    }\n",
       "\n",
       "    .dataframe tbody tr th {\n",
       "        vertical-align: top;\n",
       "    }\n",
       "\n",
       "    .dataframe thead th {\n",
       "        text-align: right;\n",
       "    }\n",
       "</style>\n",
       "<table border=\"1\" class=\"dataframe\">\n",
       "  <thead>\n",
       "    <tr style=\"text-align: right;\">\n",
       "      <th></th>\n",
       "      <th>a</th>\n",
       "      <th>b</th>\n",
       "      <th>c</th>\n",
       "    </tr>\n",
       "  </thead>\n",
       "  <tbody>\n",
       "    <tr>\n",
       "      <th>0</th>\n",
       "      <td>1</td>\n",
       "      <td>2</td>\n",
       "      <td>3</td>\n",
       "    </tr>\n",
       "    <tr>\n",
       "      <th>1</th>\n",
       "      <td>10</td>\n",
       "      <td>20</td>\n",
       "      <td>30</td>\n",
       "    </tr>\n",
       "  </tbody>\n",
       "</table>\n",
       "</div>"
      ],
      "text/plain": [
       "    a   b   c\n",
       "0   1   2   3\n",
       "1  10  20  30"
      ]
     },
     "execution_count": 33,
     "metadata": {},
     "output_type": "execute_result"
    }
   ],
   "source": [
    "# Python code demonstrate how to create\n",
    "# Pandas DataFrame by lists of dicts.\n",
    "import pandas as pd\n",
    "\n",
    "# Initialize data to lists.\n",
    "data = [{'a': 1, 'b': 2, 'c':3},\n",
    "\t\t{'a':10, 'b': 20, 'c': 30}]\n",
    "\n",
    "# Creates DataFrame.\n",
    "df = pd.DataFrame(data)\n",
    "\n",
    "# Print the data\n",
    "df\n"
   ]
  },
  {
   "cell_type": "code",
   "execution_count": 34,
   "id": "97341d14",
   "metadata": {},
   "outputs": [
    {
     "data": {
      "text/html": [
       "<div>\n",
       "<style scoped>\n",
       "    .dataframe tbody tr th:only-of-type {\n",
       "        vertical-align: middle;\n",
       "    }\n",
       "\n",
       "    .dataframe tbody tr th {\n",
       "        vertical-align: top;\n",
       "    }\n",
       "\n",
       "    .dataframe thead th {\n",
       "        text-align: right;\n",
       "    }\n",
       "</style>\n",
       "<table border=\"1\" class=\"dataframe\">\n",
       "  <thead>\n",
       "    <tr style=\"text-align: right;\">\n",
       "      <th></th>\n",
       "      <th>b</th>\n",
       "      <th>c</th>\n",
       "      <th>a</th>\n",
       "    </tr>\n",
       "  </thead>\n",
       "  <tbody>\n",
       "    <tr>\n",
       "      <th>first</th>\n",
       "      <td>2</td>\n",
       "      <td>3</td>\n",
       "      <td>NaN</td>\n",
       "    </tr>\n",
       "    <tr>\n",
       "      <th>second</th>\n",
       "      <td>20</td>\n",
       "      <td>30</td>\n",
       "      <td>10.0</td>\n",
       "    </tr>\n",
       "  </tbody>\n",
       "</table>\n",
       "</div>"
      ],
      "text/plain": [
       "         b   c     a\n",
       "first    2   3   NaN\n",
       "second  20  30  10.0"
      ]
     },
     "execution_count": 34,
     "metadata": {},
     "output_type": "execute_result"
    }
   ],
   "source": [
    "# Python code demonstrate to create\n",
    "# Pandas DataFrame by passing lists of\n",
    "# Dictionaries and row indices.\n",
    "import pandas as pd\n",
    "\n",
    "# Initialize data of lists\n",
    "data = [{'b': 2, 'c':3}, {'a': 10, 'b': 20, 'c': 30}]\n",
    "\n",
    "# Creates pandas DataFrame by passing\n",
    "# Lists of dictionaries and row index.\n",
    "df = pd.DataFrame(data, index =['first', 'second'])\n",
    "\n",
    "# Print the data\n",
    "df\n"
   ]
  },
  {
   "cell_type": "code",
   "execution_count": 36,
   "id": "e5a71859",
   "metadata": {},
   "outputs": [
    {
     "name": "stdout",
     "output_type": "stream",
     "text": [
      "        a   b\n",
      "first   1   2\n",
      "second  5  10 \n",
      "\n",
      "        a  b1\n",
      "first   1 NaN\n",
      "second  5 NaN\n"
     ]
    }
   ],
   "source": [
    "#Another example to create pandas DataFrame from lists of dictionaries with both row index as well as column index.\n",
    " \n",
    "# Python code demonstrate to create a\n",
    "# Pandas DataFrame with lists of\n",
    "# dictionaries as well as\n",
    "# row and column indexes.\n",
    "  \n",
    "import pandas as pd\n",
    "  \n",
    "# Initialize lists data.\n",
    "data = [{'a': 1, 'b': 2},\n",
    "        {'a': 5, 'b': 10, 'c': 20}]\n",
    "  \n",
    "# With two column indices, values same\n",
    "# as dictionary keys\n",
    "df1 = pd.DataFrame(data, index =['first',\n",
    "                                 'second'],\n",
    "                   columns =['a', 'b'])\n",
    "  \n",
    "# With two column indices with\n",
    "# one index with other name\n",
    "df2 = pd.DataFrame(data, index =['first',\n",
    "                                 'second'],\n",
    "                   columns =['a', 'b1'])\n",
    "  \n",
    "# print for first data frame\n",
    "print (df1, \"\\n\")\n",
    "  \n",
    "# Print for second DataFrame.\n",
    "print (df2)"
   ]
  },
  {
   "cell_type": "code",
   "execution_count": 1,
   "id": "19651e84",
   "metadata": {},
   "outputs": [
    {
     "data": {
      "text/html": [
       "<div>\n",
       "<style scoped>\n",
       "    .dataframe tbody tr th:only-of-type {\n",
       "        vertical-align: middle;\n",
       "    }\n",
       "\n",
       "    .dataframe tbody tr th {\n",
       "        vertical-align: top;\n",
       "    }\n",
       "\n",
       "    .dataframe thead th {\n",
       "        text-align: right;\n",
       "    }\n",
       "</style>\n",
       "<table border=\"1\" class=\"dataframe\">\n",
       "  <thead>\n",
       "    <tr style=\"text-align: right;\">\n",
       "      <th></th>\n",
       "      <th>Name</th>\n",
       "      <th>Age</th>\n",
       "    </tr>\n",
       "  </thead>\n",
       "  <tbody>\n",
       "    <tr>\n",
       "      <th>0</th>\n",
       "      <td>tom</td>\n",
       "      <td>25</td>\n",
       "    </tr>\n",
       "    <tr>\n",
       "      <th>1</th>\n",
       "      <td>krish</td>\n",
       "      <td>30</td>\n",
       "    </tr>\n",
       "    <tr>\n",
       "      <th>2</th>\n",
       "      <td>nick</td>\n",
       "      <td>26</td>\n",
       "    </tr>\n",
       "    <tr>\n",
       "      <th>3</th>\n",
       "      <td>juli</td>\n",
       "      <td>22</td>\n",
       "    </tr>\n",
       "  </tbody>\n",
       "</table>\n",
       "</div>"
      ],
      "text/plain": [
       "    Name  Age\n",
       "0    tom   25\n",
       "1  krish   30\n",
       "2   nick   26\n",
       "3   juli   22"
      ]
     },
     "execution_count": 1,
     "metadata": {},
     "output_type": "execute_result"
    }
   ],
   "source": [
    "#Creating DataFrame using zip() function.\n",
    "#Two lists can be merged by using list(zip()) function. \n",
    "#Now, create the pandas DataFrame by calling pd.DataFrame() function.\n",
    "\n",
    "# Python program to demonstrate creating\n",
    "# pandas Datadaframe from lists using zip.\n",
    "\n",
    "import pandas as pd\n",
    "\n",
    "# List1\n",
    "Name = ['tom', 'krish', 'nick', 'juli']\n",
    "\n",
    "# List2\n",
    "Age = [25, 30, 26, 22]\n",
    "\n",
    "# get the list of tuples from two lists.\n",
    "# and merge them by using zip().\n",
    "listt_of_tuples = list(zip(Name, Age))\n",
    "\n",
    "# Assign data to tuples.\n",
    "listt_of_tuples\n",
    "\n",
    "\n",
    "# Converting lists of tuples into\n",
    "# pandas Dataframe.\n",
    "df = pd.DataFrame(listt_of_tuples,\n",
    "\t\t\t\tcolumns = ['Name', 'Age'])\n",
    "\t\n",
    "# Print data.\n",
    "df\n"
   ]
  },
  {
   "cell_type": "code",
   "execution_count": 46,
   "id": "eb8a644e",
   "metadata": {},
   "outputs": [
    {
     "data": {
      "text/html": [
       "<div>\n",
       "<style scoped>\n",
       "    .dataframe tbody tr th:only-of-type {\n",
       "        vertical-align: middle;\n",
       "    }\n",
       "\n",
       "    .dataframe tbody tr th {\n",
       "        vertical-align: top;\n",
       "    }\n",
       "\n",
       "    .dataframe thead th {\n",
       "        text-align: right;\n",
       "    }\n",
       "</style>\n",
       "<table border=\"1\" class=\"dataframe\">\n",
       "  <thead>\n",
       "    <tr style=\"text-align: right;\">\n",
       "      <th></th>\n",
       "      <th>one</th>\n",
       "      <th>two</th>\n",
       "    </tr>\n",
       "  </thead>\n",
       "  <tbody>\n",
       "    <tr>\n",
       "      <th>a</th>\n",
       "      <td>10</td>\n",
       "      <td>10</td>\n",
       "    </tr>\n",
       "    <tr>\n",
       "      <th>b</th>\n",
       "      <td>20</td>\n",
       "      <td>20</td>\n",
       "    </tr>\n",
       "    <tr>\n",
       "      <th>c</th>\n",
       "      <td>30</td>\n",
       "      <td>30</td>\n",
       "    </tr>\n",
       "    <tr>\n",
       "      <th>d</th>\n",
       "      <td>40</td>\n",
       "      <td>40</td>\n",
       "    </tr>\n",
       "  </tbody>\n",
       "</table>\n",
       "</div>"
      ],
      "text/plain": [
       "   one  two\n",
       "a   10   10\n",
       "b   20   20\n",
       "c   30   30\n",
       "d   40   40"
      ]
     },
     "execution_count": 46,
     "metadata": {},
     "output_type": "execute_result"
    }
   ],
   "source": [
    "#Creating DataFrame from Dicts of series.\n",
    "#To create DataFrame from Dicts of series, dictionary can be passed to form a DataFrame. \n",
    "#The resultant index is the union of all the series of passed indexed.\n",
    "\n",
    "# Python code demonstrate creating\n",
    "# Pandas Dataframe from Dicts of series.\n",
    "\n",
    "import pandas as pd\n",
    "\n",
    "# Initialize data to Dicts of series.\n",
    "d = {'one' : pd.Series([10, 20, 30, 40],\n",
    "\t\t\t\t\tindex =['a', 'b', 'c', 'd']),\n",
    "\t'two' : pd.Series([10, 20, 30, 40],\n",
    "\t\t\t\t\t\tindex =['a', 'b', 'c', 'd'])}\n",
    "\n",
    "# creates Dataframe.\n",
    "df = pd.DataFrame(d)\n",
    "\n",
    "# print the data.\n",
    "df\n"
   ]
  },
  {
   "cell_type": "markdown",
   "id": "f9d45024",
   "metadata": {},
   "source": [
    "Python zip() method takes iterable or containers and returns a single iterator object, having mapped values from all the containers. \n",
    "\n",
    "It is used to map the similar index of multiple containers so that they can be used just using a single entity. \n",
    "Syntax :  zip(*iterators) \n",
    "\n",
    "Parameters : Python iterables or containers ( list, string etc ) \n",
    "\n",
    "Return Value : Returns a single iterator object, having mapped values from all the \n",
    "containers."
   ]
  },
  {
   "cell_type": "code",
   "execution_count": 60,
   "id": "360e9158",
   "metadata": {},
   "outputs": [
    {
     "name": "stdout",
     "output_type": "stream",
     "text": [
      "(('Manjeet', 4), ('Nikhil', 1), ('Shambhavi', 3), ('Astha', 2))\n",
      "\n",
      "\n",
      "{('Manjeet', 4), ('Shambhavi', 3), ('Nikhil', 1), ('Astha', 2)}\n",
      "\n",
      "\n",
      "{'Manjeet': 4, 'Nikhil': 1, 'Shambhavi': 3, 'Astha': 2}\n"
     ]
    }
   ],
   "source": [
    "#Example 1: Python zip two lists\n",
    "\n",
    "name = [ \"Manjeet\", \"Nikhil\", \"Shambhavi\", \"Astha\" ]\n",
    "roll_no = [ 4, 1, 3, 2 ]\n",
    " \n",
    "# using zip() to map values\n",
    "mapped = zip(name, roll_no)\n",
    "print(tuple(mapped))\n",
    "\n",
    "print('\\n')\n",
    "\n",
    "mapped = zip(name, roll_no)\n",
    "print(set(mapped))\n",
    "\n",
    "print('\\n')\n",
    "\n",
    "mapped = zip(name, roll_no)\n",
    "print(dict(mapped))"
   ]
  },
  {
   "cell_type": "code",
   "execution_count": 65,
   "id": "f14f004b",
   "metadata": {},
   "outputs": [
    {
     "name": "stdout",
     "output_type": "stream",
     "text": [
      "0 Mukesh 24\n",
      "1 Roni 50\n",
      "2 Chari 18\n"
     ]
    }
   ],
   "source": [
    "#Example 2: Python zip enumerate\n",
    "\n",
    "names = ['Mukesh', 'Roni', 'Chari']\n",
    "ages = [24, 50, 18]\n",
    " \n",
    "for i, (name, age) in enumerate(zip(names, ages)):\n",
    "    print(i, name, age)"
   ]
  },
  {
   "cell_type": "code",
   "execution_count": 68,
   "id": "034f9cb0",
   "metadata": {},
   "outputs": [
    {
     "name": "stdout",
     "output_type": "stream",
     "text": [
      "{'reliance': 2175, 'infosys': 1127, 'tcs': 2750}\n"
     ]
    }
   ],
   "source": [
    "#Example 3: Python zip() Dictionary\n",
    "\n",
    "stocks = ['reliance', 'infosys', 'tcs']\n",
    "prices = [2175, 1127, 2750]\n",
    " \n",
    "new_dict = {stocks: prices for stocks,\n",
    "            prices in zip(stocks, prices)}\n",
    "print(new_dict)"
   ]
  },
  {
   "cell_type": "markdown",
   "id": "9a67777d",
   "metadata": {},
   "source": [
    "# EXPLAIN https://www.geeksforgeeks.org/zip-in-python/?ref=gcse\n",
    "https://www.geeksforgeeks.org/enumerate-in-python/?ref=lbp"
   ]
  },
  {
   "cell_type": "markdown",
   "id": "1d2fd62a",
   "metadata": {},
   "source": [
    "#How to unzip? \n",
    "#Unzipping means converting the zipped values back to the individual self as they were. \n",
    "#This is done with the help of “*” operator.\n",
    "\n",
    "\n",
    "### Python code to demonstrate the working of\n",
    "### unzip\n",
    " \n",
    "### initializing lists\n",
    "name = [\"Manjeet\", \"Nikhil\", \"Shambhavi\", \"Astha\"]\n",
    "roll_no = [4, 1, 3, 2]\n",
    "marks = [40, 50, 60, 70]\n",
    " \n",
    "### using zip() to map values\n",
    "mapped = zip(name, roll_no, marks)\n",
    " \n",
    "### converting values to print as list\n",
    "mapped = list(mapped)\n",
    " \n",
    "### printing resultant values\n",
    "print(\"The zipped result is : \", end=\"\")\n",
    "print(mapped)\n",
    " \n",
    "print(\"\\n\")\n",
    " \n",
    "### unzipping values\n",
    "namz, roll_noz, marksz = zip(*mapped)\n",
    " \n",
    "print(\"The unzipped result: \\n\", end=\"\")\n",
    " \n",
    "### printing initial lists\n",
    "print(\"The name list is : \", end=\"\")\n",
    "print(namz)\n",
    " \n",
    "print(\"The roll_no list is : \", end=\"\")\n",
    "print(roll_noz)\n",
    " \n",
    "print(\"The marks list is : \", end=\"\")\n",
    "print(marksz)"
   ]
  },
  {
   "cell_type": "code",
   "execution_count": 74,
   "id": "d722df6c",
   "metadata": {},
   "outputs": [
    {
     "name": "stdout",
     "output_type": "stream",
     "text": [
      "Player :  Sachin     Score : 100\n",
      "Player :  Sehwag     Score : 15\n",
      "Player :  Gambhir     Score : 17\n",
      "Player :  Dravid     Score : 28\n",
      "Player :  Raina     Score : 43\n"
     ]
    }
   ],
   "source": [
    "#Practical Applications\n",
    "#There are many possible applications that can be said to be executed using zip, be it student database or scorecard or any other utility that requires mapping of groups. A small example of scorecard is demonstrated below. \n",
    "\n",
    "\n",
    "# Python code to demonstrate the application of\n",
    "# zip()\n",
    " \n",
    "# initializing list of players.\n",
    "players = [\"Sachin\", \"Sehwag\", \"Gambhir\", \"Dravid\", \"Raina\"]\n",
    " \n",
    "# initializing their scores\n",
    "scores = [100, 15, 17, 28, 43]\n",
    " \n",
    "# printing players and scores.\n",
    "for pl, sc in zip(players, scores):\n",
    "    print(\"Player :  %s     Score : %d\" % (pl, sc))"
   ]
  },
  {
   "cell_type": "markdown",
   "id": "a7095e9c",
   "metadata": {},
   "source": [
    "Enumerate() in Python\n",
    "\n",
    "Often, when dealing with iterators, we also get a need to keep a count of iterations. \n",
    "\n",
    "Python eases the programmers’ task by providing a built-in function enumerate() for this task. \n",
    "\n",
    "Enumerate() method adds a counter to an iterable and returns it in a form of enumerating object. \n",
    "\n",
    "This enumerated object can then be used directly for loops or converted into a list of tuples using the list() method.\n",
    "\n",
    "Syntax: enumerate(iterable, start=0)\n",
    "\n",
    "Parameters:\n",
    "\n",
    "Iterable: any object that supports iteration\n",
    "\n",
    "Start: the index value from which the counter is to be started, by default it is 0"
   ]
  },
  {
   "cell_type": "code",
   "execution_count": 81,
   "id": "262a937e",
   "metadata": {},
   "outputs": [
    {
     "name": "stdout",
     "output_type": "stream",
     "text": [
      "Return type: <class 'enumerate'>\n",
      "((0, 'eat'), (1, 'sleep'), (2, 'repeat'))\n",
      "((2, 'g'), (3, 'e'), (4, 'e'), (5, 'k'))\n"
     ]
    }
   ],
   "source": [
    "# Python program to illustrate\n",
    "# enumerate function\n",
    "l1 = [\"eat\",\"sleep\",\"repeat\"]\n",
    "s1 = \"geek\"\n",
    "\n",
    "# creating enumerate objects\n",
    "obj1 = enumerate(l1)\n",
    "obj2 = enumerate(s1)\n",
    "\n",
    "print (\"Return type:\",type(obj1))\n",
    "print (tuple(enumerate(l1)))    #using list instead of tuple brog out 'list is not callable'\n",
    "\n",
    "# changing start index to 2 from 0\n",
    "print (tuple(enumerate(s1,2)))\n"
   ]
  },
  {
   "cell_type": "markdown",
   "id": "86903502",
   "metadata": {},
   "source": [
    "Dataframe exportation to csv.\n",
    "\n",
    "We created a dataframe using dictionary.\n",
    "\n",
    "We uploaded it into a csv file.\n",
    "\n",
    "We created a new dataframe from our csv file.\n",
    "\n",
    "We used the head command to show the first 5 rows.\n"
   ]
  },
  {
   "cell_type": "code",
   "execution_count": 89,
   "id": "a9573988",
   "metadata": {},
   "outputs": [
    {
     "data": {
      "text/html": [
       "<div>\n",
       "<style scoped>\n",
       "    .dataframe tbody tr th:only-of-type {\n",
       "        vertical-align: middle;\n",
       "    }\n",
       "\n",
       "    .dataframe tbody tr th {\n",
       "        vertical-align: top;\n",
       "    }\n",
       "\n",
       "    .dataframe thead th {\n",
       "        text-align: right;\n",
       "    }\n",
       "</style>\n",
       "<table border=\"1\" class=\"dataframe\">\n",
       "  <thead>\n",
       "    <tr style=\"text-align: right;\">\n",
       "      <th></th>\n",
       "      <th>Unnamed: 0</th>\n",
       "      <th>name</th>\n",
       "      <th>age</th>\n",
       "      <th>city</th>\n",
       "    </tr>\n",
       "  </thead>\n",
       "  <tbody>\n",
       "    <tr>\n",
       "      <th>0</th>\n",
       "      <td>0</td>\n",
       "      <td>Jack</td>\n",
       "      <td>34</td>\n",
       "      <td>Paris</td>\n",
       "    </tr>\n",
       "    <tr>\n",
       "      <th>1</th>\n",
       "      <td>1</td>\n",
       "      <td>Thomas</td>\n",
       "      <td>30</td>\n",
       "      <td>Roma</td>\n",
       "    </tr>\n",
       "    <tr>\n",
       "      <th>2</th>\n",
       "      <td>2</td>\n",
       "      <td>Alexandre</td>\n",
       "      <td>16</td>\n",
       "      <td>New York</td>\n",
       "    </tr>\n",
       "  </tbody>\n",
       "</table>\n",
       "</div>"
      ],
      "text/plain": [
       "   Unnamed: 0       name  age      city\n",
       "0           0       Jack   34     Paris\n",
       "1           1     Thomas   30      Roma\n",
       "2           2  Alexandre   16  New York"
      ]
     },
     "execution_count": 89,
     "metadata": {},
     "output_type": "execute_result"
    }
   ],
   "source": [
    "import pandas as pd\n",
    "dict1 = {'name' : ['Jack', 'Thomas', 'Alexandre'],\n",
    "                'age' : [34, 30, 16],\n",
    "                'city' : ['Paris', 'Roma', 'New York']}\n",
    "\n",
    "df= pd.DataFrame(dict1)\n",
    "df.to_csv('data csv', )\n",
    "newdata= pd.read_csv('data csv')\n",
    "newdata.head()               #how to remove unnamed  \n"
   ]
  },
  {
   "cell_type": "code",
   "execution_count": 3,
   "id": "76b96cc1",
   "metadata": {},
   "outputs": [
    {
     "name": "stdout",
     "output_type": "stream",
     "text": [
      "<class 'pandas.core.frame.DataFrame'>\n",
      "RangeIndex: 3 entries, 0 to 2\n",
      "Data columns (total 3 columns):\n",
      " #   Column  Non-Null Count  Dtype \n",
      "---  ------  --------------  ----- \n",
      " 0   name    3 non-null      object\n",
      " 1   age     3 non-null      int64 \n",
      " 2   city    3 non-null      object\n",
      "dtypes: int64(1), object(2)\n",
      "memory usage: 200.0+ bytes\n"
     ]
    },
    {
     "data": {
      "text/html": [
       "<div>\n",
       "<style scoped>\n",
       "    .dataframe tbody tr th:only-of-type {\n",
       "        vertical-align: middle;\n",
       "    }\n",
       "\n",
       "    .dataframe tbody tr th {\n",
       "        vertical-align: top;\n",
       "    }\n",
       "\n",
       "    .dataframe thead th {\n",
       "        text-align: right;\n",
       "    }\n",
       "</style>\n",
       "<table border=\"1\" class=\"dataframe\">\n",
       "  <thead>\n",
       "    <tr style=\"text-align: right;\">\n",
       "      <th></th>\n",
       "      <th>name</th>\n",
       "      <th>age</th>\n",
       "      <th>city</th>\n",
       "    </tr>\n",
       "  </thead>\n",
       "  <tbody>\n",
       "    <tr>\n",
       "      <th>1</th>\n",
       "      <td>Thomas</td>\n",
       "      <td>30</td>\n",
       "      <td>Roma</td>\n",
       "    </tr>\n",
       "    <tr>\n",
       "      <th>2</th>\n",
       "      <td>Alexandre</td>\n",
       "      <td>16</td>\n",
       "      <td>New York</td>\n",
       "    </tr>\n",
       "  </tbody>\n",
       "</table>\n",
       "</div>"
      ],
      "text/plain": [
       "        name  age      city\n",
       "1     Thomas   30      Roma\n",
       "2  Alexandre   16  New York"
      ]
     },
     "execution_count": 3,
     "metadata": {},
     "output_type": "execute_result"
    }
   ],
   "source": [
    "#To show general information of different columns such as the type, we write:\n",
    "df.info()\n",
    "\n",
    "df.head(2)   #to show the first 5 rows of our data\n",
    "\n",
    "df.tail(2)  # to show the last 5 rows of our data"
   ]
  },
  {
   "cell_type": "code",
   "execution_count": 4,
   "id": "429e9fe3",
   "metadata": {},
   "outputs": [
    {
     "data": {
      "text/html": [
       "<div>\n",
       "<style scoped>\n",
       "    .dataframe tbody tr th:only-of-type {\n",
       "        vertical-align: middle;\n",
       "    }\n",
       "\n",
       "    .dataframe tbody tr th {\n",
       "        vertical-align: top;\n",
       "    }\n",
       "\n",
       "    .dataframe thead th {\n",
       "        text-align: right;\n",
       "    }\n",
       "</style>\n",
       "<table border=\"1\" class=\"dataframe\">\n",
       "  <thead>\n",
       "    <tr style=\"text-align: right;\">\n",
       "      <th></th>\n",
       "      <th>age</th>\n",
       "    </tr>\n",
       "  </thead>\n",
       "  <tbody>\n",
       "    <tr>\n",
       "      <th>count</th>\n",
       "      <td>3.000000</td>\n",
       "    </tr>\n",
       "    <tr>\n",
       "      <th>mean</th>\n",
       "      <td>26.666667</td>\n",
       "    </tr>\n",
       "    <tr>\n",
       "      <th>std</th>\n",
       "      <td>9.451631</td>\n",
       "    </tr>\n",
       "    <tr>\n",
       "      <th>min</th>\n",
       "      <td>16.000000</td>\n",
       "    </tr>\n",
       "    <tr>\n",
       "      <th>25%</th>\n",
       "      <td>23.000000</td>\n",
       "    </tr>\n",
       "    <tr>\n",
       "      <th>50%</th>\n",
       "      <td>30.000000</td>\n",
       "    </tr>\n",
       "    <tr>\n",
       "      <th>75%</th>\n",
       "      <td>32.000000</td>\n",
       "    </tr>\n",
       "    <tr>\n",
       "      <th>max</th>\n",
       "      <td>34.000000</td>\n",
       "    </tr>\n",
       "  </tbody>\n",
       "</table>\n",
       "</div>"
      ],
      "text/plain": [
       "             age\n",
       "count   3.000000\n",
       "mean   26.666667\n",
       "std     9.451631\n",
       "min    16.000000\n",
       "25%    23.000000\n",
       "50%    30.000000\n",
       "75%    32.000000\n",
       "max    34.000000"
      ]
     },
     "execution_count": 4,
     "metadata": {},
     "output_type": "execute_result"
    }
   ],
   "source": [
    "#Now, let’s use the describe command for calculating some statistical data for one specific column.\n",
    "\n",
    "df.describe()  # we will get a detailed description of numerical variables of our data such as mean, min, std, max...etc"
   ]
  },
  {
   "cell_type": "code",
   "execution_count": 5,
   "id": "1c4b31f0",
   "metadata": {},
   "outputs": [
    {
     "data": {
      "text/html": [
       "<div>\n",
       "<style scoped>\n",
       "    .dataframe tbody tr th:only-of-type {\n",
       "        vertical-align: middle;\n",
       "    }\n",
       "\n",
       "    .dataframe tbody tr th {\n",
       "        vertical-align: top;\n",
       "    }\n",
       "\n",
       "    .dataframe thead th {\n",
       "        text-align: right;\n",
       "    }\n",
       "</style>\n",
       "<table border=\"1\" class=\"dataframe\">\n",
       "  <thead>\n",
       "    <tr style=\"text-align: right;\">\n",
       "      <th></th>\n",
       "      <th>points</th>\n",
       "      <th>assists</th>\n",
       "      <th>rebounds</th>\n",
       "    </tr>\n",
       "  </thead>\n",
       "  <tbody>\n",
       "    <tr>\n",
       "      <th>0</th>\n",
       "      <td>25</td>\n",
       "      <td>5</td>\n",
       "      <td>11</td>\n",
       "    </tr>\n",
       "    <tr>\n",
       "      <th>1</th>\n",
       "      <td>12</td>\n",
       "      <td>7</td>\n",
       "      <td>8</td>\n",
       "    </tr>\n",
       "    <tr>\n",
       "      <th>2</th>\n",
       "      <td>15</td>\n",
       "      <td>7</td>\n",
       "      <td>10</td>\n",
       "    </tr>\n",
       "    <tr>\n",
       "      <th>3</th>\n",
       "      <td>14</td>\n",
       "      <td>9</td>\n",
       "      <td>6</td>\n",
       "    </tr>\n",
       "    <tr>\n",
       "      <th>4</th>\n",
       "      <td>19</td>\n",
       "      <td>12</td>\n",
       "      <td>6</td>\n",
       "    </tr>\n",
       "  </tbody>\n",
       "</table>\n",
       "</div>"
      ],
      "text/plain": [
       "   points  assists  rebounds\n",
       "0      25        5        11\n",
       "1      12        7         8\n",
       "2      15        7        10\n",
       "3      14        9         6\n",
       "4      19       12         6"
      ]
     },
     "execution_count": 5,
     "metadata": {},
     "output_type": "execute_result"
    }
   ],
   "source": [
    "import pandas as pd\n",
    "\n",
    "df = pd.DataFrame({\"points\": [25, 12, 15, 14, 19, 23,32,12],\n",
    "                   \"assists\": [5, 7, 7, 9, 12, 9,11,6],\n",
    "                   \"rebounds\": [11, 8, 10, 6, 6, 5,8,9]})\n",
    "\n",
    "df.head()   #When we type df.head()/df.tail(), 5 rows are shown by default\n"
   ]
  },
  {
   "cell_type": "markdown",
   "id": "a5871e59",
   "metadata": {},
   "source": [
    "Dataframe Bracket Selection\n",
    "In this course, we will often have to select specific rows or columns from our DataFrame.\n",
    "\n",
    "One of the easiest ways to do that is to use brackets"
   ]
  },
  {
   "cell_type": "code",
   "execution_count": 4,
   "id": "1e4d6de4",
   "metadata": {},
   "outputs": [
    {
     "data": {
      "text/html": [
       "<div>\n",
       "<style scoped>\n",
       "    .dataframe tbody tr th:only-of-type {\n",
       "        vertical-align: middle;\n",
       "    }\n",
       "\n",
       "    .dataframe tbody tr th {\n",
       "        vertical-align: top;\n",
       "    }\n",
       "\n",
       "    .dataframe thead th {\n",
       "        text-align: right;\n",
       "    }\n",
       "</style>\n",
       "<table border=\"1\" class=\"dataframe\">\n",
       "  <thead>\n",
       "    <tr style=\"text-align: right;\">\n",
       "      <th></th>\n",
       "      <th>Shape</th>\n",
       "      <th>Color</th>\n",
       "      <th>Price</th>\n",
       "    </tr>\n",
       "  </thead>\n",
       "  <tbody>\n",
       "    <tr>\n",
       "      <th>0</th>\n",
       "      <td>Rectangle</td>\n",
       "      <td>Green</td>\n",
       "      <td>10</td>\n",
       "    </tr>\n",
       "    <tr>\n",
       "      <th>1</th>\n",
       "      <td>Rectangle</td>\n",
       "      <td>Green</td>\n",
       "      <td>15</td>\n",
       "    </tr>\n",
       "    <tr>\n",
       "      <th>2</th>\n",
       "      <td>Square</td>\n",
       "      <td>Green</td>\n",
       "      <td>5</td>\n",
       "    </tr>\n",
       "    <tr>\n",
       "      <th>3</th>\n",
       "      <td>Rectangle</td>\n",
       "      <td>Blue</td>\n",
       "      <td>5</td>\n",
       "    </tr>\n",
       "    <tr>\n",
       "      <th>4</th>\n",
       "      <td>Square</td>\n",
       "      <td>Blue</td>\n",
       "      <td>10</td>\n",
       "    </tr>\n",
       "    <tr>\n",
       "      <th>5</th>\n",
       "      <td>Square</td>\n",
       "      <td>Red</td>\n",
       "      <td>15</td>\n",
       "    </tr>\n",
       "    <tr>\n",
       "      <th>6</th>\n",
       "      <td>Square</td>\n",
       "      <td>Red</td>\n",
       "      <td>15</td>\n",
       "    </tr>\n",
       "    <tr>\n",
       "      <th>7</th>\n",
       "      <td>Rectangle</td>\n",
       "      <td>Red</td>\n",
       "      <td>5</td>\n",
       "    </tr>\n",
       "  </tbody>\n",
       "</table>\n",
       "</div>"
      ],
      "text/plain": [
       "       Shape  Color  Price\n",
       "0  Rectangle  Green     10\n",
       "1  Rectangle  Green     15\n",
       "2     Square  Green      5\n",
       "3  Rectangle   Blue      5\n",
       "4     Square   Blue     10\n",
       "5     Square    Red     15\n",
       "6     Square    Red     15\n",
       "7  Rectangle    Red      5"
      ]
     },
     "execution_count": 4,
     "metadata": {},
     "output_type": "execute_result"
    }
   ],
   "source": [
    "import pandas as pd\n",
    "\n",
    "boxes = {'Color': ['Green','Green','Green','Blue','Blue','Red','Red','Red'],\n",
    "         'Shape': ['Rectangle','Rectangle','Square','Rectangle','Square','Square','Square','Rectangle'],\n",
    "         'Price': [10,15,5,5,10,15,15,5]\n",
    "        }\n",
    "\n",
    "df = pd.DataFrame(boxes, columns= ['Shape','Color','Price'])\n",
    "df"
   ]
  },
  {
   "cell_type": "code",
   "execution_count": 13,
   "id": "ec201654",
   "metadata": {},
   "outputs": [
    {
     "data": {
      "text/html": [
       "<div>\n",
       "<style scoped>\n",
       "    .dataframe tbody tr th:only-of-type {\n",
       "        vertical-align: middle;\n",
       "    }\n",
       "\n",
       "    .dataframe tbody tr th {\n",
       "        vertical-align: top;\n",
       "    }\n",
       "\n",
       "    .dataframe thead th {\n",
       "        text-align: right;\n",
       "    }\n",
       "</style>\n",
       "<table border=\"1\" class=\"dataframe\">\n",
       "  <thead>\n",
       "    <tr style=\"text-align: right;\">\n",
       "      <th></th>\n",
       "      <th>Shape</th>\n",
       "      <th>Color</th>\n",
       "      <th>Price</th>\n",
       "    </tr>\n",
       "  </thead>\n",
       "  <tbody>\n",
       "    <tr>\n",
       "      <th>0</th>\n",
       "      <td>Rectangle</td>\n",
       "      <td>Green</td>\n",
       "      <td>10</td>\n",
       "    </tr>\n",
       "    <tr>\n",
       "      <th>1</th>\n",
       "      <td>Rectangle</td>\n",
       "      <td>Green</td>\n",
       "      <td>15</td>\n",
       "    </tr>\n",
       "    <tr>\n",
       "      <th>2</th>\n",
       "      <td>Square</td>\n",
       "      <td>Green</td>\n",
       "      <td>5</td>\n",
       "    </tr>\n",
       "    <tr>\n",
       "      <th>3</th>\n",
       "      <td>Rectangle</td>\n",
       "      <td>Blue</td>\n",
       "      <td>5</td>\n",
       "    </tr>\n",
       "  </tbody>\n",
       "</table>\n",
       "</div>"
      ],
      "text/plain": [
       "       Shape  Color  Price\n",
       "0  Rectangle  Green     10\n",
       "1  Rectangle  Green     15\n",
       "2     Square  Green      5\n",
       "3  Rectangle   Blue      5"
      ]
     },
     "execution_count": 13,
     "metadata": {},
     "output_type": "execute_result"
    }
   ],
   "source": [
    "import pandas as pd\n",
    "\n",
    "boxes = {'Color': ['Green','Green','Green','Blue','Blue','Red','Red','Red'],\n",
    "         'Shape': ['Rectangle','Rectangle','Square','Rectangle','Square','Square','Square','Rectangle'],\n",
    "         'Price': [10,15,5,5,10,15,15,5]\n",
    "        }\n",
    "\n",
    "df[0:4]\n",
    "\n"
   ]
  },
  {
   "cell_type": "markdown",
   "id": "d48c5a92",
   "metadata": {},
   "source": [
    "How to Select Rows from Pandas DataFrame\n",
    "\n",
    "Create a DataFrame\n",
    "\n",
    "Select Rows from Pandas DataFrame\n",
    "\n",
    "You can use the following logic to select rows from Pandas DataFrame based on specified conditions:\n",
    "\n",
    "df.loc[df[‘column name’] condition]\n",
    "\n",
    "For example, if you want to get the rows where the color is green, then you’ll need to apply:\n",
    "\n",
    "df.loc[df[‘Color’] == ‘Green’]\n",
    "\n",
    "Where:\n",
    "\n",
    "Color is the column name\n",
    "Green is the condition"
   ]
  },
  {
   "cell_type": "code",
   "execution_count": 13,
   "id": "50cc31cd",
   "metadata": {},
   "outputs": [
    {
     "name": "stdout",
     "output_type": "stream",
     "text": [
      "  Color      Shape  Price\n",
      "5   Red     Square     15\n",
      "6   Red     Square     15\n",
      "7   Red  Rectangle      5\n"
     ]
    }
   ],
   "source": [
    "import pandas as pd\n",
    "\n",
    "boxes = {'Color': ['Green','Green','Green','Blue','Blue','Red','Red','Red'],\n",
    "         'Shape': ['Rectangle','Rectangle','Square','Rectangle','Square','Square','Square','Rectangle'],\n",
    "         'Price': [10,15,5,5,10,15,15,5]\n",
    "        }\n",
    "\n",
    "df = pd.DataFrame(boxes, columns= ['Color','Shape','Price'])\n",
    "\n",
    "select_color = df.loc[df['Color'] == 'Red']\n",
    "print (select_color)"
   ]
  },
  {
   "cell_type": "code",
   "execution_count": 16,
   "id": "8e898f41",
   "metadata": {},
   "outputs": [
    {
     "name": "stdout",
     "output_type": "stream",
     "text": [
      "   Color      Shape  Price\n",
      "0  Green  Rectangle     10\n",
      "2  Green     Square      5\n",
      "3   Blue  Rectangle      5\n"
     ]
    }
   ],
   "source": [
    "select_price = df.loc[df['Price'] <= 10]\n",
    "print (select_price.head(3))"
   ]
  },
  {
   "cell_type": "code",
   "execution_count": 20,
   "id": "15fb6b5b",
   "metadata": {
    "scrolled": true
   },
   "outputs": [
    {
     "name": "stdout",
     "output_type": "stream",
     "text": [
      "   Color      Shape  Price\n",
      "0  Green  Rectangle     10\n",
      "1  Green  Rectangle     15\n",
      "2  Green     Square      5\n"
     ]
    }
   ],
   "source": [
    "color_and_price = df.loc[(df['Color'] == 'Green') & (df['Price'] >= 5)]\n",
    "print (color_and_price)"
   ]
  },
  {
   "cell_type": "code",
   "execution_count": 21,
   "id": "95ff2440",
   "metadata": {},
   "outputs": [
    {
     "name": "stdout",
     "output_type": "stream",
     "text": [
      "   Color      Shape  Price\n",
      "0  Green  Rectangle     10\n",
      "1  Green  Rectangle     15\n",
      "2  Green     Square      5\n",
      "3   Blue  Rectangle      5\n",
      "7    Red  Rectangle      5\n"
     ]
    }
   ],
   "source": [
    "color_or_shape = df.loc[(df['Color'] == 'Green') | (df['Shape'] == 'Rectangle')]\n",
    "print (color_or_shape)"
   ]
  },
  {
   "cell_type": "code",
   "execution_count": 28,
   "id": "60fb8bd2",
   "metadata": {},
   "outputs": [
    {
     "name": "stdout",
     "output_type": "stream",
     "text": [
      "   Color      Shape  Price\n",
      "1  Green  Rectangle     15\n",
      "2  Green     Square      5\n",
      "3   Blue  Rectangle      5\n",
      "5    Red     Square     15\n",
      "6    Red     Square     15\n",
      "7    Red  Rectangle      5\n"
     ]
    }
   ],
   "source": [
    "not_eqaul_to = df.loc[df['Price'] != 10 ]\n",
    "print (not_eqaul_to)"
   ]
  },
  {
   "cell_type": "code",
   "execution_count": 17,
   "id": "a343f3db",
   "metadata": {
    "scrolled": false
   },
   "outputs": [
    {
     "data": {
      "text/html": [
       "<div>\n",
       "<style scoped>\n",
       "    .dataframe tbody tr th:only-of-type {\n",
       "        vertical-align: middle;\n",
       "    }\n",
       "\n",
       "    .dataframe tbody tr th {\n",
       "        vertical-align: top;\n",
       "    }\n",
       "\n",
       "    .dataframe thead th {\n",
       "        text-align: right;\n",
       "    }\n",
       "</style>\n",
       "<table border=\"1\" class=\"dataframe\">\n",
       "  <thead>\n",
       "    <tr style=\"text-align: right;\">\n",
       "      <th></th>\n",
       "      <th>Color</th>\n",
       "      <th>Price</th>\n",
       "    </tr>\n",
       "    <tr>\n",
       "      <th>Shape</th>\n",
       "      <th></th>\n",
       "      <th></th>\n",
       "    </tr>\n",
       "  </thead>\n",
       "  <tbody>\n",
       "    <tr>\n",
       "      <th>Rectangle</th>\n",
       "      <td>Green</td>\n",
       "      <td>10</td>\n",
       "    </tr>\n",
       "    <tr>\n",
       "      <th>Rectangle</th>\n",
       "      <td>Green</td>\n",
       "      <td>15</td>\n",
       "    </tr>\n",
       "    <tr>\n",
       "      <th>Square</th>\n",
       "      <td>Green</td>\n",
       "      <td>5</td>\n",
       "    </tr>\n",
       "    <tr>\n",
       "      <th>Rectangle</th>\n",
       "      <td>Blue</td>\n",
       "      <td>5</td>\n",
       "    </tr>\n",
       "    <tr>\n",
       "      <th>Square</th>\n",
       "      <td>Blue</td>\n",
       "      <td>10</td>\n",
       "    </tr>\n",
       "    <tr>\n",
       "      <th>Square</th>\n",
       "      <td>Red</td>\n",
       "      <td>15</td>\n",
       "    </tr>\n",
       "    <tr>\n",
       "      <th>Square</th>\n",
       "      <td>Red</td>\n",
       "      <td>15</td>\n",
       "    </tr>\n",
       "    <tr>\n",
       "      <th>Rectangle</th>\n",
       "      <td>Red</td>\n",
       "      <td>5</td>\n",
       "    </tr>\n",
       "  </tbody>\n",
       "</table>\n",
       "</div>"
      ],
      "text/plain": [
       "           Color  Price\n",
       "Shape                  \n",
       "Rectangle  Green     10\n",
       "Rectangle  Green     15\n",
       "Square     Green      5\n",
       "Rectangle   Blue      5\n",
       "Square      Blue     10\n",
       "Square       Red     15\n",
       "Square       Red     15\n",
       "Rectangle    Red      5"
      ]
     },
     "execution_count": 17,
     "metadata": {},
     "output_type": "execute_result"
    }
   ],
   "source": [
    "import pandas as pd\n",
    "\n",
    "boxes = {'Color': ['Green','Green','Green','Blue','Blue','Red','Red','Red'],\n",
    "         'Shape': ['Rectangle','Rectangle','Square','Rectangle','Square','Square','Square','Rectangle'],\n",
    "         'Price': [10,15,5,5,10,15,15,5]\n",
    "        }\n",
    "\n",
    "df = pd.DataFrame(boxes, columns= ['Color','Shape','Price'])\n",
    "df\n",
    "\n",
    "new_df = df.set_index ('Shape')\n",
    "new_df"
   ]
  },
  {
   "cell_type": "code",
   "execution_count": 48,
   "id": "7d627ae1",
   "metadata": {},
   "outputs": [
    {
     "data": {
      "text/plain": [
       "0    10\n",
       "1    15\n",
       "2     5\n",
       "3     5\n",
       "4    10\n",
       "5    15\n",
       "6    15\n",
       "7     5\n",
       "Name: Price, dtype: int64"
      ]
     },
     "execution_count": 48,
     "metadata": {},
     "output_type": "execute_result"
    }
   ],
   "source": [
    "df.Shape\n",
    "df.Price"
   ]
  },
  {
   "cell_type": "code",
   "execution_count": 49,
   "id": "f2851624",
   "metadata": {},
   "outputs": [
    {
     "data": {
      "text/plain": [
       "0    10\n",
       "1    15\n",
       "2     5\n",
       "3     5\n",
       "4    10\n",
       "5    15\n",
       "6    15\n",
       "7     5\n",
       "Name: Price, dtype: int64"
      ]
     },
     "execution_count": 49,
     "metadata": {},
     "output_type": "execute_result"
    }
   ],
   "source": [
    "df['Price']"
   ]
  },
  {
   "cell_type": "code",
   "execution_count": 71,
   "id": "e525b97f",
   "metadata": {},
   "outputs": [
    {
     "data": {
      "text/plain": [
       "[22, 38, 26, 35, 35]"
      ]
     },
     "execution_count": 71,
     "metadata": {},
     "output_type": "execute_result"
    }
   ],
   "source": [
    "import pandas as pd\n",
    "\n",
    "titanic = {\"id\": [1,2,3,4,5], \n",
    "         \"name\": ['Mr. Owen Harris', 'Mrs. John Bradley' , ' Miss. Laina' , 'Mrs. Jacques Heath' , 'Mr. William Henry'] , \n",
    "         \"age\": [22, 38 , 26 , 35 , 35 ], \n",
    "         \"sex\": ['male', 'female','female', 'female', 'male'], \n",
    "         \"survived\": [0,1,1,1,0], \n",
    "         \"address\": ['Braund', 'Cumings','Heikkinen','Futrelle','Allen' ]  }\n",
    "\n",
    "#To select a single column, use square brackets [] with the column name of the column of interest.\n",
    "ages = titanic['age']\n",
    "ages"
   ]
  },
  {
   "cell_type": "code",
   "execution_count": 35,
   "id": "6b870fbf",
   "metadata": {
    "scrolled": true
   },
   "outputs": [
    {
     "data": {
      "text/html": [
       "<div>\n",
       "<style scoped>\n",
       "    .dataframe tbody tr th:only-of-type {\n",
       "        vertical-align: middle;\n",
       "    }\n",
       "\n",
       "    .dataframe tbody tr th {\n",
       "        vertical-align: top;\n",
       "    }\n",
       "\n",
       "    .dataframe thead th {\n",
       "        text-align: right;\n",
       "    }\n",
       "</style>\n",
       "<table border=\"1\" class=\"dataframe\">\n",
       "  <thead>\n",
       "    <tr style=\"text-align: right;\">\n",
       "      <th></th>\n",
       "      <th>Color</th>\n",
       "      <th>Shape</th>\n",
       "      <th>Price</th>\n",
       "    </tr>\n",
       "  </thead>\n",
       "  <tbody>\n",
       "    <tr>\n",
       "      <th>Jack</th>\n",
       "      <td>Green</td>\n",
       "      <td>Rectangle</td>\n",
       "      <td>10</td>\n",
       "    </tr>\n",
       "    <tr>\n",
       "      <th>Joan</th>\n",
       "      <td>Red</td>\n",
       "      <td>Square</td>\n",
       "      <td>10</td>\n",
       "    </tr>\n",
       "  </tbody>\n",
       "</table>\n",
       "</div>"
      ],
      "text/plain": [
       "      Color      Shape  Price\n",
       "Jack  Green  Rectangle     10\n",
       "Joan    Red     Square     10"
      ]
     },
     "execution_count": 35,
     "metadata": {},
     "output_type": "execute_result"
    }
   ],
   "source": [
    "# Dataframe loc\n",
    "# The loc() method allows us to extract rows and columns by labeled index.\n",
    "import pandas as pd\n",
    "\n",
    "boxes = {'Color': ['Green','Green','Blue','Blue','Red'],\n",
    "         'Shape': ['Rectangle','Triangle','Square','Rectangle','Square'],\n",
    "         'Price': [10,15,5,5,10]\n",
    "        }\n",
    "\n",
    "\n",
    "df = pd.DataFrame(boxes, columns =  ['Color' , 'Shape' , 'Price'])\n",
    "df\n",
    "\n",
    "df.index=[\"Jack\", \"Thomas\", \"Alexandre\", \"Anne\",\"Joan\"] #get the index labeled\n",
    "df.loc[[\"Jack\", \"Joan\"]] #select the first and second row\n"
   ]
  },
  {
   "cell_type": "code",
   "execution_count": 40,
   "id": "f12a239b",
   "metadata": {
    "scrolled": false
   },
   "outputs": [
    {
     "name": "stdout",
     "output_type": "stream",
     "text": [
      "            max_speed  shield\n",
      "cobra               1       2\n",
      "viper               4       5\n",
      "sidewinder          7       8\n"
     ]
    },
    {
     "data": {
      "text/plain": [
       "max_speed    1\n",
       "shield       2\n",
       "Name: cobra, dtype: int64"
      ]
     },
     "execution_count": 40,
     "metadata": {},
     "output_type": "execute_result"
    }
   ],
   "source": [
    "df = pd.DataFrame([[1, 2], [4, 5], [7, 8]],\n",
    "     index=['cobra', 'viper', 'sidewinder'],\n",
    "     columns=['max_speed', 'shield'])\n",
    "df\n",
    "print (df)\n",
    "\n",
    "#Single label. Note this returns the row as a Series.\n",
    "df.loc['cobra']\n"
   ]
  },
  {
   "cell_type": "code",
   "execution_count": 44,
   "id": "1d8732d4",
   "metadata": {
    "scrolled": true
   },
   "outputs": [
    {
     "data": {
      "text/html": [
       "<div>\n",
       "<style scoped>\n",
       "    .dataframe tbody tr th:only-of-type {\n",
       "        vertical-align: middle;\n",
       "    }\n",
       "\n",
       "    .dataframe tbody tr th {\n",
       "        vertical-align: top;\n",
       "    }\n",
       "\n",
       "    .dataframe thead th {\n",
       "        text-align: right;\n",
       "    }\n",
       "</style>\n",
       "<table border=\"1\" class=\"dataframe\">\n",
       "  <thead>\n",
       "    <tr style=\"text-align: right;\">\n",
       "      <th></th>\n",
       "      <th>max_speed</th>\n",
       "      <th>shield</th>\n",
       "    </tr>\n",
       "  </thead>\n",
       "  <tbody>\n",
       "    <tr>\n",
       "      <th>viper</th>\n",
       "      <td>4</td>\n",
       "      <td>5</td>\n",
       "    </tr>\n",
       "    <tr>\n",
       "      <th>sidewinder</th>\n",
       "      <td>7</td>\n",
       "      <td>8</td>\n",
       "    </tr>\n",
       "    <tr>\n",
       "      <th>cobra</th>\n",
       "      <td>1</td>\n",
       "      <td>2</td>\n",
       "    </tr>\n",
       "  </tbody>\n",
       "</table>\n",
       "</div>"
      ],
      "text/plain": [
       "            max_speed  shield\n",
       "viper               4       5\n",
       "sidewinder          7       8\n",
       "cobra               1       2"
      ]
     },
     "execution_count": 44,
     "metadata": {},
     "output_type": "execute_result"
    }
   ],
   "source": [
    "df = pd.DataFrame([[1, 2], [4, 5], [7, 8]],\n",
    "     index=['cobra', 'viper', 'sidewinder'],\n",
    "     columns=['max_speed', 'shield'])\n",
    "\n",
    "#List of labels. Note using [[]] returns a DataFrame.\n",
    "df.loc[['viper', 'sidewinder' , 'cobra']]"
   ]
  },
  {
   "cell_type": "code",
   "execution_count": 46,
   "id": "84fdd084",
   "metadata": {},
   "outputs": [
    {
     "data": {
      "text/plain": [
       "5"
      ]
     },
     "execution_count": 46,
     "metadata": {},
     "output_type": "execute_result"
    }
   ],
   "source": [
    "# Single label for row and column\n",
    "df.loc['viper', 'shield']    #returns value in the intersction of viper and shield"
   ]
  },
  {
   "cell_type": "code",
   "execution_count": 48,
   "id": "4956c701",
   "metadata": {},
   "outputs": [
    {
     "data": {
      "text/plain": [
       "cobra    1\n",
       "viper    4\n",
       "Name: max_speed, dtype: int64"
      ]
     },
     "execution_count": 48,
     "metadata": {},
     "output_type": "execute_result"
    }
   ],
   "source": [
    "#Slice with labels for row and single label for column. \n",
    "#As mentioned above, note that both the start and stop of the slice are included.\n",
    "\n",
    "df.loc['cobra':'viper'  , 'max_speed']"
   ]
  },
  {
   "cell_type": "code",
   "execution_count": 58,
   "id": "422f6b8b",
   "metadata": {},
   "outputs": [
    {
     "data": {
      "text/html": [
       "<div>\n",
       "<style scoped>\n",
       "    .dataframe tbody tr th:only-of-type {\n",
       "        vertical-align: middle;\n",
       "    }\n",
       "\n",
       "    .dataframe tbody tr th {\n",
       "        vertical-align: top;\n",
       "    }\n",
       "\n",
       "    .dataframe thead th {\n",
       "        text-align: right;\n",
       "    }\n",
       "</style>\n",
       "<table border=\"1\" class=\"dataframe\">\n",
       "  <thead>\n",
       "    <tr style=\"text-align: right;\">\n",
       "      <th></th>\n",
       "      <th>max_speed</th>\n",
       "      <th>shield</th>\n",
       "    </tr>\n",
       "  </thead>\n",
       "  <tbody>\n",
       "    <tr>\n",
       "      <th>cobra</th>\n",
       "      <td>1</td>\n",
       "      <td>2</td>\n",
       "    </tr>\n",
       "    <tr>\n",
       "      <th>sidewinder</th>\n",
       "      <td>7</td>\n",
       "      <td>8</td>\n",
       "    </tr>\n",
       "  </tbody>\n",
       "</table>\n",
       "</div>"
      ],
      "text/plain": [
       "            max_speed  shield\n",
       "cobra               1       2\n",
       "sidewinder          7       8"
      ]
     },
     "execution_count": 58,
     "metadata": {},
     "output_type": "execute_result"
    }
   ],
   "source": [
    "# Boolean list with the same length as the row axis\n",
    "df = pd.DataFrame([[1, 2], [4, 5], [7, 8]],\n",
    "     index=['cobra', 'viper', 'sidewinder'],\n",
    "     columns=['max_speed', 'shield'])\n",
    "\n",
    "df.loc[[True, False, True]] "
   ]
  },
  {
   "cell_type": "code",
   "execution_count": 62,
   "id": "aa0dde69",
   "metadata": {},
   "outputs": [
    {
     "data": {
      "text/html": [
       "<div>\n",
       "<style scoped>\n",
       "    .dataframe tbody tr th:only-of-type {\n",
       "        vertical-align: middle;\n",
       "    }\n",
       "\n",
       "    .dataframe tbody tr th {\n",
       "        vertical-align: top;\n",
       "    }\n",
       "\n",
       "    .dataframe thead th {\n",
       "        text-align: right;\n",
       "    }\n",
       "</style>\n",
       "<table border=\"1\" class=\"dataframe\">\n",
       "  <thead>\n",
       "    <tr style=\"text-align: right;\">\n",
       "      <th></th>\n",
       "      <th>max_speed</th>\n",
       "      <th>shield</th>\n",
       "    </tr>\n",
       "  </thead>\n",
       "  <tbody>\n",
       "    <tr>\n",
       "      <th>cobra</th>\n",
       "      <td>1</td>\n",
       "      <td>2</td>\n",
       "    </tr>\n",
       "    <tr>\n",
       "      <th>viper</th>\n",
       "      <td>4</td>\n",
       "      <td>5</td>\n",
       "    </tr>\n",
       "  </tbody>\n",
       "</table>\n",
       "</div>"
      ],
      "text/plain": [
       "       max_speed  shield\n",
       "cobra          1       2\n",
       "viper          4       5"
      ]
     },
     "execution_count": 62,
     "metadata": {},
     "output_type": "execute_result"
    }
   ],
   "source": [
    "# Alignable boolean Series:\n",
    "\n",
    "df.loc[pd.Series([True, False, True],\n",
    "       index=['viper', 'sidewinder', 'cobra'])] "
   ]
  },
  {
   "cell_type": "code",
   "execution_count": 64,
   "id": "62c1e820",
   "metadata": {},
   "outputs": [
    {
     "data": {
      "text/html": [
       "<div>\n",
       "<style scoped>\n",
       "    .dataframe tbody tr th:only-of-type {\n",
       "        vertical-align: middle;\n",
       "    }\n",
       "\n",
       "    .dataframe tbody tr th {\n",
       "        vertical-align: top;\n",
       "    }\n",
       "\n",
       "    .dataframe thead th {\n",
       "        text-align: right;\n",
       "    }\n",
       "</style>\n",
       "<table border=\"1\" class=\"dataframe\">\n",
       "  <thead>\n",
       "    <tr style=\"text-align: right;\">\n",
       "      <th></th>\n",
       "      <th>max_speed</th>\n",
       "      <th>shield</th>\n",
       "    </tr>\n",
       "    <tr>\n",
       "      <th>pet</th>\n",
       "      <th></th>\n",
       "      <th></th>\n",
       "    </tr>\n",
       "  </thead>\n",
       "  <tbody>\n",
       "    <tr>\n",
       "      <th>cobra</th>\n",
       "      <td>1</td>\n",
       "      <td>2</td>\n",
       "    </tr>\n",
       "    <tr>\n",
       "      <th>viper</th>\n",
       "      <td>4</td>\n",
       "      <td>5</td>\n",
       "    </tr>\n",
       "  </tbody>\n",
       "</table>\n",
       "</div>"
      ],
      "text/plain": [
       "       max_speed  shield\n",
       "pet                     \n",
       "cobra          1       2\n",
       "viper          4       5"
      ]
     },
     "execution_count": 64,
     "metadata": {},
     "output_type": "execute_result"
    }
   ],
   "source": [
    "# Index (same behavior as df.reindex)\n",
    "\n",
    "df.loc[pd.Index([\"cobra\", \"viper\"], name=\"pet\")]  "
   ]
  },
  {
   "cell_type": "code",
   "execution_count": 67,
   "id": "56fde2fe",
   "metadata": {},
   "outputs": [
    {
     "data": {
      "text/html": [
       "<div>\n",
       "<style scoped>\n",
       "    .dataframe tbody tr th:only-of-type {\n",
       "        vertical-align: middle;\n",
       "    }\n",
       "\n",
       "    .dataframe tbody tr th {\n",
       "        vertical-align: top;\n",
       "    }\n",
       "\n",
       "    .dataframe thead th {\n",
       "        text-align: right;\n",
       "    }\n",
       "</style>\n",
       "<table border=\"1\" class=\"dataframe\">\n",
       "  <thead>\n",
       "    <tr style=\"text-align: right;\">\n",
       "      <th></th>\n",
       "      <th>max_speed</th>\n",
       "      <th>shield</th>\n",
       "    </tr>\n",
       "  </thead>\n",
       "  <tbody>\n",
       "    <tr>\n",
       "      <th>viper</th>\n",
       "      <td>4</td>\n",
       "      <td>5</td>\n",
       "    </tr>\n",
       "    <tr>\n",
       "      <th>sidewinder</th>\n",
       "      <td>7</td>\n",
       "      <td>8</td>\n",
       "    </tr>\n",
       "  </tbody>\n",
       "</table>\n",
       "</div>"
      ],
      "text/plain": [
       "            max_speed  shield\n",
       "viper               4       5\n",
       "sidewinder          7       8"
      ]
     },
     "execution_count": 67,
     "metadata": {},
     "output_type": "execute_result"
    }
   ],
   "source": [
    "# Conditional that returns a boolean Series\n",
    "\n",
    "df.loc[df['shield'] >= 5]"
   ]
  },
  {
   "cell_type": "code",
   "execution_count": 70,
   "id": "2f0c809d",
   "metadata": {},
   "outputs": [
    {
     "data": {
      "text/html": [
       "<div>\n",
       "<style scoped>\n",
       "    .dataframe tbody tr th:only-of-type {\n",
       "        vertical-align: middle;\n",
       "    }\n",
       "\n",
       "    .dataframe tbody tr th {\n",
       "        vertical-align: top;\n",
       "    }\n",
       "\n",
       "    .dataframe thead th {\n",
       "        text-align: right;\n",
       "    }\n",
       "</style>\n",
       "<table border=\"1\" class=\"dataframe\">\n",
       "  <thead>\n",
       "    <tr style=\"text-align: right;\">\n",
       "      <th></th>\n",
       "      <th>max_speed</th>\n",
       "    </tr>\n",
       "  </thead>\n",
       "  <tbody>\n",
       "    <tr>\n",
       "      <th>sidewinder</th>\n",
       "      <td>7</td>\n",
       "    </tr>\n",
       "  </tbody>\n",
       "</table>\n",
       "</div>"
      ],
      "text/plain": [
       "            max_speed\n",
       "sidewinder          7"
      ]
     },
     "execution_count": 70,
     "metadata": {},
     "output_type": "execute_result"
    }
   ],
   "source": [
    "# Conditional that returns a boolean Series with column labels specified\n",
    "\n",
    "df.loc[df['shield'] > 6, ['max_speed'] ]"
   ]
  },
  {
   "cell_type": "code",
   "execution_count": 71,
   "id": "88c04e0c",
   "metadata": {},
   "outputs": [
    {
     "data": {
      "text/html": [
       "<div>\n",
       "<style scoped>\n",
       "    .dataframe tbody tr th:only-of-type {\n",
       "        vertical-align: middle;\n",
       "    }\n",
       "\n",
       "    .dataframe tbody tr th {\n",
       "        vertical-align: top;\n",
       "    }\n",
       "\n",
       "    .dataframe thead th {\n",
       "        text-align: right;\n",
       "    }\n",
       "</style>\n",
       "<table border=\"1\" class=\"dataframe\">\n",
       "  <thead>\n",
       "    <tr style=\"text-align: right;\">\n",
       "      <th></th>\n",
       "      <th>max_speed</th>\n",
       "      <th>shield</th>\n",
       "    </tr>\n",
       "  </thead>\n",
       "  <tbody>\n",
       "    <tr>\n",
       "      <th>sidewinder</th>\n",
       "      <td>7</td>\n",
       "      <td>8</td>\n",
       "    </tr>\n",
       "  </tbody>\n",
       "</table>\n",
       "</div>"
      ],
      "text/plain": [
       "            max_speed  shield\n",
       "sidewinder          7       8"
      ]
     },
     "execution_count": 71,
     "metadata": {},
     "output_type": "execute_result"
    }
   ],
   "source": [
    "#Callable that returns a boolean Series\n",
    "\n",
    "df.loc[lambda df: df['shield'] == 8]"
   ]
  },
  {
   "cell_type": "code",
   "execution_count": 81,
   "id": "e53fca82",
   "metadata": {},
   "outputs": [
    {
     "data": {
      "text/html": [
       "<div>\n",
       "<style scoped>\n",
       "    .dataframe tbody tr th:only-of-type {\n",
       "        vertical-align: middle;\n",
       "    }\n",
       "\n",
       "    .dataframe tbody tr th {\n",
       "        vertical-align: top;\n",
       "    }\n",
       "\n",
       "    .dataframe thead th {\n",
       "        text-align: right;\n",
       "    }\n",
       "</style>\n",
       "<table border=\"1\" class=\"dataframe\">\n",
       "  <thead>\n",
       "    <tr style=\"text-align: right;\">\n",
       "      <th></th>\n",
       "      <th>max_speed</th>\n",
       "      <th>shield</th>\n",
       "    </tr>\n",
       "  </thead>\n",
       "  <tbody>\n",
       "    <tr>\n",
       "      <th>cobra</th>\n",
       "      <td>10</td>\n",
       "      <td>10</td>\n",
       "    </tr>\n",
       "    <tr>\n",
       "      <th>viper</th>\n",
       "      <td>30</td>\n",
       "      <td>50</td>\n",
       "    </tr>\n",
       "    <tr>\n",
       "      <th>sidewinder</th>\n",
       "      <td>30</td>\n",
       "      <td>50</td>\n",
       "    </tr>\n",
       "  </tbody>\n",
       "</table>\n",
       "</div>"
      ],
      "text/plain": [
       "            max_speed  shield\n",
       "cobra              10      10\n",
       "viper              30      50\n",
       "sidewinder         30      50"
      ]
     },
     "execution_count": 81,
     "metadata": {},
     "output_type": "execute_result"
    }
   ],
   "source": [
    "# Set value for all items matching the list of labels\n",
    "\n",
    "df.loc[['viper', 'sidewinder'], ['shield']] = 50\n",
    "df"
   ]
  },
  {
   "cell_type": "code",
   "execution_count": 82,
   "id": "e7d2a17b",
   "metadata": {},
   "outputs": [
    {
     "data": {
      "text/html": [
       "<div>\n",
       "<style scoped>\n",
       "    .dataframe tbody tr th:only-of-type {\n",
       "        vertical-align: middle;\n",
       "    }\n",
       "\n",
       "    .dataframe tbody tr th {\n",
       "        vertical-align: top;\n",
       "    }\n",
       "\n",
       "    .dataframe thead th {\n",
       "        text-align: right;\n",
       "    }\n",
       "</style>\n",
       "<table border=\"1\" class=\"dataframe\">\n",
       "  <thead>\n",
       "    <tr style=\"text-align: right;\">\n",
       "      <th></th>\n",
       "      <th>max_speed</th>\n",
       "      <th>shield</th>\n",
       "    </tr>\n",
       "  </thead>\n",
       "  <tbody>\n",
       "    <tr>\n",
       "      <th>cobra</th>\n",
       "      <td>10</td>\n",
       "      <td>10</td>\n",
       "    </tr>\n",
       "    <tr>\n",
       "      <th>viper</th>\n",
       "      <td>30</td>\n",
       "      <td>50</td>\n",
       "    </tr>\n",
       "    <tr>\n",
       "      <th>sidewinder</th>\n",
       "      <td>30</td>\n",
       "      <td>50</td>\n",
       "    </tr>\n",
       "  </tbody>\n",
       "</table>\n",
       "</div>"
      ],
      "text/plain": [
       "            max_speed  shield\n",
       "cobra              10      10\n",
       "viper              30      50\n",
       "sidewinder         30      50"
      ]
     },
     "execution_count": 82,
     "metadata": {},
     "output_type": "execute_result"
    }
   ],
   "source": [
    "# Set value for an entire row\n",
    "\n",
    "df.loc['cobra'] = 10\n",
    "df"
   ]
  },
  {
   "cell_type": "code",
   "execution_count": 83,
   "id": "cb632c4d",
   "metadata": {},
   "outputs": [
    {
     "data": {
      "text/html": [
       "<div>\n",
       "<style scoped>\n",
       "    .dataframe tbody tr th:only-of-type {\n",
       "        vertical-align: middle;\n",
       "    }\n",
       "\n",
       "    .dataframe tbody tr th {\n",
       "        vertical-align: top;\n",
       "    }\n",
       "\n",
       "    .dataframe thead th {\n",
       "        text-align: right;\n",
       "    }\n",
       "</style>\n",
       "<table border=\"1\" class=\"dataframe\">\n",
       "  <thead>\n",
       "    <tr style=\"text-align: right;\">\n",
       "      <th></th>\n",
       "      <th>max_speed</th>\n",
       "      <th>shield</th>\n",
       "    </tr>\n",
       "  </thead>\n",
       "  <tbody>\n",
       "    <tr>\n",
       "      <th>cobra</th>\n",
       "      <td>30</td>\n",
       "      <td>10</td>\n",
       "    </tr>\n",
       "    <tr>\n",
       "      <th>viper</th>\n",
       "      <td>30</td>\n",
       "      <td>50</td>\n",
       "    </tr>\n",
       "    <tr>\n",
       "      <th>sidewinder</th>\n",
       "      <td>30</td>\n",
       "      <td>50</td>\n",
       "    </tr>\n",
       "  </tbody>\n",
       "</table>\n",
       "</div>"
      ],
      "text/plain": [
       "            max_speed  shield\n",
       "cobra              30      10\n",
       "viper              30      50\n",
       "sidewinder         30      50"
      ]
     },
     "execution_count": 83,
     "metadata": {},
     "output_type": "execute_result"
    }
   ],
   "source": [
    "# Set value for an entire column\n",
    "\n",
    "df.loc[:, 'max_speed'] = 30\n",
    "df"
   ]
  },
  {
   "cell_type": "code",
   "execution_count": 84,
   "id": "209629e4",
   "metadata": {
    "scrolled": true
   },
   "outputs": [
    {
     "data": {
      "text/html": [
       "<div>\n",
       "<style scoped>\n",
       "    .dataframe tbody tr th:only-of-type {\n",
       "        vertical-align: middle;\n",
       "    }\n",
       "\n",
       "    .dataframe tbody tr th {\n",
       "        vertical-align: top;\n",
       "    }\n",
       "\n",
       "    .dataframe thead th {\n",
       "        text-align: right;\n",
       "    }\n",
       "</style>\n",
       "<table border=\"1\" class=\"dataframe\">\n",
       "  <thead>\n",
       "    <tr style=\"text-align: right;\">\n",
       "      <th></th>\n",
       "      <th>max_speed</th>\n",
       "      <th>shield</th>\n",
       "    </tr>\n",
       "  </thead>\n",
       "  <tbody>\n",
       "    <tr>\n",
       "      <th>cobra</th>\n",
       "      <td>30</td>\n",
       "      <td>10</td>\n",
       "    </tr>\n",
       "    <tr>\n",
       "      <th>viper</th>\n",
       "      <td>0</td>\n",
       "      <td>0</td>\n",
       "    </tr>\n",
       "    <tr>\n",
       "      <th>sidewinder</th>\n",
       "      <td>0</td>\n",
       "      <td>0</td>\n",
       "    </tr>\n",
       "  </tbody>\n",
       "</table>\n",
       "</div>"
      ],
      "text/plain": [
       "            max_speed  shield\n",
       "cobra              30      10\n",
       "viper               0       0\n",
       "sidewinder          0       0"
      ]
     },
     "execution_count": 84,
     "metadata": {},
     "output_type": "execute_result"
    }
   ],
   "source": [
    "# Set value for rows matching callable condition\n",
    "\n",
    "df.loc[df['shield'] > 35] = 0\n",
    "df"
   ]
  },
  {
   "cell_type": "code",
   "execution_count": 86,
   "id": "523000ab",
   "metadata": {},
   "outputs": [
    {
     "data": {
      "text/html": [
       "<div>\n",
       "<style scoped>\n",
       "    .dataframe tbody tr th:only-of-type {\n",
       "        vertical-align: middle;\n",
       "    }\n",
       "\n",
       "    .dataframe tbody tr th {\n",
       "        vertical-align: top;\n",
       "    }\n",
       "\n",
       "    .dataframe thead th {\n",
       "        text-align: right;\n",
       "    }\n",
       "</style>\n",
       "<table border=\"1\" class=\"dataframe\">\n",
       "  <thead>\n",
       "    <tr style=\"text-align: right;\">\n",
       "      <th></th>\n",
       "      <th>max_speed</th>\n",
       "      <th>shield</th>\n",
       "    </tr>\n",
       "  </thead>\n",
       "  <tbody>\n",
       "    <tr>\n",
       "      <th>7</th>\n",
       "      <td>1</td>\n",
       "      <td>2</td>\n",
       "    </tr>\n",
       "    <tr>\n",
       "      <th>8</th>\n",
       "      <td>4</td>\n",
       "      <td>5</td>\n",
       "    </tr>\n",
       "    <tr>\n",
       "      <th>9</th>\n",
       "      <td>7</td>\n",
       "      <td>8</td>\n",
       "    </tr>\n",
       "  </tbody>\n",
       "</table>\n",
       "</div>"
      ],
      "text/plain": [
       "   max_speed  shield\n",
       "7          1       2\n",
       "8          4       5\n",
       "9          7       8"
      ]
     },
     "execution_count": 86,
     "metadata": {},
     "output_type": "execute_result"
    }
   ],
   "source": [
    "# Getting values on a DataFrame with an index that has integer labels\n",
    "\n",
    "# Another example using integers for the index\n",
    "\n",
    "df = pd.DataFrame([[1, 2], [4, 5], [7, 8]],\n",
    "     index=[7, 8, 9], columns=['max_speed', 'shield'])\n",
    "df"
   ]
  },
  {
   "cell_type": "code",
   "execution_count": 88,
   "id": "2b4a3f29",
   "metadata": {},
   "outputs": [
    {
     "data": {
      "text/html": [
       "<div>\n",
       "<style scoped>\n",
       "    .dataframe tbody tr th:only-of-type {\n",
       "        vertical-align: middle;\n",
       "    }\n",
       "\n",
       "    .dataframe tbody tr th {\n",
       "        vertical-align: top;\n",
       "    }\n",
       "\n",
       "    .dataframe thead th {\n",
       "        text-align: right;\n",
       "    }\n",
       "</style>\n",
       "<table border=\"1\" class=\"dataframe\">\n",
       "  <thead>\n",
       "    <tr style=\"text-align: right;\">\n",
       "      <th></th>\n",
       "      <th>max_speed</th>\n",
       "      <th>shield</th>\n",
       "    </tr>\n",
       "  </thead>\n",
       "  <tbody>\n",
       "    <tr>\n",
       "      <th>7</th>\n",
       "      <td>1</td>\n",
       "      <td>2</td>\n",
       "    </tr>\n",
       "    <tr>\n",
       "      <th>8</th>\n",
       "      <td>4</td>\n",
       "      <td>5</td>\n",
       "    </tr>\n",
       "  </tbody>\n",
       "</table>\n",
       "</div>"
      ],
      "text/plain": [
       "   max_speed  shield\n",
       "7          1       2\n",
       "8          4       5"
      ]
     },
     "execution_count": 88,
     "metadata": {},
     "output_type": "execute_result"
    }
   ],
   "source": [
    "# Slice with integer labels for rows. \n",
    "# As mentioned above, note that both the start and stop of the slice are included.\n",
    "\n",
    "df.loc[7:8]"
   ]
  },
  {
   "cell_type": "code",
   "execution_count": 91,
   "id": "5adb843b",
   "metadata": {
    "scrolled": true
   },
   "outputs": [
    {
     "data": {
      "text/html": [
       "<div>\n",
       "<style scoped>\n",
       "    .dataframe tbody tr th:only-of-type {\n",
       "        vertical-align: middle;\n",
       "    }\n",
       "\n",
       "    .dataframe tbody tr th {\n",
       "        vertical-align: top;\n",
       "    }\n",
       "\n",
       "    .dataframe thead th {\n",
       "        text-align: right;\n",
       "    }\n",
       "</style>\n",
       "<table border=\"1\" class=\"dataframe\">\n",
       "  <thead>\n",
       "    <tr style=\"text-align: right;\">\n",
       "      <th></th>\n",
       "      <th></th>\n",
       "      <th>max_speed</th>\n",
       "      <th>shield</th>\n",
       "    </tr>\n",
       "  </thead>\n",
       "  <tbody>\n",
       "    <tr>\n",
       "      <th rowspan=\"2\" valign=\"top\">cobra</th>\n",
       "      <th>mark i</th>\n",
       "      <td>12</td>\n",
       "      <td>2</td>\n",
       "    </tr>\n",
       "    <tr>\n",
       "      <th>mark ii</th>\n",
       "      <td>0</td>\n",
       "      <td>4</td>\n",
       "    </tr>\n",
       "    <tr>\n",
       "      <th rowspan=\"2\" valign=\"top\">sidewinder</th>\n",
       "      <th>mark i</th>\n",
       "      <td>10</td>\n",
       "      <td>20</td>\n",
       "    </tr>\n",
       "    <tr>\n",
       "      <th>mark ii</th>\n",
       "      <td>1</td>\n",
       "      <td>4</td>\n",
       "    </tr>\n",
       "    <tr>\n",
       "      <th rowspan=\"2\" valign=\"top\">viper</th>\n",
       "      <th>mark ii</th>\n",
       "      <td>7</td>\n",
       "      <td>1</td>\n",
       "    </tr>\n",
       "    <tr>\n",
       "      <th>mark iii</th>\n",
       "      <td>16</td>\n",
       "      <td>36</td>\n",
       "    </tr>\n",
       "  </tbody>\n",
       "</table>\n",
       "</div>"
      ],
      "text/plain": [
       "                     max_speed  shield\n",
       "cobra      mark i           12       2\n",
       "           mark ii           0       4\n",
       "sidewinder mark i           10      20\n",
       "           mark ii           1       4\n",
       "viper      mark ii           7       1\n",
       "           mark iii         16      36"
      ]
     },
     "execution_count": 91,
     "metadata": {},
     "output_type": "execute_result"
    }
   ],
   "source": [
    "# Getting values with a MultiIndex\n",
    "\n",
    "# A number of examples using a DataFrame with a MultiIndex\n",
    "\n",
    "tuples = [\n",
    "   ('cobra', 'mark i'), ('cobra', 'mark ii'),\n",
    "   ('sidewinder', 'mark i'), ('sidewinder', 'mark ii'),\n",
    "   ('viper', 'mark ii'), ('viper', 'mark iii')     ]\n",
    "\n",
    "index = pd.MultiIndex.from_tuples(tuples)\n",
    "values = [[12, 2], [0, 4], [10, 20],\n",
    "        [1, 4], [7, 1], [16, 36]]\n",
    "\n",
    "df = pd.DataFrame(values, columns=['max_speed', 'shield'], index=index)\n",
    "df"
   ]
  },
  {
   "cell_type": "code",
   "execution_count": 94,
   "id": "7e310479",
   "metadata": {},
   "outputs": [
    {
     "data": {
      "text/html": [
       "<div>\n",
       "<style scoped>\n",
       "    .dataframe tbody tr th:only-of-type {\n",
       "        vertical-align: middle;\n",
       "    }\n",
       "\n",
       "    .dataframe tbody tr th {\n",
       "        vertical-align: top;\n",
       "    }\n",
       "\n",
       "    .dataframe thead th {\n",
       "        text-align: right;\n",
       "    }\n",
       "</style>\n",
       "<table border=\"1\" class=\"dataframe\">\n",
       "  <thead>\n",
       "    <tr style=\"text-align: right;\">\n",
       "      <th></th>\n",
       "      <th></th>\n",
       "      <th>max_speed</th>\n",
       "      <th>shield</th>\n",
       "    </tr>\n",
       "  </thead>\n",
       "  <tbody>\n",
       "    <tr>\n",
       "      <th rowspan=\"2\" valign=\"top\">viper</th>\n",
       "      <th>mark ii</th>\n",
       "      <td>7</td>\n",
       "      <td>1</td>\n",
       "    </tr>\n",
       "    <tr>\n",
       "      <th>mark iii</th>\n",
       "      <td>16</td>\n",
       "      <td>36</td>\n",
       "    </tr>\n",
       "    <tr>\n",
       "      <th rowspan=\"2\" valign=\"top\">cobra</th>\n",
       "      <th>mark i</th>\n",
       "      <td>12</td>\n",
       "      <td>2</td>\n",
       "    </tr>\n",
       "    <tr>\n",
       "      <th>mark ii</th>\n",
       "      <td>0</td>\n",
       "      <td>4</td>\n",
       "    </tr>\n",
       "  </tbody>\n",
       "</table>\n",
       "</div>"
      ],
      "text/plain": [
       "                max_speed  shield\n",
       "viper mark ii           7       1\n",
       "      mark iii         16      36\n",
       "cobra mark i           12       2\n",
       "      mark ii           0       4"
      ]
     },
     "execution_count": 94,
     "metadata": {},
     "output_type": "execute_result"
    }
   ],
   "source": [
    "# Single label. Note this returns a DataFrame with a single index.\n",
    "\n",
    "df.loc [['viper', 'cobra' ]]"
   ]
  },
  {
   "cell_type": "code",
   "execution_count": 95,
   "id": "dfea1121",
   "metadata": {},
   "outputs": [
    {
     "data": {
      "text/plain": [
       "max_speed    0\n",
       "shield       4\n",
       "Name: (cobra, mark ii), dtype: int64"
      ]
     },
     "execution_count": 95,
     "metadata": {},
     "output_type": "execute_result"
    }
   ],
   "source": [
    "# Single index tuple. Note this returns a Series.\n",
    "\n",
    "df.loc[('cobra', 'mark ii')]"
   ]
  },
  {
   "cell_type": "code",
   "execution_count": 96,
   "id": "7df8830b",
   "metadata": {},
   "outputs": [
    {
     "data": {
      "text/plain": [
       "max_speed    12\n",
       "shield        2\n",
       "Name: (cobra, mark i), dtype: int64"
      ]
     },
     "execution_count": 96,
     "metadata": {},
     "output_type": "execute_result"
    }
   ],
   "source": [
    "# Single label for row and column. Similar to passing in a tuple, this returns a Series.\n",
    "\n",
    "df.loc['cobra', 'mark i']"
   ]
  },
  {
   "cell_type": "code",
   "execution_count": 97,
   "id": "3a771505",
   "metadata": {},
   "outputs": [
    {
     "data": {
      "text/html": [
       "<div>\n",
       "<style scoped>\n",
       "    .dataframe tbody tr th:only-of-type {\n",
       "        vertical-align: middle;\n",
       "    }\n",
       "\n",
       "    .dataframe tbody tr th {\n",
       "        vertical-align: top;\n",
       "    }\n",
       "\n",
       "    .dataframe thead th {\n",
       "        text-align: right;\n",
       "    }\n",
       "</style>\n",
       "<table border=\"1\" class=\"dataframe\">\n",
       "  <thead>\n",
       "    <tr style=\"text-align: right;\">\n",
       "      <th></th>\n",
       "      <th></th>\n",
       "      <th>max_speed</th>\n",
       "      <th>shield</th>\n",
       "    </tr>\n",
       "  </thead>\n",
       "  <tbody>\n",
       "    <tr>\n",
       "      <th>cobra</th>\n",
       "      <th>mark ii</th>\n",
       "      <td>0</td>\n",
       "      <td>4</td>\n",
       "    </tr>\n",
       "  </tbody>\n",
       "</table>\n",
       "</div>"
      ],
      "text/plain": [
       "               max_speed  shield\n",
       "cobra mark ii          0       4"
      ]
     },
     "execution_count": 97,
     "metadata": {},
     "output_type": "execute_result"
    }
   ],
   "source": [
    "# Single tuple. Note using [[]] returns a DataFrame.\n",
    "\n",
    "df.loc[[('cobra', 'mark ii')]]"
   ]
  },
  {
   "cell_type": "code",
   "execution_count": 98,
   "id": "01d634ab",
   "metadata": {},
   "outputs": [
    {
     "data": {
      "text/plain": [
       "2"
      ]
     },
     "execution_count": 98,
     "metadata": {},
     "output_type": "execute_result"
    }
   ],
   "source": [
    "# Single tuple for the index with a single label for the column\n",
    "\n",
    "df.loc[('cobra', 'mark i'), 'shield']"
   ]
  },
  {
   "cell_type": "code",
   "execution_count": 99,
   "id": "0f69074c",
   "metadata": {},
   "outputs": [
    {
     "data": {
      "text/html": [
       "<div>\n",
       "<style scoped>\n",
       "    .dataframe tbody tr th:only-of-type {\n",
       "        vertical-align: middle;\n",
       "    }\n",
       "\n",
       "    .dataframe tbody tr th {\n",
       "        vertical-align: top;\n",
       "    }\n",
       "\n",
       "    .dataframe thead th {\n",
       "        text-align: right;\n",
       "    }\n",
       "</style>\n",
       "<table border=\"1\" class=\"dataframe\">\n",
       "  <thead>\n",
       "    <tr style=\"text-align: right;\">\n",
       "      <th></th>\n",
       "      <th></th>\n",
       "      <th>max_speed</th>\n",
       "      <th>shield</th>\n",
       "    </tr>\n",
       "  </thead>\n",
       "  <tbody>\n",
       "    <tr>\n",
       "      <th rowspan=\"2\" valign=\"top\">cobra</th>\n",
       "      <th>mark i</th>\n",
       "      <td>12</td>\n",
       "      <td>2</td>\n",
       "    </tr>\n",
       "    <tr>\n",
       "      <th>mark ii</th>\n",
       "      <td>0</td>\n",
       "      <td>4</td>\n",
       "    </tr>\n",
       "    <tr>\n",
       "      <th rowspan=\"2\" valign=\"top\">sidewinder</th>\n",
       "      <th>mark i</th>\n",
       "      <td>10</td>\n",
       "      <td>20</td>\n",
       "    </tr>\n",
       "    <tr>\n",
       "      <th>mark ii</th>\n",
       "      <td>1</td>\n",
       "      <td>4</td>\n",
       "    </tr>\n",
       "    <tr>\n",
       "      <th rowspan=\"2\" valign=\"top\">viper</th>\n",
       "      <th>mark ii</th>\n",
       "      <td>7</td>\n",
       "      <td>1</td>\n",
       "    </tr>\n",
       "    <tr>\n",
       "      <th>mark iii</th>\n",
       "      <td>16</td>\n",
       "      <td>36</td>\n",
       "    </tr>\n",
       "  </tbody>\n",
       "</table>\n",
       "</div>"
      ],
      "text/plain": [
       "                     max_speed  shield\n",
       "cobra      mark i           12       2\n",
       "           mark ii           0       4\n",
       "sidewinder mark i           10      20\n",
       "           mark ii           1       4\n",
       "viper      mark ii           7       1\n",
       "           mark iii         16      36"
      ]
     },
     "execution_count": 99,
     "metadata": {},
     "output_type": "execute_result"
    }
   ],
   "source": [
    "# Slice from index tuple to single label\n",
    "\n",
    "df.loc[('cobra', 'mark i'):'viper']"
   ]
  },
  {
   "cell_type": "code",
   "execution_count": 100,
   "id": "0c100b04",
   "metadata": {
    "scrolled": true
   },
   "outputs": [
    {
     "data": {
      "text/html": [
       "<div>\n",
       "<style scoped>\n",
       "    .dataframe tbody tr th:only-of-type {\n",
       "        vertical-align: middle;\n",
       "    }\n",
       "\n",
       "    .dataframe tbody tr th {\n",
       "        vertical-align: top;\n",
       "    }\n",
       "\n",
       "    .dataframe thead th {\n",
       "        text-align: right;\n",
       "    }\n",
       "</style>\n",
       "<table border=\"1\" class=\"dataframe\">\n",
       "  <thead>\n",
       "    <tr style=\"text-align: right;\">\n",
       "      <th></th>\n",
       "      <th></th>\n",
       "      <th>max_speed</th>\n",
       "      <th>shield</th>\n",
       "    </tr>\n",
       "  </thead>\n",
       "  <tbody>\n",
       "    <tr>\n",
       "      <th rowspan=\"2\" valign=\"top\">cobra</th>\n",
       "      <th>mark i</th>\n",
       "      <td>12</td>\n",
       "      <td>2</td>\n",
       "    </tr>\n",
       "    <tr>\n",
       "      <th>mark ii</th>\n",
       "      <td>0</td>\n",
       "      <td>4</td>\n",
       "    </tr>\n",
       "    <tr>\n",
       "      <th rowspan=\"2\" valign=\"top\">sidewinder</th>\n",
       "      <th>mark i</th>\n",
       "      <td>10</td>\n",
       "      <td>20</td>\n",
       "    </tr>\n",
       "    <tr>\n",
       "      <th>mark ii</th>\n",
       "      <td>1</td>\n",
       "      <td>4</td>\n",
       "    </tr>\n",
       "    <tr>\n",
       "      <th>viper</th>\n",
       "      <th>mark ii</th>\n",
       "      <td>7</td>\n",
       "      <td>1</td>\n",
       "    </tr>\n",
       "  </tbody>\n",
       "</table>\n",
       "</div>"
      ],
      "text/plain": [
       "                    max_speed  shield\n",
       "cobra      mark i          12       2\n",
       "           mark ii          0       4\n",
       "sidewinder mark i          10      20\n",
       "           mark ii          1       4\n",
       "viper      mark ii          7       1"
      ]
     },
     "execution_count": 100,
     "metadata": {},
     "output_type": "execute_result"
    }
   ],
   "source": [
    "# Slice from index tuple to index tuple\n",
    "\n",
    "df.loc[('cobra', 'mark i'):('viper', 'mark ii')]"
   ]
  },
  {
   "cell_type": "code",
   "execution_count": 17,
   "id": "da450014",
   "metadata": {
    "scrolled": true
   },
   "outputs": [
    {
     "data": {
      "text/html": [
       "<div>\n",
       "<style scoped>\n",
       "    .dataframe tbody tr th:only-of-type {\n",
       "        vertical-align: middle;\n",
       "    }\n",
       "\n",
       "    .dataframe tbody tr th {\n",
       "        vertical-align: top;\n",
       "    }\n",
       "\n",
       "    .dataframe thead th {\n",
       "        text-align: right;\n",
       "    }\n",
       "</style>\n",
       "<table border=\"1\" class=\"dataframe\">\n",
       "  <thead>\n",
       "    <tr style=\"text-align: right;\">\n",
       "      <th></th>\n",
       "      <th></th>\n",
       "      <th>max_speed</th>\n",
       "      <th>shield</th>\n",
       "    </tr>\n",
       "  </thead>\n",
       "  <tbody>\n",
       "    <tr>\n",
       "      <th rowspan=\"2\" valign=\"top\">cobra</th>\n",
       "      <th>mark i</th>\n",
       "      <td>12</td>\n",
       "      <td>2</td>\n",
       "    </tr>\n",
       "    <tr>\n",
       "      <th>mark ii</th>\n",
       "      <td>0</td>\n",
       "      <td>4</td>\n",
       "    </tr>\n",
       "    <tr>\n",
       "      <th rowspan=\"2\" valign=\"top\">sidewinder</th>\n",
       "      <th>mark i</th>\n",
       "      <td>10</td>\n",
       "      <td>20</td>\n",
       "    </tr>\n",
       "    <tr>\n",
       "      <th>mark ii</th>\n",
       "      <td>1</td>\n",
       "      <td>4</td>\n",
       "    </tr>\n",
       "    <tr>\n",
       "      <th rowspan=\"2\" valign=\"top\">viper</th>\n",
       "      <th>mark ii</th>\n",
       "      <td>7</td>\n",
       "      <td>1</td>\n",
       "    </tr>\n",
       "    <tr>\n",
       "      <th>mark iii</th>\n",
       "      <td>16</td>\n",
       "      <td>36</td>\n",
       "    </tr>\n",
       "  </tbody>\n",
       "</table>\n",
       "</div>"
      ],
      "text/plain": [
       "                     max_speed  shield\n",
       "cobra      mark i           12       2\n",
       "           mark ii           0       4\n",
       "sidewinder mark i           10      20\n",
       "           mark ii           1       4\n",
       "viper      mark ii           7       1\n",
       "           mark iii         16      36"
      ]
     },
     "execution_count": 17,
     "metadata": {},
     "output_type": "execute_result"
    }
   ],
   "source": [
    "# Dataframe iloc\n",
    "# The iloc() follows the same rules as loc(). It extracts rows and coumns by selecting indexes.\n",
    "import pandas as pd\n",
    "\n",
    "tuples = [\n",
    "   ('cobra', 'mark i'), ('cobra', 'mark ii'),\n",
    "   ('sidewinder', 'mark i'), ('sidewinder', 'mark ii'),\n",
    "   ('viper', 'mark ii'), ('viper', 'mark iii')     ]\n",
    "\n",
    "index = pd.MultiIndex.from_tuples(tuples)\n",
    "values = [[12, 2], [0, 4], [10, 20],\n",
    "        [1, 4], [7, 1], [16, 36]]\n",
    "\n",
    "df = pd.DataFrame(values, columns=['max_speed', 'shield'], index=index)\n",
    "df.iloc[:, 0:2] #select the second and third columns with keeping all rows\n",
    "df"
   ]
  },
  {
   "cell_type": "markdown",
   "id": "afd794da",
   "metadata": {},
   "source": [
    "property DataFrame.iloc\n",
    "Purely integer-location based indexing for selection by position.\n",
    "\n",
    ".iloc[] is primarily integer position based (from 0 to length-1 of the axis), but may also be used with a boolean array.\n",
    "\n",
    "Allowed inputs are:\n",
    "\n",
    "An integer, e.g. 5.\n",
    "\n",
    "A list or array of integers, e.g. [4, 3, 0].\n",
    "\n",
    "A slice object with ints, e.g. 1:7.\n",
    "\n",
    "A boolean array.\n",
    "\n",
    "A callable function with one argument (the calling Series or DataFrame) and that returns valid output for indexing (one of the above). This is useful in method chains, when you don’t have a reference to the calling object, but would like to base your selection on some value.\n",
    "\n",
    ".iloc will raise IndexError if a requested indexer is out-of-bounds, except slice indexers which allow out-of-bounds indexing (this conforms with python/numpy slice semantics)."
   ]
  },
  {
   "cell_type": "code",
   "execution_count": 103,
   "id": "38fa5019",
   "metadata": {},
   "outputs": [
    {
     "data": {
      "text/html": [
       "<div>\n",
       "<style scoped>\n",
       "    .dataframe tbody tr th:only-of-type {\n",
       "        vertical-align: middle;\n",
       "    }\n",
       "\n",
       "    .dataframe tbody tr th {\n",
       "        vertical-align: top;\n",
       "    }\n",
       "\n",
       "    .dataframe thead th {\n",
       "        text-align: right;\n",
       "    }\n",
       "</style>\n",
       "<table border=\"1\" class=\"dataframe\">\n",
       "  <thead>\n",
       "    <tr style=\"text-align: right;\">\n",
       "      <th></th>\n",
       "      <th>a</th>\n",
       "      <th>b</th>\n",
       "      <th>c</th>\n",
       "      <th>d</th>\n",
       "    </tr>\n",
       "  </thead>\n",
       "  <tbody>\n",
       "    <tr>\n",
       "      <th>0</th>\n",
       "      <td>1</td>\n",
       "      <td>2</td>\n",
       "      <td>3</td>\n",
       "      <td>4</td>\n",
       "    </tr>\n",
       "    <tr>\n",
       "      <th>1</th>\n",
       "      <td>100</td>\n",
       "      <td>200</td>\n",
       "      <td>300</td>\n",
       "      <td>400</td>\n",
       "    </tr>\n",
       "    <tr>\n",
       "      <th>2</th>\n",
       "      <td>1000</td>\n",
       "      <td>2000</td>\n",
       "      <td>3000</td>\n",
       "      <td>4000</td>\n",
       "    </tr>\n",
       "  </tbody>\n",
       "</table>\n",
       "</div>"
      ],
      "text/plain": [
       "      a     b     c     d\n",
       "0     1     2     3     4\n",
       "1   100   200   300   400\n",
       "2  1000  2000  3000  4000"
      ]
     },
     "execution_count": 103,
     "metadata": {},
     "output_type": "execute_result"
    }
   ],
   "source": [
    "mydict = [{'a': 1, 'b': 2, 'c': 3, 'd': 4},\n",
    "          {'a': 100, 'b': 200, 'c': 300, 'd': 400},\n",
    "          {'a': 1000, 'b': 2000, 'c': 3000, 'd': 4000 }]\n",
    "df = pd.DataFrame(mydict)\n",
    "df"
   ]
  },
  {
   "cell_type": "code",
   "execution_count": 109,
   "id": "e122a0db",
   "metadata": {},
   "outputs": [
    {
     "data": {
      "text/plain": [
       "a    1\n",
       "b    2\n",
       "c    3\n",
       "d    4\n",
       "Name: 0, dtype: int64"
      ]
     },
     "execution_count": 109,
     "metadata": {},
     "output_type": "execute_result"
    }
   ],
   "source": [
    "df.iloc[0]\n"
   ]
  },
  {
   "cell_type": "code",
   "execution_count": 110,
   "id": "cfeb1da5",
   "metadata": {},
   "outputs": [
    {
     "data": {
      "text/plain": [
       "pandas.core.series.Series"
      ]
     },
     "execution_count": 110,
     "metadata": {},
     "output_type": "execute_result"
    }
   ],
   "source": [
    "type(df.iloc[0])"
   ]
  },
  {
   "cell_type": "code",
   "execution_count": 111,
   "id": "fbb72326",
   "metadata": {},
   "outputs": [
    {
     "data": {
      "text/html": [
       "<div>\n",
       "<style scoped>\n",
       "    .dataframe tbody tr th:only-of-type {\n",
       "        vertical-align: middle;\n",
       "    }\n",
       "\n",
       "    .dataframe tbody tr th {\n",
       "        vertical-align: top;\n",
       "    }\n",
       "\n",
       "    .dataframe thead th {\n",
       "        text-align: right;\n",
       "    }\n",
       "</style>\n",
       "<table border=\"1\" class=\"dataframe\">\n",
       "  <thead>\n",
       "    <tr style=\"text-align: right;\">\n",
       "      <th></th>\n",
       "      <th>a</th>\n",
       "      <th>b</th>\n",
       "      <th>c</th>\n",
       "      <th>d</th>\n",
       "    </tr>\n",
       "  </thead>\n",
       "  <tbody>\n",
       "    <tr>\n",
       "      <th>0</th>\n",
       "      <td>1</td>\n",
       "      <td>2</td>\n",
       "      <td>3</td>\n",
       "      <td>4</td>\n",
       "    </tr>\n",
       "  </tbody>\n",
       "</table>\n",
       "</div>"
      ],
      "text/plain": [
       "   a  b  c  d\n",
       "0  1  2  3  4"
      ]
     },
     "execution_count": 111,
     "metadata": {},
     "output_type": "execute_result"
    }
   ],
   "source": [
    "# With a list of integers.\n",
    "\n",
    "df.iloc[[0]]"
   ]
  },
  {
   "cell_type": "code",
   "execution_count": 112,
   "id": "ac6a7bb9",
   "metadata": {},
   "outputs": [
    {
     "data": {
      "text/plain": [
       "pandas.core.frame.DataFrame"
      ]
     },
     "execution_count": 112,
     "metadata": {},
     "output_type": "execute_result"
    }
   ],
   "source": [
    "type(df.iloc[[0]])"
   ]
  },
  {
   "cell_type": "code",
   "execution_count": 113,
   "id": "759bb755",
   "metadata": {},
   "outputs": [
    {
     "data": {
      "text/html": [
       "<div>\n",
       "<style scoped>\n",
       "    .dataframe tbody tr th:only-of-type {\n",
       "        vertical-align: middle;\n",
       "    }\n",
       "\n",
       "    .dataframe tbody tr th {\n",
       "        vertical-align: top;\n",
       "    }\n",
       "\n",
       "    .dataframe thead th {\n",
       "        text-align: right;\n",
       "    }\n",
       "</style>\n",
       "<table border=\"1\" class=\"dataframe\">\n",
       "  <thead>\n",
       "    <tr style=\"text-align: right;\">\n",
       "      <th></th>\n",
       "      <th>a</th>\n",
       "      <th>b</th>\n",
       "      <th>c</th>\n",
       "      <th>d</th>\n",
       "    </tr>\n",
       "  </thead>\n",
       "  <tbody>\n",
       "    <tr>\n",
       "      <th>0</th>\n",
       "      <td>1</td>\n",
       "      <td>2</td>\n",
       "      <td>3</td>\n",
       "      <td>4</td>\n",
       "    </tr>\n",
       "    <tr>\n",
       "      <th>1</th>\n",
       "      <td>100</td>\n",
       "      <td>200</td>\n",
       "      <td>300</td>\n",
       "      <td>400</td>\n",
       "    </tr>\n",
       "    <tr>\n",
       "      <th>2</th>\n",
       "      <td>1000</td>\n",
       "      <td>2000</td>\n",
       "      <td>3000</td>\n",
       "      <td>4000</td>\n",
       "    </tr>\n",
       "  </tbody>\n",
       "</table>\n",
       "</div>"
      ],
      "text/plain": [
       "      a     b     c     d\n",
       "0     1     2     3     4\n",
       "1   100   200   300   400\n",
       "2  1000  2000  3000  4000"
      ]
     },
     "execution_count": 113,
     "metadata": {},
     "output_type": "execute_result"
    }
   ],
   "source": [
    "df.iloc[[0, 1,2]]"
   ]
  },
  {
   "cell_type": "code",
   "execution_count": 116,
   "id": "d90f369b",
   "metadata": {},
   "outputs": [
    {
     "data": {
      "text/html": [
       "<div>\n",
       "<style scoped>\n",
       "    .dataframe tbody tr th:only-of-type {\n",
       "        vertical-align: middle;\n",
       "    }\n",
       "\n",
       "    .dataframe tbody tr th {\n",
       "        vertical-align: top;\n",
       "    }\n",
       "\n",
       "    .dataframe thead th {\n",
       "        text-align: right;\n",
       "    }\n",
       "</style>\n",
       "<table border=\"1\" class=\"dataframe\">\n",
       "  <thead>\n",
       "    <tr style=\"text-align: right;\">\n",
       "      <th></th>\n",
       "      <th>a</th>\n",
       "      <th>b</th>\n",
       "      <th>c</th>\n",
       "      <th>d</th>\n",
       "    </tr>\n",
       "  </thead>\n",
       "  <tbody>\n",
       "    <tr>\n",
       "      <th>0</th>\n",
       "      <td>1</td>\n",
       "      <td>2</td>\n",
       "      <td>3</td>\n",
       "      <td>4</td>\n",
       "    </tr>\n",
       "    <tr>\n",
       "      <th>1</th>\n",
       "      <td>100</td>\n",
       "      <td>200</td>\n",
       "      <td>300</td>\n",
       "      <td>400</td>\n",
       "    </tr>\n",
       "  </tbody>\n",
       "</table>\n",
       "</div>"
      ],
      "text/plain": [
       "     a    b    c    d\n",
       "0    1    2    3    4\n",
       "1  100  200  300  400"
      ]
     },
     "execution_count": 116,
     "metadata": {},
     "output_type": "execute_result"
    }
   ],
   "source": [
    "#With a slice object.\n",
    "\n",
    "df.iloc[:2]"
   ]
  },
  {
   "cell_type": "code",
   "execution_count": 27,
   "id": "db444c2b",
   "metadata": {},
   "outputs": [
    {
     "data": {
      "text/html": [
       "<div>\n",
       "<style scoped>\n",
       "    .dataframe tbody tr th:only-of-type {\n",
       "        vertical-align: middle;\n",
       "    }\n",
       "\n",
       "    .dataframe tbody tr th {\n",
       "        vertical-align: top;\n",
       "    }\n",
       "\n",
       "    .dataframe thead th {\n",
       "        text-align: right;\n",
       "    }\n",
       "</style>\n",
       "<table border=\"1\" class=\"dataframe\">\n",
       "  <thead>\n",
       "    <tr style=\"text-align: right;\">\n",
       "      <th></th>\n",
       "      <th></th>\n",
       "      <th>max_speed</th>\n",
       "      <th>shield</th>\n",
       "    </tr>\n",
       "  </thead>\n",
       "  <tbody>\n",
       "    <tr>\n",
       "      <th>sidewinder</th>\n",
       "      <th>mark i</th>\n",
       "      <td>10</td>\n",
       "      <td>20</td>\n",
       "    </tr>\n",
       "    <tr>\n",
       "      <th rowspan=\"2\" valign=\"top\">viper</th>\n",
       "      <th>mark ii</th>\n",
       "      <td>7</td>\n",
       "      <td>1</td>\n",
       "    </tr>\n",
       "    <tr>\n",
       "      <th>mark iii</th>\n",
       "      <td>16</td>\n",
       "      <td>36</td>\n",
       "    </tr>\n",
       "  </tbody>\n",
       "</table>\n",
       "</div>"
      ],
      "text/plain": [
       "                     max_speed  shield\n",
       "sidewinder mark i           10      20\n",
       "viper      mark ii           7       1\n",
       "           mark iii         16      36"
      ]
     },
     "execution_count": 27,
     "metadata": {},
     "output_type": "execute_result"
    }
   ],
   "source": [
    "import pandas as pd\n",
    "mydict = [ {'a': 1, 'b': 2, 'c': 3, 'd': 4},\n",
    "{'a': 100, 'b': 200, 'c': 300, 'd': 400},\n",
    "{'a': 1000, 'b': 2000, 'c': 3000, 'd': 4000 } ] \n",
    "\n",
    "# With a boolean mask the same length as the index.\n",
    "\n",
    "df.iloc[[False, False, True,False,True,True]]\n"
   ]
  },
  {
   "cell_type": "code",
   "execution_count": 121,
   "id": "e6ec55ab",
   "metadata": {},
   "outputs": [
    {
     "data": {
      "text/html": [
       "<div>\n",
       "<style scoped>\n",
       "    .dataframe tbody tr th:only-of-type {\n",
       "        vertical-align: middle;\n",
       "    }\n",
       "\n",
       "    .dataframe tbody tr th {\n",
       "        vertical-align: top;\n",
       "    }\n",
       "\n",
       "    .dataframe thead th {\n",
       "        text-align: right;\n",
       "    }\n",
       "</style>\n",
       "<table border=\"1\" class=\"dataframe\">\n",
       "  <thead>\n",
       "    <tr style=\"text-align: right;\">\n",
       "      <th></th>\n",
       "      <th>a</th>\n",
       "      <th>b</th>\n",
       "      <th>c</th>\n",
       "      <th>d</th>\n",
       "    </tr>\n",
       "  </thead>\n",
       "  <tbody>\n",
       "    <tr>\n",
       "      <th>0</th>\n",
       "      <td>1</td>\n",
       "      <td>2</td>\n",
       "      <td>3</td>\n",
       "      <td>4</td>\n",
       "    </tr>\n",
       "    <tr>\n",
       "      <th>2</th>\n",
       "      <td>1000</td>\n",
       "      <td>2000</td>\n",
       "      <td>3000</td>\n",
       "      <td>4000</td>\n",
       "    </tr>\n",
       "  </tbody>\n",
       "</table>\n",
       "</div>"
      ],
      "text/plain": [
       "      a     b     c     d\n",
       "0     1     2     3     4\n",
       "2  1000  2000  3000  4000"
      ]
     },
     "execution_count": 121,
     "metadata": {},
     "output_type": "execute_result"
    }
   ],
   "source": [
    "# With a callable, useful in method chains. The x passed to the lambda is the DataFrame being sliced. \n",
    "#This selects the rows whose index label even.\n",
    "\n",
    "df.iloc[lambda x: x.index % 2 == 0]\n"
   ]
  },
  {
   "cell_type": "code",
   "execution_count": 123,
   "id": "36645b1f",
   "metadata": {},
   "outputs": [
    {
     "data": {
      "text/plain": [
       "4000"
      ]
     },
     "execution_count": 123,
     "metadata": {},
     "output_type": "execute_result"
    }
   ],
   "source": [
    "#Indexing both axes\n",
    "#You can mix the indexer types for the index and columns. Use : to select the entire axis.\n",
    "#With scalar integers.\n",
    "\n",
    "df.iloc[2, 3]"
   ]
  },
  {
   "cell_type": "code",
   "execution_count": 124,
   "id": "994abbf3",
   "metadata": {},
   "outputs": [
    {
     "data": {
      "text/html": [
       "<div>\n",
       "<style scoped>\n",
       "    .dataframe tbody tr th:only-of-type {\n",
       "        vertical-align: middle;\n",
       "    }\n",
       "\n",
       "    .dataframe tbody tr th {\n",
       "        vertical-align: top;\n",
       "    }\n",
       "\n",
       "    .dataframe thead th {\n",
       "        text-align: right;\n",
       "    }\n",
       "</style>\n",
       "<table border=\"1\" class=\"dataframe\">\n",
       "  <thead>\n",
       "    <tr style=\"text-align: right;\">\n",
       "      <th></th>\n",
       "      <th>b</th>\n",
       "      <th>d</th>\n",
       "    </tr>\n",
       "  </thead>\n",
       "  <tbody>\n",
       "    <tr>\n",
       "      <th>0</th>\n",
       "      <td>2</td>\n",
       "      <td>4</td>\n",
       "    </tr>\n",
       "    <tr>\n",
       "      <th>2</th>\n",
       "      <td>2000</td>\n",
       "      <td>4000</td>\n",
       "    </tr>\n",
       "  </tbody>\n",
       "</table>\n",
       "</div>"
      ],
      "text/plain": [
       "      b     d\n",
       "0     2     4\n",
       "2  2000  4000"
      ]
     },
     "execution_count": 124,
     "metadata": {},
     "output_type": "execute_result"
    }
   ],
   "source": [
    "#With lists of integers.\n",
    "\n",
    "df.iloc[[0, 2], [1, 3]]"
   ]
  },
  {
   "cell_type": "code",
   "execution_count": 135,
   "id": "ff7dc79a",
   "metadata": {},
   "outputs": [
    {
     "data": {
      "text/html": [
       "<div>\n",
       "<style scoped>\n",
       "    .dataframe tbody tr th:only-of-type {\n",
       "        vertical-align: middle;\n",
       "    }\n",
       "\n",
       "    .dataframe tbody tr th {\n",
       "        vertical-align: top;\n",
       "    }\n",
       "\n",
       "    .dataframe thead th {\n",
       "        text-align: right;\n",
       "    }\n",
       "</style>\n",
       "<table border=\"1\" class=\"dataframe\">\n",
       "  <thead>\n",
       "    <tr style=\"text-align: right;\">\n",
       "      <th></th>\n",
       "      <th>a</th>\n",
       "      <th>b</th>\n",
       "      <th>c</th>\n",
       "    </tr>\n",
       "  </thead>\n",
       "  <tbody>\n",
       "    <tr>\n",
       "      <th>2</th>\n",
       "      <td>1000</td>\n",
       "      <td>2000</td>\n",
       "      <td>3000</td>\n",
       "    </tr>\n",
       "  </tbody>\n",
       "</table>\n",
       "</div>"
      ],
      "text/plain": [
       "      a     b     c\n",
       "2  1000  2000  3000"
      ]
     },
     "execution_count": 135,
     "metadata": {},
     "output_type": "execute_result"
    }
   ],
   "source": [
    "#With slice objects.\n",
    "df.iloc[2:3, 0:3]"
   ]
  },
  {
   "cell_type": "code",
   "execution_count": 136,
   "id": "cfbe9548",
   "metadata": {
    "scrolled": true
   },
   "outputs": [
    {
     "data": {
      "text/html": [
       "<div>\n",
       "<style scoped>\n",
       "    .dataframe tbody tr th:only-of-type {\n",
       "        vertical-align: middle;\n",
       "    }\n",
       "\n",
       "    .dataframe tbody tr th {\n",
       "        vertical-align: top;\n",
       "    }\n",
       "\n",
       "    .dataframe thead th {\n",
       "        text-align: right;\n",
       "    }\n",
       "</style>\n",
       "<table border=\"1\" class=\"dataframe\">\n",
       "  <thead>\n",
       "    <tr style=\"text-align: right;\">\n",
       "      <th></th>\n",
       "      <th>a</th>\n",
       "      <th>b</th>\n",
       "      <th>c</th>\n",
       "    </tr>\n",
       "  </thead>\n",
       "  <tbody>\n",
       "    <tr>\n",
       "      <th>1</th>\n",
       "      <td>100</td>\n",
       "      <td>200</td>\n",
       "      <td>300</td>\n",
       "    </tr>\n",
       "    <tr>\n",
       "      <th>2</th>\n",
       "      <td>1000</td>\n",
       "      <td>2000</td>\n",
       "      <td>3000</td>\n",
       "    </tr>\n",
       "  </tbody>\n",
       "</table>\n",
       "</div>"
      ],
      "text/plain": [
       "      a     b     c\n",
       "1   100   200   300\n",
       "2  1000  2000  3000"
      ]
     },
     "execution_count": 136,
     "metadata": {},
     "output_type": "execute_result"
    }
   ],
   "source": [
    "df.iloc[1:3, 0:3]"
   ]
  },
  {
   "cell_type": "code",
   "execution_count": 140,
   "id": "2d7db62a",
   "metadata": {},
   "outputs": [
    {
     "data": {
      "text/html": [
       "<div>\n",
       "<style scoped>\n",
       "    .dataframe tbody tr th:only-of-type {\n",
       "        vertical-align: middle;\n",
       "    }\n",
       "\n",
       "    .dataframe tbody tr th {\n",
       "        vertical-align: top;\n",
       "    }\n",
       "\n",
       "    .dataframe thead th {\n",
       "        text-align: right;\n",
       "    }\n",
       "</style>\n",
       "<table border=\"1\" class=\"dataframe\">\n",
       "  <thead>\n",
       "    <tr style=\"text-align: right;\">\n",
       "      <th></th>\n",
       "      <th>a</th>\n",
       "      <th>c</th>\n",
       "      <th>d</th>\n",
       "    </tr>\n",
       "  </thead>\n",
       "  <tbody>\n",
       "    <tr>\n",
       "      <th>0</th>\n",
       "      <td>1</td>\n",
       "      <td>3</td>\n",
       "      <td>4</td>\n",
       "    </tr>\n",
       "    <tr>\n",
       "      <th>1</th>\n",
       "      <td>100</td>\n",
       "      <td>300</td>\n",
       "      <td>400</td>\n",
       "    </tr>\n",
       "    <tr>\n",
       "      <th>2</th>\n",
       "      <td>1000</td>\n",
       "      <td>3000</td>\n",
       "      <td>4000</td>\n",
       "    </tr>\n",
       "  </tbody>\n",
       "</table>\n",
       "</div>"
      ],
      "text/plain": [
       "      a     c     d\n",
       "0     1     3     4\n",
       "1   100   300   400\n",
       "2  1000  3000  4000"
      ]
     },
     "execution_count": 140,
     "metadata": {},
     "output_type": "execute_result"
    }
   ],
   "source": [
    "# With a boolean array whose length matches the columns.\n",
    "\n",
    "df.iloc[:, [True, False, True, True]]"
   ]
  },
  {
   "cell_type": "code",
   "execution_count": 139,
   "id": "0c002c26",
   "metadata": {},
   "outputs": [
    {
     "data": {
      "text/html": [
       "<div>\n",
       "<style scoped>\n",
       "    .dataframe tbody tr th:only-of-type {\n",
       "        vertical-align: middle;\n",
       "    }\n",
       "\n",
       "    .dataframe tbody tr th {\n",
       "        vertical-align: top;\n",
       "    }\n",
       "\n",
       "    .dataframe thead th {\n",
       "        text-align: right;\n",
       "    }\n",
       "</style>\n",
       "<table border=\"1\" class=\"dataframe\">\n",
       "  <thead>\n",
       "    <tr style=\"text-align: right;\">\n",
       "      <th></th>\n",
       "      <th>a</th>\n",
       "      <th>d</th>\n",
       "    </tr>\n",
       "  </thead>\n",
       "  <tbody>\n",
       "    <tr>\n",
       "      <th>0</th>\n",
       "      <td>1</td>\n",
       "      <td>4</td>\n",
       "    </tr>\n",
       "    <tr>\n",
       "      <th>1</th>\n",
       "      <td>100</td>\n",
       "      <td>400</td>\n",
       "    </tr>\n",
       "    <tr>\n",
       "      <th>2</th>\n",
       "      <td>1000</td>\n",
       "      <td>4000</td>\n",
       "    </tr>\n",
       "  </tbody>\n",
       "</table>\n",
       "</div>"
      ],
      "text/plain": [
       "      a     d\n",
       "0     1     4\n",
       "1   100   400\n",
       "2  1000  4000"
      ]
     },
     "execution_count": 139,
     "metadata": {},
     "output_type": "execute_result"
    }
   ],
   "source": [
    "#With a callable function that expects the Series or DataFrame.\n",
    "\n",
    "df.iloc[:, lambda df: [0, 3]]"
   ]
  },
  {
   "cell_type": "markdown",
   "id": "256e63d5",
   "metadata": {},
   "source": [
    "Dataframe drop\n",
    "To drop specified labels from rows or columns, we simply use drop() method.\n",
    "\n",
    "For example, we want to delete the country column we added previously:\n",
    "\n",
    "df.drop(\"country\", axis=1)\n",
    "drop() method has inplace=False as default, you can see that the country column is not gone. Take a break & make some research."
   ]
  },
  {
   "cell_type": "markdown",
   "id": "2cba333e",
   "metadata": {},
   "source": [
    "DataFrame.drop(labels=None, axis=0, index=None, columns=None, level=None, inplace=False, errors='raise')[source]\n",
    "Drop specified labels from rows or columns.\n",
    "\n",
    "Remove rows or columns by specifying label names and corresponding axis, or by specifying directly index or column names. When using a multi-index, labels on different levels can be removed by specifying the level. See the user guide <advanced.shown_levels> for more information about the now unused levels.\n",
    "\n",
    "Parameters\n",
    "labelssingle label or list-like\n",
    "Index or column labels to drop. A tuple will be used as a single label and not treated as a list-like.\n",
    "\n",
    "axis{0 or ‘index’, 1 or ‘columns’}, default 0\n",
    "Whether to drop labels from the index (0 or ‘index’) or columns (1 or ‘columns’).\n",
    "\n",
    "indexsingle label or list-like\n",
    "Alternative to specifying axis (labels, axis=0 is equivalent to index=labels).\n",
    "\n",
    "columnssingle label or list-like\n",
    "Alternative to specifying axis (labels, axis=1 is equivalent to columns=labels).\n",
    "\n",
    "levelint or level name, optional\n",
    "For MultiIndex, level from which the labels will be removed.\n",
    "\n",
    "inplacebool, default False\n",
    "If False, return a copy. Otherwise, do operation inplace and return None.\n",
    "\n",
    "errors{‘ignore’, ‘raise’}, default ‘raise’\n",
    "If ‘ignore’, suppress error and only existing labels are dropped.\n",
    "\n",
    "Returns\n",
    "DataFrame or None\n",
    "DataFrame without the removed index or column labels or None if inplace=True.\n",
    "\n",
    "Raises\n",
    "KeyError\n",
    "If any of the labels is not found in the selected axis."
   ]
  },
  {
   "cell_type": "markdown",
   "id": "dc5d258b",
   "metadata": {},
   "source": [
    "DataFrame.drop(labels=None, axis=0, index=None, columns=None, level=None, inplace=False, errors='raise')[source]\n",
    "Drop specified labels from rows or columns.\n",
    "\n",
    "Remove rows or columns by specifying label names and corresponding axis, or by specifying directly index or column names. When using a multi-index, labels on different levels can be removed by specifying the level. See the user guide <advanced.shown_levels> for more information about the now unused levels.\n",
    "\n",
    "Parameters\n",
    "labelssingle label or list-like\n",
    "Index or column labels to drop. A tuple will be used as a single label and not treated as a list-like.\n",
    "\n",
    "axis{0 or ‘index’, 1 or ‘columns’}, default 0\n",
    "Whether to drop labels from the index (0 or ‘index’) or columns (1 or ‘columns’).\n",
    "\n",
    "indexsingle label or list-like\n",
    "Alternative to specifying axis (labels, axis=0 is equivalent to index=labels).\n",
    "\n",
    "columnssingle label or list-like\n",
    "Alternative to specifying axis (labels, axis=1 is equivalent to columns=labels).\n",
    "\n",
    "levelint or level name, optional\n",
    "For MultiIndex, level from which the labels will be removed.\n",
    "\n",
    "inplacebool, default False\n",
    "If False, return a copy. Otherwise, do operation inplace and return None.\n",
    "\n",
    "errors{‘ignore’, ‘raise’}, default ‘raise’\n",
    "If ‘ignore’, suppress error and only existing labels are dropped.\n",
    "\n",
    "Returns\n",
    "DataFrame or None\n",
    "DataFrame without the removed index or column labels or None if inplace=True.\n",
    "\n",
    "Raises\n",
    "KeyError\n",
    "If any of the labels is not found in the selected axis."
   ]
  },
  {
   "cell_type": "code",
   "execution_count": 145,
   "id": "c2af7ff7",
   "metadata": {
    "scrolled": true
   },
   "outputs": [
    {
     "data": {
      "text/html": [
       "<div>\n",
       "<style scoped>\n",
       "    .dataframe tbody tr th:only-of-type {\n",
       "        vertical-align: middle;\n",
       "    }\n",
       "\n",
       "    .dataframe tbody tr th {\n",
       "        vertical-align: top;\n",
       "    }\n",
       "\n",
       "    .dataframe thead th {\n",
       "        text-align: right;\n",
       "    }\n",
       "</style>\n",
       "<table border=\"1\" class=\"dataframe\">\n",
       "  <thead>\n",
       "    <tr style=\"text-align: right;\">\n",
       "      <th></th>\n",
       "      <th>A</th>\n",
       "      <th>B</th>\n",
       "      <th>C</th>\n",
       "      <th>D</th>\n",
       "    </tr>\n",
       "  </thead>\n",
       "  <tbody>\n",
       "    <tr>\n",
       "      <th>0</th>\n",
       "      <td>0</td>\n",
       "      <td>1</td>\n",
       "      <td>2</td>\n",
       "      <td>3</td>\n",
       "    </tr>\n",
       "    <tr>\n",
       "      <th>1</th>\n",
       "      <td>4</td>\n",
       "      <td>5</td>\n",
       "      <td>6</td>\n",
       "      <td>7</td>\n",
       "    </tr>\n",
       "    <tr>\n",
       "      <th>2</th>\n",
       "      <td>8</td>\n",
       "      <td>9</td>\n",
       "      <td>10</td>\n",
       "      <td>11</td>\n",
       "    </tr>\n",
       "  </tbody>\n",
       "</table>\n",
       "</div>"
      ],
      "text/plain": [
       "   A  B   C   D\n",
       "0  0  1   2   3\n",
       "1  4  5   6   7\n",
       "2  8  9  10  11"
      ]
     },
     "execution_count": 145,
     "metadata": {},
     "output_type": "execute_result"
    }
   ],
   "source": [
    "import pandas as pd\n",
    "import numpy as np\n",
    "\n",
    "df = pd.DataFrame(np.arange(12).reshape(3, 4),\n",
    "                  columns=['A', 'B', 'C', 'D'])\n",
    "df"
   ]
  },
  {
   "cell_type": "code",
   "execution_count": 154,
   "id": "d1154c20",
   "metadata": {},
   "outputs": [
    {
     "data": {
      "text/html": [
       "<div>\n",
       "<style scoped>\n",
       "    .dataframe tbody tr th:only-of-type {\n",
       "        vertical-align: middle;\n",
       "    }\n",
       "\n",
       "    .dataframe tbody tr th {\n",
       "        vertical-align: top;\n",
       "    }\n",
       "\n",
       "    .dataframe thead th {\n",
       "        text-align: right;\n",
       "    }\n",
       "</style>\n",
       "<table border=\"1\" class=\"dataframe\">\n",
       "  <thead>\n",
       "    <tr style=\"text-align: right;\">\n",
       "      <th></th>\n",
       "      <th>A</th>\n",
       "      <th>D</th>\n",
       "    </tr>\n",
       "  </thead>\n",
       "  <tbody>\n",
       "    <tr>\n",
       "      <th>0</th>\n",
       "      <td>0</td>\n",
       "      <td>3</td>\n",
       "    </tr>\n",
       "    <tr>\n",
       "      <th>1</th>\n",
       "      <td>4</td>\n",
       "      <td>7</td>\n",
       "    </tr>\n",
       "    <tr>\n",
       "      <th>2</th>\n",
       "      <td>8</td>\n",
       "      <td>11</td>\n",
       "    </tr>\n",
       "  </tbody>\n",
       "</table>\n",
       "</div>"
      ],
      "text/plain": [
       "   A   D\n",
       "0  0   3\n",
       "1  4   7\n",
       "2  8  11"
      ]
     },
     "execution_count": 154,
     "metadata": {},
     "output_type": "execute_result"
    }
   ],
   "source": [
    "#Drop columns \n",
    "df.drop(['B', 'C'], axis=1)"
   ]
  },
  {
   "cell_type": "code",
   "execution_count": 156,
   "id": "b08723ad",
   "metadata": {},
   "outputs": [
    {
     "data": {
      "text/html": [
       "<div>\n",
       "<style scoped>\n",
       "    .dataframe tbody tr th:only-of-type {\n",
       "        vertical-align: middle;\n",
       "    }\n",
       "\n",
       "    .dataframe tbody tr th {\n",
       "        vertical-align: top;\n",
       "    }\n",
       "\n",
       "    .dataframe thead th {\n",
       "        text-align: right;\n",
       "    }\n",
       "</style>\n",
       "<table border=\"1\" class=\"dataframe\">\n",
       "  <thead>\n",
       "    <tr style=\"text-align: right;\">\n",
       "      <th></th>\n",
       "      <th>A</th>\n",
       "      <th>D</th>\n",
       "    </tr>\n",
       "  </thead>\n",
       "  <tbody>\n",
       "    <tr>\n",
       "      <th>0</th>\n",
       "      <td>0</td>\n",
       "      <td>3</td>\n",
       "    </tr>\n",
       "    <tr>\n",
       "      <th>1</th>\n",
       "      <td>4</td>\n",
       "      <td>7</td>\n",
       "    </tr>\n",
       "    <tr>\n",
       "      <th>2</th>\n",
       "      <td>8</td>\n",
       "      <td>11</td>\n",
       "    </tr>\n",
       "  </tbody>\n",
       "</table>\n",
       "</div>"
      ],
      "text/plain": [
       "   A   D\n",
       "0  0   3\n",
       "1  4   7\n",
       "2  8  11"
      ]
     },
     "execution_count": 156,
     "metadata": {},
     "output_type": "execute_result"
    }
   ],
   "source": [
    "# Drop columns\n",
    "df.drop(columns=['B', 'C'])"
   ]
  },
  {
   "cell_type": "code",
   "execution_count": 157,
   "id": "b9deefbc",
   "metadata": {
    "scrolled": true
   },
   "outputs": [
    {
     "data": {
      "text/html": [
       "<div>\n",
       "<style scoped>\n",
       "    .dataframe tbody tr th:only-of-type {\n",
       "        vertical-align: middle;\n",
       "    }\n",
       "\n",
       "    .dataframe tbody tr th {\n",
       "        vertical-align: top;\n",
       "    }\n",
       "\n",
       "    .dataframe thead th {\n",
       "        text-align: right;\n",
       "    }\n",
       "</style>\n",
       "<table border=\"1\" class=\"dataframe\">\n",
       "  <thead>\n",
       "    <tr style=\"text-align: right;\">\n",
       "      <th></th>\n",
       "      <th>A</th>\n",
       "      <th>B</th>\n",
       "      <th>C</th>\n",
       "      <th>D</th>\n",
       "    </tr>\n",
       "  </thead>\n",
       "  <tbody>\n",
       "    <tr>\n",
       "      <th>2</th>\n",
       "      <td>8</td>\n",
       "      <td>9</td>\n",
       "      <td>10</td>\n",
       "      <td>11</td>\n",
       "    </tr>\n",
       "  </tbody>\n",
       "</table>\n",
       "</div>"
      ],
      "text/plain": [
       "   A  B   C   D\n",
       "2  8  9  10  11"
      ]
     },
     "execution_count": 157,
     "metadata": {},
     "output_type": "execute_result"
    }
   ],
   "source": [
    "# Drop a row by index\n",
    "df.drop([0, 1])"
   ]
  },
  {
   "cell_type": "code",
   "execution_count": 153,
   "id": "8e6eb5a0",
   "metadata": {
    "scrolled": true
   },
   "outputs": [
    {
     "data": {
      "text/html": [
       "<div>\n",
       "<style scoped>\n",
       "    .dataframe tbody tr th:only-of-type {\n",
       "        vertical-align: middle;\n",
       "    }\n",
       "\n",
       "    .dataframe tbody tr th {\n",
       "        vertical-align: top;\n",
       "    }\n",
       "\n",
       "    .dataframe thead th {\n",
       "        text-align: right;\n",
       "    }\n",
       "</style>\n",
       "<table border=\"1\" class=\"dataframe\">\n",
       "  <thead>\n",
       "    <tr style=\"text-align: right;\">\n",
       "      <th></th>\n",
       "      <th>A</th>\n",
       "      <th>B</th>\n",
       "      <th>C</th>\n",
       "      <th>D</th>\n",
       "    </tr>\n",
       "  </thead>\n",
       "  <tbody>\n",
       "    <tr>\n",
       "      <th>1</th>\n",
       "      <td>4</td>\n",
       "      <td>5</td>\n",
       "      <td>6</td>\n",
       "      <td>7</td>\n",
       "    </tr>\n",
       "    <tr>\n",
       "      <th>2</th>\n",
       "      <td>8</td>\n",
       "      <td>9</td>\n",
       "      <td>10</td>\n",
       "      <td>11</td>\n",
       "    </tr>\n",
       "  </tbody>\n",
       "</table>\n",
       "</div>"
      ],
      "text/plain": [
       "   A  B   C   D\n",
       "1  4  5   6   7\n",
       "2  8  9  10  11"
      ]
     },
     "execution_count": 153,
     "metadata": {},
     "output_type": "execute_result"
    }
   ],
   "source": [
    "# Drop a row by index\n",
    "df.drop([0])"
   ]
  },
  {
   "cell_type": "code",
   "execution_count": 3,
   "id": "41f2366a",
   "metadata": {
    "scrolled": false
   },
   "outputs": [
    {
     "data": {
      "text/html": [
       "<div>\n",
       "<style scoped>\n",
       "    .dataframe tbody tr th:only-of-type {\n",
       "        vertical-align: middle;\n",
       "    }\n",
       "\n",
       "    .dataframe tbody tr th {\n",
       "        vertical-align: top;\n",
       "    }\n",
       "\n",
       "    .dataframe thead th {\n",
       "        text-align: right;\n",
       "    }\n",
       "</style>\n",
       "<table border=\"1\" class=\"dataframe\">\n",
       "  <thead>\n",
       "    <tr style=\"text-align: right;\">\n",
       "      <th></th>\n",
       "      <th></th>\n",
       "      <th>big</th>\n",
       "      <th>small</th>\n",
       "    </tr>\n",
       "  </thead>\n",
       "  <tbody>\n",
       "    <tr>\n",
       "      <th rowspan=\"3\" valign=\"top\">lama</th>\n",
       "      <th>speed</th>\n",
       "      <td>45.0</td>\n",
       "      <td>30.0</td>\n",
       "    </tr>\n",
       "    <tr>\n",
       "      <th>weight</th>\n",
       "      <td>200.0</td>\n",
       "      <td>100.0</td>\n",
       "    </tr>\n",
       "    <tr>\n",
       "      <th>length</th>\n",
       "      <td>1.5</td>\n",
       "      <td>1.0</td>\n",
       "    </tr>\n",
       "    <tr>\n",
       "      <th rowspan=\"3\" valign=\"top\">cow</th>\n",
       "      <th>speed</th>\n",
       "      <td>30.0</td>\n",
       "      <td>20.0</td>\n",
       "    </tr>\n",
       "    <tr>\n",
       "      <th>weight</th>\n",
       "      <td>250.0</td>\n",
       "      <td>150.0</td>\n",
       "    </tr>\n",
       "    <tr>\n",
       "      <th>length</th>\n",
       "      <td>1.5</td>\n",
       "      <td>0.8</td>\n",
       "    </tr>\n",
       "    <tr>\n",
       "      <th rowspan=\"3\" valign=\"top\">falcon</th>\n",
       "      <th>speed</th>\n",
       "      <td>320.0</td>\n",
       "      <td>250.0</td>\n",
       "    </tr>\n",
       "    <tr>\n",
       "      <th>weight</th>\n",
       "      <td>1.0</td>\n",
       "      <td>0.8</td>\n",
       "    </tr>\n",
       "    <tr>\n",
       "      <th>length</th>\n",
       "      <td>0.3</td>\n",
       "      <td>0.2</td>\n",
       "    </tr>\n",
       "  </tbody>\n",
       "</table>\n",
       "</div>"
      ],
      "text/plain": [
       "                 big  small\n",
       "lama   speed    45.0   30.0\n",
       "       weight  200.0  100.0\n",
       "       length    1.5    1.0\n",
       "cow    speed    30.0   20.0\n",
       "       weight  250.0  150.0\n",
       "       length    1.5    0.8\n",
       "falcon speed   320.0  250.0\n",
       "       weight    1.0    0.8\n",
       "       length    0.3    0.2"
      ]
     },
     "execution_count": 3,
     "metadata": {},
     "output_type": "execute_result"
    }
   ],
   "source": [
    "# Drop columns and/or rows of MultiIndex DataFrame\n",
    "import pandas as pd  \n",
    "\n",
    "midx = pd.MultiIndex(levels=[['lama', 'cow', 'falcon'],\n",
    "                             ['speed', 'weight', 'length']],\n",
    "                     codes=[[0, 0, 0, 1, 1, 1, 2, 2, 2],\n",
    "                            [0, 1, 2, 0, 1, 2, 0, 1, 2]])\n",
    "df = pd.DataFrame(index=midx, columns=['big', 'small'],\n",
    "                  data=[[45, 30], [200, 100], [1.5, 1], [30, 20],\n",
    "                        [250, 150], [1.5, 0.8], [320, 250],\n",
    "                        [1, 0.8], [0.3, 0.2]])\n",
    "df"
   ]
  },
  {
   "cell_type": "code",
   "execution_count": 4,
   "id": "42b1b201",
   "metadata": {},
   "outputs": [
    {
     "data": {
      "text/html": [
       "<div>\n",
       "<style scoped>\n",
       "    .dataframe tbody tr th:only-of-type {\n",
       "        vertical-align: middle;\n",
       "    }\n",
       "\n",
       "    .dataframe tbody tr th {\n",
       "        vertical-align: top;\n",
       "    }\n",
       "\n",
       "    .dataframe thead th {\n",
       "        text-align: right;\n",
       "    }\n",
       "</style>\n",
       "<table border=\"1\" class=\"dataframe\">\n",
       "  <thead>\n",
       "    <tr style=\"text-align: right;\">\n",
       "      <th></th>\n",
       "      <th></th>\n",
       "      <th>big</th>\n",
       "      <th>small</th>\n",
       "    </tr>\n",
       "  </thead>\n",
       "  <tbody>\n",
       "    <tr>\n",
       "      <th rowspan=\"3\" valign=\"top\">lama</th>\n",
       "      <th>speed</th>\n",
       "      <td>45.0</td>\n",
       "      <td>30.0</td>\n",
       "    </tr>\n",
       "    <tr>\n",
       "      <th>weight</th>\n",
       "      <td>200.0</td>\n",
       "      <td>100.0</td>\n",
       "    </tr>\n",
       "    <tr>\n",
       "      <th>length</th>\n",
       "      <td>1.5</td>\n",
       "      <td>1.0</td>\n",
       "    </tr>\n",
       "    <tr>\n",
       "      <th rowspan=\"2\" valign=\"top\">cow</th>\n",
       "      <th>weight</th>\n",
       "      <td>250.0</td>\n",
       "      <td>150.0</td>\n",
       "    </tr>\n",
       "    <tr>\n",
       "      <th>length</th>\n",
       "      <td>1.5</td>\n",
       "      <td>0.8</td>\n",
       "    </tr>\n",
       "    <tr>\n",
       "      <th rowspan=\"3\" valign=\"top\">falcon</th>\n",
       "      <th>speed</th>\n",
       "      <td>320.0</td>\n",
       "      <td>250.0</td>\n",
       "    </tr>\n",
       "    <tr>\n",
       "      <th>weight</th>\n",
       "      <td>1.0</td>\n",
       "      <td>0.8</td>\n",
       "    </tr>\n",
       "    <tr>\n",
       "      <th>length</th>\n",
       "      <td>0.3</td>\n",
       "      <td>0.2</td>\n",
       "    </tr>\n",
       "  </tbody>\n",
       "</table>\n",
       "</div>"
      ],
      "text/plain": [
       "                 big  small\n",
       "lama   speed    45.0   30.0\n",
       "       weight  200.0  100.0\n",
       "       length    1.5    1.0\n",
       "cow    weight  250.0  150.0\n",
       "       length    1.5    0.8\n",
       "falcon speed   320.0  250.0\n",
       "       weight    1.0    0.8\n",
       "       length    0.3    0.2"
      ]
     },
     "execution_count": 4,
     "metadata": {},
     "output_type": "execute_result"
    }
   ],
   "source": [
    "#Drop a specific index combination from the MultiIndex DataFrame, \n",
    "#i.e., drop the combination 'falcon' and 'weight', which deletes only the corresponding row\n",
    "\n",
    "df.drop(index=( 'cow' , 'speed') )    #Question :how to drop multiple indexes"
   ]
  },
  {
   "cell_type": "code",
   "execution_count": 163,
   "id": "b01190a5",
   "metadata": {
    "scrolled": false
   },
   "outputs": [
    {
     "data": {
      "text/html": [
       "<div>\n",
       "<style scoped>\n",
       "    .dataframe tbody tr th:only-of-type {\n",
       "        vertical-align: middle;\n",
       "    }\n",
       "\n",
       "    .dataframe tbody tr th {\n",
       "        vertical-align: top;\n",
       "    }\n",
       "\n",
       "    .dataframe thead th {\n",
       "        text-align: right;\n",
       "    }\n",
       "</style>\n",
       "<table border=\"1\" class=\"dataframe\">\n",
       "  <thead>\n",
       "    <tr style=\"text-align: right;\">\n",
       "      <th></th>\n",
       "      <th></th>\n",
       "      <th>big</th>\n",
       "    </tr>\n",
       "  </thead>\n",
       "  <tbody>\n",
       "    <tr>\n",
       "      <th rowspan=\"3\" valign=\"top\">lama</th>\n",
       "      <th>speed</th>\n",
       "      <td>45.0</td>\n",
       "    </tr>\n",
       "    <tr>\n",
       "      <th>weight</th>\n",
       "      <td>200.0</td>\n",
       "    </tr>\n",
       "    <tr>\n",
       "      <th>length</th>\n",
       "      <td>1.5</td>\n",
       "    </tr>\n",
       "    <tr>\n",
       "      <th rowspan=\"3\" valign=\"top\">falcon</th>\n",
       "      <th>speed</th>\n",
       "      <td>320.0</td>\n",
       "    </tr>\n",
       "    <tr>\n",
       "      <th>weight</th>\n",
       "      <td>1.0</td>\n",
       "    </tr>\n",
       "    <tr>\n",
       "      <th>length</th>\n",
       "      <td>0.3</td>\n",
       "    </tr>\n",
       "  </tbody>\n",
       "</table>\n",
       "</div>"
      ],
      "text/plain": [
       "                 big\n",
       "lama   speed    45.0\n",
       "       weight  200.0\n",
       "       length    1.5\n",
       "falcon speed   320.0\n",
       "       weight    1.0\n",
       "       length    0.3"
      ]
     },
     "execution_count": 163,
     "metadata": {},
     "output_type": "execute_result"
    }
   ],
   "source": [
    "df.drop(index='cow', columns='small')"
   ]
  },
  {
   "cell_type": "code",
   "execution_count": 170,
   "id": "fb2ac545",
   "metadata": {},
   "outputs": [
    {
     "data": {
      "text/html": [
       "<div>\n",
       "<style scoped>\n",
       "    .dataframe tbody tr th:only-of-type {\n",
       "        vertical-align: middle;\n",
       "    }\n",
       "\n",
       "    .dataframe tbody tr th {\n",
       "        vertical-align: top;\n",
       "    }\n",
       "\n",
       "    .dataframe thead th {\n",
       "        text-align: right;\n",
       "    }\n",
       "</style>\n",
       "<table border=\"1\" class=\"dataframe\">\n",
       "  <thead>\n",
       "    <tr style=\"text-align: right;\">\n",
       "      <th></th>\n",
       "      <th></th>\n",
       "      <th>big</th>\n",
       "      <th>small</th>\n",
       "    </tr>\n",
       "  </thead>\n",
       "  <tbody>\n",
       "    <tr>\n",
       "      <th rowspan=\"2\" valign=\"top\">lama</th>\n",
       "      <th>speed</th>\n",
       "      <td>45.0</td>\n",
       "      <td>30.0</td>\n",
       "    </tr>\n",
       "    <tr>\n",
       "      <th>weight</th>\n",
       "      <td>200.0</td>\n",
       "      <td>100.0</td>\n",
       "    </tr>\n",
       "    <tr>\n",
       "      <th rowspan=\"2\" valign=\"top\">cow</th>\n",
       "      <th>speed</th>\n",
       "      <td>30.0</td>\n",
       "      <td>20.0</td>\n",
       "    </tr>\n",
       "    <tr>\n",
       "      <th>weight</th>\n",
       "      <td>250.0</td>\n",
       "      <td>150.0</td>\n",
       "    </tr>\n",
       "    <tr>\n",
       "      <th rowspan=\"2\" valign=\"top\">falcon</th>\n",
       "      <th>speed</th>\n",
       "      <td>320.0</td>\n",
       "      <td>250.0</td>\n",
       "    </tr>\n",
       "    <tr>\n",
       "      <th>weight</th>\n",
       "      <td>1.0</td>\n",
       "      <td>0.8</td>\n",
       "    </tr>\n",
       "  </tbody>\n",
       "</table>\n",
       "</div>"
      ],
      "text/plain": [
       "                 big  small\n",
       "lama   speed    45.0   30.0\n",
       "       weight  200.0  100.0\n",
       "cow    speed    30.0   20.0\n",
       "       weight  250.0  150.0\n",
       "falcon speed   320.0  250.0\n",
       "       weight    1.0    0.8"
      ]
     },
     "execution_count": 170,
     "metadata": {},
     "output_type": "execute_result"
    }
   ],
   "source": [
    "df.drop(index='length', level=1)   #Question: what are levels"
   ]
  },
  {
   "cell_type": "markdown",
   "id": "5788b2c4",
   "metadata": {},
   "source": [
    "pandas.concat\n",
    "pandas.concat(objs, axis=0, join='outer', ignore_index=False, keys=None, levels=None, names=None, verify_integrity=False, sort=False, copy=True)[source]\n",
    "Concatenate pandas objects along a particular axis with optional set logic along the other axes.\n",
    "\n",
    "Can also add a layer of hierarchical indexing on the concatenation axis, which may be useful if the labels are the same (or overlapping) on the passed axis number.\n",
    "\n",
    "Parameters\n",
    "objsa sequence or mapping of Series or DataFrame objects\n",
    "If a mapping is passed, the sorted keys will be used as the keys argument, unless it is passed, in which case the values will be selected (see below). Any None objects will be dropped silently unless they are all None in which case a ValueError will be raised.\n",
    "\n",
    "axis{0/’index’, 1/’columns’}, default 0\n",
    "The axis to concatenate along.\n",
    "\n",
    "join{‘inner’, ‘outer’}, default ‘outer’\n",
    "How to handle indexes on other axis (or axes).\n",
    "\n",
    "ignore_indexbool, default False\n",
    "If True, do not use the index values along the concatenation axis. The resulting axis will be labeled 0, …, n - 1. This is useful if you are concatenating objects where the concatenation axis does not have meaningful indexing information. Note the index values on the other axes are still respected in the join.\n",
    "\n",
    "keyssequence, default None\n",
    "If multiple levels passed, should contain tuples. Construct hierarchical index using the passed keys as the outermost level.\n",
    "\n",
    "levelslist of sequences, default None\n",
    "Specific levels (unique values) to use for constructing a MultiIndex. Otherwise they will be inferred from the keys.\n",
    "\n",
    "nameslist, default None\n",
    "Names for the levels in the resulting hierarchical index.\n",
    "\n",
    "verify_integritybool, default False\n",
    "Check whether the new concatenated axis contains duplicates. This can be very expensive relative to the actual data concatenation.\n",
    "\n",
    "sortbool, default False\n",
    "Sort non-concatenation axis if it is not already aligned when join is ‘outer’. This has no effect when join='inner', which already preserves the order of the non-concatenation axis.\n",
    "\n",
    "Changed in version 1.0.0: Changed to not sort by default.\n",
    "\n",
    "copybool, default True\n",
    "If False, do not copy data unnecessarily.\n",
    "\n",
    "Returns\n",
    "object, type of objs\n",
    "When concatenating all Series along the index (axis=0), a Series is returned. When objs contains at least one DataFrame, a DataFrame is returned. When concatenating along the columns (axis=1), a DataFrame is returned."
   ]
  },
  {
   "cell_type": "code",
   "execution_count": 188,
   "id": "7fd355ef",
   "metadata": {},
   "outputs": [
    {
     "data": {
      "text/plain": [
       "0    a\n",
       "1    b\n",
       "0    c\n",
       "1    d\n",
       "dtype: object"
      ]
     },
     "execution_count": 188,
     "metadata": {},
     "output_type": "execute_result"
    }
   ],
   "source": [
    "#Combine two Series.\n",
    "s1 = pd.Series(['a', 'b'])\n",
    "s2 = pd.Series(['c', 'd'])\n",
    "pd.concat([s1, s2])"
   ]
  },
  {
   "cell_type": "code",
   "execution_count": 187,
   "id": "c2cfbd2b",
   "metadata": {},
   "outputs": [
    {
     "data": {
      "text/plain": [
       "0    a\n",
       "1    b\n",
       "2    c\n",
       "3    d\n",
       "dtype: object"
      ]
     },
     "execution_count": 187,
     "metadata": {},
     "output_type": "execute_result"
    }
   ],
   "source": [
    "# Clear the existing index and reset it in the result by setting the ignore_index option to True.\n",
    "pd.concat([s1, s2], ignore_index=True)"
   ]
  },
  {
   "cell_type": "code",
   "execution_count": 186,
   "id": "9d31a4a8",
   "metadata": {},
   "outputs": [
    {
     "data": {
      "text/plain": [
       "s1  0    a\n",
       "    1    b\n",
       "s2  0    c\n",
       "    1    d\n",
       "dtype: object"
      ]
     },
     "execution_count": 186,
     "metadata": {},
     "output_type": "execute_result"
    }
   ],
   "source": [
    "# Add a hierarchical index at the outermost level of the data with the keys option.\n",
    "\n",
    "pd.concat([s1, s2], keys=['s1', 's2'])"
   ]
  },
  {
   "cell_type": "code",
   "execution_count": 189,
   "id": "a31efad5",
   "metadata": {},
   "outputs": [
    {
     "data": {
      "text/plain": [
       "Series name  Row ID\n",
       "s1           0         a\n",
       "             1         b\n",
       "s2           0         c\n",
       "             1         d\n",
       "dtype: object"
      ]
     },
     "execution_count": 189,
     "metadata": {},
     "output_type": "execute_result"
    }
   ],
   "source": [
    "#Label the index keys you create with the names option.\n",
    "\n",
    "pd.concat([s1, s2], keys=['s1', 's2'],\n",
    "          names=['Series name', 'Row ID'])"
   ]
  },
  {
   "cell_type": "code",
   "execution_count": 103,
   "id": "fba7e0e0",
   "metadata": {},
   "outputs": [
    {
     "data": {
      "text/html": [
       "<div>\n",
       "<style scoped>\n",
       "    .dataframe tbody tr th:only-of-type {\n",
       "        vertical-align: middle;\n",
       "    }\n",
       "\n",
       "    .dataframe tbody tr th {\n",
       "        vertical-align: top;\n",
       "    }\n",
       "\n",
       "    .dataframe thead th {\n",
       "        text-align: right;\n",
       "    }\n",
       "</style>\n",
       "<table border=\"1\" class=\"dataframe\">\n",
       "  <thead>\n",
       "    <tr style=\"text-align: right;\">\n",
       "      <th></th>\n",
       "      <th>letter</th>\n",
       "      <th>number</th>\n",
       "    </tr>\n",
       "  </thead>\n",
       "  <tbody>\n",
       "    <tr>\n",
       "      <th>0</th>\n",
       "      <td>a</td>\n",
       "      <td>1</td>\n",
       "    </tr>\n",
       "    <tr>\n",
       "      <th>1</th>\n",
       "      <td>b</td>\n",
       "      <td>2</td>\n",
       "    </tr>\n",
       "    <tr>\n",
       "      <th>2</th>\n",
       "      <td>c</td>\n",
       "      <td>3</td>\n",
       "    </tr>\n",
       "    <tr>\n",
       "      <th>3</th>\n",
       "      <td>d</td>\n",
       "      <td>4</td>\n",
       "    </tr>\n",
       "  </tbody>\n",
       "</table>\n",
       "</div>"
      ],
      "text/plain": [
       "  letter  number\n",
       "0      a       1\n",
       "1      b       2\n",
       "2      c       3\n",
       "3      d       4"
      ]
     },
     "execution_count": 103,
     "metadata": {},
     "output_type": "execute_result"
    }
   ],
   "source": [
    "# Combine two DataFrame objects with identical columns.\n",
    "df1 = pd.DataFrame([['a', 1], ['b', 2]],\n",
    "                   columns=['letter', 'number'])\n",
    "df1\n",
    "\n",
    "df2 = pd.DataFrame([['c', 3], ['d', 4]],\n",
    "                   columns=['letter', 'number'])\n",
    "df2\n",
    "\n",
    "pd.concat([df1, df2])\n",
    "pd.concat([df1, df2], ignore_index=True)"
   ]
  },
  {
   "cell_type": "code",
   "execution_count": 105,
   "id": "b7fb77cb",
   "metadata": {},
   "outputs": [
    {
     "data": {
      "text/html": [
       "<div>\n",
       "<style scoped>\n",
       "    .dataframe tbody tr th:only-of-type {\n",
       "        vertical-align: middle;\n",
       "    }\n",
       "\n",
       "    .dataframe tbody tr th {\n",
       "        vertical-align: top;\n",
       "    }\n",
       "\n",
       "    .dataframe thead th {\n",
       "        text-align: right;\n",
       "    }\n",
       "</style>\n",
       "<table border=\"1\" class=\"dataframe\">\n",
       "  <thead>\n",
       "    <tr style=\"text-align: right;\">\n",
       "      <th></th>\n",
       "      <th>letter</th>\n",
       "      <th>number</th>\n",
       "      <th>animal</th>\n",
       "    </tr>\n",
       "  </thead>\n",
       "  <tbody>\n",
       "    <tr>\n",
       "      <th>0</th>\n",
       "      <td>a</td>\n",
       "      <td>1</td>\n",
       "      <td>NaN</td>\n",
       "    </tr>\n",
       "    <tr>\n",
       "      <th>1</th>\n",
       "      <td>b</td>\n",
       "      <td>2</td>\n",
       "      <td>NaN</td>\n",
       "    </tr>\n",
       "    <tr>\n",
       "      <th>2</th>\n",
       "      <td>c</td>\n",
       "      <td>3</td>\n",
       "      <td>cat</td>\n",
       "    </tr>\n",
       "    <tr>\n",
       "      <th>3</th>\n",
       "      <td>d</td>\n",
       "      <td>4</td>\n",
       "      <td>dog</td>\n",
       "    </tr>\n",
       "  </tbody>\n",
       "</table>\n",
       "</div>"
      ],
      "text/plain": [
       "  letter  number animal\n",
       "0      a       1    NaN\n",
       "1      b       2    NaN\n",
       "2      c       3    cat\n",
       "3      d       4    dog"
      ]
     },
     "execution_count": 105,
     "metadata": {},
     "output_type": "execute_result"
    }
   ],
   "source": [
    "#Combine DataFrame objects with overlapping columns and return everything. \n",
    "#Columns outside the intersection will be filled with NaN values.\n",
    "\n",
    "df3 = pd.DataFrame([['c', 3, 'cat'], ['d', 4, 'dog']],\n",
    "                   columns=['letter', 'number', 'animal'])\n",
    "df3\n",
    "\n",
    "\n",
    "pd.concat([df1, df3], sort=False)\n",
    "pd.concat([df1, df3], ignore_index=True)"
   ]
  },
  {
   "cell_type": "code",
   "execution_count": 199,
   "id": "1677244b",
   "metadata": {},
   "outputs": [
    {
     "data": {
      "text/html": [
       "<div>\n",
       "<style scoped>\n",
       "    .dataframe tbody tr th:only-of-type {\n",
       "        vertical-align: middle;\n",
       "    }\n",
       "\n",
       "    .dataframe tbody tr th {\n",
       "        vertical-align: top;\n",
       "    }\n",
       "\n",
       "    .dataframe thead th {\n",
       "        text-align: right;\n",
       "    }\n",
       "</style>\n",
       "<table border=\"1\" class=\"dataframe\">\n",
       "  <thead>\n",
       "    <tr style=\"text-align: right;\">\n",
       "      <th></th>\n",
       "      <th>letter</th>\n",
       "      <th>number</th>\n",
       "    </tr>\n",
       "  </thead>\n",
       "  <tbody>\n",
       "    <tr>\n",
       "      <th>0</th>\n",
       "      <td>a</td>\n",
       "      <td>1</td>\n",
       "    </tr>\n",
       "    <tr>\n",
       "      <th>1</th>\n",
       "      <td>b</td>\n",
       "      <td>2</td>\n",
       "    </tr>\n",
       "    <tr>\n",
       "      <th>0</th>\n",
       "      <td>c</td>\n",
       "      <td>3</td>\n",
       "    </tr>\n",
       "    <tr>\n",
       "      <th>1</th>\n",
       "      <td>d</td>\n",
       "      <td>4</td>\n",
       "    </tr>\n",
       "  </tbody>\n",
       "</table>\n",
       "</div>"
      ],
      "text/plain": [
       "  letter  number\n",
       "0      a       1\n",
       "1      b       2\n",
       "0      c       3\n",
       "1      d       4"
      ]
     },
     "execution_count": 199,
     "metadata": {},
     "output_type": "execute_result"
    }
   ],
   "source": [
    "#Combine DataFrame objects with overlapping columns and return only those that are shared \n",
    "#by passing inner to the join keyword argument.\n",
    "\n",
    "pd.concat([df1, df3], join=\"inner\")\n"
   ]
  },
  {
   "cell_type": "code",
   "execution_count": 202,
   "id": "3087de06",
   "metadata": {},
   "outputs": [
    {
     "data": {
      "text/html": [
       "<div>\n",
       "<style scoped>\n",
       "    .dataframe tbody tr th:only-of-type {\n",
       "        vertical-align: middle;\n",
       "    }\n",
       "\n",
       "    .dataframe tbody tr th {\n",
       "        vertical-align: top;\n",
       "    }\n",
       "\n",
       "    .dataframe thead th {\n",
       "        text-align: right;\n",
       "    }\n",
       "</style>\n",
       "<table border=\"1\" class=\"dataframe\">\n",
       "  <thead>\n",
       "    <tr style=\"text-align: right;\">\n",
       "      <th></th>\n",
       "      <th>letter</th>\n",
       "      <th>number</th>\n",
       "      <th>animal</th>\n",
       "      <th>name</th>\n",
       "    </tr>\n",
       "  </thead>\n",
       "  <tbody>\n",
       "    <tr>\n",
       "      <th>0</th>\n",
       "      <td>a</td>\n",
       "      <td>1</td>\n",
       "      <td>bird</td>\n",
       "      <td>polly</td>\n",
       "    </tr>\n",
       "    <tr>\n",
       "      <th>1</th>\n",
       "      <td>b</td>\n",
       "      <td>2</td>\n",
       "      <td>monkey</td>\n",
       "      <td>george</td>\n",
       "    </tr>\n",
       "  </tbody>\n",
       "</table>\n",
       "</div>"
      ],
      "text/plain": [
       "  letter  number  animal    name\n",
       "0      a       1    bird   polly\n",
       "1      b       2  monkey  george"
      ]
     },
     "execution_count": 202,
     "metadata": {},
     "output_type": "execute_result"
    }
   ],
   "source": [
    "#Combine DataFrame objects horizontally along the x axis by passing in axis=1.\n",
    "\n",
    "df4 = pd.DataFrame([['bird', 'polly'], ['monkey', 'george']],\n",
    "                   columns=['animal', 'name'])\n",
    "pd.concat([df1, df4], axis=1)"
   ]
  },
  {
   "cell_type": "code",
   "execution_count": 203,
   "id": "adc5a352",
   "metadata": {},
   "outputs": [
    {
     "data": {
      "text/html": [
       "<div>\n",
       "<style scoped>\n",
       "    .dataframe tbody tr th:only-of-type {\n",
       "        vertical-align: middle;\n",
       "    }\n",
       "\n",
       "    .dataframe tbody tr th {\n",
       "        vertical-align: top;\n",
       "    }\n",
       "\n",
       "    .dataframe thead th {\n",
       "        text-align: right;\n",
       "    }\n",
       "</style>\n",
       "<table border=\"1\" class=\"dataframe\">\n",
       "  <thead>\n",
       "    <tr style=\"text-align: right;\">\n",
       "      <th></th>\n",
       "      <th>letter</th>\n",
       "      <th>number</th>\n",
       "      <th>animal</th>\n",
       "      <th>name</th>\n",
       "    </tr>\n",
       "  </thead>\n",
       "  <tbody>\n",
       "    <tr>\n",
       "      <th>0</th>\n",
       "      <td>a</td>\n",
       "      <td>1.0</td>\n",
       "      <td>NaN</td>\n",
       "      <td>NaN</td>\n",
       "    </tr>\n",
       "    <tr>\n",
       "      <th>1</th>\n",
       "      <td>b</td>\n",
       "      <td>2.0</td>\n",
       "      <td>NaN</td>\n",
       "      <td>NaN</td>\n",
       "    </tr>\n",
       "    <tr>\n",
       "      <th>0</th>\n",
       "      <td>NaN</td>\n",
       "      <td>NaN</td>\n",
       "      <td>bird</td>\n",
       "      <td>polly</td>\n",
       "    </tr>\n",
       "    <tr>\n",
       "      <th>1</th>\n",
       "      <td>NaN</td>\n",
       "      <td>NaN</td>\n",
       "      <td>monkey</td>\n",
       "      <td>george</td>\n",
       "    </tr>\n",
       "  </tbody>\n",
       "</table>\n",
       "</div>"
      ],
      "text/plain": [
       "  letter  number  animal    name\n",
       "0      a     1.0     NaN     NaN\n",
       "1      b     2.0     NaN     NaN\n",
       "0    NaN     NaN    bird   polly\n",
       "1    NaN     NaN  monkey  george"
      ]
     },
     "execution_count": 203,
     "metadata": {},
     "output_type": "execute_result"
    }
   ],
   "source": [
    "#Combine DataFrame objects vertically along the x axis by passing in axis=0.\n",
    "\n",
    "df4 = pd.DataFrame([['bird', 'polly'], ['monkey', 'george']],\n",
    "                   columns=['animal', 'name'])\n",
    "pd.concat([df1, df4], axis=0)"
   ]
  },
  {
   "cell_type": "code",
   "execution_count": 205,
   "id": "c496c155",
   "metadata": {},
   "outputs": [
    {
     "ename": "IndentationError",
     "evalue": "unexpected indent (Temp/ipykernel_4768/3850150867.py, line 12)",
     "output_type": "error",
     "traceback": [
      "\u001b[1;36m  File \u001b[1;32m\"C:\\Users\\JOANJA~1\\AppData\\Local\\Temp/ipykernel_4768/3850150867.py\"\u001b[1;36m, line \u001b[1;32m12\u001b[0m\n\u001b[1;33m    ...\u001b[0m\n\u001b[1;37m    ^\u001b[0m\n\u001b[1;31mIndentationError\u001b[0m\u001b[1;31m:\u001b[0m unexpected indent\n"
     ]
    }
   ],
   "source": [
    "#Prevent the result from including duplicate index values with the verify_integrity option.\n",
    "\n",
    "df5 = pd.DataFrame([1], index=['a'])\n",
    "df5\n",
    "\n",
    "df6 = pd.DataFrame([2], index=['a'])\n",
    "df6\n",
    "\n",
    "pd.concat([df5, df6], verify_integrity=True)\n",
    "\n",
    "# result Traceback (most recent call last)\n",
    "#ValueError: Indexes have overlapping values: ['a']"
   ]
  },
  {
   "cell_type": "code",
   "execution_count": 214,
   "id": "310c76e6",
   "metadata": {
    "scrolled": true
   },
   "outputs": [
    {
     "data": {
      "text/html": [
       "<div>\n",
       "<style scoped>\n",
       "    .dataframe tbody tr th:only-of-type {\n",
       "        vertical-align: middle;\n",
       "    }\n",
       "\n",
       "    .dataframe tbody tr th {\n",
       "        vertical-align: top;\n",
       "    }\n",
       "\n",
       "    .dataframe thead th {\n",
       "        text-align: right;\n",
       "    }\n",
       "</style>\n",
       "<table border=\"1\" class=\"dataframe\">\n",
       "  <thead>\n",
       "    <tr style=\"text-align: right;\">\n",
       "      <th></th>\n",
       "      <th>name</th>\n",
       "      <th>age</th>\n",
       "      <th>city</th>\n",
       "    </tr>\n",
       "  </thead>\n",
       "  <tbody>\n",
       "    <tr>\n",
       "      <th>0</th>\n",
       "      <td>Jack</td>\n",
       "      <td>34</td>\n",
       "      <td>Paris</td>\n",
       "    </tr>\n",
       "    <tr>\n",
       "      <th>1</th>\n",
       "      <td>Thomas</td>\n",
       "      <td>30</td>\n",
       "      <td>Roma</td>\n",
       "    </tr>\n",
       "    <tr>\n",
       "      <th>2</th>\n",
       "      <td>Alexandre</td>\n",
       "      <td>16</td>\n",
       "      <td>New York</td>\n",
       "    </tr>\n",
       "    <tr>\n",
       "      <th>3</th>\n",
       "      <td>Josh</td>\n",
       "      <td>27</td>\n",
       "      <td>Texas</td>\n",
       "    </tr>\n",
       "  </tbody>\n",
       "</table>\n",
       "</div>"
      ],
      "text/plain": [
       "        name  age      city\n",
       "0       Jack   34     Paris\n",
       "1     Thomas   30      Roma\n",
       "2  Alexandre   16  New York\n",
       "3       Josh   27     Texas"
      ]
     },
     "execution_count": 214,
     "metadata": {},
     "output_type": "execute_result"
    }
   ],
   "source": [
    "dict1 = {'name' : ['Jack', 'Thomas', 'Alexandre'],\n",
    "                'age' : [34, 30, 16],\n",
    "                'city' : ['Paris', 'Roma', 'New York']}\n",
    "dict2 = {'name' : ['Josh'],\n",
    "         'age' : 27, \n",
    "         'city': ['Texas'] }\n",
    "\n",
    "df1 = pd.DataFrame(dict1)\n",
    "df1\n",
    "df2 = pd.DataFrame(dict2)\n",
    "df2\n",
    "\n",
    "pd.concat([df1,df2])\n",
    "pd.concat([df1,df2] , ignore_index=True)"
   ]
  },
  {
   "cell_type": "code",
   "execution_count": 28,
   "id": "02d91af9",
   "metadata": {},
   "outputs": [
    {
     "data": {
      "text/html": [
       "<div>\n",
       "<style scoped>\n",
       "    .dataframe tbody tr th:only-of-type {\n",
       "        vertical-align: middle;\n",
       "    }\n",
       "\n",
       "    .dataframe tbody tr th {\n",
       "        vertical-align: top;\n",
       "    }\n",
       "\n",
       "    .dataframe thead th {\n",
       "        text-align: right;\n",
       "    }\n",
       "</style>\n",
       "<table border=\"1\" class=\"dataframe\">\n",
       "  <thead>\n",
       "    <tr style=\"text-align: right;\">\n",
       "      <th></th>\n",
       "      <th>name</th>\n",
       "      <th>score</th>\n",
       "      <th>attempts</th>\n",
       "      <th>qualify</th>\n",
       "    </tr>\n",
       "  </thead>\n",
       "  <tbody>\n",
       "    <tr>\n",
       "      <th>0</th>\n",
       "      <td>Anastasia</td>\n",
       "      <td>12.5</td>\n",
       "      <td>1</td>\n",
       "      <td>yes</td>\n",
       "    </tr>\n",
       "    <tr>\n",
       "      <th>1</th>\n",
       "      <td>Dima</td>\n",
       "      <td>9.0</td>\n",
       "      <td>3</td>\n",
       "      <td>no</td>\n",
       "    </tr>\n",
       "    <tr>\n",
       "      <th>2</th>\n",
       "      <td>Katherine</td>\n",
       "      <td>16.5</td>\n",
       "      <td>2</td>\n",
       "      <td>yes</td>\n",
       "    </tr>\n",
       "    <tr>\n",
       "      <th>3</th>\n",
       "      <td>James</td>\n",
       "      <td>NaN</td>\n",
       "      <td>3</td>\n",
       "      <td>no</td>\n",
       "    </tr>\n",
       "    <tr>\n",
       "      <th>4</th>\n",
       "      <td>Emily</td>\n",
       "      <td>9.0</td>\n",
       "      <td>2</td>\n",
       "      <td>no</td>\n",
       "    </tr>\n",
       "    <tr>\n",
       "      <th>5</th>\n",
       "      <td>Michael</td>\n",
       "      <td>20.0</td>\n",
       "      <td>3</td>\n",
       "      <td>yes</td>\n",
       "    </tr>\n",
       "    <tr>\n",
       "      <th>6</th>\n",
       "      <td>Matthew</td>\n",
       "      <td>14.5</td>\n",
       "      <td>1</td>\n",
       "      <td>yes</td>\n",
       "    </tr>\n",
       "    <tr>\n",
       "      <th>7</th>\n",
       "      <td>Laura</td>\n",
       "      <td>NaN</td>\n",
       "      <td>1</td>\n",
       "      <td>no</td>\n",
       "    </tr>\n",
       "    <tr>\n",
       "      <th>8</th>\n",
       "      <td>Kevin</td>\n",
       "      <td>8.0</td>\n",
       "      <td>2</td>\n",
       "      <td>no</td>\n",
       "    </tr>\n",
       "    <tr>\n",
       "      <th>9</th>\n",
       "      <td>Jonas</td>\n",
       "      <td>19.0</td>\n",
       "      <td>1</td>\n",
       "      <td>yes</td>\n",
       "    </tr>\n",
       "  </tbody>\n",
       "</table>\n",
       "</div>"
      ],
      "text/plain": [
       "        name  score  attempts qualify\n",
       "0  Anastasia   12.5         1     yes\n",
       "1       Dima    9.0         3      no\n",
       "2  Katherine   16.5         2     yes\n",
       "3      James    NaN         3      no\n",
       "4      Emily    9.0         2      no\n",
       "5    Michael   20.0         3     yes\n",
       "6    Matthew   14.5         1     yes\n",
       "7      Laura    NaN         1      no\n",
       "8      Kevin    8.0         2      no\n",
       "9      Jonas   19.0         1     yes"
      ]
     },
     "execution_count": 28,
     "metadata": {},
     "output_type": "execute_result"
    }
   ],
   "source": [
    "import pandas as pd\n",
    "import numpy as np\n",
    "\n",
    "exam_data = {'name': ['Anastasia', 'Dima', 'Katherine', 'James', 'Emily', 'Michael', 'Matthew', 'Laura', 'Kevin', 'Jonas'],\n",
    "'score': [12.5, 9, 16.5, np.nan, 9, 20, 14.5, np.nan, 8, 19],\n",
    "'attempts': [1, 3, 2, 3, 2, 3, 1, 1, 2, 1],\n",
    "'qualify': ['yes', 'no', 'yes', 'no', 'no', 'yes', 'yes', 'no', 'no', 'yes']}\n",
    "\n",
    "labels = ['a', 'b', 'c', 'd', 'e', 'f', 'g', 'h', 'i', 'j']\n",
    "\n",
    "df = pd.DataFrame(exam_data)\n",
    "df"
   ]
  },
  {
   "cell_type": "code",
   "execution_count": 29,
   "id": "55f2ce92",
   "metadata": {},
   "outputs": [
    {
     "data": {
      "text/plain": [
       "name        Katherine\n",
       "score            16.5\n",
       "attempts            2\n",
       "qualify           yes\n",
       "Name: 2, dtype: object"
      ]
     },
     "execution_count": 29,
     "metadata": {},
     "output_type": "execute_result"
    }
   ],
   "source": [
    "df.iloc[2]"
   ]
  },
  {
   "cell_type": "code",
   "execution_count": 30,
   "id": "7a4d3940",
   "metadata": {},
   "outputs": [
    {
     "data": {
      "text/plain": [
       "name        Katherine\n",
       "score            16.5\n",
       "attempts            2\n",
       "qualify           yes\n",
       "Name: 2, dtype: object"
      ]
     },
     "execution_count": 30,
     "metadata": {},
     "output_type": "execute_result"
    }
   ],
   "source": [
    "df.iloc[2,]"
   ]
  },
  {
   "cell_type": "code",
   "execution_count": 34,
   "id": "14f53b06",
   "metadata": {
    "scrolled": false
   },
   "outputs": [
    {
     "data": {
      "text/plain": [
       "name        Katherine\n",
       "score            16.5\n",
       "attempts            2\n",
       "qualify           yes\n",
       "Name: 2, dtype: object"
      ]
     },
     "execution_count": 34,
     "metadata": {},
     "output_type": "execute_result"
    }
   ],
   "source": [
    "df.iloc[2,:]"
   ]
  },
  {
   "cell_type": "code",
   "execution_count": 35,
   "id": "528c77c0",
   "metadata": {},
   "outputs": [
    {
     "data": {
      "text/html": [
       "<div>\n",
       "<style scoped>\n",
       "    .dataframe tbody tr th:only-of-type {\n",
       "        vertical-align: middle;\n",
       "    }\n",
       "\n",
       "    .dataframe tbody tr th {\n",
       "        vertical-align: top;\n",
       "    }\n",
       "\n",
       "    .dataframe thead th {\n",
       "        text-align: right;\n",
       "    }\n",
       "</style>\n",
       "<table border=\"1\" class=\"dataframe\">\n",
       "  <thead>\n",
       "    <tr style=\"text-align: right;\">\n",
       "      <th></th>\n",
       "      <th>name</th>\n",
       "      <th>score</th>\n",
       "      <th>attempts</th>\n",
       "      <th>qualify</th>\n",
       "    </tr>\n",
       "  </thead>\n",
       "  <tbody>\n",
       "    <tr>\n",
       "      <th>2</th>\n",
       "      <td>Katherine</td>\n",
       "      <td>16.5</td>\n",
       "      <td>2</td>\n",
       "      <td>yes</td>\n",
       "    </tr>\n",
       "    <tr>\n",
       "      <th>3</th>\n",
       "      <td>James</td>\n",
       "      <td>NaN</td>\n",
       "      <td>3</td>\n",
       "      <td>no</td>\n",
       "    </tr>\n",
       "    <tr>\n",
       "      <th>4</th>\n",
       "      <td>Emily</td>\n",
       "      <td>9.0</td>\n",
       "      <td>2</td>\n",
       "      <td>no</td>\n",
       "    </tr>\n",
       "    <tr>\n",
       "      <th>5</th>\n",
       "      <td>Michael</td>\n",
       "      <td>20.0</td>\n",
       "      <td>3</td>\n",
       "      <td>yes</td>\n",
       "    </tr>\n",
       "    <tr>\n",
       "      <th>6</th>\n",
       "      <td>Matthew</td>\n",
       "      <td>14.5</td>\n",
       "      <td>1</td>\n",
       "      <td>yes</td>\n",
       "    </tr>\n",
       "    <tr>\n",
       "      <th>7</th>\n",
       "      <td>Laura</td>\n",
       "      <td>NaN</td>\n",
       "      <td>1</td>\n",
       "      <td>no</td>\n",
       "    </tr>\n",
       "    <tr>\n",
       "      <th>8</th>\n",
       "      <td>Kevin</td>\n",
       "      <td>8.0</td>\n",
       "      <td>2</td>\n",
       "      <td>no</td>\n",
       "    </tr>\n",
       "    <tr>\n",
       "      <th>9</th>\n",
       "      <td>Jonas</td>\n",
       "      <td>19.0</td>\n",
       "      <td>1</td>\n",
       "      <td>yes</td>\n",
       "    </tr>\n",
       "  </tbody>\n",
       "</table>\n",
       "</div>"
      ],
      "text/plain": [
       "        name  score  attempts qualify\n",
       "2  Katherine   16.5         2     yes\n",
       "3      James    NaN         3      no\n",
       "4      Emily    9.0         2      no\n",
       "5    Michael   20.0         3     yes\n",
       "6    Matthew   14.5         1     yes\n",
       "7      Laura    NaN         1      no\n",
       "8      Kevin    8.0         2      no\n",
       "9      Jonas   19.0         1     yes"
      ]
     },
     "execution_count": 35,
     "metadata": {},
     "output_type": "execute_result"
    }
   ],
   "source": [
    "df.iloc[2:]"
   ]
  },
  {
   "cell_type": "code",
   "execution_count": 32,
   "id": "4b5861b2",
   "metadata": {},
   "outputs": [
    {
     "data": {
      "text/html": [
       "<div>\n",
       "<style scoped>\n",
       "    .dataframe tbody tr th:only-of-type {\n",
       "        vertical-align: middle;\n",
       "    }\n",
       "\n",
       "    .dataframe tbody tr th {\n",
       "        vertical-align: top;\n",
       "    }\n",
       "\n",
       "    .dataframe thead th {\n",
       "        text-align: right;\n",
       "    }\n",
       "</style>\n",
       "<table border=\"1\" class=\"dataframe\">\n",
       "  <thead>\n",
       "    <tr style=\"text-align: right;\">\n",
       "      <th></th>\n",
       "      <th>name</th>\n",
       "      <th>score</th>\n",
       "      <th>attempts</th>\n",
       "      <th>qualify</th>\n",
       "    </tr>\n",
       "  </thead>\n",
       "  <tbody>\n",
       "    <tr>\n",
       "      <th>0</th>\n",
       "      <td>Anastasia</td>\n",
       "      <td>12.5</td>\n",
       "      <td>1</td>\n",
       "      <td>yes</td>\n",
       "    </tr>\n",
       "    <tr>\n",
       "      <th>1</th>\n",
       "      <td>Dima</td>\n",
       "      <td>9.0</td>\n",
       "      <td>3</td>\n",
       "      <td>no</td>\n",
       "    </tr>\n",
       "    <tr>\n",
       "      <th>2</th>\n",
       "      <td>Katherine</td>\n",
       "      <td>16.5</td>\n",
       "      <td>2</td>\n",
       "      <td>yes</td>\n",
       "    </tr>\n",
       "  </tbody>\n",
       "</table>\n",
       "</div>"
      ],
      "text/plain": [
       "        name  score  attempts qualify\n",
       "0  Anastasia   12.5         1     yes\n",
       "1       Dima    9.0         3      no\n",
       "2  Katherine   16.5         2     yes"
      ]
     },
     "execution_count": 32,
     "metadata": {},
     "output_type": "execute_result"
    }
   ],
   "source": [
    "df.iloc[:3]"
   ]
  },
  {
   "cell_type": "code",
   "execution_count": 36,
   "id": "27acc7d2",
   "metadata": {},
   "outputs": [
    {
     "data": {
      "text/html": [
       "<div>\n",
       "<style scoped>\n",
       "    .dataframe tbody tr th:only-of-type {\n",
       "        vertical-align: middle;\n",
       "    }\n",
       "\n",
       "    .dataframe tbody tr th {\n",
       "        vertical-align: top;\n",
       "    }\n",
       "\n",
       "    .dataframe thead th {\n",
       "        text-align: right;\n",
       "    }\n",
       "</style>\n",
       "<table border=\"1\" class=\"dataframe\">\n",
       "  <thead>\n",
       "    <tr style=\"text-align: right;\">\n",
       "      <th></th>\n",
       "      <th>name</th>\n",
       "      <th>score</th>\n",
       "      <th>attempts</th>\n",
       "      <th>qualify</th>\n",
       "    </tr>\n",
       "  </thead>\n",
       "  <tbody>\n",
       "    <tr>\n",
       "      <th>0</th>\n",
       "      <td>Anastasia</td>\n",
       "      <td>12.5</td>\n",
       "      <td>1</td>\n",
       "      <td>yes</td>\n",
       "    </tr>\n",
       "    <tr>\n",
       "      <th>1</th>\n",
       "      <td>Dima</td>\n",
       "      <td>9.0</td>\n",
       "      <td>3</td>\n",
       "      <td>no</td>\n",
       "    </tr>\n",
       "    <tr>\n",
       "      <th>2</th>\n",
       "      <td>Katherine</td>\n",
       "      <td>16.5</td>\n",
       "      <td>2</td>\n",
       "      <td>yes</td>\n",
       "    </tr>\n",
       "  </tbody>\n",
       "</table>\n",
       "</div>"
      ],
      "text/plain": [
       "        name  score  attempts qualify\n",
       "0  Anastasia   12.5         1     yes\n",
       "1       Dima    9.0         3      no\n",
       "2  Katherine   16.5         2     yes"
      ]
     },
     "execution_count": 36,
     "metadata": {},
     "output_type": "execute_result"
    }
   ],
   "source": [
    "df.iloc[0:3]"
   ]
  },
  {
   "cell_type": "code",
   "execution_count": 37,
   "id": "eba25cd0",
   "metadata": {},
   "outputs": [
    {
     "data": {
      "text/html": [
       "<div>\n",
       "<style scoped>\n",
       "    .dataframe tbody tr th:only-of-type {\n",
       "        vertical-align: middle;\n",
       "    }\n",
       "\n",
       "    .dataframe tbody tr th {\n",
       "        vertical-align: top;\n",
       "    }\n",
       "\n",
       "    .dataframe thead th {\n",
       "        text-align: right;\n",
       "    }\n",
       "</style>\n",
       "<table border=\"1\" class=\"dataframe\">\n",
       "  <thead>\n",
       "    <tr style=\"text-align: right;\">\n",
       "      <th></th>\n",
       "      <th>name</th>\n",
       "      <th>score</th>\n",
       "      <th>attempts</th>\n",
       "      <th>qualify</th>\n",
       "    </tr>\n",
       "  </thead>\n",
       "  <tbody>\n",
       "    <tr>\n",
       "      <th>0</th>\n",
       "      <td>Anastasia</td>\n",
       "      <td>12.5</td>\n",
       "      <td>1</td>\n",
       "      <td>yes</td>\n",
       "    </tr>\n",
       "    <tr>\n",
       "      <th>1</th>\n",
       "      <td>Dima</td>\n",
       "      <td>9.0</td>\n",
       "      <td>3</td>\n",
       "      <td>no</td>\n",
       "    </tr>\n",
       "    <tr>\n",
       "      <th>2</th>\n",
       "      <td>Katherine</td>\n",
       "      <td>16.5</td>\n",
       "      <td>2</td>\n",
       "      <td>yes</td>\n",
       "    </tr>\n",
       "  </tbody>\n",
       "</table>\n",
       "</div>"
      ],
      "text/plain": [
       "        name  score  attempts qualify\n",
       "0  Anastasia   12.5         1     yes\n",
       "1       Dima    9.0         3      no\n",
       "2  Katherine   16.5         2     yes"
      ]
     },
     "execution_count": 37,
     "metadata": {},
     "output_type": "execute_result"
    }
   ],
   "source": [
    "df.iloc[0:3,:]"
   ]
  },
  {
   "cell_type": "code",
   "execution_count": 39,
   "id": "0779ebae",
   "metadata": {
    "scrolled": true
   },
   "outputs": [
    {
     "data": {
      "text/plain": [
       "0    yes\n",
       "1     no\n",
       "2    yes\n",
       "3     no\n",
       "4     no\n",
       "5    yes\n",
       "6    yes\n",
       "7     no\n",
       "8     no\n",
       "9    yes\n",
       "Name: qualify, dtype: object"
      ]
     },
     "execution_count": 39,
     "metadata": {},
     "output_type": "execute_result"
    }
   ],
   "source": [
    "# Extract the 4th column\n",
    "df.iloc[:,3]"
   ]
  },
  {
   "cell_type": "code",
   "execution_count": 47,
   "id": "b9c2700b",
   "metadata": {},
   "outputs": [
    {
     "data": {
      "text/html": [
       "<div>\n",
       "<style scoped>\n",
       "    .dataframe tbody tr th:only-of-type {\n",
       "        vertical-align: middle;\n",
       "    }\n",
       "\n",
       "    .dataframe tbody tr th {\n",
       "        vertical-align: top;\n",
       "    }\n",
       "\n",
       "    .dataframe thead th {\n",
       "        text-align: right;\n",
       "    }\n",
       "</style>\n",
       "<table border=\"1\" class=\"dataframe\">\n",
       "  <thead>\n",
       "    <tr style=\"text-align: right;\">\n",
       "      <th></th>\n",
       "      <th>name</th>\n",
       "      <th>score</th>\n",
       "    </tr>\n",
       "  </thead>\n",
       "  <tbody>\n",
       "    <tr>\n",
       "      <th>0</th>\n",
       "      <td>Anastasia</td>\n",
       "      <td>12.5</td>\n",
       "    </tr>\n",
       "    <tr>\n",
       "      <th>1</th>\n",
       "      <td>Dima</td>\n",
       "      <td>9.0</td>\n",
       "    </tr>\n",
       "    <tr>\n",
       "      <th>2</th>\n",
       "      <td>Katherine</td>\n",
       "      <td>16.5</td>\n",
       "    </tr>\n",
       "    <tr>\n",
       "      <th>3</th>\n",
       "      <td>James</td>\n",
       "      <td>NaN</td>\n",
       "    </tr>\n",
       "    <tr>\n",
       "      <th>4</th>\n",
       "      <td>Emily</td>\n",
       "      <td>9.0</td>\n",
       "    </tr>\n",
       "    <tr>\n",
       "      <th>5</th>\n",
       "      <td>Michael</td>\n",
       "      <td>20.0</td>\n",
       "    </tr>\n",
       "    <tr>\n",
       "      <th>6</th>\n",
       "      <td>Matthew</td>\n",
       "      <td>14.5</td>\n",
       "    </tr>\n",
       "    <tr>\n",
       "      <th>7</th>\n",
       "      <td>Laura</td>\n",
       "      <td>NaN</td>\n",
       "    </tr>\n",
       "    <tr>\n",
       "      <th>8</th>\n",
       "      <td>Kevin</td>\n",
       "      <td>8.0</td>\n",
       "    </tr>\n",
       "    <tr>\n",
       "      <th>9</th>\n",
       "      <td>Jonas</td>\n",
       "      <td>19.0</td>\n",
       "    </tr>\n",
       "  </tbody>\n",
       "</table>\n",
       "</div>"
      ],
      "text/plain": [
       "        name  score\n",
       "0  Anastasia   12.5\n",
       "1       Dima    9.0\n",
       "2  Katherine   16.5\n",
       "3      James    NaN\n",
       "4      Emily    9.0\n",
       "5    Michael   20.0\n",
       "6    Matthew   14.5\n",
       "7      Laura    NaN\n",
       "8      Kevin    8.0\n",
       "9      Jonas   19.0"
      ]
     },
     "execution_count": 47,
     "metadata": {},
     "output_type": "execute_result"
    }
   ],
   "source": [
    "#Extract the first 2 columns\n",
    "df.iloc[:,0:2]\n",
    "df.iloc[:,:2]"
   ]
  },
  {
   "cell_type": "code",
   "execution_count": 56,
   "id": "7952990c",
   "metadata": {},
   "outputs": [
    {
     "data": {
      "text/plain": [
       "name        Jonas\n",
       "score        19.0\n",
       "attempts        1\n",
       "qualify       yes\n",
       "Name: 9, dtype: object"
      ]
     },
     "execution_count": 56,
     "metadata": {},
     "output_type": "execute_result"
    }
   ],
   "source": [
    "# Extract rows/columns by index or conditions.\n",
    "df.loc[9]"
   ]
  },
  {
   "cell_type": "code",
   "execution_count": 60,
   "id": "34d2b361",
   "metadata": {},
   "outputs": [
    {
     "data": {
      "text/plain": [
       "nan"
      ]
     },
     "execution_count": 60,
     "metadata": {},
     "output_type": "execute_result"
    }
   ],
   "source": [
    "df.loc[7, 'score']"
   ]
  },
  {
   "cell_type": "code",
   "execution_count": 62,
   "id": "be55c831",
   "metadata": {},
   "outputs": [
    {
     "name": "stdout",
     "output_type": "stream",
     "text": [
      "The DataFrame object before deleting the column\n",
      "   a  b\n",
      "0  1  2\n",
      "1  2  4\n",
      "2  3  6\n",
      "The DataFrame object after deleting the column a\n",
      "   b\n",
      "0  2\n",
      "1  4\n",
      "2  6\n"
     ]
    }
   ],
   "source": [
    "import pandas as pd\n",
    "\n",
    "# Create a dataframe from a dict\n",
    "df = pd.DataFrame({\"a\": [1,2,3], \"b\":[2,4,6]})\n",
    "print(\"The DataFrame object before deleting the column\")\n",
    "print(df)\n",
    "df.drop('a', inplace=True, axis=1)\n",
    "print(\"The DataFrame object after deleting the column a\")\n",
    "print(df)\n",
    "\n",
    "#line 7 shows how to drop a column by calling drop.\n",
    "#inplace=True means the operation would work on the original object.\n",
    "#axis=1 means we are dropping the column, not the row.\n",
    "# u can compare the output of line 6 and line 9."
   ]
  },
  {
   "cell_type": "code",
   "execution_count": 63,
   "id": "f9f5d857",
   "metadata": {
    "scrolled": true
   },
   "outputs": [
    {
     "name": "stdout",
     "output_type": "stream",
     "text": [
      "The DataFrame object before deleting the column\n",
      "   a  b\n",
      "0  1  2\n",
      "1  2  4\n",
      "2  3  6\n",
      "The DataFrame object after deleting the column a\n",
      "   b\n",
      "0  2\n",
      "1  4\n",
      "2  6\n"
     ]
    }
   ],
   "source": [
    "#  del is also an option, you can delete a column by del df['column name'].\n",
    "# The Python would map this operation to df.__delitem__('column name'), which is an internal method of DataFrame.\n",
    "\n",
    "import pandas as pd\n",
    "\n",
    "# Create a dataframe from a dict\n",
    "df = pd.DataFrame({\"a\": [1,2,3], \"b\":[2,4,6]})\n",
    "print(\"The DataFrame object before deleting the column\")\n",
    "print(df)\n",
    "del df[\"a\"]\n",
    "print(\"The DataFrame object after deleting the column a\")\n",
    "print(df)\n"
   ]
  },
  {
   "cell_type": "code",
   "execution_count": 66,
   "id": "893dd0de",
   "metadata": {},
   "outputs": [
    {
     "name": "stdout",
     "output_type": "stream",
     "text": [
      "The DataFrame object before deleting the column\n",
      "   a  b\n",
      "0  1  2\n",
      "1  2  4\n",
      "2  3  6\n",
      "The DataFrame object after deleting the column a\n",
      "   a\n",
      "0  1\n",
      "1  2\n",
      "2  3\n"
     ]
    }
   ],
   "source": [
    "# pop() function would also drop the column. Unlike the other two methods, this function would return the column.\n",
    "# line 7 shows how to use pop() to delete a column.\n",
    "\n",
    "import pandas as pd\n",
    "\n",
    "# Create a dataframe from a dict\n",
    "df = pd.DataFrame({\"a\": [1,2,3], \"b\":[2,4,6]})\n",
    "print(\"The DataFrame object before deleting the column\")\n",
    "print(df)\n",
    "df.pop(\"b\")\n",
    "print(\"The DataFrame object after deleting the column a\")\n",
    "print(df)"
   ]
  },
  {
   "cell_type": "code",
   "execution_count": 67,
   "id": "bfda1e4b",
   "metadata": {},
   "outputs": [
    {
     "data": {
      "text/html": [
       "<div>\n",
       "<style scoped>\n",
       "    .dataframe tbody tr th:only-of-type {\n",
       "        vertical-align: middle;\n",
       "    }\n",
       "\n",
       "    .dataframe tbody tr th {\n",
       "        vertical-align: top;\n",
       "    }\n",
       "\n",
       "    .dataframe thead th {\n",
       "        text-align: right;\n",
       "    }\n",
       "</style>\n",
       "<table border=\"1\" class=\"dataframe\">\n",
       "  <thead>\n",
       "    <tr style=\"text-align: right;\">\n",
       "      <th></th>\n",
       "      <th>Name</th>\n",
       "      <th>Height</th>\n",
       "      <th>Qualification</th>\n",
       "      <th>Address</th>\n",
       "    </tr>\n",
       "  </thead>\n",
       "  <tbody>\n",
       "    <tr>\n",
       "      <th>0</th>\n",
       "      <td>Jai</td>\n",
       "      <td>5.1</td>\n",
       "      <td>Msc</td>\n",
       "      <td>Delhi</td>\n",
       "    </tr>\n",
       "    <tr>\n",
       "      <th>1</th>\n",
       "      <td>Princi</td>\n",
       "      <td>6.2</td>\n",
       "      <td>MA</td>\n",
       "      <td>Bangalore</td>\n",
       "    </tr>\n",
       "    <tr>\n",
       "      <th>2</th>\n",
       "      <td>Gaurav</td>\n",
       "      <td>5.1</td>\n",
       "      <td>Msc</td>\n",
       "      <td>Chennai</td>\n",
       "    </tr>\n",
       "    <tr>\n",
       "      <th>3</th>\n",
       "      <td>Anuj</td>\n",
       "      <td>5.2</td>\n",
       "      <td>Msc</td>\n",
       "      <td>Patna</td>\n",
       "    </tr>\n",
       "  </tbody>\n",
       "</table>\n",
       "</div>"
      ],
      "text/plain": [
       "     Name  Height Qualification    Address\n",
       "0     Jai     5.1           Msc      Delhi\n",
       "1  Princi     6.2            MA  Bangalore\n",
       "2  Gaurav     5.1           Msc    Chennai\n",
       "3    Anuj     5.2           Msc      Patna"
      ]
     },
     "execution_count": 67,
     "metadata": {},
     "output_type": "execute_result"
    }
   ],
   "source": [
    "# Import pandas package\n",
    "import pandas as pd\n",
    "\n",
    "# Define a dictionary containing Students data\n",
    "data = {'Name': ['Jai', 'Princi', 'Gaurav', 'Anuj'],\n",
    "\t\t'Height': [5.1, 6.2, 5.1, 5.2],\n",
    "\t\t'Qualification': ['Msc', 'MA', 'Msc', 'Msc']}\n",
    "\n",
    "# Convert the dictionary into DataFrame\n",
    "df = pd.DataFrame(data)\n",
    "\n",
    "# Declare a list that is to be converted into a column\n",
    "address = ['Delhi', 'Bangalore', 'Chennai', 'Patna']\n",
    "\n",
    "# Using 'Address' as the column name\n",
    "# and equating it to the list\n",
    "df['Address'] = address\n",
    "\n",
    "# Observe the result\n",
    "df\n"
   ]
  },
  {
   "cell_type": "code",
   "execution_count": 70,
   "id": "1205c278",
   "metadata": {},
   "outputs": [
    {
     "data": {
      "text/html": [
       "<div>\n",
       "<style scoped>\n",
       "    .dataframe tbody tr th:only-of-type {\n",
       "        vertical-align: middle;\n",
       "    }\n",
       "\n",
       "    .dataframe tbody tr th {\n",
       "        vertical-align: top;\n",
       "    }\n",
       "\n",
       "    .dataframe thead th {\n",
       "        text-align: right;\n",
       "    }\n",
       "</style>\n",
       "<table border=\"1\" class=\"dataframe\">\n",
       "  <thead>\n",
       "    <tr style=\"text-align: right;\">\n",
       "      <th></th>\n",
       "      <th>Name</th>\n",
       "      <th>Height</th>\n",
       "      <th>Qualification</th>\n",
       "      <th>Age</th>\n",
       "    </tr>\n",
       "  </thead>\n",
       "  <tbody>\n",
       "    <tr>\n",
       "      <th>0</th>\n",
       "      <td>Jai</td>\n",
       "      <td>5.1</td>\n",
       "      <td>Msc</td>\n",
       "      <td>21</td>\n",
       "    </tr>\n",
       "    <tr>\n",
       "      <th>1</th>\n",
       "      <td>Princi</td>\n",
       "      <td>6.2</td>\n",
       "      <td>MA</td>\n",
       "      <td>23</td>\n",
       "    </tr>\n",
       "    <tr>\n",
       "      <th>2</th>\n",
       "      <td>Gaurav</td>\n",
       "      <td>5.1</td>\n",
       "      <td>Msc</td>\n",
       "      <td>24</td>\n",
       "    </tr>\n",
       "    <tr>\n",
       "      <th>3</th>\n",
       "      <td>Anuj</td>\n",
       "      <td>5.2</td>\n",
       "      <td>Msc</td>\n",
       "      <td>21</td>\n",
       "    </tr>\n",
       "  </tbody>\n",
       "</table>\n",
       "</div>"
      ],
      "text/plain": [
       "     Name  Height Qualification  Age\n",
       "0     Jai     5.1           Msc   21\n",
       "1  Princi     6.2            MA   23\n",
       "2  Gaurav     5.1           Msc   24\n",
       "3    Anuj     5.2           Msc   21"
      ]
     },
     "execution_count": 70,
     "metadata": {},
     "output_type": "execute_result"
    }
   ],
   "source": [
    "# Import pandas package\n",
    "import pandas as pd\n",
    "\n",
    "# Define a dictionary containing Students data\n",
    "data = {'Name': ['Jai', 'Princi', 'Gaurav', 'Anuj'],\n",
    "\t\t'Height': [5.1, 6.2, 5.1, 5.2],\n",
    "\t\t'Qualification': ['Msc', 'MA', 'Msc', 'Msc']}\n",
    "\n",
    "# Convert the dictionary into DataFrame\n",
    "df = pd.DataFrame(data)\n",
    "\n",
    "# Using DataFrame.insert() to add a column\n",
    "df.insert(3, \"Age\", [21, 23, 24, 21], True)   # the specified number is the position for insertion \n",
    "\n",
    "# Observe the result\n",
    "df\n"
   ]
  },
  {
   "cell_type": "code",
   "execution_count": 71,
   "id": "c0c8eb20",
   "metadata": {},
   "outputs": [
    {
     "data": {
      "text/html": [
       "<div>\n",
       "<style scoped>\n",
       "    .dataframe tbody tr th:only-of-type {\n",
       "        vertical-align: middle;\n",
       "    }\n",
       "\n",
       "    .dataframe tbody tr th {\n",
       "        vertical-align: top;\n",
       "    }\n",
       "\n",
       "    .dataframe thead th {\n",
       "        text-align: right;\n",
       "    }\n",
       "</style>\n",
       "<table border=\"1\" class=\"dataframe\">\n",
       "  <thead>\n",
       "    <tr style=\"text-align: right;\">\n",
       "      <th></th>\n",
       "      <th>Name</th>\n",
       "      <th>Height</th>\n",
       "      <th>Qualification</th>\n",
       "      <th>address</th>\n",
       "    </tr>\n",
       "  </thead>\n",
       "  <tbody>\n",
       "    <tr>\n",
       "      <th>0</th>\n",
       "      <td>Jai</td>\n",
       "      <td>5.1</td>\n",
       "      <td>Msc</td>\n",
       "      <td>Delhi</td>\n",
       "    </tr>\n",
       "    <tr>\n",
       "      <th>1</th>\n",
       "      <td>Princi</td>\n",
       "      <td>6.2</td>\n",
       "      <td>MA</td>\n",
       "      <td>Bangalore</td>\n",
       "    </tr>\n",
       "    <tr>\n",
       "      <th>2</th>\n",
       "      <td>Gaurav</td>\n",
       "      <td>5.1</td>\n",
       "      <td>Msc</td>\n",
       "      <td>Chennai</td>\n",
       "    </tr>\n",
       "    <tr>\n",
       "      <th>3</th>\n",
       "      <td>Anuj</td>\n",
       "      <td>5.2</td>\n",
       "      <td>Msc</td>\n",
       "      <td>Patna</td>\n",
       "    </tr>\n",
       "  </tbody>\n",
       "</table>\n",
       "</div>"
      ],
      "text/plain": [
       "     Name  Height Qualification    address\n",
       "0     Jai     5.1           Msc      Delhi\n",
       "1  Princi     6.2            MA  Bangalore\n",
       "2  Gaurav     5.1           Msc    Chennai\n",
       "3    Anuj     5.2           Msc      Patna"
      ]
     },
     "execution_count": 71,
     "metadata": {},
     "output_type": "execute_result"
    }
   ],
   "source": [
    "# Import pandas package\n",
    "import pandas as pd\n",
    "\n",
    "# Define a dictionary containing Students data\n",
    "data = {'Name': ['Jai', 'Princi', 'Gaurav', 'Anuj'],\n",
    "\t\t'Height': [5.1, 6.2, 5.1, 5.2],\n",
    "\t\t'Qualification': ['Msc', 'MA', 'Msc', 'Msc']}\n",
    "\n",
    "\n",
    "# Convert the dictionary into DataFrame\n",
    "df = pd.DataFrame(data)\n",
    "\n",
    "# Using 'Address' as the column name and equating it to the list\n",
    "df2 = df.assign(address = ['Delhi', 'Bangalore', 'Chennai', 'Patna'])\n",
    "\n",
    "# Observe the result\n",
    "df2\n"
   ]
  },
  {
   "cell_type": "code",
   "execution_count": 72,
   "id": "282d23cb",
   "metadata": {},
   "outputs": [
    {
     "data": {
      "text/html": [
       "<div>\n",
       "<style scoped>\n",
       "    .dataframe tbody tr th:only-of-type {\n",
       "        vertical-align: middle;\n",
       "    }\n",
       "\n",
       "    .dataframe tbody tr th {\n",
       "        vertical-align: top;\n",
       "    }\n",
       "\n",
       "    .dataframe thead th {\n",
       "        text-align: right;\n",
       "    }\n",
       "</style>\n",
       "<table border=\"1\" class=\"dataframe\">\n",
       "  <thead>\n",
       "    <tr style=\"text-align: right;\">\n",
       "      <th></th>\n",
       "      <th>Name</th>\n",
       "      <th>Height</th>\n",
       "      <th>Qualification</th>\n",
       "      <th>Address</th>\n",
       "    </tr>\n",
       "  </thead>\n",
       "  <tbody>\n",
       "    <tr>\n",
       "      <th>0</th>\n",
       "      <td>Jai</td>\n",
       "      <td>5.1</td>\n",
       "      <td>Msc</td>\n",
       "      <td>Delhi</td>\n",
       "    </tr>\n",
       "    <tr>\n",
       "      <th>1</th>\n",
       "      <td>Princi</td>\n",
       "      <td>6.2</td>\n",
       "      <td>MA</td>\n",
       "      <td>Bangalore</td>\n",
       "    </tr>\n",
       "    <tr>\n",
       "      <th>2</th>\n",
       "      <td>Gaurav</td>\n",
       "      <td>5.1</td>\n",
       "      <td>Msc</td>\n",
       "      <td>Patna</td>\n",
       "    </tr>\n",
       "    <tr>\n",
       "      <th>3</th>\n",
       "      <td>Anuj</td>\n",
       "      <td>5.2</td>\n",
       "      <td>Msc</td>\n",
       "      <td>Chennai</td>\n",
       "    </tr>\n",
       "  </tbody>\n",
       "</table>\n",
       "</div>"
      ],
      "text/plain": [
       "     Name  Height Qualification    Address\n",
       "0     Jai     5.1           Msc      Delhi\n",
       "1  Princi     6.2            MA  Bangalore\n",
       "2  Gaurav     5.1           Msc      Patna\n",
       "3    Anuj     5.2           Msc    Chennai"
      ]
     },
     "execution_count": 72,
     "metadata": {},
     "output_type": "execute_result"
    }
   ],
   "source": [
    "# Import pandas package\n",
    "import pandas as pd\n",
    "\n",
    "# Define a dictionary containing Students data\n",
    "data = {'Name': ['Jai', 'Princi', 'Gaurav', 'Anuj'],\n",
    "\t\t'Height': [5.1, 6.2, 5.1, 5.2],\n",
    "\t\t'Qualification': ['Msc', 'MA', 'Msc', 'Msc']}\n",
    "\n",
    "# Define a dictionary with key values of\n",
    "# an existing column and their respective\n",
    "# value pairs as the # values for our new column.\n",
    "address = {'Delhi': 'Jai', 'Bangalore': 'Princi',\n",
    "\t\t'Patna': 'Gaurav', 'Chennai': 'Anuj'}\n",
    "\n",
    "# Convert the dictionary into DataFrame\n",
    "df = pd.DataFrame(data)\n",
    "\n",
    "# Provide 'Address' as the column name\n",
    "df['Address'] = address\n",
    "\n",
    "# Observe the output\n",
    "df\n"
   ]
  },
  {
   "cell_type": "markdown",
   "id": "19bc1f68",
   "metadata": {},
   "source": [
    "syntax = np.where(condition, value if condition is true, value if condition is false)"
   ]
  },
  {
   "cell_type": "code",
   "execution_count": 76,
   "id": "d495aa45",
   "metadata": {},
   "outputs": [
    {
     "data": {
      "text/html": [
       "<div>\n",
       "<style scoped>\n",
       "    .dataframe tbody tr th:only-of-type {\n",
       "        vertical-align: middle;\n",
       "    }\n",
       "\n",
       "    .dataframe tbody tr th {\n",
       "        vertical-align: top;\n",
       "    }\n",
       "\n",
       "    .dataframe thead th {\n",
       "        text-align: right;\n",
       "    }\n",
       "</style>\n",
       "<table border=\"1\" class=\"dataframe\">\n",
       "  <thead>\n",
       "    <tr style=\"text-align: right;\">\n",
       "      <th></th>\n",
       "      <th>a</th>\n",
       "      <th>b</th>\n",
       "      <th>c</th>\n",
       "    </tr>\n",
       "  </thead>\n",
       "  <tbody>\n",
       "    <tr>\n",
       "      <th>0</th>\n",
       "      <td>1</td>\n",
       "      <td>2</td>\n",
       "      <td>-1</td>\n",
       "    </tr>\n",
       "    <tr>\n",
       "      <th>1</th>\n",
       "      <td>2</td>\n",
       "      <td>4</td>\n",
       "      <td>-1</td>\n",
       "    </tr>\n",
       "    <tr>\n",
       "      <th>2</th>\n",
       "      <td>3</td>\n",
       "      <td>3</td>\n",
       "      <td>0</td>\n",
       "    </tr>\n",
       "  </tbody>\n",
       "</table>\n",
       "</div>"
      ],
      "text/plain": [
       "   a  b  c\n",
       "0  1  2 -1\n",
       "1  2  4 -1\n",
       "2  3  3  0"
      ]
     },
     "execution_count": 76,
     "metadata": {},
     "output_type": "execute_result"
    }
   ],
   "source": [
    "import pandas as pd\n",
    "import numpy as np\n",
    "\n",
    "df = pd.DataFrame({\"a\": [1,2,3], \"b\":[2,4,3]})\n",
    "df\n",
    "\n",
    "def f(row):\n",
    "    if row['a'] == row['b']:\n",
    "        val = 0\n",
    "    elif row['a'] > row['b']:\n",
    "        val = 1\n",
    "    else:\n",
    "        val = -1\n",
    "    return val\n",
    "\n",
    "#Then apply it to your dataframe passing in the axis=1 option:\n",
    "\n",
    "df['c'] = df.apply(f, axis=1)\n",
    "df"
   ]
  },
  {
   "cell_type": "code",
   "execution_count": 82,
   "id": "e46631bb",
   "metadata": {},
   "outputs": [
    {
     "data": {
      "text/html": [
       "<div>\n",
       "<style scoped>\n",
       "    .dataframe tbody tr th:only-of-type {\n",
       "        vertical-align: middle;\n",
       "    }\n",
       "\n",
       "    .dataframe tbody tr th {\n",
       "        vertical-align: top;\n",
       "    }\n",
       "\n",
       "    .dataframe thead th {\n",
       "        text-align: right;\n",
       "    }\n",
       "</style>\n",
       "<table border=\"1\" class=\"dataframe\">\n",
       "  <thead>\n",
       "    <tr style=\"text-align: right;\">\n",
       "      <th></th>\n",
       "      <th>a</th>\n",
       "      <th>b</th>\n",
       "      <th>c</th>\n",
       "    </tr>\n",
       "  </thead>\n",
       "  <tbody>\n",
       "    <tr>\n",
       "      <th>0</th>\n",
       "      <td>1</td>\n",
       "      <td>2</td>\n",
       "      <td>-1</td>\n",
       "    </tr>\n",
       "    <tr>\n",
       "      <th>1</th>\n",
       "      <td>2</td>\n",
       "      <td>4</td>\n",
       "      <td>-1</td>\n",
       "    </tr>\n",
       "    <tr>\n",
       "      <th>2</th>\n",
       "      <td>3</td>\n",
       "      <td>3</td>\n",
       "      <td>0</td>\n",
       "    </tr>\n",
       "  </tbody>\n",
       "</table>\n",
       "</div>"
      ],
      "text/plain": [
       "   a  b  c\n",
       "0  1  2 -1\n",
       "1  2  4 -1\n",
       "2  3  3  0"
      ]
     },
     "execution_count": 82,
     "metadata": {},
     "output_type": "execute_result"
    }
   ],
   "source": [
    "import pandas as pd\n",
    "import numpy as np\n",
    "\n",
    "df = pd.DataFrame({\"a\": [1,2,3], \"b\":[2,4,3]})\n",
    "df\n",
    "\n",
    "df['c'] = np.where(df['a'] == df['b'], 0, np.where(df['a'] >  df['b'], 1, -1)) \n",
    "df"
   ]
  },
  {
   "cell_type": "code",
   "execution_count": 88,
   "id": "736f16b8",
   "metadata": {},
   "outputs": [
    {
     "data": {
      "text/html": [
       "<div>\n",
       "<style scoped>\n",
       "    .dataframe tbody tr th:only-of-type {\n",
       "        vertical-align: middle;\n",
       "    }\n",
       "\n",
       "    .dataframe tbody tr th {\n",
       "        vertical-align: top;\n",
       "    }\n",
       "\n",
       "    .dataframe thead th {\n",
       "        text-align: right;\n",
       "    }\n",
       "</style>\n",
       "<table border=\"1\" class=\"dataframe\">\n",
       "  <thead>\n",
       "    <tr style=\"text-align: right;\">\n",
       "      <th></th>\n",
       "      <th>A</th>\n",
       "      <th>B</th>\n",
       "      <th>C</th>\n",
       "    </tr>\n",
       "  </thead>\n",
       "  <tbody>\n",
       "    <tr>\n",
       "      <th>0</th>\n",
       "      <td>1</td>\n",
       "      <td>2</td>\n",
       "      <td>-1.0</td>\n",
       "    </tr>\n",
       "    <tr>\n",
       "      <th>1</th>\n",
       "      <td>2</td>\n",
       "      <td>4</td>\n",
       "      <td>-1.0</td>\n",
       "    </tr>\n",
       "    <tr>\n",
       "      <th>2</th>\n",
       "      <td>3</td>\n",
       "      <td>3</td>\n",
       "      <td>0.0</td>\n",
       "    </tr>\n",
       "  </tbody>\n",
       "</table>\n",
       "</div>"
      ],
      "text/plain": [
       "   A  B    C\n",
       "0  1  2 -1.0\n",
       "1  2  4 -1.0\n",
       "2  3  3  0.0"
      ]
     },
     "execution_count": 88,
     "metadata": {},
     "output_type": "execute_result"
    }
   ],
   "source": [
    "import pandas as pd\n",
    "import numpy as np\n",
    "\n",
    "df = pd.DataFrame({\"A\": [1,2,3], \"B\":[2,4,3]})\n",
    "df\n",
    "\n",
    "df.loc[df['A'] == df['B'], 'C'] = 0\n",
    "df.loc[df['A'] > df['B'], 'C'] = 1\n",
    "df.loc[df['A'] < df['B'], 'C'] = -1\n",
    "\n",
    "df"
   ]
  },
  {
   "cell_type": "markdown",
   "id": "a1cf9f1f",
   "metadata": {},
   "source": [
    "How to Drop Rows that Contain a Specific String in Pandas?\n",
    "In this article, we are going to see how to drop rows that contain a specific string in pandas. \n",
    "Now, to drop the rows with a specific string we can use the contains() function from the pandas library. \n",
    "\n",
    "Syntax: series.str.contains(string, case=True, flags=0, na=None, regex=True\n",
    "Returns: Series or index of Boolean Values\n",
    "\n",
    "Basically, this function will search for the string in the given column and returns the rows respective to that. \n",
    "For this, we need to create a new data frame by filtering the data frame using this function. \n",
    "\n",
    "Syntax: df[ df[ “column” ].str.contains( “someString” )==False ]                         "
   ]
  },
  {
   "cell_type": "code",
   "execution_count": 90,
   "id": "ad64f5ac",
   "metadata": {},
   "outputs": [
    {
     "data": {
      "text/html": [
       "<div>\n",
       "<style scoped>\n",
       "    .dataframe tbody tr th:only-of-type {\n",
       "        vertical-align: middle;\n",
       "    }\n",
       "\n",
       "    .dataframe tbody tr th {\n",
       "        vertical-align: top;\n",
       "    }\n",
       "\n",
       "    .dataframe thead th {\n",
       "        text-align: right;\n",
       "    }\n",
       "</style>\n",
       "<table border=\"1\" class=\"dataframe\">\n",
       "  <thead>\n",
       "    <tr style=\"text-align: right;\">\n",
       "      <th></th>\n",
       "      <th>team</th>\n",
       "      <th>Subject</th>\n",
       "      <th>points</th>\n",
       "    </tr>\n",
       "  </thead>\n",
       "  <tbody>\n",
       "    <tr>\n",
       "      <th>0</th>\n",
       "      <td>Team 1</td>\n",
       "      <td>Math</td>\n",
       "      <td>10</td>\n",
       "    </tr>\n",
       "    <tr>\n",
       "      <th>1</th>\n",
       "      <td>Team 1</td>\n",
       "      <td>Science</td>\n",
       "      <td>8</td>\n",
       "    </tr>\n",
       "    <tr>\n",
       "      <th>2</th>\n",
       "      <td>Team 2</td>\n",
       "      <td>Science</td>\n",
       "      <td>10</td>\n",
       "    </tr>\n",
       "    <tr>\n",
       "      <th>3</th>\n",
       "      <td>Team 3</td>\n",
       "      <td>Math</td>\n",
       "      <td>6</td>\n",
       "    </tr>\n",
       "    <tr>\n",
       "      <th>4</th>\n",
       "      <td>Team 2</td>\n",
       "      <td>Science</td>\n",
       "      <td>6</td>\n",
       "    </tr>\n",
       "    <tr>\n",
       "      <th>5</th>\n",
       "      <td>Team 3</td>\n",
       "      <td>Math</td>\n",
       "      <td>5</td>\n",
       "    </tr>\n",
       "  </tbody>\n",
       "</table>\n",
       "</div>"
      ],
      "text/plain": [
       "     team  Subject  points\n",
       "0  Team 1     Math      10\n",
       "1  Team 1  Science       8\n",
       "2  Team 2  Science      10\n",
       "3  Team 3     Math       6\n",
       "4  Team 2  Science       6\n",
       "5  Team 3     Math       5"
      ]
     },
     "execution_count": 90,
     "metadata": {},
     "output_type": "execute_result"
    }
   ],
   "source": [
    "# Importing the library\n",
    "import pandas as pd\n",
    "\n",
    "# Dataframe\n",
    "df = pd.DataFrame({'team': ['Team 1', 'Team 1', 'Team 2',\n",
    "\t\t\t\t\t\t\t'Team 3', 'Team 2', 'Team 3'],\n",
    "\t\t\t\t'Subject': ['Math', 'Science', 'Science',\n",
    "\t\t\t\t\t\t\t'Math', 'Science', 'Math'],\n",
    "\t\t\t\t'points': [10, 8, 10, 6, 6, 5]})\n",
    "\n",
    "# display\n",
    "df\n"
   ]
  },
  {
   "cell_type": "markdown",
   "id": "8281fa12",
   "metadata": {},
   "source": [
    "Method 1: Dropping the rows that contain a specific string\n",
    "In this method, we are going to find the rows with str.contains() function which will basically take the string from the series and check for the match of the given string, \n",
    "and using a boolean we are selecting the rows and setting them to False will help us to neglect the selected rows and keep the remaining rows.\n",
    "\n",
    "syntax:  df[df[“column_name”].str.contains(“string”)==False]"
   ]
  },
  {
   "cell_type": "code",
   "execution_count": 91,
   "id": "0600de42",
   "metadata": {},
   "outputs": [
    {
     "data": {
      "text/html": [
       "<div>\n",
       "<style scoped>\n",
       "    .dataframe tbody tr th:only-of-type {\n",
       "        vertical-align: middle;\n",
       "    }\n",
       "\n",
       "    .dataframe tbody tr th {\n",
       "        vertical-align: top;\n",
       "    }\n",
       "\n",
       "    .dataframe thead th {\n",
       "        text-align: right;\n",
       "    }\n",
       "</style>\n",
       "<table border=\"1\" class=\"dataframe\">\n",
       "  <thead>\n",
       "    <tr style=\"text-align: right;\">\n",
       "      <th></th>\n",
       "      <th>team</th>\n",
       "      <th>Subject</th>\n",
       "      <th>points</th>\n",
       "    </tr>\n",
       "  </thead>\n",
       "  <tbody>\n",
       "    <tr>\n",
       "      <th>2</th>\n",
       "      <td>Team 2</td>\n",
       "      <td>Science</td>\n",
       "      <td>10</td>\n",
       "    </tr>\n",
       "    <tr>\n",
       "      <th>3</th>\n",
       "      <td>Team 3</td>\n",
       "      <td>Math</td>\n",
       "      <td>6</td>\n",
       "    </tr>\n",
       "    <tr>\n",
       "      <th>4</th>\n",
       "      <td>Team 2</td>\n",
       "      <td>Science</td>\n",
       "      <td>6</td>\n",
       "    </tr>\n",
       "    <tr>\n",
       "      <th>5</th>\n",
       "      <td>Team 3</td>\n",
       "      <td>Math</td>\n",
       "      <td>5</td>\n",
       "    </tr>\n",
       "  </tbody>\n",
       "</table>\n",
       "</div>"
      ],
      "text/plain": [
       "     team  Subject  points\n",
       "2  Team 2  Science      10\n",
       "3  Team 3     Math       6\n",
       "4  Team 2  Science       6\n",
       "5  Team 3     Math       5"
      ]
     },
     "execution_count": 91,
     "metadata": {},
     "output_type": "execute_result"
    }
   ],
   "source": [
    "#Example: In the following example, we are going to select all the teams except  “Team 1”.\n",
    "\n",
    "# importing the library\n",
    "import pandas as pd\n",
    "  \n",
    "# Dataframe\n",
    "df = pd.DataFrame({'team': ['Team 1', 'Team 1', 'Team 2',\n",
    "                            'Team 3', 'Team 2', 'Team 3'],\n",
    "                   'Subject': ['Math', 'Science', 'Science', \n",
    "                               'Math', 'Science', 'Math'],\n",
    "                   'points': [10, 8, 10, 6, 6, 5]})\n",
    "  \n",
    "# Dropping the team 1\n",
    "df = df[df[\"team\"].str.contains(\"Team 1\") == False]\n",
    "  \n",
    "df\n"
   ]
  },
  {
   "cell_type": "markdown",
   "id": "6c03a8d5",
   "metadata": {},
   "source": [
    "Method 2: Dropping the rows with more than one string\n",
    "Same as method 1, we follow the same steps here but with a bitwise or operator to add an extra string to search for.\n",
    "\n",
    "syntax: df = df[df[“column_name”].str.contains(“string1|string2”)==False]"
   ]
  },
  {
   "cell_type": "code",
   "execution_count": 92,
   "id": "dad3c5cb",
   "metadata": {},
   "outputs": [
    {
     "data": {
      "text/html": [
       "<div>\n",
       "<style scoped>\n",
       "    .dataframe tbody tr th:only-of-type {\n",
       "        vertical-align: middle;\n",
       "    }\n",
       "\n",
       "    .dataframe tbody tr th {\n",
       "        vertical-align: top;\n",
       "    }\n",
       "\n",
       "    .dataframe thead th {\n",
       "        text-align: right;\n",
       "    }\n",
       "</style>\n",
       "<table border=\"1\" class=\"dataframe\">\n",
       "  <thead>\n",
       "    <tr style=\"text-align: right;\">\n",
       "      <th></th>\n",
       "      <th>team</th>\n",
       "      <th>Subject</th>\n",
       "      <th>points</th>\n",
       "    </tr>\n",
       "  </thead>\n",
       "  <tbody>\n",
       "    <tr>\n",
       "      <th>3</th>\n",
       "      <td>Team 3</td>\n",
       "      <td>Math</td>\n",
       "      <td>6</td>\n",
       "    </tr>\n",
       "    <tr>\n",
       "      <th>5</th>\n",
       "      <td>Team 3</td>\n",
       "      <td>Math</td>\n",
       "      <td>5</td>\n",
       "    </tr>\n",
       "  </tbody>\n",
       "</table>\n",
       "</div>"
      ],
      "text/plain": [
       "     team Subject  points\n",
       "3  Team 3    Math       6\n",
       "5  Team 3    Math       5"
      ]
     },
     "execution_count": 92,
     "metadata": {},
     "output_type": "execute_result"
    }
   ],
   "source": [
    "# Example: In the following, program we are going to drop the rows that contain “Team 1” or “Team 2”.\n",
    "\n",
    "# importing the library\n",
    "import pandas as pd\n",
    "  \n",
    "# Dataframe\n",
    "df = pd.DataFrame({'team': ['Team 1', 'Team 1', 'Team 2', \n",
    "                            'Team 3', 'Team 2', 'Team 3'],\n",
    "                   'Subject': ['Math', 'Science', 'Science', \n",
    "                               'Math', 'Science', 'Math'],\n",
    "                   'points': [10, 8, 10, 6, 6, 5]})\n",
    "  \n",
    "# Dropping the rows of team 1 and team 2\n",
    "df = df[df[\"team\"].str.contains(\"Team 1|Team 2\") == False]\n",
    "  \n",
    "# display\n",
    "df"
   ]
  },
  {
   "cell_type": "markdown",
   "id": "f5b390e1",
   "metadata": {},
   "source": [
    "Method 3: Drop rows with the given partial string\n",
    "Here we are using the same function with a join method that carries the part of the word we need to search. \n",
    "\n",
    "syntax: \n",
    "\n",
    " df[ ~df.column_name.str.contains(‘|’.join([“string”])) ]"
   ]
  },
  {
   "cell_type": "code",
   "execution_count": 93,
   "id": "32be8a1a",
   "metadata": {},
   "outputs": [
    {
     "data": {
      "text/html": [
       "<div>\n",
       "<style scoped>\n",
       "    .dataframe tbody tr th:only-of-type {\n",
       "        vertical-align: middle;\n",
       "    }\n",
       "\n",
       "    .dataframe tbody tr th {\n",
       "        vertical-align: top;\n",
       "    }\n",
       "\n",
       "    .dataframe thead th {\n",
       "        text-align: right;\n",
       "    }\n",
       "</style>\n",
       "<table border=\"1\" class=\"dataframe\">\n",
       "  <thead>\n",
       "    <tr style=\"text-align: right;\">\n",
       "      <th></th>\n",
       "      <th>team</th>\n",
       "      <th>Subject</th>\n",
       "      <th>points</th>\n",
       "    </tr>\n",
       "  </thead>\n",
       "  <tbody>\n",
       "    <tr>\n",
       "      <th>0</th>\n",
       "      <td>Team 1</td>\n",
       "      <td>Math</td>\n",
       "      <td>10</td>\n",
       "    </tr>\n",
       "    <tr>\n",
       "      <th>1</th>\n",
       "      <td>Team 1</td>\n",
       "      <td>Science</td>\n",
       "      <td>8</td>\n",
       "    </tr>\n",
       "    <tr>\n",
       "      <th>2</th>\n",
       "      <td>Team 2</td>\n",
       "      <td>Science</td>\n",
       "      <td>10</td>\n",
       "    </tr>\n",
       "    <tr>\n",
       "      <th>3</th>\n",
       "      <td>Team 3</td>\n",
       "      <td>Math</td>\n",
       "      <td>6</td>\n",
       "    </tr>\n",
       "    <tr>\n",
       "      <th>4</th>\n",
       "      <td>Team 2</td>\n",
       "      <td>Science</td>\n",
       "      <td>6</td>\n",
       "    </tr>\n",
       "    <tr>\n",
       "      <th>5</th>\n",
       "      <td>Team 3</td>\n",
       "      <td>Math</td>\n",
       "      <td>5</td>\n",
       "    </tr>\n",
       "  </tbody>\n",
       "</table>\n",
       "</div>"
      ],
      "text/plain": [
       "     team  Subject  points\n",
       "0  Team 1     Math      10\n",
       "1  Team 1  Science       8\n",
       "2  Team 2  Science      10\n",
       "3  Team 3     Math       6\n",
       "4  Team 2  Science       6\n",
       "5  Team 3     Math       5"
      ]
     },
     "execution_count": 93,
     "metadata": {},
     "output_type": "execute_result"
    }
   ],
   "source": [
    "#Example: In this following program, the situation is different from the above two cases. \n",
    "#Here we are going to select and drop the rows with the given partial string. \n",
    "#For example, we are going to drop the rows with “Sci” on the column subjects.\n",
    "\n",
    "# importing the library\n",
    "import pandas as pd\n",
    "  \n",
    "# Dataframe\n",
    "df = pd.DataFrame({'team': ['Team 1', 'Team 1', 'Team 2', \n",
    "                            'Team 3', 'Team 2', 'Team 3'],\n",
    "                   'Subject': ['Math', 'Science', 'Science',\n",
    "                               'Math', 'Science', 'Math'],\n",
    "                   'points': [10, 8, 10, 6, 6, 5]})\n",
    "  \n",
    "# Dropping the rows with \"Sci\"\n",
    "# identify partial string\n",
    "discard = [\"Sci\"]\n",
    "  \n",
    "# drop rows that contain the partial string \"Sci\"\n",
    "df[~df.Subject.str.contains('|'.join(discard))]\n",
    "  \n",
    "#display\n",
    "df"
   ]
  },
  {
   "cell_type": "code",
   "execution_count": 95,
   "id": "be5dc43a",
   "metadata": {
    "scrolled": true
   },
   "outputs": [
    {
     "data": {
      "text/html": [
       "<div>\n",
       "<style scoped>\n",
       "    .dataframe tbody tr th:only-of-type {\n",
       "        vertical-align: middle;\n",
       "    }\n",
       "\n",
       "    .dataframe tbody tr th {\n",
       "        vertical-align: top;\n",
       "    }\n",
       "\n",
       "    .dataframe thead th {\n",
       "        text-align: right;\n",
       "    }\n",
       "</style>\n",
       "<table border=\"1\" class=\"dataframe\">\n",
       "  <thead>\n",
       "    <tr style=\"text-align: right;\">\n",
       "      <th></th>\n",
       "      <th>values_1</th>\n",
       "      <th>values_2</th>\n",
       "    </tr>\n",
       "  </thead>\n",
       "  <tbody>\n",
       "    <tr>\n",
       "      <th>0</th>\n",
       "      <td>700</td>\n",
       "      <td>DDD</td>\n",
       "    </tr>\n",
       "    <tr>\n",
       "      <th>1</th>\n",
       "      <td>ABC</td>\n",
       "      <td>150</td>\n",
       "    </tr>\n",
       "    <tr>\n",
       "      <th>2</th>\n",
       "      <td>500</td>\n",
       "      <td>350</td>\n",
       "    </tr>\n",
       "    <tr>\n",
       "      <th>3</th>\n",
       "      <td>XYZ</td>\n",
       "      <td>400</td>\n",
       "    </tr>\n",
       "    <tr>\n",
       "      <th>4</th>\n",
       "      <td>1200</td>\n",
       "      <td>5000</td>\n",
       "    </tr>\n",
       "  </tbody>\n",
       "</table>\n",
       "</div>"
      ],
      "text/plain": [
       "  values_1 values_2\n",
       "0      700      DDD\n",
       "1      ABC      150\n",
       "2      500      350\n",
       "3      XYZ      400\n",
       "4     1200     5000"
      ]
     },
     "execution_count": 95,
     "metadata": {},
     "output_type": "execute_result"
    }
   ],
   "source": [
    "#Steps to Drop Rows with NaN Values in Pandas DataFrame\n",
    "#Step 1: Create a DataFrame with NaN Values\n",
    "\n",
    "import pandas as pd\n",
    "\n",
    "df = pd.DataFrame({'values_1': ['700','ABC','500','XYZ','1200'],\n",
    "                   'values_2': ['DDD','150','350','400','5000'] \n",
    "                   })\n",
    "df"
   ]
  },
  {
   "cell_type": "code",
   "execution_count": 97,
   "id": "a8516e2d",
   "metadata": {},
   "outputs": [
    {
     "data": {
      "text/html": [
       "<div>\n",
       "<style scoped>\n",
       "    .dataframe tbody tr th:only-of-type {\n",
       "        vertical-align: middle;\n",
       "    }\n",
       "\n",
       "    .dataframe tbody tr th {\n",
       "        vertical-align: top;\n",
       "    }\n",
       "\n",
       "    .dataframe thead th {\n",
       "        text-align: right;\n",
       "    }\n",
       "</style>\n",
       "<table border=\"1\" class=\"dataframe\">\n",
       "  <thead>\n",
       "    <tr style=\"text-align: right;\">\n",
       "      <th></th>\n",
       "      <th>values_1</th>\n",
       "      <th>values_2</th>\n",
       "    </tr>\n",
       "  </thead>\n",
       "  <tbody>\n",
       "    <tr>\n",
       "      <th>0</th>\n",
       "      <td>700.0</td>\n",
       "      <td>NaN</td>\n",
       "    </tr>\n",
       "    <tr>\n",
       "      <th>1</th>\n",
       "      <td>NaN</td>\n",
       "      <td>150.0</td>\n",
       "    </tr>\n",
       "    <tr>\n",
       "      <th>2</th>\n",
       "      <td>500.0</td>\n",
       "      <td>350.0</td>\n",
       "    </tr>\n",
       "    <tr>\n",
       "      <th>3</th>\n",
       "      <td>NaN</td>\n",
       "      <td>400.0</td>\n",
       "    </tr>\n",
       "    <tr>\n",
       "      <th>4</th>\n",
       "      <td>1200.0</td>\n",
       "      <td>5000.0</td>\n",
       "    </tr>\n",
       "  </tbody>\n",
       "</table>\n",
       "</div>"
      ],
      "text/plain": [
       "   values_1  values_2\n",
       "0     700.0       NaN\n",
       "1       NaN     150.0\n",
       "2     500.0     350.0\n",
       "3       NaN     400.0\n",
       "4    1200.0    5000.0"
      ]
     },
     "execution_count": 97,
     "metadata": {},
     "output_type": "execute_result"
    }
   ],
   "source": [
    "# You can then use to_numeric in order to convert the values in the dataset into a float format. \n",
    "#But since 3 of those values are non-numeric, you’ll get ‘NaN’ for those 3 values.\n",
    "\n",
    "#Here is the code that you may use to get the NaN values:\n",
    "\n",
    "import pandas as pd\n",
    "\n",
    "df = pd.DataFrame({'values_1': ['700','ABC','500','XYZ','1200'],\n",
    "                   'values_2': ['DDD','150','350','400','5000'] \n",
    "                   })\n",
    "\n",
    "df = df.apply (pd.to_numeric, errors='coerce')\n",
    "\n",
    "df"
   ]
  },
  {
   "cell_type": "code",
   "execution_count": 99,
   "id": "9ba2a654",
   "metadata": {},
   "outputs": [
    {
     "data": {
      "text/html": [
       "<div>\n",
       "<style scoped>\n",
       "    .dataframe tbody tr th:only-of-type {\n",
       "        vertical-align: middle;\n",
       "    }\n",
       "\n",
       "    .dataframe tbody tr th {\n",
       "        vertical-align: top;\n",
       "    }\n",
       "\n",
       "    .dataframe thead th {\n",
       "        text-align: right;\n",
       "    }\n",
       "</style>\n",
       "<table border=\"1\" class=\"dataframe\">\n",
       "  <thead>\n",
       "    <tr style=\"text-align: right;\">\n",
       "      <th></th>\n",
       "      <th>values_1</th>\n",
       "      <th>values_2</th>\n",
       "    </tr>\n",
       "  </thead>\n",
       "  <tbody>\n",
       "    <tr>\n",
       "      <th>2</th>\n",
       "      <td>500.0</td>\n",
       "      <td>350.0</td>\n",
       "    </tr>\n",
       "    <tr>\n",
       "      <th>4</th>\n",
       "      <td>1200.0</td>\n",
       "      <td>5000.0</td>\n",
       "    </tr>\n",
       "  </tbody>\n",
       "</table>\n",
       "</div>"
      ],
      "text/plain": [
       "   values_1  values_2\n",
       "2     500.0     350.0\n",
       "4    1200.0    5000.0"
      ]
     },
     "execution_count": 99,
     "metadata": {},
     "output_type": "execute_result"
    }
   ],
   "source": [
    "#Step 2: Drop the Rows with NaN Values in Pandas DataFrame\n",
    "#To drop all the rows with the NaN values, you may use df.dropna().\n",
    "\n",
    "#Here is the complete Python code to drop those rows with the NaN values:\n",
    "\n",
    "import pandas as pd\n",
    "\n",
    "df = pd.DataFrame({'values_1': ['700','ABC','500','XYZ','1200'],\n",
    "                   'values_2': ['DDD','150','350','400','5000'] \n",
    "                   })\n",
    "\n",
    "df = df.apply (pd.to_numeric, errors='coerce')\n",
    "df = df.dropna()\n",
    "\n",
    "df"
   ]
  },
  {
   "cell_type": "code",
   "execution_count": 101,
   "id": "c137d644",
   "metadata": {},
   "outputs": [
    {
     "data": {
      "text/html": [
       "<div>\n",
       "<style scoped>\n",
       "    .dataframe tbody tr th:only-of-type {\n",
       "        vertical-align: middle;\n",
       "    }\n",
       "\n",
       "    .dataframe tbody tr th {\n",
       "        vertical-align: top;\n",
       "    }\n",
       "\n",
       "    .dataframe thead th {\n",
       "        text-align: right;\n",
       "    }\n",
       "</style>\n",
       "<table border=\"1\" class=\"dataframe\">\n",
       "  <thead>\n",
       "    <tr style=\"text-align: right;\">\n",
       "      <th></th>\n",
       "      <th>values_1</th>\n",
       "      <th>values_2</th>\n",
       "    </tr>\n",
       "  </thead>\n",
       "  <tbody>\n",
       "    <tr>\n",
       "      <th>0</th>\n",
       "      <td>500.0</td>\n",
       "      <td>350.0</td>\n",
       "    </tr>\n",
       "    <tr>\n",
       "      <th>1</th>\n",
       "      <td>1200.0</td>\n",
       "      <td>5000.0</td>\n",
       "    </tr>\n",
       "  </tbody>\n",
       "</table>\n",
       "</div>"
      ],
      "text/plain": [
       "   values_1  values_2\n",
       "0     500.0     350.0\n",
       "1    1200.0    5000.0"
      ]
     },
     "execution_count": 101,
     "metadata": {},
     "output_type": "execute_result"
    }
   ],
   "source": [
    "#You may have noticed that those two rows no longer have a sequential index. \n",
    "#It is currently 2 and 4. You can then reset the index to start from 0.\n",
    "#You can apply the following syntax to reset an index in Pandas DataFrame:  df.reset_index(drop=True)\n",
    "\n",
    "#So this is the full Python code to drop the rows with the NaN values, and then reset the index:\n",
    "\n",
    "import pandas as pd\n",
    "\n",
    "df = pd.DataFrame({'values_1': ['700','ABC','500','XYZ','1200'],\n",
    "                   'values_2': ['DDD','150','350','400','5000'] \n",
    "                   })\n",
    "\n",
    "df = df.apply (pd.to_numeric, errors='coerce')\n",
    "df = df.dropna()\n",
    "df = df.reset_index(drop=True)\n",
    "\n",
    "df"
   ]
  },
  {
   "cell_type": "code",
   "execution_count": 106,
   "id": "4c12f2e5",
   "metadata": {},
   "outputs": [
    {
     "name": "stdout",
     "output_type": "stream",
     "text": [
      "Original DataFrames:\n",
      "  student_id              name  marks\n",
      "0         S1  Danniella Fenton    200\n",
      "1         S2      Ryder Storey    210\n",
      "2         S3      Bryce Jensen    190\n",
      "3         S4         Ed Bernal    222\n",
      "4         S5       Kwame Morin    199\n",
      "\n",
      "New Row(s)\n",
      "student_id                  S6\n",
      "name          Scarlette Fisher\n",
      "marks                      205\n",
      "dtype: object\n",
      "\n",
      "Combined Data:\n",
      "  student_id              name  marks\n",
      "0         S1  Danniella Fenton    200\n",
      "1         S2      Ryder Storey    210\n",
      "2         S3      Bryce Jensen    190\n",
      "3         S4         Ed Bernal    222\n",
      "4         S5       Kwame Morin    199\n",
      "5         S6  Scarlette Fisher    205\n"
     ]
    }
   ],
   "source": [
    "import pandas as pd\n",
    "student_data1 = pd.DataFrame({\n",
    "        'student_id': ['S1', 'S2', 'S3', 'S4', 'S5'],\n",
    "         'name': ['Danniella Fenton', 'Ryder Storey', 'Bryce Jensen', 'Ed Bernal', 'Kwame Morin'], \n",
    "        'marks': [200, 210, 190, 222, 199]})\n",
    "\n",
    "s6 = pd.Series(['S6', 'Scarlette Fisher', 205], index=['student_id', 'name', 'marks'])\n",
    "print(\"Original DataFrames:\")\n",
    "print(student_data1)\n",
    "print(\"\\nNew Row(s)\")\n",
    "print(s6)\n",
    "combined_data = student_data1.append(s6, ignore_index = True)\n",
    "print(\"\\nCombined Data:\")\n",
    "print(combined_data)\n"
   ]
  },
  {
   "cell_type": "code",
   "execution_count": 107,
   "id": "0e68119d",
   "metadata": {},
   "outputs": [
    {
     "name": "stdout",
     "output_type": "stream",
     "text": [
      "[2, 4, 6, 8]\n"
     ]
    }
   ],
   "source": [
    "#Converts a number to a list of digits:\n",
    "\n",
    "def tips_digit(n):\n",
    "    return list(map(int, str(n)))\n",
    "\n",
    "print(tips_digit(2468))"
   ]
  },
  {
   "cell_type": "markdown",
   "id": "042820b9",
   "metadata": {},
   "source": [
    "Python – Pandas dataframe.append()\n",
    "Syntax: DataFrame.append(other, ignore_index=False, verify_integrity=False, sort=None)\n",
    "\n",
    "Parameters :\n",
    "other : DataFrame or Series/dict-like object, or list of these\n",
    "ignore_index : If True, do not use the index labels.\n",
    "verify_integrity : If True, raise ValueError on creating index with duplicates.\n",
    "sort : Sort columns if the columns of self and other are not aligned. The default sorting is deprecated and will change to not-sorting in a future version of pandas. Explicitly pass sort=True to silence the warning and sort. Explicitly pass sort=False to silence the warning and not sort.\n",
    "\n",
    "Returns: appended : DataFrame"
   ]
  },
  {
   "cell_type": "code",
   "execution_count": 108,
   "id": "45930659",
   "metadata": {},
   "outputs": [
    {
     "name": "stdout",
     "output_type": "stream",
     "text": [
      "   a  b\n",
      "0  1  5\n",
      "1  2  6\n",
      "2  3  7\n",
      "3  4  8 \n",
      "\n"
     ]
    },
    {
     "data": {
      "text/html": [
       "<div>\n",
       "<style scoped>\n",
       "    .dataframe tbody tr th:only-of-type {\n",
       "        vertical-align: middle;\n",
       "    }\n",
       "\n",
       "    .dataframe tbody tr th {\n",
       "        vertical-align: top;\n",
       "    }\n",
       "\n",
       "    .dataframe thead th {\n",
       "        text-align: right;\n",
       "    }\n",
       "</style>\n",
       "<table border=\"1\" class=\"dataframe\">\n",
       "  <thead>\n",
       "    <tr style=\"text-align: right;\">\n",
       "      <th></th>\n",
       "      <th>a</th>\n",
       "      <th>b</th>\n",
       "    </tr>\n",
       "  </thead>\n",
       "  <tbody>\n",
       "    <tr>\n",
       "      <th>0</th>\n",
       "      <td>1</td>\n",
       "      <td>5</td>\n",
       "    </tr>\n",
       "    <tr>\n",
       "      <th>1</th>\n",
       "      <td>2</td>\n",
       "      <td>6</td>\n",
       "    </tr>\n",
       "    <tr>\n",
       "      <th>2</th>\n",
       "      <td>3</td>\n",
       "      <td>7</td>\n",
       "    </tr>\n",
       "  </tbody>\n",
       "</table>\n",
       "</div>"
      ],
      "text/plain": [
       "   a  b\n",
       "0  1  5\n",
       "1  2  6\n",
       "2  3  7"
      ]
     },
     "execution_count": 108,
     "metadata": {},
     "output_type": "execute_result"
    }
   ],
   "source": [
    "# Example #1: Create two data frames and append the second to the first one.\n",
    "\n",
    "# Importing pandas as pd\n",
    "import pandas as pd\n",
    "  \n",
    "# Creating the first Dataframe using dictionary\n",
    "df1 = df = pd.DataFrame({\"a\":[1, 2, 3, 4],\n",
    "                         \"b\":[5, 6, 7, 8]})\n",
    "  \n",
    "# Creating the Second Dataframe using dictionary\n",
    "df2 = pd.DataFrame({\"a\":[1, 2, 3],\n",
    "                    \"b\":[5, 6, 7]})\n",
    "  \n",
    "# Print df1\n",
    "print(df1, \"\\n\")\n",
    "  \n",
    "# Print df2\n",
    "df2"
   ]
  },
  {
   "cell_type": "code",
   "execution_count": 109,
   "id": "6652b338",
   "metadata": {},
   "outputs": [
    {
     "data": {
      "text/html": [
       "<div>\n",
       "<style scoped>\n",
       "    .dataframe tbody tr th:only-of-type {\n",
       "        vertical-align: middle;\n",
       "    }\n",
       "\n",
       "    .dataframe tbody tr th {\n",
       "        vertical-align: top;\n",
       "    }\n",
       "\n",
       "    .dataframe thead th {\n",
       "        text-align: right;\n",
       "    }\n",
       "</style>\n",
       "<table border=\"1\" class=\"dataframe\">\n",
       "  <thead>\n",
       "    <tr style=\"text-align: right;\">\n",
       "      <th></th>\n",
       "      <th>a</th>\n",
       "      <th>b</th>\n",
       "    </tr>\n",
       "  </thead>\n",
       "  <tbody>\n",
       "    <tr>\n",
       "      <th>0</th>\n",
       "      <td>1</td>\n",
       "      <td>5</td>\n",
       "    </tr>\n",
       "    <tr>\n",
       "      <th>1</th>\n",
       "      <td>2</td>\n",
       "      <td>6</td>\n",
       "    </tr>\n",
       "    <tr>\n",
       "      <th>2</th>\n",
       "      <td>3</td>\n",
       "      <td>7</td>\n",
       "    </tr>\n",
       "    <tr>\n",
       "      <th>3</th>\n",
       "      <td>4</td>\n",
       "      <td>8</td>\n",
       "    </tr>\n",
       "    <tr>\n",
       "      <th>0</th>\n",
       "      <td>1</td>\n",
       "      <td>5</td>\n",
       "    </tr>\n",
       "    <tr>\n",
       "      <th>1</th>\n",
       "      <td>2</td>\n",
       "      <td>6</td>\n",
       "    </tr>\n",
       "    <tr>\n",
       "      <th>2</th>\n",
       "      <td>3</td>\n",
       "      <td>7</td>\n",
       "    </tr>\n",
       "  </tbody>\n",
       "</table>\n",
       "</div>"
      ],
      "text/plain": [
       "   a  b\n",
       "0  1  5\n",
       "1  2  6\n",
       "2  3  7\n",
       "3  4  8\n",
       "0  1  5\n",
       "1  2  6\n",
       "2  3  7"
      ]
     },
     "execution_count": 109,
     "metadata": {},
     "output_type": "execute_result"
    }
   ],
   "source": [
    "# to append df2 at the end of df1 dataframe\n",
    "df1.append(df2)\n"
   ]
  },
  {
   "cell_type": "code",
   "execution_count": 110,
   "id": "e8ec5f02",
   "metadata": {},
   "outputs": [
    {
     "data": {
      "text/html": [
       "<div>\n",
       "<style scoped>\n",
       "    .dataframe tbody tr th:only-of-type {\n",
       "        vertical-align: middle;\n",
       "    }\n",
       "\n",
       "    .dataframe tbody tr th {\n",
       "        vertical-align: top;\n",
       "    }\n",
       "\n",
       "    .dataframe thead th {\n",
       "        text-align: right;\n",
       "    }\n",
       "</style>\n",
       "<table border=\"1\" class=\"dataframe\">\n",
       "  <thead>\n",
       "    <tr style=\"text-align: right;\">\n",
       "      <th></th>\n",
       "      <th>a</th>\n",
       "      <th>b</th>\n",
       "    </tr>\n",
       "  </thead>\n",
       "  <tbody>\n",
       "    <tr>\n",
       "      <th>0</th>\n",
       "      <td>1</td>\n",
       "      <td>5</td>\n",
       "    </tr>\n",
       "    <tr>\n",
       "      <th>1</th>\n",
       "      <td>2</td>\n",
       "      <td>6</td>\n",
       "    </tr>\n",
       "    <tr>\n",
       "      <th>2</th>\n",
       "      <td>3</td>\n",
       "      <td>7</td>\n",
       "    </tr>\n",
       "    <tr>\n",
       "      <th>3</th>\n",
       "      <td>4</td>\n",
       "      <td>8</td>\n",
       "    </tr>\n",
       "    <tr>\n",
       "      <th>4</th>\n",
       "      <td>1</td>\n",
       "      <td>5</td>\n",
       "    </tr>\n",
       "    <tr>\n",
       "      <th>5</th>\n",
       "      <td>2</td>\n",
       "      <td>6</td>\n",
       "    </tr>\n",
       "    <tr>\n",
       "      <th>6</th>\n",
       "      <td>3</td>\n",
       "      <td>7</td>\n",
       "    </tr>\n",
       "  </tbody>\n",
       "</table>\n",
       "</div>"
      ],
      "text/plain": [
       "   a  b\n",
       "0  1  5\n",
       "1  2  6\n",
       "2  3  7\n",
       "3  4  8\n",
       "4  1  5\n",
       "5  2  6\n",
       "6  3  7"
      ]
     },
     "execution_count": 110,
     "metadata": {},
     "output_type": "execute_result"
    }
   ],
   "source": [
    "# A continuous index value will be maintained\n",
    "# across the rows in the new appended data frame.\n",
    "df1.append(df2, ignore_index = True)\n"
   ]
  },
  {
   "cell_type": "code",
   "execution_count": 111,
   "id": "de13aeb0",
   "metadata": {},
   "outputs": [
    {
     "data": {
      "text/html": [
       "<div>\n",
       "<style scoped>\n",
       "    .dataframe tbody tr th:only-of-type {\n",
       "        vertical-align: middle;\n",
       "    }\n",
       "\n",
       "    .dataframe tbody tr th {\n",
       "        vertical-align: top;\n",
       "    }\n",
       "\n",
       "    .dataframe thead th {\n",
       "        text-align: right;\n",
       "    }\n",
       "</style>\n",
       "<table border=\"1\" class=\"dataframe\">\n",
       "  <thead>\n",
       "    <tr style=\"text-align: right;\">\n",
       "      <th></th>\n",
       "      <th>a</th>\n",
       "      <th>b</th>\n",
       "      <th>c</th>\n",
       "    </tr>\n",
       "  </thead>\n",
       "  <tbody>\n",
       "    <tr>\n",
       "      <th>0</th>\n",
       "      <td>1</td>\n",
       "      <td>5</td>\n",
       "      <td>NaN</td>\n",
       "    </tr>\n",
       "    <tr>\n",
       "      <th>1</th>\n",
       "      <td>2</td>\n",
       "      <td>6</td>\n",
       "      <td>NaN</td>\n",
       "    </tr>\n",
       "    <tr>\n",
       "      <th>2</th>\n",
       "      <td>3</td>\n",
       "      <td>7</td>\n",
       "      <td>NaN</td>\n",
       "    </tr>\n",
       "    <tr>\n",
       "      <th>3</th>\n",
       "      <td>4</td>\n",
       "      <td>8</td>\n",
       "      <td>NaN</td>\n",
       "    </tr>\n",
       "    <tr>\n",
       "      <th>4</th>\n",
       "      <td>1</td>\n",
       "      <td>5</td>\n",
       "      <td>1.0</td>\n",
       "    </tr>\n",
       "    <tr>\n",
       "      <th>5</th>\n",
       "      <td>2</td>\n",
       "      <td>6</td>\n",
       "      <td>5.0</td>\n",
       "    </tr>\n",
       "    <tr>\n",
       "      <th>6</th>\n",
       "      <td>3</td>\n",
       "      <td>7</td>\n",
       "      <td>4.0</td>\n",
       "    </tr>\n",
       "  </tbody>\n",
       "</table>\n",
       "</div>"
      ],
      "text/plain": [
       "   a  b    c\n",
       "0  1  5  NaN\n",
       "1  2  6  NaN\n",
       "2  3  7  NaN\n",
       "3  4  8  NaN\n",
       "4  1  5  1.0\n",
       "5  2  6  5.0\n",
       "6  3  7  4.0"
      ]
     },
     "execution_count": 111,
     "metadata": {},
     "output_type": "execute_result"
    }
   ],
   "source": [
    "#Example #2: Append dataframe of different shape.\n",
    "\n",
    "#For unequal no. of columns in the data frame, non-existent value in one of the dataframe will be filled with NaN values.\n",
    "\n",
    "# Importing pandas as pd\n",
    "import pandas as pd\n",
    "  \n",
    "# Creating the first Dataframe using dictionary\n",
    "df1 = pd.DataFrame({\"a\":[1, 2, 3, 4],\n",
    "                    \"b\":[5, 6, 7, 8]})\n",
    "  \n",
    "# Creating the Second Dataframe using dictionary\n",
    "df2 = pd.DataFrame({\"a\":[1, 2, 3],\n",
    "                    \"b\":[5, 6, 7], \n",
    "                    \"c\":[1, 5, 4]})\n",
    "  \n",
    "# for appending df2 at the end of df1\n",
    "df1.append(df2, ignore_index = True)"
   ]
  },
  {
   "cell_type": "code",
   "execution_count": 112,
   "id": "687aaac8",
   "metadata": {},
   "outputs": [
    {
     "name": "stdout",
     "output_type": "stream",
     "text": [
      "Original rows:\n",
      "        name  score  attempts qualify\n",
      "a  Anastasia   12.5         1     yes\n",
      "b       Dima    9.0         3      no\n",
      "c  Katherine   16.5         2     yes\n",
      "d      James    NaN         3      no\n",
      "e      Emily    9.0         2      no\n",
      "f    Michael   20.0         3     yes\n",
      "g    Matthew   14.5         1     yes\n",
      "h      Laura    NaN         1      no\n",
      "i      Kevin    8.0         2      no\n",
      "j      Jonas   19.0         1     yes\n",
      "\n",
      "Append a new row:\n",
      "Print all records after insert a new record:\n",
      "        name   score attempts qualify\n",
      "a  Anastasia    12.5        1     yes\n",
      "b       Dima     9.0        3      no\n",
      "c  Katherine    16.5        2     yes\n",
      "d      James     NaN        3      no\n",
      "e      Emily     9.0        2      no\n",
      "f    Michael    20.0        3     yes\n",
      "g    Matthew    14.5        1     yes\n",
      "h      Laura     NaN        1      no\n",
      "i      Kevin     8.0        2      no\n",
      "j      Jonas    19.0        1     yes\n",
      "k          1  Suresh      yes    15.5\n",
      "\n",
      "Delete the new row and display the original  rows:\n",
      "        name score attempts qualify\n",
      "a  Anastasia  12.5        1     yes\n",
      "b       Dima   9.0        3      no\n",
      "c  Katherine  16.5        2     yes\n",
      "d      James   NaN        3      no\n",
      "e      Emily   9.0        2      no\n",
      "f    Michael  20.0        3     yes\n",
      "g    Matthew  14.5        1     yes\n",
      "h      Laura   NaN        1      no\n",
      "i      Kevin   8.0        2      no\n",
      "j      Jonas  19.0        1     yes\n"
     ]
    }
   ],
   "source": [
    "import pandas as pd\n",
    "import numpy as np\n",
    "exam_data  = {'name': ['Anastasia', 'Dima', 'Katherine', 'James', 'Emily', 'Michael', 'Matthew', 'Laura', 'Kevin', 'Jonas'],\n",
    "        'score': [12.5, 9, 16.5, np.nan, 9, 20, 14.5, np.nan, 8, 19],\n",
    "        'attempts': [1, 3, 2, 3, 2, 3, 1, 1, 2, 1],\n",
    "        'qualify': ['yes', 'no', 'yes', 'no', 'no', 'yes', 'yes', 'no', 'no', 'yes']}\n",
    "labels = ['a', 'b', 'c', 'd', 'e', 'f', 'g', 'h', 'i', 'j']\n",
    "df = pd.DataFrame(exam_data , index=labels)\n",
    "print(\"Original rows:\")\n",
    "print(df)\n",
    "print(\"\\nAppend a new row:\")\n",
    "df.loc['k'] = [1, 'Suresh', 'yes', 15.5]\n",
    "print(\"Print all records after insert a new record:\")\n",
    "print(df)\n",
    "print(\"\\nDelete the new row and display the original  rows:\")\n",
    "df = df.drop('k')\n",
    "print(df)\n"
   ]
  },
  {
   "cell_type": "markdown",
   "id": "96a2e5c4",
   "metadata": {},
   "source": [
    "## CHECKPOINT 7 "
   ]
  },
  {
   "cell_type": "code",
   "execution_count": 122,
   "id": "4c23a5ab",
   "metadata": {},
   "outputs": [
    {
     "name": "stdout",
     "output_type": "stream",
     "text": [
      "Print the three first rows using head() method\n",
      "Delete rows with Nan values\n",
      "Extract the name and score columns from the DataFrame.\n",
      "Write a Pandas program to append a new row \"k\" to data frame\n",
      "Write a Pandas program to delete the \"attempts\" column from the DataFrame\n",
      "Add a new column \"Success\" : if the score is higher than 10 we will have 1 else we will have 0\n"
     ]
    },
    {
     "data": {
      "text/html": [
       "<div>\n",
       "<style scoped>\n",
       "    .dataframe tbody tr th:only-of-type {\n",
       "        vertical-align: middle;\n",
       "    }\n",
       "\n",
       "    .dataframe tbody tr th {\n",
       "        vertical-align: top;\n",
       "    }\n",
       "\n",
       "    .dataframe thead th {\n",
       "        text-align: right;\n",
       "    }\n",
       "</style>\n",
       "<table border=\"1\" class=\"dataframe\">\n",
       "  <thead>\n",
       "    <tr style=\"text-align: right;\">\n",
       "      <th></th>\n",
       "      <th>name</th>\n",
       "      <th>score</th>\n",
       "      <th>sucess</th>\n",
       "    </tr>\n",
       "  </thead>\n",
       "  <tbody>\n",
       "    <tr>\n",
       "      <th>0</th>\n",
       "      <td>Anastasia</td>\n",
       "      <td>12.5</td>\n",
       "      <td>1</td>\n",
       "    </tr>\n",
       "    <tr>\n",
       "      <th>1</th>\n",
       "      <td>Dima</td>\n",
       "      <td>9.0</td>\n",
       "      <td>0</td>\n",
       "    </tr>\n",
       "    <tr>\n",
       "      <th>2</th>\n",
       "      <td>Katherine</td>\n",
       "      <td>16.5</td>\n",
       "      <td>1</td>\n",
       "    </tr>\n",
       "    <tr>\n",
       "      <th>3</th>\n",
       "      <td>Suresh</td>\n",
       "      <td>15.5</td>\n",
       "      <td>1</td>\n",
       "    </tr>\n",
       "  </tbody>\n",
       "</table>\n",
       "</div>"
      ],
      "text/plain": [
       "        name  score  sucess\n",
       "0  Anastasia   12.5       1\n",
       "1       Dima    9.0       0\n",
       "2  Katherine   16.5       1\n",
       "3     Suresh   15.5       1"
      ]
     },
     "execution_count": 122,
     "metadata": {},
     "output_type": "execute_result"
    }
   ],
   "source": [
    "import pandas as pd\n",
    "import numpy as np\n",
    "\n",
    "exam_data = {'name': ['Anastasia', 'Dima', 'Katherine', 'James', 'Emily', 'Michael', 'Matthew', 'Laura', 'Kevin', 'Jonas'],\n",
    "'score': [12.5, 9, 16.5, np.nan, 9, 20, 14.5, np.nan, 8, 19],\n",
    "'attempts': [1, 3, 2, 3, 2, 3, 1, 1, 2, 1],\n",
    "'qualify': ['yes', 'no', 'yes', 'no', 'no', 'yes', 'yes', 'no', 'no', 'yes']}\n",
    "\n",
    "labels = ['a', 'b', 'c', 'd', 'e', 'f', 'g', 'h', 'i', 'j']\n",
    "\n",
    "df = pd.DataFrame(exam_data , index=labels)\n",
    "\n",
    "\n",
    "print ('Print the three first rows using head() method')\n",
    "Q1 = df.head(3)\n",
    "Q1\n",
    "\n",
    "print ('Delete rows with Nan values')\n",
    "Q2 = Q1.dropna()\n",
    "Q2\n",
    "\n",
    "print ('Extract the name and score columns from the DataFrame.')\n",
    "Q3 = Q2.iloc[:,0:2]\n",
    "Q3\n",
    "\n",
    "print ('Write a Pandas program to append a new row \"k\" to data frame')\n",
    "new_data = pd.DataFrame({ 'name' : [\"Suresh\"], \n",
    "                         'score': [15.5], \n",
    "                         'attempts': [1], \n",
    "                         'qualify': [\"yes\"] } )\n",
    "Q4 = Q3.append( {'name' : \"Suresh\", \n",
    "                'score': 15.5 } , ignore_index = True) \n",
    "Q4\n",
    "\n",
    "print ('Write a Pandas program to delete the \"attempts\" column from the DataFrame')\n",
    "del df['attempts']\n",
    "\n",
    "print ('Add a new column \"Success\" : if the score is higher than 10 we will have 1 else we will have 0')\n",
    "np.where(Q4.score > 10 , 1, 0)\n",
    "\n",
    "Q4['sucess'] = np.where( Q4['score']> 10 , 1, 0 )\n",
    "Q4\n",
    "\n"
   ]
  },
  {
   "cell_type": "code",
   "execution_count": 123,
   "id": "8f718a8a",
   "metadata": {},
   "outputs": [
    {
     "name": "stdout",
     "output_type": "stream",
     "text": [
      "After executing the final dataframe, export it into csv file named \"my_data\"\n"
     ]
    }
   ],
   "source": [
    "print ('After executing the final dataframe, export it into csv file named \"my_data\"')\n",
    "Q4.to_csv('my_data')"
   ]
  },
  {
   "cell_type": "markdown",
   "id": "34412741",
   "metadata": {},
   "source": [
    "Opening Files in Python\n",
    "\n",
    "Python has a built-in open() function to open a file. \n",
    "\n",
    "This function returns a file object, also called a handle, as it is used to read or modify the file accordingly.\n",
    "\n",
    "f = open(\"test.txt\")    # open file in current directory\n",
    "\n",
    "f = open(\"fullpath/test.txt\")  # specifying full path\n"
   ]
  },
  {
   "cell_type": "markdown",
   "id": "4fae0de7",
   "metadata": {},
   "source": [
    "Opening mode:\n",
    "\n",
    "We can specify the mode while opening a file. In mode, we specify whether we want to read r, write w or append a to the file. \n",
    "\n",
    "We can also specify if we want to open the file in text mode or binary mode.\n",
    "\n",
    "The default is reading in text mode. In this mode, we get strings when reading from the file.\n",
    "\n",
    "On the other hand, binary mode returns bytes and this is the mode to be used when dealing with non-text files like images or executable files."
   ]
  },
  {
   "cell_type": "markdown",
   "id": "b1ebd7b2",
   "metadata": {},
   "source": [
    "Mode\tDescription\n",
    "\n",
    "r\t Opens a file for reading\n",
    "\n",
    "w\tOpens a file for writing. Creates a new file if it does not exist or truncates the file if it exists.\n",
    "\n",
    "x\tOpens a file for exclusive creation. If the file already exists, the operation fails.\n",
    "\n",
    "a\tOpens a file for appending at the end of the file without truncating it\n",
    "\n",
    "t\tOpens in text mode.\n",
    "\n",
    "b\tOpens in binary mode.\n",
    "\n",
    "'+'\tOpens a file for updating. "
   ]
  },
  {
   "cell_type": "markdown",
   "id": "edd5442e",
   "metadata": {},
   "source": [
    "Reading Files in Python\n",
    "\n",
    "To read a file in Python, we must open the file in reading r mode.\n",
    "\n",
    "There are various methods available for this purpose. We can use the read(size) method to read in the size number of data.\n",
    "\n",
    "If the size parameter is not specified, it reads and returns up to the end of the file.\n",
    "\n",
    "We can read the text.txt file we wrote in the above section in the following way:\n",
    "\n",
    "f = open(\"test.txt\",'r',encoding = 'utf-8')\n",
    "\n",
    "f.read(4)    # read the first 4 data\n",
    "\n",
    "f.read(4)    # read the next 4 data\n",
    "\n",
    "f.read()     # read in the rest till end of file\n",
    "\n",
    "f.read()  # further reading returns empty sting\n",
    "\n",
    "We can see that the read() method returns a newline as '\\n'. Once the end of the file is reached, we get an empty string on further reading."
   ]
  },
  {
   "cell_type": "code",
   "execution_count": 139,
   "id": "f9512f41",
   "metadata": {},
   "outputs": [
    {
     "data": {
      "text/plain": [
       "'ye.\\nI'"
      ]
     },
     "execution_count": 139,
     "metadata": {},
     "output_type": "execute_result"
    }
   ],
   "source": [
    "f = open(\"test.txt\",'r',encoding = 'utf-8')\n",
    "f.read(6)    # read the first 4 data\n",
    "f.read(5)    # read the next 4 data"
   ]
  },
  {
   "cell_type": "code",
   "execution_count": 138,
   "id": "005330ea",
   "metadata": {},
   "outputs": [
    {
     "data": {
      "text/plain": [
       "''"
      ]
     },
     "execution_count": 138,
     "metadata": {},
     "output_type": "execute_result"
    }
   ],
   "source": [
    "f = open(\"test.txt\",'r')\n",
    "f.read()  # read in the rest till end of file\n",
    "f.read()  # further reading returns empty sting"
   ]
  },
  {
   "cell_type": "code",
   "execution_count": 148,
   "id": "9ea55e3d",
   "metadata": {},
   "outputs": [
    {
     "name": "stdout",
     "output_type": "stream",
     "text": [
      "I'm toye.\n",
      "I studied data analysis.\n",
      "My specialty is Python."
     ]
    }
   ],
   "source": [
    "#Reading file line by line\n",
    "#We can read a file line-by-line using a for loop. This is both efficient and fast.\n",
    "\n",
    "f = open(\"test.txt\",'r')\n",
    "for line in f:\n",
    "    print(line, end = \"\")"
   ]
  },
  {
   "cell_type": "code",
   "execution_count": 1,
   "id": "95e64882",
   "metadata": {},
   "outputs": [
    {
     "name": "stdout",
     "output_type": "stream",
     "text": [
      "I'm toye.\n",
      "\n",
      "['I studied data analysis.\\n', 'My specialty is Python.']\n"
     ]
    }
   ],
   "source": [
    "f = open(\"test.txt\",'r')\n",
    "\n",
    "#The readline() method reads the first line of the file.\n",
    "print(f.readline())\n",
    "\n",
    "#The readlines() method returns all lines in the file.\n",
    "print(f.readlines())"
   ]
  },
  {
   "cell_type": "code",
   "execution_count": 4,
   "id": "89a27b80",
   "metadata": {},
   "outputs": [
    {
     "name": "stdout",
     "output_type": "stream",
     "text": [
      "I'm toye.\n",
      "\n",
      "I studied data analysis.\n",
      "\n"
     ]
    }
   ],
   "source": [
    "f = open(\"test.txt\",'r')\n",
    "line_no = 2\n",
    "\n",
    "for i in range(line_no):\n",
    "    line =f.readline()\n",
    "    print(line)"
   ]
  },
  {
   "cell_type": "code",
   "execution_count": 7,
   "id": "5633f8a6",
   "metadata": {
    "scrolled": true
   },
   "outputs": [
    {
     "name": "stdout",
     "output_type": "stream",
     "text": [
      "tenth line\n",
      "My specialty is Python.\n",
      "first three lines\n",
      "[\"I'm toye.\\n\", 'I studied data analysis.\\n', 'My specialty is Python.']\n"
     ]
    }
   ],
   "source": [
    "f = open(\"test.txt\",'r')\n",
    "content = f.readlines()\n",
    "\n",
    "# read 10th line from the file\n",
    "print(\"tenth line\")\n",
    "print(content[2])\n",
    "\n",
    "# print first 3 lines of file\n",
    "print(\"first three lines\")\n",
    "print(content[0:3])"
   ]
  },
  {
   "cell_type": "code",
   "execution_count": 11,
   "id": "1748555c",
   "metadata": {},
   "outputs": [
    {
     "name": "stdout",
     "output_type": "stream",
     "text": [
      "I studied data analysis.\n",
      "\n"
     ]
    }
   ],
   "source": [
    "# syntax : getLine(txt-file, line_number)\n",
    "# importing required package\n",
    "import linecache\n",
    "\n",
    "# extracting the 5th line\n",
    "particular_line = linecache.getline('test.txt', 2)\n",
    "\n",
    "# print the particular line\n",
    "print(particular_line)\n"
   ]
  },
  {
   "cell_type": "markdown",
   "id": "db36c7c6",
   "metadata": {},
   "source": [
    "Method 3: enumerate()\n",
    "\n",
    "The enumerate() method is used to convert a string or a list object to a sequence of data indexed by numbers. \n",
    "It is then used in the listing of the data in combination with for loop.\n",
    "Lines at particular indexes can be accessed by specifying the index numbers required in an array. "
   ]
  },
  {
   "cell_type": "code",
   "execution_count": 40,
   "id": "06a2182d",
   "metadata": {},
   "outputs": [
    {
     "name": "stdout",
     "output_type": "stream",
     "text": [
      "NAME:   Erwinia carotovora atroseptica\n",
      "\n",
      "Strain: LMG 2404\n",
      "\n",
      "Name:   Erwinia chrysanthemi\n",
      "\n"
     ]
    }
   ],
   "source": [
    "# open a file\n",
    "file = open(\"sample_text.txt\")\n",
    "\n",
    "# lines to print\n",
    "specified_lines = [0, 4, 9]\n",
    "\n",
    "# loop over lines in a file\n",
    "for pos, l_num in enumerate(file):\n",
    "\t# check if the line number is specified in the lines to read array\n",
    "\tif pos in specified_lines:\n",
    "\t\t# print the required line number\n",
    "\t\tprint(l_num)\n"
   ]
  },
  {
   "cell_type": "code",
   "execution_count": 41,
   "id": "549cd46d",
   "metadata": {},
   "outputs": [
    {
     "name": "stdout",
     "output_type": "stream",
     "text": [
      "['Strain: LMG 2804\\n', 'Pheno:  0253035205\\n', 'Name:   Erwinia cypripedii\\n', 'Strain: LMG 2657\\n', 'Pheno:  0051311301']\n"
     ]
    }
   ],
   "source": [
    "a_file = open(\"sample_text.txt\", \"r\")\n",
    "lines = a_file.readlines()\n",
    "last_lines = lines[-5:]\n",
    "\n",
    "print(last_lines)\n",
    "a_file.close()"
   ]
  },
  {
   "cell_type": "code",
   "execution_count": 42,
   "id": "cc3bbf39",
   "metadata": {},
   "outputs": [
    {
     "name": "stdout",
     "output_type": "stream",
     "text": [
      "Name:   Erwinia chrysanthemi\n",
      "Strain: LMG 2804\n",
      "Pheno:  0253035205\n",
      "Name:   Erwinia cypripedii\n",
      "Strain: LMG 2657\n",
      "Pheno:  0051311301"
     ]
    }
   ],
   "source": [
    "# Python implementation to read last N lines of a file\n",
    "\n",
    "# Function to read\n",
    "# last N lines of the file\n",
    "def LastNlines(fname, N):\n",
    "\t# opening file using with() method\n",
    "\t# so that file get closed\n",
    "\t# after completing work\n",
    "\twith open(fname) as file:\n",
    "\t\t\n",
    "\t\t# loop to read iterate\n",
    "\t\t# last n lines and print it\n",
    "\t\tfor line in (file.readlines() [-N:]):\n",
    "\t\t\tprint(line, end ='')\n",
    "\n",
    "\n",
    "# Driver Code:\n",
    "if __name__ == '__main__':\n",
    "\tfname = 'sample_text.txt'\n",
    "\tN = 6\n",
    "\ttry:\n",
    "\t\tLastNlines(fname, N)\n",
    "\texcept:\n",
    "\t\tprint('File not found') \n"
   ]
  },
  {
   "cell_type": "markdown",
   "id": "1a0dcc75",
   "metadata": {},
   "source": [
    "\n",
    "Writing to Files in Python\n",
    "\n",
    "In order to write into a file in Python, we need to open it in write w, append a or exclusive creation x mode.\n",
    "\n",
    "We need to be careful with the w mode, as it will overwrite into the file if it already exists. Due to this, all the previous data are erased.\n",
    "\n",
    "Writing a string or sequence of bytes (for binary files) is done using the write() method. This method returns the number of characters written to the file.\n",
    "\n",
    "with open(\"test.txt\",'w',encoding = 'utf-8') as f:\n",
    "    \n",
    "   f.write(\"my first file\\n\")\n",
    "\n",
    "   f.write(\"This file\\n\\n\")\n",
    "    \n",
    "   f.write(\"contains three lines\\n\")\n",
    "\n",
    "This program will create a new file named test.txt in the current directory if it does not exist."
   ]
  },
  {
   "cell_type": "code",
   "execution_count": 154,
   "id": "d3632db0",
   "metadata": {},
   "outputs": [],
   "source": [
    "with open(\"test2.txt\",'w',encoding = 'utf-8') as f:\n",
    "    f.write(\"my first file\\n\")\n",
    "    f.write(\"This file\\n\\n\")\n",
    "    f.write(\"contains three lines\\n\")"
   ]
  },
  {
   "cell_type": "code",
   "execution_count": 155,
   "id": "3b6239e6",
   "metadata": {},
   "outputs": [],
   "source": [
    "#File deleting:\n",
    "#To delete a file, you must import the OS module, and run its os.remove() function:\n",
    "\n",
    "import os\n",
    "os.remove(\"test2.txt\")"
   ]
  },
  {
   "cell_type": "code",
   "execution_count": 156,
   "id": "6b5285a4",
   "metadata": {},
   "outputs": [],
   "source": [
    "# Closing Files in Python\n",
    "#f = open(\"test.txt\", encoding = 'utf-8')\n",
    "# perform file operations\n",
    "\n",
    "f.close()"
   ]
  },
  {
   "cell_type": "code",
   "execution_count": 43,
   "id": "b28a2fc3",
   "metadata": {},
   "outputs": [
    {
     "name": "stdout",
     "output_type": "stream",
     "text": [
      "42\n"
     ]
    }
   ],
   "source": [
    "#Python Program to Count Words in Text File\n",
    "#Example 1: Count String Words\n",
    "\n",
    "# creating variable to store the\n",
    "# number of words\n",
    "number_of_words = 0\n",
    "\n",
    "# Opening our text file in read only\n",
    "# mode using the open() function\n",
    "with open(r'sample_text.txt','r') as file:\n",
    "\n",
    "\t# Reading the content of the file\n",
    "\t# using the read() function and storing\n",
    "\t# them in a new variable\n",
    "\tdata = file.read()\n",
    "\n",
    "\t# Splitting the data into separate lines\n",
    "\t# using the split() function\n",
    "\tlines = data.split()\n",
    "\n",
    "\t# Adding the length of the\n",
    "\t# lines in our number_of_words\n",
    "\t# variable\n",
    "\tnumber_of_words += len(lines)\n",
    "\n",
    "\n",
    "# Printing total number of words\n",
    "print(number_of_words)\n"
   ]
  },
  {
   "cell_type": "markdown",
   "id": "e78fc241",
   "metadata": {},
   "source": [
    "Explanation: \n",
    "\n",
    "Creating a new variable to store the total number of words in the text file. And then open the text file in read-only mode using the open() function.\n",
    "Read the content of the file using the read() function and storing them in a new variable. And then split the data stored in the data variable into separate lines using the split() function and then storing them in a new variable. \n",
    "And add the length of the lines in our number_of_words variable."
   ]
  },
  {
   "cell_type": "code",
   "execution_count": 44,
   "id": "f70ae89e",
   "metadata": {},
   "outputs": [
    {
     "name": "stdout",
     "output_type": "stream",
     "text": [
      "32\n"
     ]
    }
   ],
   "source": [
    "#Example 2: Count the number of words, not Integer\n",
    "\n",
    "# creating variable to store the\n",
    "# number of words\n",
    "number_of_words = 0\n",
    "\n",
    "# Opening our text file in read only\n",
    "# mode using the open() function\n",
    "with open(r'sample_text.txt','r') as file:\n",
    "\n",
    "\t# Reading the content of the file\n",
    "\t# using the read() function and storing\n",
    "\t# them in a new variable\n",
    "\tdata = file.read()\n",
    "\n",
    "\t# Splitting the data into separate lines\n",
    "\t# using the split() function\n",
    "\tlines = data.split()\n",
    "\n",
    "\t# Iterating over every word in\n",
    "\t# lines\n",
    "\tfor word in lines:\n",
    "\n",
    "\t\t# checking if the word is numeric or not\n",
    "\t\tif not word.isnumeric():\t\t\n",
    "\n",
    "\t\t\t# Adding the length of the\n",
    "\t\t\t# lines in our number_of_words\n",
    "\t\t\t# variable\n",
    "\t\t\tnumber_of_words += 1\n",
    "\n",
    "# Printing total number of words\n",
    "print(number_of_words)\n"
   ]
  },
  {
   "cell_type": "markdown",
   "id": "066393dd",
   "metadata": {},
   "source": [
    "Explanation: Create a new variable to store the total number of words in the text file and then open the text file in read-only mode using the open() function. \n",
    "Read the content of the file using the read() function and storing them in a new variable and then split the data stored in the data variable into separate lines using the split() function and then storing them in a new variable, \n",
    "Iterating over every word in lines using the for loop and check if the word is numeric or not using the isnumeric() function then add 1 in our number_of_words variable."
   ]
  },
  {
   "cell_type": "code",
   "execution_count": 21,
   "id": "c97ba25b",
   "metadata": {},
   "outputs": [
    {
     "name": "stdout",
     "output_type": "stream",
     "text": [
      "10\n"
     ]
    }
   ],
   "source": [
    "# creating variable to store the\n",
    "# number of words\n",
    "number_of_words = 0\n",
    "\n",
    "# Opening our text file in read only\n",
    "# mode using the open() function\n",
    "with open(r'test.txt','r') as file:\n",
    "\n",
    "\t# Reading the content of the file\n",
    "\t# using the read() function and storing\n",
    "\t# them in a new variable\n",
    "\tdata = file.read()\n",
    "\n",
    "\t# Splitting the data into separate lines\n",
    "\t# using the split() function\n",
    "\tlines = data.split()\n",
    "\n",
    "\t# Adding the length of the\n",
    "\t# lines in our number_of_words\n",
    "\t# variable\n",
    "\tnumber_of_words += len(lines)\n",
    "\n",
    "\n",
    "# Printing total number of words\n",
    "print(number_of_words)\n"
   ]
  },
  {
   "cell_type": "code",
   "execution_count": 31,
   "id": "66dff396",
   "metadata": {},
   "outputs": [
    {
     "name": "stdout",
     "output_type": "stream",
     "text": [
      "8\n"
     ]
    }
   ],
   "source": [
    "def count_words(filepath):\n",
    "    with open(filepath) as f:\n",
    "        data = f.read()\n",
    "        data.replace(\",\", \" \")\n",
    "        return len(data.split(\" \"))\n",
    "print(count_words(\"test.txt\"))\n"
   ]
  },
  {
   "cell_type": "code",
   "execution_count": 46,
   "id": "3fadce3a",
   "metadata": {},
   "outputs": [
    {
     "name": "stdout",
     "output_type": "stream",
     "text": [
      "42\n"
     ]
    }
   ],
   "source": [
    "with open('sample_text.txt','r+') as f:\n",
    "\tlines=f.read()\n",
    "\twords=lines.split()\n",
    "\tprint(len(words))\n"
   ]
  },
  {
   "cell_type": "code",
   "execution_count": 47,
   "id": "be7b5e49",
   "metadata": {},
   "outputs": [
    {
     "name": "stdout",
     "output_type": "stream",
     "text": [
      "['NAME:', 'Erwinia', 'carotovora', 'atroseptica']\n",
      "['Strain:', 'LMG', '2386']\n",
      "['Pheno:', '0251034201']\n",
      "['Name:', 'Erwinia', 'carotovora', 'carotovora']\n",
      "['Strain:', 'LMG', '2404']\n",
      "['Pheno:', '0251034204']\n",
      "['Name:', 'Erwinia', 'betavasculorum']\n",
      "['Strain:', 'LMG', '2466']\n",
      "['Pheno:', '0251034202']\n",
      "['Name:', 'Erwinia', 'chrysanthemi']\n",
      "['Strain:', 'LMG', '2804']\n",
      "['Pheno:', '0253035205']\n",
      "['Name:', 'Erwinia', 'cypripedii']\n",
      "['Strain:', 'LMG', '2657']\n",
      "['Pheno:', '0051311301']\n",
      "42\n"
     ]
    }
   ],
   "source": [
    "with open('sample_text.txt','r+') as f:\n",
    "\tnumw=0\n",
    "\tfor line in f:\n",
    "\t\twords= line.split()\n",
    "\t\tprint(words)\n",
    "\t\tnumw += len(words)\n",
    "\tprint(numw)"
   ]
  },
  {
   "cell_type": "markdown",
   "id": "074f5729",
   "metadata": {},
   "source": [
    "An algorithm is a procedure or formula for solving a problem, based on conducting a sequence of specified actions. \n",
    "A computer program can be viewed as an elaborate algorithm. \n",
    "In mathematics and computer science, an algorithm usually means a small procedure that solves a recurrent problem.\n",
    "\n",
    "Recursion\n",
    "Recursion is a common mathematical and programming concept which aims at finding solutions to problems using smaller solutions of the same problem. \n",
    "It means that a function calls itself. This has the benefit of meaning that you can loop through data to reach a result.\n",
    "Recursive algorithms have applications in list sorting, binary tree traversal, path finding and much more\n",
    "To a new developer it can take some time to work out how exactly this works, best way to find out is by testing and modifying it."
   ]
  },
  {
   "cell_type": "markdown",
   "id": "ffe773cb",
   "metadata": {},
   "source": [
    "Recursion code\n",
    "Since we will be writing an algorithm to find factorials, it is worth reviewing the definition of a factorial. The factorial of a natural number, n, is the product of all natural numbers less than or equal to n: n*(n-1)(n-2)(n-3).....321\n",
    "\n",
    "For example, if n=6:\n",
    "6!=65432*1\n",
    "\n",
    "Let’s think about this recursively. If we have a recursive function f, we’d want to use f to calculate 6! in the following way:\n",
    "\n",
    "6! = f(6)\n",
    "\n",
    "f(6) = 6f(5)\n",
    "\n",
    "f(5) = 5f(4), so f(6) = 65f(4)\n",
    "\n",
    "f(4) = 4f(3), so f(6) = 654f(3)\n",
    "\n",
    "f(3) = 3f(2), so f(6) = 6543f(2)\n",
    "\n",
    "f(2) = 2f(1), so f(6) = 65432f(1)\n",
    "\n",
    "f(1) = 1, so f(6) = 654321.\n",
    "\n",
    "To implement this in python, we need to define a function, we’ll call ‘recursive_factorial’, that takes input n, and returns n*recursive_factorial(n-1). Moreover, we’d like the function to keep returning itself until the input is equal to one. At that point we return 1 and the recursion terminates. \n",
    "To implement this we do the following:"
   ]
  },
  {
   "cell_type": "code",
   "execution_count": 8,
   "id": "a332c04d",
   "metadata": {},
   "outputs": [
    {
     "data": {
      "text/plain": [
       "720"
      ]
     },
     "execution_count": 8,
     "metadata": {},
     "output_type": "execute_result"
    }
   ],
   "source": [
    "def recursive_factorial(n):\n",
    "    if n == 1:\n",
    "        return 1\n",
    "    else:\n",
    "        return n*recursive_factorial(n-1)\n",
    "recursive_factorial(6)"
   ]
  },
  {
   "cell_type": "code",
   "execution_count": 4,
   "id": "0ed263ff",
   "metadata": {},
   "outputs": [
    {
     "name": "stdout",
     "output_type": "stream",
     "text": [
      "The factorial of 6 is 720\n"
     ]
    }
   ],
   "source": [
    "#Recursive vs Iterative algorithm\n",
    "num=6\n",
    "factorial = 1\n",
    "\n",
    "# check if the number is negative, positive or zero\n",
    "if num < 0:\n",
    "    print(\"Sorry, factorial does not exist for negative numbers\")\n",
    "elif num == 0:\n",
    "    print(\"The factorial of 0 is 1\")\n",
    "else:\n",
    "    for i in range(1,num + 1):\n",
    "        factorial = factorial*i\n",
    "print(\"The factorial of\",num,\"is\",factorial)"
   ]
  },
  {
   "cell_type": "code",
   "execution_count": 5,
   "id": "0653aa85",
   "metadata": {},
   "outputs": [
    {
     "name": "stdout",
     "output_type": "stream",
     "text": [
      "<class 'int'>\n"
     ]
    }
   ],
   "source": [
    "b= factorial \n",
    "print (type(b))"
   ]
  },
  {
   "cell_type": "code",
   "execution_count": 10,
   "id": "b3d9beca",
   "metadata": {},
   "outputs": [
    {
     "name": "stdout",
     "output_type": "stream",
     "text": [
      "number :  5\n",
      "Factorial :  120\n"
     ]
    }
   ],
   "source": [
    "# Python 3 program to find\n",
    "# factorial of given number\n",
    "def factorial(n):\n",
    "\t\n",
    "\t# Checking the number\n",
    "\t# is 1 or 0 then\n",
    "\t# return 1\n",
    "\t# other wise return\n",
    "\t# factorial\n",
    "\tif (n==1 or n==0):\n",
    "\t\t\n",
    "\t\treturn 1\n",
    "\t\n",
    "\telse:\n",
    "\t\t\n",
    "\t\treturn (n * factorial(n - 1))\n",
    "\n",
    "# Driver Code\n",
    "num = 5;\n",
    "print(\"number : \",num)\n",
    "print(\"Factorial : \",factorial(num))\n"
   ]
  },
  {
   "cell_type": "code",
   "execution_count": 38,
   "id": "95154830",
   "metadata": {},
   "outputs": [
    {
     "name": "stdout",
     "output_type": "stream",
     "text": [
      "Fibonacci series:\n",
      "0\n",
      "1\n",
      "1\n",
      "2\n",
      "3\n",
      "5\n",
      "8\n",
      "13\n",
      "21\n",
      "34\n"
     ]
    }
   ],
   "source": [
    "# Program to print the fibonacci series upto n_terms\n",
    "\n",
    "# Recursive function\n",
    "def recursive_fibonacci(n):\n",
    "    if n <= 1:\n",
    "        return n\n",
    "    else:\n",
    "        return(recursive_fibonacci(n-1) + recursive_fibonacci(n-2))\n",
    "\n",
    "n_terms = 10\n",
    "\n",
    "# check if the number of terms is valid\n",
    "if n_terms <= 0:\n",
    "    print(\"Invalid input ! Please input a positive value\")\n",
    "else:\n",
    "    print(\"Fibonacci series:\")\n",
    "for i in range(n_terms):\n",
    "\tprint(recursive_fibonacci(i))\n"
   ]
  },
  {
   "cell_type": "markdown",
   "id": "680aea8d",
   "metadata": {},
   "source": [
    "What is Tail-Recursion?\n",
    "\n",
    "A unique type of recursion where the last procedure of a function is a recursive call. The recursion may be automated away by performing the request in the current stack frame and returning the output instead of generating a new stack frame. The tail-recursion may be optimized by the compiler which makes it better than non-tail recursive functions.\n",
    "\n",
    "Is it possible to optimize a program by making use of a tail-recursive function instead of non-tail recursive function?\n",
    "Considering the function given below in order to calculate the factorial of n, we can observe that the function looks like a tail-recursive at first but it is a non-tail-recursive function. If we observe closely, we can see that the value returned by Recur_facto(n-1) is used in Recur_facto(n), so the call to Recur_facto(n-1) is not the last thing done by Recur_facto(n)."
   ]
  },
  {
   "cell_type": "code",
   "execution_count": 39,
   "id": "f6523846",
   "metadata": {},
   "outputs": [
    {
     "name": "stdout",
     "output_type": "stream",
     "text": [
      "720\n"
     ]
    }
   ],
   "source": [
    "# Program to calculate factorial of a number\n",
    "# using a Non-Tail-Recursive function.\n",
    "\n",
    "# non-tail recursive function\n",
    "def Recur_facto(n):\n",
    "\t\n",
    "\tif (n == 0):\n",
    "\t\treturn 1\n",
    "\t\n",
    "\treturn n * Recur_facto(n-1)\n",
    "\t\n",
    "# print the result\n",
    "print(Recur_facto(6))\n"
   ]
  },
  {
   "cell_type": "markdown",
   "id": "664221fb",
   "metadata": {},
   "source": [
    "We can write the given function Recur_facto as a tail-recursive function. The idea is to use one more argument and in the second argument, we accommodate the value of the factorial. When n reaches 0, return the final value of the factorial of the desired number."
   ]
  },
  {
   "cell_type": "code",
   "execution_count": 40,
   "id": "73d9003c",
   "metadata": {},
   "outputs": [
    {
     "name": "stdout",
     "output_type": "stream",
     "text": [
      "720\n"
     ]
    }
   ],
   "source": [
    "# Program to calculate factorial of a number\n",
    "# using a Tail-Recursive function.\n",
    "\n",
    "# A tail recursive function\n",
    "def Recur_facto(n, a = 1):\n",
    "\t\n",
    "\tif (n == 0):\n",
    "\t\treturn a\n",
    "\t\n",
    "\treturn Recur_facto(n - 1, n * a)\n",
    "\t\n",
    "# print the result\n",
    "print(Recur_facto(6))\n"
   ]
  },
  {
   "cell_type": "markdown",
   "id": "47f10e84",
   "metadata": {},
   "source": [
    "Binary search\n",
    "\n",
    "Binary search is a classic algorithm in computer science. It often comes up in programming contests and technical interviews. \n",
    "Implementing binary search turns out to be a challenging task, even when you understand the concept.\n",
    "\n",
    "The aim of this algorithm is to find the position of a target value within a sorted array. \n",
    "The binary search algorithm can be classified as a dichotomies divide-and-conquer search algorithm and executes in logarithmic time."
   ]
  },
  {
   "cell_type": "markdown",
   "id": "dd958e2f",
   "metadata": {},
   "source": [
    "Binary search steps\n",
    "https://youtu.be/DnvWAd-RGhk"
   ]
  },
  {
   "cell_type": "code",
   "execution_count": 8,
   "id": "b534bd10",
   "metadata": {},
   "outputs": [
    {
     "name": "stdout",
     "output_type": "stream",
     "text": [
      "BINARY SEARCH\n",
      "4\n"
     ]
    }
   ],
   "source": [
    "print ('BINARY SEARCH')\n",
    "def binary_search(data, item):\n",
    "    low= 0                #all indexes begin with 0 \n",
    "    high= len(data) - 1   #-1 is the last index of the sequence\n",
    "    \n",
    "    #use while loop to complete iterations needed to find the item\n",
    "    while low <= high:    #valid interval\n",
    "        middle = (low+high) // 2   # // division approximates the result\n",
    "        \n",
    "        #check if middle element is the item we are looking for\n",
    "        if data[middle] == item : \n",
    "            return middle\n",
    "        #if item is less thean middle restict search to lower half \n",
    "        elif item < data[middle]: \n",
    "            high = middle -1\n",
    "        #if item is greater thean middle restict search to upper half \n",
    "        else: \n",
    "            low = middle + 1 \n",
    "    \n",
    "    #if item is not in the data\n",
    "    return -1  # use -1 because -1 isnt a valid idex. its not a possible value that would be returned if the element is found \n",
    "\n",
    "print (binary_search([5,6,15,25,45,145], 45) )"
   ]
  },
  {
   "cell_type": "code",
   "execution_count": 7,
   "id": "25c6b8a7",
   "metadata": {},
   "outputs": [
    {
     "name": "stdout",
     "output_type": "stream",
     "text": [
      "mid index is 5\n",
      "mid value is 8\n",
      "mid index is 2\n",
      "mid value is 5\n",
      "mid index is 0\n",
      "mid value is 2\n",
      "mid index is 1\n",
      "mid value is 4\n",
      "Not available\n"
     ]
    }
   ],
   "source": [
    "def binary_search(sequence, item):\n",
    "    begin_index = 0\n",
    "    end_index = len(sequence) - 1\n",
    "\n",
    "    while begin_index <= end_index:\n",
    "        midpoint = begin_index + (end_index - begin_index) // 2     #prints the index\n",
    "        print ('mid index is' , midpoint)\n",
    "        \n",
    "        midpoint_value = sequence[midpoint]       #pritns the value is inserted sequence\n",
    "        print ('mid value is', midpoint_value)\n",
    "        \n",
    "        if midpoint_value == item:\n",
    "            return midpoint\n",
    "\n",
    "        elif item < midpoint_value:\n",
    "            end_index = midpoint - 1\n",
    "\n",
    "        else:\n",
    "            begin_index = midpoint + 1\n",
    "\n",
    "    return 'Not available'\n",
    "\n",
    "sequence_a = [2,4,5,6,7,8,9,10,12,13,14]\n",
    "item_a = 3\n",
    "\n",
    "\n",
    "print(binary_search(sequence_a, item_a)) "
   ]
  },
  {
   "cell_type": "code",
   "execution_count": 23,
   "id": "0e164b5c",
   "metadata": {},
   "outputs": [
    {
     "name": "stdout",
     "output_type": "stream",
     "text": [
      "midpoint is: 5\n",
      "midpoint is: 8\n",
      "midpoint is: 9\n"
     ]
    },
    {
     "data": {
      "text/plain": [
       "'k is found'"
      ]
     },
     "execution_count": 23,
     "metadata": {},
     "output_type": "execute_result"
    }
   ],
   "source": [
    "#Binary search example\n",
    "#let's illustrates how the binary search works. The element that we are looking for is the number 46.\n",
    "\n",
    "#l= begin_index\n",
    "#h= end_index\n",
    "# midpoint is 31 on position '5'\n",
    "# index =[0, 1, 2, 3,  4,  5,  6,  7,  8,  9,  10]\n",
    "# A     =[1, 2, 7, 12, 28, 31, 40, 41, 42, 46, 59]\n",
    "\n",
    "\n",
    "def binary_search(A, l, h, k):\n",
    "    if h >= l:\n",
    "        mid = int(l + (h - l)/2)\n",
    "        print('midpoint is:' , mid)\n",
    "        if A[mid] == k:\n",
    "            return 'k is found'\n",
    "        elif A[mid] > k:\n",
    "            return binary_search(A, l, mid-1, k)\n",
    "        else:\n",
    "            return binary_search(A, mid+1, h, k)\n",
    "    else:\n",
    "        return 'k is not found'\n",
    "\n",
    "A=[1, 2, 7, 12, 28, 31, 40, 41, 42, 46, 59]\n",
    "\n",
    "k=46\n",
    "l=0\n",
    "h=len(A)-1\n",
    "\n",
    "binary_search(A, l, h, k)\n",
    "\n",
    "#5 is mid of 0-10\n",
    "#8 is mid of 6-10\n",
    "#9 is mid of 8-10"
   ]
  },
  {
   "cell_type": "markdown",
   "id": "12da6b05",
   "metadata": {},
   "source": [
    "Sorting algorithm\n",
    "\n",
    "Sorting algorithms are among the most important algorithms in computer science. \n",
    "Sorting involves the task of arranging data in a particular format(ascending/descending order)\n",
    "\n",
    "The importance of sorting lies in the fact that data searching can be optimized to a very high level, if data is stored in a sorted manner. \n",
    "Sorting is also used to represent data in more readable formats."
   ]
  },
  {
   "cell_type": "markdown",
   "id": "a4dca9da",
   "metadata": {},
   "source": [
    "Bubble Sort \n",
    "\n",
    "Bubble Sort is a simple algorithm which is used to sort a given set of n elements provided in form of an array with n number of elements. \n",
    "Bubble Sort compares all the element one by one and sort them based on their values.\n",
    "\n",
    "https://youtu.be/xli_FI7CuzA"
   ]
  },
  {
   "cell_type": "code",
   "execution_count": 9,
   "id": "eab0bcdc",
   "metadata": {},
   "outputs": [
    {
     "name": "stdout",
     "output_type": "stream",
     "text": [
      "BUBBLE SORT\n",
      "[29, 13, 22, 37, 52, 49, 46, 71, 56]\n",
      "[13, 22, 29, 37, 46, 49, 52, 56, 71]\n"
     ]
    }
   ],
   "source": [
    "print ('BUBBLE SORT')\n",
    "def bubble_sort(seq):           # seq represemts list but list cant be used as a parameter name\n",
    "    for i in range (len(seq)):  # go through the list once per element/ one iteration per element\n",
    "# i is a loop variable that represnts the no of elemnts that are already sorted (correct position)\n",
    "# i is intially 0 because nothing is sorted at the start\n",
    "\n",
    "#we using the nested loop to determine which pairs of values should be swapped\n",
    "#compare the pair of elements that are unsorted(not necessarly in final position yet) and swap if necessary. \n",
    "\n",
    "        for j in range (len(seq)-i-1):\n",
    "# by subtracting i we are decrementing the no of comaprisons that we make./ no of elements left to sort in the list\n",
    "# by subtracting 1 we arent going to reach the last element in the list because we have to consider the last pair \n",
    "# ie we dont want to consider the last element in the list\n",
    "\n",
    "            #if elemnts arent in order        \n",
    "            if seq[j]>seq[j+1]:\n",
    "                #swap them using tuple assignment\n",
    "                seq[j] , seq[j+1] = seq[j+1] , seq[j] \n",
    "                \n",
    "# we subtract 1 because the comdition swaps the element with the one after it. \n",
    "# the last element has nothing after it so we exclude it from the loop. \n",
    "\n",
    "my_list= [29,13,22,37,52,49,46,71,56]\n",
    "print (my_list)\n",
    "\n",
    "bubble_sort(my_list)\n",
    "print (my_list)\n",
    "\n",
    "#the fucntion doent return values it just changes the list\n",
    "# therefore my_list will be mutated in memory\n",
    "\n"
   ]
  },
  {
   "cell_type": "code",
   "execution_count": 27,
   "id": "2116e14f",
   "metadata": {},
   "outputs": [
    {
     "data": {
      "text/plain": [
       "[14, 21, 27, 41, 43, 45, 46, 57, 70]"
      ]
     },
     "execution_count": 27,
     "metadata": {},
     "output_type": "execute_result"
    }
   ],
   "source": [
    "# Bubble sort code\n",
    "# Let's sort this list by implementing bubble sort algorithm\n",
    "\n",
    "def bubbleSort(nlist):\n",
    "    for passnum in range(len(nlist)-1,0,-1):\n",
    "        for i in range(passnum):\n",
    "            if nlist[i]>nlist[i+1]:\n",
    "                temp = nlist[i]\n",
    "                nlist[i] = nlist[i+1]\n",
    "                nlist[i+1] = temp\n",
    "    return nlist\n",
    "\n",
    "nlist = [14,46,43,27,57,41,45,21,70]\n",
    "bubbleSort(nlist)"
   ]
  },
  {
   "cell_type": "code",
   "execution_count": 26,
   "id": "b0329568",
   "metadata": {},
   "outputs": [
    {
     "name": "stdout",
     "output_type": "stream",
     "text": [
      "[1, 2, 4, 5, 6, 6, 7, 8, 8, 9, 14]\n"
     ]
    }
   ],
   "source": [
    "def bubble(list_a):\n",
    "    indexing_length = len(list_a) - 1 #Can not apply comparision starting with last item of list (No item to right)\n",
    "    sorted = False #Create variable of sorted and set it equal to false\n",
    "\n",
    "    while not sorted:  #Repeat until sorted = True\n",
    "        sorted = True  # Break the while loop whenever we have gone through all the values\n",
    "\n",
    "        for i in range(0, indexing_length): # For every value in the list\n",
    "            if list_a[i] > list_a[i+1]: #if value in list is greater than value directly to the right of it,\n",
    "                sorted = False # These values are unsorted\n",
    "                list_a[i], list_a[i+1] = list_a[i+1], list_a[i] #Switch these values\n",
    "    return list_a # Return our list \"unsorted_list\" which is not sorted.\n",
    "\n",
    "print(bubble([4,8,1,14,8,2,9,5,7,6,6]))"
   ]
  },
  {
   "cell_type": "code",
   "execution_count": 28,
   "id": "007d79b7",
   "metadata": {},
   "outputs": [
    {
     "name": "stdout",
     "output_type": "stream",
     "text": [
      "Sorted array is:\n",
      " 11  12  22  25  34  64  90 "
     ]
    }
   ],
   "source": [
    "# Bubble Sort is the simplest sorting algorithm that works by repeatedly swapping the adjacent elements if they are in wrong order. \n",
    "\n",
    "# Python program for implementation of Bubble Sort\n",
    "\n",
    "def bubbleSort(arr):\n",
    "\tn = len(arr)\n",
    "\n",
    "\t# Traverse through all array elements\n",
    "\tfor i in range(n-1):\n",
    "\t# range(n) also work but outer loop will\n",
    "\t# repeat one time more than needed.\n",
    "\n",
    "\t\t# Last i elements are already in place\n",
    "\t\tfor j in range(0, n-i-1):\n",
    "\n",
    "\t\t\t# traverse the array from 0 to n-i-1\n",
    "\t\t\t# Swap if the element found is greater\n",
    "\t\t\t# than the next element\n",
    "\t\t\tif arr[j] > arr[j + 1] :\n",
    "\t\t\t\tarr[j], arr[j + 1] = arr[j + 1], arr[j]\n",
    "\n",
    "# Driver code to test above\n",
    "arr = [64, 34, 25, 12, 22, 11, 90]\n",
    "\n",
    "bubbleSort(arr)\n",
    "\n",
    "print (\"Sorted array is:\")\n",
    "for i in range(len(arr)):\n",
    "\tprint (\"% d\" % arr[i],end=\" \")\n"
   ]
  },
  {
   "cell_type": "code",
   "execution_count": 31,
   "id": "66dcd85a",
   "metadata": {},
   "outputs": [
    {
     "name": "stdout",
     "output_type": "stream",
     "text": [
      "Unsorted list is,\n",
      "[39, 12, 18, 85, 72, 10, 2, 18]\n",
      "Sorted Array is, \n",
      "[2, 10, 12, 18, 18, 39, 72, 85]\n"
     ]
    }
   ],
   "source": [
    "# Please refer complete article on Bubble Sort for more details! \n",
    "\n",
    "def bubblesort(elements):\n",
    "# Looping from size of array from last index[-1] to index [0]\n",
    "    for n in range(len(elements)-1, 0, -1):\n",
    "        for i in range(n):\n",
    "            if elements[i] > elements[i + 1]:\n",
    "\t\t# swapping data if the element is less than next element in the array\n",
    "                elements[i], elements[i + 1] = elements[i + 1], elements[i]\n",
    "\n",
    "elements = [39,12,18,85,72,10,2,18]\n",
    "\n",
    "print(\"Unsorted list is,\")\n",
    "print( elements)\n",
    "bubblesort(elements)\n",
    "print(\"Sorted Array is, \")\n",
    "print(elements)\n"
   ]
  },
  {
   "cell_type": "markdown",
   "id": "7cf4c665",
   "metadata": {},
   "source": [
    "Merge sort\n",
    "\n",
    "Merge sort is one of the most popular sorting algorithms. \n",
    "It is used to sort the values in any traversable data structure such as a list. \n",
    "It works by splitting the input list into two halves, repeating the process on those halves, and finally merging the two sorted halves together."
   ]
  },
  {
   "cell_type": "markdown",
   "id": "5d412329",
   "metadata": {},
   "source": [
    "MERGE SORT\n",
    "\n",
    "General principle\n",
    "1. split array in half\n",
    "2. call merge sort on each half to sort them recursively\n",
    "3. merge both sorted halves to one sorted array\n",
    "\n"
   ]
  },
  {
   "cell_type": "code",
   "execution_count": 34,
   "id": "a399e49f",
   "metadata": {},
   "outputs": [
    {
     "name": "stdout",
     "output_type": "stream",
     "text": [
      "[17, 20, 26, 31, 44, 54, 55, 77, 93]\n"
     ]
    }
   ],
   "source": [
    "def mergeSort(myList):\n",
    "    if len(myList) > 1:\n",
    "        mid = len(myList) // 2\n",
    "        left = myList[:mid]\n",
    "        right = myList[mid:]\n",
    "\n",
    "        # Recursive call on each half\n",
    "        mergeSort(left)\n",
    "        mergeSort(right)\n",
    "\n",
    "        # Two iterators for traversing the two halves\n",
    "        i = 0\n",
    "        j = 0\n",
    "        \n",
    "        # Iterator for the main list\n",
    "        k = 0\n",
    "        \n",
    "        while i < len(left) and j < len(right):\n",
    "            if left[i] < right[j]:\n",
    "              # The value from the left half has been used\n",
    "              myList[k] = left[i]\n",
    "              # Move the iterator forward\n",
    "              i += 1\n",
    "            else:\n",
    "                myList[k] = right[j]\n",
    "                j += 1\n",
    "            # Move to the next slot\n",
    "            k += 1\n",
    "\n",
    "        # For all the remaining values\n",
    "        while i < len(left):\n",
    "            myList[k] = left[i]\n",
    "            i += 1\n",
    "            k += 1\n",
    "\n",
    "        while j < len(right):\n",
    "            myList[k]=right[j]\n",
    "            j += 1\n",
    "            k += 1\n",
    "\n",
    "myList = [54,26,93,17,77,31,44,55,20]\n",
    "mergeSort(myList)\n",
    "print(myList)"
   ]
  },
  {
   "cell_type": "code",
   "execution_count": 32,
   "id": "95fa209a",
   "metadata": {},
   "outputs": [
    {
     "name": "stdout",
     "output_type": "stream",
     "text": [
      "Given array is\n",
      "12 11 13 5 6 7 \n",
      "\n",
      "Sorted array is\n",
      "5 6 7 11 12 13 "
     ]
    }
   ],
   "source": [
    "# Python program for implementation of MergeSort\n",
    "\n",
    "# Merges two subarrays of arr[].\n",
    "# First subarray is arr[l..m]\n",
    "# Second subarray is arr[m+1..r]\n",
    "\n",
    "\n",
    "def merge(arr, l, m, r):\n",
    "\tn1 = m - l + 1\n",
    "\tn2 = r - m\n",
    "\n",
    "\t# create temp arrays\n",
    "\tL = [0] * (n1)\n",
    "\tR = [0] * (n2)\n",
    "\n",
    "\t# Copy data to temp arrays L[] and R[]\n",
    "\tfor i in range(0, n1):\n",
    "\t\tL[i] = arr[l + i]\n",
    "\n",
    "\tfor j in range(0, n2):\n",
    "\t\tR[j] = arr[m + 1 + j]\n",
    "\n",
    "\t# Merge the temp arrays back into arr[l..r]\n",
    "\ti = 0\t # Initial index of first subarray\n",
    "\tj = 0\t # Initial index of second subarray\n",
    "\tk = l\t # Initial index of merged subarray\n",
    "\n",
    "\twhile i < n1 and j < n2:\n",
    "\t\tif L[i] <= R[j]:\n",
    "\t\t\tarr[k] = L[i]\n",
    "\t\t\ti += 1\n",
    "\t\telse:\n",
    "\t\t\tarr[k] = R[j]\n",
    "\t\t\tj += 1\n",
    "\t\tk += 1\n",
    "\n",
    "\t# Copy the remaining elements of L[], if there\n",
    "\t# are any\n",
    "\twhile i < n1:\n",
    "\t\tarr[k] = L[i]\n",
    "\t\ti += 1\n",
    "\t\tk += 1\n",
    "\n",
    "\t# Copy the remaining elements of R[], if there\n",
    "\t# are any\n",
    "\twhile j < n2:\n",
    "\t\tarr[k] = R[j]\n",
    "\t\tj += 1\n",
    "\t\tk += 1\n",
    "\n",
    "# l is for left index and r is right index of the\n",
    "# sub-array of arr to be sorted\n",
    "\n",
    "\n",
    "def mergeSort(arr, l, r):\n",
    "\tif l < r:\n",
    "\n",
    "\t\t# Same as (l+r)//2, but avoids overflow for\n",
    "\t\t# large l and h\n",
    "\t\tm = l+(r-l)//2\n",
    "\n",
    "\t\t# Sort first and second halves\n",
    "\t\tmergeSort(arr, l, m)\n",
    "\t\tmergeSort(arr, m+1, r)\n",
    "\t\tmerge(arr, l, m, r)\n",
    "\n",
    "\n",
    "# Driver code to test above\n",
    "arr = [12, 11, 13, 5, 6, 7]\n",
    "n = len(arr)\n",
    "print(\"Given array is\")\n",
    "for i in range(n):\n",
    "\tprint(\"%d\" % arr[i],end=\" \")\n",
    "\n",
    "mergeSort(arr, 0, n-1)\n",
    "print(\"\\n\\nSorted array is\")\n",
    "for i in range(n):\n",
    "\tprint(\"%d\" % arr[i],end=\" \")\n",
    "\n",
    "# This code is contributed by Mohit Kumra\n"
   ]
  },
  {
   "cell_type": "code",
   "execution_count": 10,
   "id": "084c6ac8",
   "metadata": {
    "collapsed": true
   },
   "outputs": [
    {
     "ename": "TypeError",
     "evalue": "'<' not supported between instances of 'int' and 'list'",
     "output_type": "error",
     "traceback": [
      "\u001b[1;31m---------------------------------------------------------------------------\u001b[0m",
      "\u001b[1;31mTypeError\u001b[0m                                 Traceback (most recent call last)",
      "\u001b[1;32mC:\\Users\\JOANJA~1\\AppData\\Local\\Temp/ipykernel_14612/833280956.py\u001b[0m in \u001b[0;36m<module>\u001b[1;34m\u001b[0m\n\u001b[0;32m     46\u001b[0m \u001b[1;33m\u001b[0m\u001b[0m\n\u001b[0;32m     47\u001b[0m \u001b[0mtest\u001b[0m\u001b[1;33m=\u001b[0m \u001b[1;33m[\u001b[0m\u001b[1;36m2\u001b[0m\u001b[1;33m,\u001b[0m\u001b[1;36m3\u001b[0m\u001b[1;33m,\u001b[0m\u001b[1;36m5\u001b[0m\u001b[1;33m,\u001b[0m\u001b[1;36m1\u001b[0m\u001b[1;33m,\u001b[0m\u001b[1;36m7\u001b[0m\u001b[1;33m,\u001b[0m\u001b[1;36m4\u001b[0m\u001b[1;33m,\u001b[0m\u001b[1;36m4\u001b[0m\u001b[1;33m,\u001b[0m\u001b[1;36m4\u001b[0m\u001b[1;33m,\u001b[0m\u001b[1;36m2\u001b[0m\u001b[1;33m,\u001b[0m\u001b[1;36m6\u001b[0m\u001b[1;33m,\u001b[0m\u001b[1;36m0\u001b[0m\u001b[1;33m]\u001b[0m\u001b[1;33m\u001b[0m\u001b[1;33m\u001b[0m\u001b[0m\n\u001b[1;32m---> 48\u001b[1;33m \u001b[0mmerge_sort\u001b[0m\u001b[1;33m(\u001b[0m\u001b[0mtest\u001b[0m\u001b[1;33m)\u001b[0m\u001b[1;33m\u001b[0m\u001b[1;33m\u001b[0m\u001b[0m\n\u001b[0m\u001b[0;32m     49\u001b[0m \u001b[0mprint\u001b[0m \u001b[1;33m(\u001b[0m\u001b[0mtest\u001b[0m\u001b[1;33m)\u001b[0m\u001b[1;33m\u001b[0m\u001b[1;33m\u001b[0m\u001b[0m\n",
      "\u001b[1;32mC:\\Users\\JOANJA~1\\AppData\\Local\\Temp/ipykernel_14612/833280956.py\u001b[0m in \u001b[0;36mmerge_sort\u001b[1;34m(arr)\u001b[0m\n\u001b[0;32m     10\u001b[0m         \u001b[1;31m#recursion: call merge_sort recurively on both arrays\u001b[0m\u001b[1;33m\u001b[0m\u001b[1;33m\u001b[0m\u001b[0m\n\u001b[0;32m     11\u001b[0m \u001b[1;33m\u001b[0m\u001b[0m\n\u001b[1;32m---> 12\u001b[1;33m         \u001b[0mmerge_sort\u001b[0m\u001b[1;33m(\u001b[0m\u001b[0mleft\u001b[0m\u001b[1;33m)\u001b[0m\u001b[1;33m\u001b[0m\u001b[1;33m\u001b[0m\u001b[0m\n\u001b[0m\u001b[0;32m     13\u001b[0m         \u001b[0mmerge_sort\u001b[0m\u001b[1;33m(\u001b[0m\u001b[0mright\u001b[0m\u001b[1;33m)\u001b[0m\u001b[1;33m\u001b[0m\u001b[1;33m\u001b[0m\u001b[0m\n\u001b[0;32m     14\u001b[0m         \u001b[1;31m#after this the two array are now in sorted order\u001b[0m\u001b[1;33m\u001b[0m\u001b[1;33m\u001b[0m\u001b[0m\n",
      "\u001b[1;32mC:\\Users\\JOANJA~1\\AppData\\Local\\Temp/ipykernel_14612/833280956.py\u001b[0m in \u001b[0;36mmerge_sort\u001b[1;34m(arr)\u001b[0m\n\u001b[0;32m     10\u001b[0m         \u001b[1;31m#recursion: call merge_sort recurively on both arrays\u001b[0m\u001b[1;33m\u001b[0m\u001b[1;33m\u001b[0m\u001b[0m\n\u001b[0;32m     11\u001b[0m \u001b[1;33m\u001b[0m\u001b[0m\n\u001b[1;32m---> 12\u001b[1;33m         \u001b[0mmerge_sort\u001b[0m\u001b[1;33m(\u001b[0m\u001b[0mleft\u001b[0m\u001b[1;33m)\u001b[0m\u001b[1;33m\u001b[0m\u001b[1;33m\u001b[0m\u001b[0m\n\u001b[0m\u001b[0;32m     13\u001b[0m         \u001b[0mmerge_sort\u001b[0m\u001b[1;33m(\u001b[0m\u001b[0mright\u001b[0m\u001b[1;33m)\u001b[0m\u001b[1;33m\u001b[0m\u001b[1;33m\u001b[0m\u001b[0m\n\u001b[0;32m     14\u001b[0m         \u001b[1;31m#after this the two array are now in sorted order\u001b[0m\u001b[1;33m\u001b[0m\u001b[1;33m\u001b[0m\u001b[0m\n",
      "\u001b[1;32mC:\\Users\\JOANJA~1\\AppData\\Local\\Temp/ipykernel_14612/833280956.py\u001b[0m in \u001b[0;36mmerge_sort\u001b[1;34m(arr)\u001b[0m\n\u001b[0;32m     19\u001b[0m         \u001b[0mj\u001b[0m\u001b[1;33m=\u001b[0m \u001b[1;36m0\u001b[0m       \u001b[1;31m#use index j to keep track of leftmost array in right array\u001b[0m\u001b[1;33m\u001b[0m\u001b[1;33m\u001b[0m\u001b[0m\n\u001b[0;32m     20\u001b[0m         \u001b[0mk\u001b[0m\u001b[1;33m=\u001b[0m \u001b[1;36m0\u001b[0m       \u001b[1;31m#merged array index\u001b[0m\u001b[1;33m\u001b[0m\u001b[1;33m\u001b[0m\u001b[0m\n\u001b[1;32m---> 21\u001b[1;33m         \u001b[1;32mwhile\u001b[0m \u001b[0mi\u001b[0m\u001b[1;33m<\u001b[0m \u001b[1;33m(\u001b[0m\u001b[0mleft\u001b[0m\u001b[1;33m)\u001b[0m \u001b[1;32mand\u001b[0m \u001b[0mj\u001b[0m\u001b[1;33m<\u001b[0m\u001b[1;33m(\u001b[0m\u001b[0mright\u001b[0m\u001b[1;33m)\u001b[0m\u001b[1;33m:\u001b[0m\u001b[1;33m\u001b[0m\u001b[1;33m\u001b[0m\u001b[0m\n\u001b[0m\u001b[0;32m     22\u001b[0m             \u001b[1;31m#inside while loop compare left array at index i with the right array at index j\u001b[0m\u001b[1;33m\u001b[0m\u001b[1;33m\u001b[0m\u001b[0m\n\u001b[0;32m     23\u001b[0m             \u001b[1;32mif\u001b[0m \u001b[0mleft\u001b[0m\u001b[1;33m[\u001b[0m\u001b[0mi\u001b[0m\u001b[1;33m]\u001b[0m \u001b[1;33m<\u001b[0m \u001b[0mright\u001b[0m\u001b[1;33m[\u001b[0m\u001b[0mj\u001b[0m\u001b[1;33m]\u001b[0m\u001b[1;33m:\u001b[0m  \u001b[1;31m#at all current indexes\u001b[0m\u001b[1;33m\u001b[0m\u001b[1;33m\u001b[0m\u001b[0m\n",
      "\u001b[1;31mTypeError\u001b[0m: '<' not supported between instances of 'int' and 'list'"
     ]
    }
   ],
   "source": [
    "def merge_sort(arr):\n",
    "    if len(arr) == 1:\n",
    "        return arr\n",
    "    if len(arr) > 1 :\n",
    "        mid = len(arr)//2 \n",
    "        left= arr[:mid]   #from start(index= 0) up to mid(len(array)//2 )\n",
    "        right = arr[mid:]  # from mid(len(array)//2) to end(len(array))\n",
    "        \n",
    "        \n",
    "        #recursion: call merge_sort recurively on both arrays\n",
    "        \n",
    "        merge_sort(left)\n",
    "        merge_sort(right)\n",
    "        #after this the two array are now in sorted order\n",
    "        \n",
    "        \n",
    "        #merge\n",
    "        i= 0       #use index i  to keep track of leftmost index in left array\n",
    "        j= 0       #use index j to keep track of leftmost array in right array\n",
    "        k= 0       #merged array index\n",
    "        while i< (left) and j<(right): \n",
    "            #inside while loop compare left array at index i with the right array at index j  \n",
    "            if left[i] < right[j]:  #at all current indexes\n",
    "                arr[k] = left[i]        #save value of left array inside merged array\n",
    "                i += 1    #increase curent index of left array\n",
    "            else:\n",
    "                arr[k] = right[j]        #save value of left array inside merged array\n",
    "                j += 1    #increase curent index of right array\n",
    "                \n",
    "            k+= 1 # increase current index of merged array in every while loop. \n",
    "                  #this could also be place after botht the if and else conditions.\n",
    "                \n",
    "#imagine if we have transferred all of the rigt array elements to the merged array \n",
    "#now theres nothing to compare the left over elements of the left array with\n",
    "#we need to consider the case of transfering everr element of left array to merged array without considering the right array\n",
    "\n",
    "        while i< len(left):\n",
    "            arr[k] = left[i] \n",
    "            i+=1\n",
    "            k+=1\n",
    "# now implemt sceneraio vice versa\n",
    "        while j<len(right):\n",
    "            arr[k] = right[j]\n",
    "            j+=1\n",
    "            k+=1\n",
    "               \n",
    "test= [2,3,5,1,7,4,4,4,2,6,0] \n",
    "merge_sort(test) \n",
    "print (test)"
   ]
  },
  {
   "cell_type": "markdown",
   "id": "f2b71daa",
   "metadata": {},
   "source": [
    "Like QuickSort, Merge Sort is a Divide and Conquer algorithm. \n",
    "It divides the input array into two halves, calls itself for the two halves, and then merges the two sorted halves. \n",
    "The merge() function is used for merging two halves. The merge(arr, l, m, r) is a key process that assumes that arr[l..m] and arr[m+1..r] are sorted and merges the two sorted sub-arrays into one. \n",
    "See the following C implementation for details.\n",
    "\n",
    "MergeSort(arr[], l,  r)\n",
    "If r > l\n",
    "     1. Find the middle point to divide the array into two halves:  \n",
    "             middle m = l+ (r-l)/2\n",
    "             \n",
    "     2. Call mergeSort for first half:   \n",
    "             Call mergeSort(arr, l, m)\n",
    "             \n",
    "     3. Call mergeSort for second half:\n",
    "             Call mergeSort(arr, m+1, r)\n",
    "             \n",
    "     4. Merge the two halves sorted in step 2 and 3:\n",
    "             Call merge(arr, l, m, r)"
   ]
  },
  {
   "cell_type": "code",
   "execution_count": 33,
   "id": "624b1a08",
   "metadata": {},
   "outputs": [
    {
     "name": "stdout",
     "output_type": "stream",
     "text": [
      "Given array is\n",
      "12 11 13 5 6 7 \n",
      "Sorted array is: \n",
      "5 6 7 11 12 13 \n"
     ]
    }
   ],
   "source": [
    "# Python program for implementation of MergeSort\n",
    "def mergeSort(arr):\n",
    "\tif len(arr) > 1:\n",
    "\n",
    "\t\t# Finding the mid of the array\n",
    "\t\tmid = len(arr)//2\n",
    "\n",
    "\t\t# Dividing the array elements\n",
    "\t\tL = arr[:mid]\n",
    "\n",
    "\t\t# into 2 halves\n",
    "\t\tR = arr[mid:]\n",
    "\n",
    "\t\t# Sorting the first half\n",
    "\t\tmergeSort(L)\n",
    "\n",
    "\t\t# Sorting the second half\n",
    "\t\tmergeSort(R)\n",
    "\n",
    "\t\ti = j = k = 0\n",
    "\n",
    "\t\t# Copy data to temp arrays L[] and R[]\n",
    "\t\twhile i < len(L) and j < len(R):\n",
    "\t\t\tif L[i] < R[j]:\n",
    "\t\t\t\tarr[k] = L[i]\n",
    "\t\t\t\ti += 1\n",
    "\t\t\telse:\n",
    "\t\t\t\tarr[k] = R[j]\n",
    "\t\t\t\tj += 1\n",
    "\t\t\tk += 1\n",
    "\n",
    "\t\t# Checking if any element was left\n",
    "\t\twhile i < len(L):\n",
    "\t\t\tarr[k] = L[i]\n",
    "\t\t\ti += 1\n",
    "\t\t\tk += 1\n",
    "\n",
    "\t\twhile j < len(R):\n",
    "\t\t\tarr[k] = R[j]\n",
    "\t\t\tj += 1\n",
    "\t\t\tk += 1\n",
    "\n",
    "# Code to print the list\n",
    "\n",
    "\n",
    "def printList(arr):\n",
    "\tfor i in range(len(arr)):\n",
    "\t\tprint(arr[i], end=\" \")\n",
    "\tprint()\n",
    "\n",
    "\n",
    "# Driver Code\n",
    "if __name__ == '__main__':\n",
    "\tarr = [12, 11, 13, 5, 6, 7]\n",
    "\tprint(\"Given array is\", end=\"\\n\")\n",
    "\tprintList(arr)\n",
    "\tmergeSort(arr)\n",
    "\tprint(\"Sorted array is: \", end=\"\\n\")\n",
    "\tprintList(arr)\n",
    "\n",
    "# This code is contributed by Mayank Khanna\n"
   ]
  },
  {
   "cell_type": "markdown",
   "id": "05663a54",
   "metadata": {},
   "source": [
    "Time Complexity: Sorting arrays on different machines. Merge Sort is a recursive algorithm and time complexity can be expressed as following recurrence relation. \n",
    "T(n) = 2T(n/2) + θ(n)\n",
    "\n",
    "The above recurrence can be solved either using the Recurrence Tree method or the Master method. \n",
    "It falls in case II of Master Method and the solution of the recurrence is θ(nLogn). \n",
    "\n",
    "Time complexity of Merge Sort is  θ(nLogn) in all 3 cases (worst, average and best) as merge sort always divides the array into two halves and takes linear time to merge two halves.\n",
    "\n",
    "Auxiliary Space: O(n)\n",
    "\n",
    "Algorithmic Paradigm: Divide and Conquer\n",
    "\n",
    "Sorting In Place: No in a typical implementation\n",
    "\n",
    "Stable: Yes\n",
    "\n",
    "\n",
    "Applications of Merge Sort \n",
    "\n",
    "Merge Sort is useful for sorting linked lists in O(nLogn) time. In the case of linked lists, the case is different mainly due to the difference in memory allocation of arrays and linked lists. Unlike arrays, linked list nodes may not be adjacent in memory. Unlike an array, in the linked list, we can insert items in the middle in O(1) extra space and O(1) time. Therefore, the merge operation of merge sort can be implemented without extra space for linked lists.\n",
    "In arrays, we can do random access as elements are contiguous in memory. Let us say we have an integer (4-byte) array A and let the address of A[0] be x then to access A[i], we can directly access the memory at (x + i*4). Unlike arrays, we can not do random access in the linked list. Quick Sort requires a lot of this kind of access. In a linked list to access i’th index, we have to travel each and every node from the head to i’th node as we don’t have a continuous block of memory. Therefore, the overhead increases for quicksort. Merge sort accesses data sequentially and the need of random access is low.\n",
    "\n",
    "Inversion Count Problem\n",
    "\n",
    "Used in External Sorting\n",
    "\n",
    "\n",
    "Drawbacks of Merge Sort\n",
    "\n",
    "Slower comparative to the other sort algorithms for smaller tasks.\n",
    "\n",
    "Merge sort algorithm requires an additional memory space of 0(n) for the temporary array.\n",
    "\n",
    "It goes through the whole process even if the array is sorted."
   ]
  },
  {
   "cell_type": "markdown",
   "id": "40d60ae2",
   "metadata": {},
   "source": [
    "Quick sort\n",
    "\n",
    "Quicksort is a popular sorting algorithm that is often faster in practice compared to other sorting algorithms. It utilizes a divide-and-conquer strategy to quickly sort data items by dividing a large array into two smaller arrays.\n",
    "\n",
    "https://youtu.be/Hoixgm4-P4M"
   ]
  },
  {
   "cell_type": "markdown",
   "id": "ddea99db",
   "metadata": {},
   "source": [
    "Quick sort code\n",
    "\n",
    "To ensure the quick sort, we'll use two functions: partition() and quick_sort(). \n",
    "The quick_sort()function will first partition() then recursively call itself on the divided parts.\n",
    "So, let's start with the partition() function:"
   ]
  },
  {
   "cell_type": "code",
   "execution_count": 45,
   "id": "5fce558d",
   "metadata": {},
   "outputs": [],
   "source": [
    "def partition(array, start, end):\n",
    "    pivot = array[start]\n",
    "    low = start + 1\n",
    "    high = end\n",
    "    while True:\n",
    "        # If the current value we're looking at is larger than the pivot\n",
    "        # it's in the right place (right side of pivot) and we can move left,\n",
    "        # to the next element.\n",
    "        # We also need to make sure we haven't surpassed the low pointer, since that\n",
    "        # indicates we have already moved all the elements to their correct side of the pivot\n",
    "        while low <= high and array[high] >= pivot:\n",
    "            high = high - 1\n",
    "\n",
    "        # Opposite process of the one above\n",
    "        while low <= high and array[low] <= pivot:\n",
    "            low = low + 1\n",
    "\n",
    "        # We either found a value for both high and low that is out of order\n",
    "        # or low is higher than high, in which case we exit the loop\n",
    "        if low <= high:\n",
    "            array[low], array[high] = array[high], array[low]\n",
    "            # The loop continues\n",
    "        else:\n",
    "            # We exit out of the loop\n",
    "            break\n",
    "\n",
    "    array[start], array[high] = array[high], array[start]\n",
    "\n",
    "    return high\n"
   ]
  },
  {
   "cell_type": "code",
   "execution_count": 13,
   "id": "3cbe7ba0",
   "metadata": {},
   "outputs": [
    {
     "name": "stdout",
     "output_type": "stream",
     "text": [
      "[0, 5, 5, 6, 6, 6, 7, 7, 7, 8, 8, 8, 9, 9]\n"
     ]
    }
   ],
   "source": [
    "def quick_sort(sequence):\n",
    "    length = len(sequence)\n",
    "    if length <= 1:\n",
    "        return sequence\n",
    "    else:\n",
    "        pivot = sequence.pop()  #pop drops the last element\n",
    "\n",
    "    items_greater = []\n",
    "    items_lower = []\n",
    "\n",
    "    for item in sequence:\n",
    "        if item > pivot:\n",
    "            items_greater.append(item)\n",
    "\n",
    "        else:\n",
    "            items_lower.append(item)\n",
    "\n",
    "    return quick_sort(items_lower) + [pivot] + quick_sort(items_greater)\n",
    "# we concatenate our pivot point \n",
    "# apply algotithm to items lower, have pivot point in the centre, and apply agin to items greater\n",
    "# repeated till logic breaks\n",
    "\n",
    "print(quick_sort([5,6,7,8,9,8,7,6,5,6,7,8,9,0]))"
   ]
  },
  {
   "cell_type": "code",
   "execution_count": 43,
   "id": "90184ab7",
   "metadata": {},
   "outputs": [
    {
     "name": "stdout",
     "output_type": "stream",
     "text": [
      "[12, 19, 21, 27, 28, 29, 31, 41, 44, 44, 58, 66, 76, 78, 83, 87, 88, 97, 99]\n"
     ]
    }
   ],
   "source": [
    "#Bubble sort code\n",
    "#And now, let's implement the quick_sort() function:\n",
    "\n",
    "def quick_sort(array, start, end):\n",
    "    if start >= end:\n",
    "        return\n",
    "\n",
    "    p = partition(array, start, end)\n",
    "    quick_sort(array, start, p-1)\n",
    "    quick_sort(array, p+1, end)\n",
    "\n",
    "#With both of them implemented, we can run quick_sort() on a simple array:\n",
    "\n",
    "array = [29,99,27,41,66,28,44,78,87,19,31,76,58,88,83,97,12,21,44]\n",
    "quick_sort(array, 0, len(array) - 1)\n",
    "print(array)\n"
   ]
  },
  {
   "cell_type": "markdown",
   "id": "ad34a1ce",
   "metadata": {},
   "source": [
    "QUICK SORT\n",
    "\n",
    "Like Merge Sort, QuickSort is a Divide and Conquer algorithm. It picks an element as pivot and partitions the given array around the picked pivot. There are many different versions of quickSort that pick pivot in different ways. \n",
    "\n",
    "Always pick first element as pivot. \n",
    "\n",
    "Always pick last element as pivot (implemented below) \n",
    "\n",
    "Pick a random element as pivot.\n",
    "\n",
    "Pick median as pivot.\n",
    "\n",
    "https://youtu.be/PgBzjlCcFvc"
   ]
  },
  {
   "cell_type": "markdown",
   "id": "818968da",
   "metadata": {},
   "source": [
    "Illustration of partition() : \n",
    "\n",
    "arr[] = {10, 80, 30, 90, 40, 50, 70}\n",
    "Indexes:  0   1   2   3   4   5   6 \n",
    "\n",
    "low = 0, high =  6, pivot = arr[h] = 70\n",
    "Initialize index of smaller element, i = -1\n",
    "\n",
    "\n",
    "Traverse elements from j = low to high-1\n",
    "j = 0 : Since arr[j] <= pivot, do i++ and swap(arr[i], arr[j])\n",
    "i = 0 \n",
    "arr[] = {10, 80, 30, 90, 40, 50, 70} // No change as i and j \n",
    "                                     // are same\n",
    "\n",
    "j = 1 : Since arr[j] > pivot, do nothing\n",
    "// No change in i and arr[]\n",
    "\n",
    "j = 2 : Since arr[j] <= pivot, do i++ and swap(arr[i], arr[j])\n",
    "i = 1\n",
    "arr[] = {10, 30, 80, 90, 40, 50, 70} // We swap 80 and 30 \n",
    "\n",
    "j = 3 : Since arr[j] > pivot, do nothing\n",
    "// No change in i and arr[]\n",
    "\n",
    "j = 4 : Since arr[j] <= pivot, do i++ and swap(arr[i], arr[j])\n",
    "i = 2\n",
    "arr[] = {10, 30, 40, 90, 80, 50, 70} // 80 and 40 Swapped\n",
    "j = 5 : Since arr[j] <= pivot, do i++ and swap arr[i] with arr[j] \n",
    "i = 3 \n",
    "arr[] = {10, 30, 40, 50, 80, 90, 70} // 90 and 50 Swapped \n",
    "\n",
    "We come out of loop because j is now equal to high-1.\n",
    "Finally we place pivot at correct position by swapping\n",
    "arr[i+1] and arr[high] (or pivot) \n",
    "arr[] = {10, 30, 40, 50, 70, 90, 80} // 80 and 70 Swapped \n",
    "\n",
    "Now 70 is at its correct place. All elements smaller than\n",
    "70 are before it and all elements greater than 70 are after\n",
    "it."
   ]
  },
  {
   "cell_type": "code",
   "execution_count": 12,
   "id": "3b8c9730",
   "metadata": {},
   "outputs": [
    {
     "name": "stdout",
     "output_type": "stream",
     "text": [
      "Sorted array: [1, 5, 7, 8, 9, 10]\n"
     ]
    }
   ],
   "source": [
    "# Python3 implementation of QuickSort \n",
    "\n",
    "# Function to find the partition position\n",
    "def partition(array, low, high):\n",
    "\n",
    "# Choose the rightmost element as pivot\n",
    "    pivot = array[high]\n",
    "\n",
    "# Pointer for greater element\n",
    "    i = low - 1\n",
    "\n",
    "# Traverse through all elements\n",
    "# compare each element with pivot\n",
    "    for j in range(low, high):\n",
    "        if array[j] <= pivot:\n",
    "\t# If element smaller than pivot is found\n",
    "\t# swap it with the greater element pointed by i\n",
    "            i = i + 1\n",
    "\n",
    "\t# Swapping element at i with element at j\n",
    "            (array[i], array[j]) = (array[j], array[i])\n",
    "\n",
    "# Swap the pivot element with the greater element specified by i\n",
    "    (array[i + 1], array[high]) = (array[high], array[i + 1])\n",
    "\n",
    "# Return the position from where partition is done\n",
    "    return i + 1\n",
    "\n",
    "# Function to perform quicksort\n",
    "def quick_sort(array, low, high):\n",
    "    if low < high:\n",
    "\n",
    "\t# Find pivot element such that\n",
    "\t# element smaller than pivot are on the left\n",
    "\t# element greater than pivot are on the right\n",
    "        pi = partition(array, low, high)\n",
    "\n",
    "\t# Recursive call on the left of pivot\n",
    "        quick_sort(array, low, pi - 1)\n",
    "\n",
    "\t# Recursive call on the right of pivot\n",
    "        quick_sort(array, pi + 1, high)\n",
    "\n",
    "\n",
    "\t\t\n",
    "# Driver code\n",
    "array = [ 10, 7, 8, 9, 1, 5]\n",
    "quick_sort(array, 0, len(array) - 1)\n",
    "\n",
    "print(f'Sorted array: {array}')\n",
    "\t\n",
    "# This code is contributed by Adnan Aliakbar\n"
   ]
  },
  {
   "cell_type": "markdown",
   "id": "12d1afaa",
   "metadata": {},
   "source": [
    "Trees\n",
    "\n",
    "Trees are used in many areas of computer science, including operating systems, graphics, database systems, and computer networking. Tree data structures have many things in common with natural trees. Both of them have a root, branches, and leaves. The difference between a tree in nature and a tree in computer science is that a tree data structure has its root at the top and its leaves on the bottom.\n",
    "\n",
    "One of the most famous properties of a tree is its hierarchy. By hierarchy, we mean that trees are structured in layers with the more general things near the top and the more specific things near the bottom. The top of the hierarchy is the Kingdom, the next layer of the tree (the “children” of the layer above) is the Phylum, then the Class, and so on."
   ]
  },
  {
   "cell_type": "markdown",
   "id": "dbb2281e",
   "metadata": {},
   "source": [
    "Tree traversal\n",
    "\n",
    "Traversal is a process to visit all the nodes of a tree and may print their values too. Since all nodes are connected via edges (links) we always start from the root (head) node, we cannot randomly access a node in a tree.\n",
    "\n",
    "There are three ways to traverse a tree: \n",
    "\n",
    "1.In-order Traversal\n",
    "2.Pre-order Traversal\n",
    "3.Post-order Traversal\n",
    "\n",
    "The difference between these three ways is the order in which each node is visited. Let’s start out by defining these three traversals more carefully.\n",
    "\n",
    "1. Preorder traversal:\n",
    "In a preorder traversal, we visit the root node first, then recursively do a preorder traversal of the left subtree, followed by a recursive preorder traversal of the right subtree.\n",
    "\n",
    "2. Inorder traversal:\n",
    "In an inorder traversal, we recursively do an inorder traversal on the left subtree, visit the root node, and finally do a recursive inorder traversal of the right subtree.\n",
    "\n",
    "3. Postorder traversal:\n",
    "In a postorder traversal, we recursively do a postorder traversal of the left subtree and the right subtree followed by a visit to the root node."
   ]
  },
  {
   "cell_type": "markdown",
   "id": "0b5dc041",
   "metadata": {},
   "source": [
    "Binary tree\n",
    "\n",
    "Trees can come in many different shapes, and they can vary in the number of children allowed per node or in the way they organize data values within the nodes. One of the most commonly used trees in computer science is the binary tree.\n",
    "\n",
    "A binary tree is a tree in which each node can have at most two children. One child is identified as the left child and the other as the right child. The topmost node of the tree is known as the root node.It provides the single access point into the structure."
   ]
  },
  {
   "cell_type": "markdown",
   "id": "0241c877",
   "metadata": {},
   "source": [
    "What's an ERROR:\n",
    "\n",
    "The most common reason of an error in a Python program is when a certain statement is not in accordance with the prescribed usage.\n",
    "\n",
    "Don't worry! The Python interpreter immediately reports the error, usually along with the reason."
   ]
  },
  {
   "cell_type": "markdown",
   "id": "e65605b3",
   "metadata": {},
   "source": [
    "IndexError: IndexError is thrown when trying to access an item at an invalid index. Try this code:\n",
    "\n",
    "L1=[1,2,3]\n",
    "\n",
    "L1[3]\n",
    "\n",
    "You will obtain: py IndexError: list index out of range"
   ]
  },
  {
   "cell_type": "code",
   "execution_count": 17,
   "id": "1c6455bd",
   "metadata": {
    "collapsed": true
   },
   "outputs": [
    {
     "name": "stdout",
     "output_type": "stream",
     "text": [
      "INDEX ERROR\n"
     ]
    },
    {
     "ename": "IndexError",
     "evalue": "list index out of range",
     "output_type": "error",
     "traceback": [
      "\u001b[1;31m---------------------------------------------------------------------------\u001b[0m",
      "\u001b[1;31mIndexError\u001b[0m                                Traceback (most recent call last)",
      "\u001b[1;32mC:\\Users\\JOANJA~1\\AppData\\Local\\Temp/ipykernel_14612/2062147024.py\u001b[0m in \u001b[0;36m<module>\u001b[1;34m\u001b[0m\n\u001b[0;32m      1\u001b[0m \u001b[0mprint\u001b[0m  \u001b[1;33m(\u001b[0m\u001b[1;34m'INDEX ERROR'\u001b[0m\u001b[1;33m)\u001b[0m\u001b[1;33m\u001b[0m\u001b[1;33m\u001b[0m\u001b[0m\n\u001b[0;32m      2\u001b[0m \u001b[0mL1\u001b[0m\u001b[1;33m=\u001b[0m\u001b[1;33m[\u001b[0m\u001b[1;36m1\u001b[0m\u001b[1;33m,\u001b[0m\u001b[1;36m2\u001b[0m\u001b[1;33m,\u001b[0m\u001b[1;36m3\u001b[0m\u001b[1;33m]\u001b[0m\u001b[1;33m\u001b[0m\u001b[1;33m\u001b[0m\u001b[0m\n\u001b[1;32m----> 3\u001b[1;33m \u001b[0mL1\u001b[0m\u001b[1;33m[\u001b[0m\u001b[1;36m3\u001b[0m\u001b[1;33m]\u001b[0m\u001b[1;33m\u001b[0m\u001b[1;33m\u001b[0m\u001b[0m\n\u001b[0m",
      "\u001b[1;31mIndexError\u001b[0m: list index out of range"
     ]
    }
   ],
   "source": [
    "print  ('INDEX ERROR')\n",
    "L1=[1,2,3]\n",
    "L1[3]"
   ]
  },
  {
   "cell_type": "markdown",
   "id": "7c19b3b5",
   "metadata": {},
   "source": [
    "SyntaxError: SyntaxError is thrown when a syntax error is encountered.\n",
    "\n",
    "Let's try this code:\n",
    "\n",
    "print\"hello world\"\n",
    "\n",
    "You will obtain:  SyntaxError: Missing parentheses in call to 'print'."
   ]
  },
  {
   "cell_type": "code",
   "execution_count": 18,
   "id": "352a41fe",
   "metadata": {
    "collapsed": true
   },
   "outputs": [
    {
     "ename": "SyntaxError",
     "evalue": "invalid syntax (Temp/ipykernel_14612/3800845396.py, line 2)",
     "output_type": "error",
     "traceback": [
      "\u001b[1;36m  File \u001b[1;32m\"C:\\Users\\JOANJA~1\\AppData\\Local\\Temp/ipykernel_14612/3800845396.py\"\u001b[1;36m, line \u001b[1;32m2\u001b[0m\n\u001b[1;33m    print\"hello world\"\u001b[0m\n\u001b[1;37m         ^\u001b[0m\n\u001b[1;31mSyntaxError\u001b[0m\u001b[1;31m:\u001b[0m invalid syntax\n"
     ]
    }
   ],
   "source": [
    "print ('SYNTAX ERROR')\n",
    "print\"hello world\""
   ]
  },
  {
   "cell_type": "markdown",
   "id": "c8227c3e",
   "metadata": {},
   "source": [
    "ModuleNotFoundError: ModuleNotFoundError is thrown when a module could not be found.\n",
    "\n",
    "Try this code:\n",
    "\n",
    "import notamodule\n",
    "\n",
    "You will obtain:\n",
    "\n",
    "ModuleNotFoundError: No module named 'notamodule'"
   ]
  },
  {
   "cell_type": "code",
   "execution_count": 19,
   "id": "b451215b",
   "metadata": {
    "collapsed": true
   },
   "outputs": [
    {
     "name": "stdout",
     "output_type": "stream",
     "text": [
      "ModuleNotFoundError\n"
     ]
    },
    {
     "ename": "ModuleNotFoundError",
     "evalue": "No module named 'notamodule'",
     "output_type": "error",
     "traceback": [
      "\u001b[1;31m---------------------------------------------------------------------------\u001b[0m",
      "\u001b[1;31mModuleNotFoundError\u001b[0m                       Traceback (most recent call last)",
      "\u001b[1;32mC:\\Users\\JOANJA~1\\AppData\\Local\\Temp/ipykernel_14612/4276387590.py\u001b[0m in \u001b[0;36m<module>\u001b[1;34m\u001b[0m\n\u001b[0;32m      1\u001b[0m \u001b[0mprint\u001b[0m \u001b[1;33m(\u001b[0m\u001b[1;34m'ModuleNotFoundError'\u001b[0m\u001b[1;33m)\u001b[0m\u001b[1;33m\u001b[0m\u001b[1;33m\u001b[0m\u001b[0m\n\u001b[1;32m----> 2\u001b[1;33m \u001b[1;32mimport\u001b[0m \u001b[0mnotamodule\u001b[0m\u001b[1;33m\u001b[0m\u001b[1;33m\u001b[0m\u001b[0m\n\u001b[0m",
      "\u001b[1;31mModuleNotFoundError\u001b[0m: No module named 'notamodule'"
     ]
    }
   ],
   "source": [
    "print ('ModuleNotFoundError')\n",
    "import notamodule"
   ]
  },
  {
   "cell_type": "markdown",
   "id": "a1b01a42",
   "metadata": {},
   "source": [
    "KeyError: KeyError is thrown when a key is not found.\n",
    "\n",
    "Try this code:\n",
    "\n",
    "D1={'1':\"aa\", '2':\"bb\", '3':\"cc\"}\n",
    "D1['4']\n",
    "\n",
    "You will obtain:  KeyError: '4'"
   ]
  },
  {
   "cell_type": "code",
   "execution_count": 21,
   "id": "ddb764cb",
   "metadata": {
    "collapsed": true
   },
   "outputs": [
    {
     "name": "stdout",
     "output_type": "stream",
     "text": [
      "Key error\n"
     ]
    },
    {
     "ename": "KeyError",
     "evalue": "'4'",
     "output_type": "error",
     "traceback": [
      "\u001b[1;31m---------------------------------------------------------------------------\u001b[0m",
      "\u001b[1;31mKeyError\u001b[0m                                  Traceback (most recent call last)",
      "\u001b[1;32mC:\\Users\\JOANJA~1\\AppData\\Local\\Temp/ipykernel_14612/3024192711.py\u001b[0m in \u001b[0;36m<module>\u001b[1;34m\u001b[0m\n\u001b[0;32m      1\u001b[0m \u001b[0mprint\u001b[0m \u001b[1;33m(\u001b[0m\u001b[1;34m'Key error'\u001b[0m\u001b[1;33m)\u001b[0m\u001b[1;33m\u001b[0m\u001b[1;33m\u001b[0m\u001b[0m\n\u001b[0;32m      2\u001b[0m \u001b[0mD1\u001b[0m\u001b[1;33m=\u001b[0m\u001b[1;33m{\u001b[0m\u001b[1;34m'1'\u001b[0m\u001b[1;33m:\u001b[0m\u001b[1;34m\"aa\"\u001b[0m\u001b[1;33m,\u001b[0m \u001b[1;34m'2'\u001b[0m\u001b[1;33m:\u001b[0m\u001b[1;34m\"bb\"\u001b[0m\u001b[1;33m,\u001b[0m \u001b[1;34m'3'\u001b[0m\u001b[1;33m:\u001b[0m\u001b[1;34m\"cc\"\u001b[0m\u001b[1;33m}\u001b[0m\u001b[1;33m\u001b[0m\u001b[1;33m\u001b[0m\u001b[0m\n\u001b[1;32m----> 3\u001b[1;33m \u001b[0mD1\u001b[0m\u001b[1;33m[\u001b[0m\u001b[1;34m'4'\u001b[0m\u001b[1;33m]\u001b[0m\u001b[1;33m\u001b[0m\u001b[1;33m\u001b[0m\u001b[0m\n\u001b[0m",
      "\u001b[1;31mKeyError\u001b[0m: '4'"
     ]
    }
   ],
   "source": [
    "print ('Key error')\n",
    "D1={'1':\"aa\", '2':\"bb\", '3':\"cc\"}\n",
    "D1['4']"
   ]
  },
  {
   "cell_type": "markdown",
   "id": "4cb515e6",
   "metadata": {},
   "source": [
    "IndentationError: IndentationError is thrown when an incorrect indentation is occured.\n",
    "\n",
    "Let's try this code:\n",
    "\n",
    "i=0; while i<4: ; print(i) ; i+=1\n",
    "\n",
    "You will obtain: IndentationError: expected an indented block"
   ]
  },
  {
   "cell_type": "code",
   "execution_count": 24,
   "id": "75b204f9",
   "metadata": {
    "collapsed": true
   },
   "outputs": [
    {
     "ename": "IndentationError",
     "evalue": "expected an indented block (Temp/ipykernel_14612/1784582497.py, line 4)",
     "output_type": "error",
     "traceback": [
      "\u001b[1;36m  File \u001b[1;32m\"C:\\Users\\JOANJA~1\\AppData\\Local\\Temp/ipykernel_14612/1784582497.py\"\u001b[1;36m, line \u001b[1;32m4\u001b[0m\n\u001b[1;33m    print(i)\u001b[0m\n\u001b[1;37m    ^\u001b[0m\n\u001b[1;31mIndentationError\u001b[0m\u001b[1;31m:\u001b[0m expected an indented block\n"
     ]
    }
   ],
   "source": [
    "print ('indentation error')\n",
    "i=0\n",
    "while i<4:\n",
    "print(i)\n",
    "i+=1"
   ]
  },
  {
   "cell_type": "markdown",
   "id": "322d2f78",
   "metadata": {},
   "source": [
    "ImportError: ImportError is thrown when a specified function can not be found.\n",
    "\n",
    "Let's try this code:\n",
    "\n",
    "from math import cube\n",
    "\n",
    "You will obtain: ImportError: cannot import name 'cube'"
   ]
  },
  {
   "cell_type": "code",
   "execution_count": 25,
   "id": "22bb11df",
   "metadata": {
    "collapsed": true
   },
   "outputs": [
    {
     "name": "stdout",
     "output_type": "stream",
     "text": [
      "import error\n"
     ]
    },
    {
     "ename": "ImportError",
     "evalue": "cannot import name 'cube' from 'math' (unknown location)",
     "output_type": "error",
     "traceback": [
      "\u001b[1;31m---------------------------------------------------------------------------\u001b[0m",
      "\u001b[1;31mImportError\u001b[0m                               Traceback (most recent call last)",
      "\u001b[1;32mC:\\Users\\JOANJA~1\\AppData\\Local\\Temp/ipykernel_14612/883929821.py\u001b[0m in \u001b[0;36m<module>\u001b[1;34m\u001b[0m\n\u001b[0;32m      1\u001b[0m \u001b[0mprint\u001b[0m \u001b[1;33m(\u001b[0m\u001b[1;34m'import error'\u001b[0m\u001b[1;33m)\u001b[0m\u001b[1;33m\u001b[0m\u001b[1;33m\u001b[0m\u001b[0m\n\u001b[1;32m----> 2\u001b[1;33m \u001b[1;32mfrom\u001b[0m \u001b[0mmath\u001b[0m \u001b[1;32mimport\u001b[0m \u001b[0mcube\u001b[0m\u001b[1;33m\u001b[0m\u001b[1;33m\u001b[0m\u001b[0m\n\u001b[0m",
      "\u001b[1;31mImportError\u001b[0m: cannot import name 'cube' from 'math' (unknown location)"
     ]
    }
   ],
   "source": [
    "print ('import error')\n",
    "from math import cube"
   ]
  },
  {
   "cell_type": "markdown",
   "id": "7221777c",
   "metadata": {},
   "source": [
    "StopIteration: StopIteration is thrown when the next() function goes beyond the iterator items.\n",
    "\n",
    "Let's try this code:\n",
    "\n",
    "it=iter([1,2,3])\n",
    "next(it)\n",
    "next(it)\n",
    "next(it)\n",
    "next(it)\n",
    "\n",
    "You will obtain: StopIteration"
   ]
  },
  {
   "cell_type": "code",
   "execution_count": 26,
   "id": "176f4858",
   "metadata": {
    "collapsed": true
   },
   "outputs": [
    {
     "name": "stdout",
     "output_type": "stream",
     "text": [
      "StopIteration\n"
     ]
    },
    {
     "ename": "StopIteration",
     "evalue": "",
     "output_type": "error",
     "traceback": [
      "\u001b[1;31m---------------------------------------------------------------------------\u001b[0m",
      "\u001b[1;31mStopIteration\u001b[0m                             Traceback (most recent call last)",
      "\u001b[1;32mC:\\Users\\JOANJA~1\\AppData\\Local\\Temp/ipykernel_14612/3598239113.py\u001b[0m in \u001b[0;36m<module>\u001b[1;34m\u001b[0m\n\u001b[0;32m      4\u001b[0m \u001b[0mnext\u001b[0m\u001b[1;33m(\u001b[0m\u001b[0mit\u001b[0m\u001b[1;33m)\u001b[0m\u001b[1;33m\u001b[0m\u001b[1;33m\u001b[0m\u001b[0m\n\u001b[0;32m      5\u001b[0m \u001b[0mnext\u001b[0m\u001b[1;33m(\u001b[0m\u001b[0mit\u001b[0m\u001b[1;33m)\u001b[0m\u001b[1;33m\u001b[0m\u001b[1;33m\u001b[0m\u001b[0m\n\u001b[1;32m----> 6\u001b[1;33m \u001b[0mnext\u001b[0m\u001b[1;33m(\u001b[0m\u001b[0mit\u001b[0m\u001b[1;33m)\u001b[0m\u001b[1;33m\u001b[0m\u001b[1;33m\u001b[0m\u001b[0m\n\u001b[0m",
      "\u001b[1;31mStopIteration\u001b[0m: "
     ]
    }
   ],
   "source": [
    "print ('StopIteration')\n",
    "it=iter([1,2,3])\n",
    "next(it)\n",
    "next(it)\n",
    "next(it)\n",
    "next(it)"
   ]
  },
  {
   "cell_type": "markdown",
   "id": "499c7f87",
   "metadata": {},
   "source": [
    "TypeError: TypeError is thrown when an operation or function is applied to an object of an inappropriate type.\n",
    "\n",
    "Let's try this code:\n",
    "\n",
    " '2'+2\n",
    "    \n",
    "You will obtain:  TypeError: must be str, not int"
   ]
  },
  {
   "cell_type": "code",
   "execution_count": 27,
   "id": "92ee41f2",
   "metadata": {
    "collapsed": true
   },
   "outputs": [
    {
     "name": "stdout",
     "output_type": "stream",
     "text": [
      "type error\n"
     ]
    },
    {
     "ename": "TypeError",
     "evalue": "can only concatenate str (not \"int\") to str",
     "output_type": "error",
     "traceback": [
      "\u001b[1;31m---------------------------------------------------------------------------\u001b[0m",
      "\u001b[1;31mTypeError\u001b[0m                                 Traceback (most recent call last)",
      "\u001b[1;32mC:\\Users\\JOANJA~1\\AppData\\Local\\Temp/ipykernel_14612/1215439679.py\u001b[0m in \u001b[0;36m<module>\u001b[1;34m\u001b[0m\n\u001b[0;32m      1\u001b[0m \u001b[0mprint\u001b[0m \u001b[1;33m(\u001b[0m\u001b[1;34m'type error'\u001b[0m\u001b[1;33m)\u001b[0m\u001b[1;33m\u001b[0m\u001b[1;33m\u001b[0m\u001b[0m\n\u001b[1;32m----> 2\u001b[1;33m \u001b[1;34m'2'\u001b[0m\u001b[1;33m+\u001b[0m\u001b[1;36m2\u001b[0m\u001b[1;33m\u001b[0m\u001b[1;33m\u001b[0m\u001b[0m\n\u001b[0m",
      "\u001b[1;31mTypeError\u001b[0m: can only concatenate str (not \"int\") to str"
     ]
    }
   ],
   "source": [
    "print ('type error')\n",
    "'2'+2"
   ]
  },
  {
   "cell_type": "markdown",
   "id": "00cea9b3",
   "metadata": {},
   "source": [
    "ValueError: ValueError is thrown when a function's argument is of an inappropriate type.\n",
    "\n",
    "Let's try this code:\n",
    "\n",
    "int('xyz')\n",
    "\n",
    "You will obtain: ValueError: invalid literal for int() with base 10: 'xyz'"
   ]
  },
  {
   "cell_type": "code",
   "execution_count": 28,
   "id": "b10e48ab",
   "metadata": {
    "collapsed": true
   },
   "outputs": [
    {
     "name": "stdout",
     "output_type": "stream",
     "text": [
      "value error\n"
     ]
    },
    {
     "ename": "ValueError",
     "evalue": "invalid literal for int() with base 10: 'xyz'",
     "output_type": "error",
     "traceback": [
      "\u001b[1;31m---------------------------------------------------------------------------\u001b[0m",
      "\u001b[1;31mValueError\u001b[0m                                Traceback (most recent call last)",
      "\u001b[1;32mC:\\Users\\JOANJA~1\\AppData\\Local\\Temp/ipykernel_14612/1705781821.py\u001b[0m in \u001b[0;36m<module>\u001b[1;34m\u001b[0m\n\u001b[0;32m      1\u001b[0m \u001b[0mprint\u001b[0m \u001b[1;33m(\u001b[0m\u001b[1;34m'value error'\u001b[0m\u001b[1;33m)\u001b[0m\u001b[1;33m\u001b[0m\u001b[1;33m\u001b[0m\u001b[0m\n\u001b[1;32m----> 2\u001b[1;33m \u001b[0mint\u001b[0m\u001b[1;33m(\u001b[0m\u001b[1;34m'xyz'\u001b[0m\u001b[1;33m)\u001b[0m\u001b[1;33m\u001b[0m\u001b[1;33m\u001b[0m\u001b[0m\n\u001b[0m",
      "\u001b[1;31mValueError\u001b[0m: invalid literal for int() with base 10: 'xyz'"
     ]
    }
   ],
   "source": [
    "print ('value error')\n",
    "int('xyz')"
   ]
  },
  {
   "cell_type": "markdown",
   "id": "f3c4f0bc",
   "metadata": {},
   "source": [
    "NameError: NameError is thrown when an object could not be found.\n",
    "\n",
    "Try this code:\n",
    "\n",
    "age\n",
    "\n",
    "You will obtain: NameError: name 'age' is not defined"
   ]
  },
  {
   "cell_type": "code",
   "execution_count": 29,
   "id": "14bcdd5c",
   "metadata": {
    "collapsed": true
   },
   "outputs": [
    {
     "name": "stdout",
     "output_type": "stream",
     "text": [
      "name error\n"
     ]
    },
    {
     "ename": "NameError",
     "evalue": "name 'age' is not defined",
     "output_type": "error",
     "traceback": [
      "\u001b[1;31m---------------------------------------------------------------------------\u001b[0m",
      "\u001b[1;31mNameError\u001b[0m                                 Traceback (most recent call last)",
      "\u001b[1;32mC:\\Users\\JOANJA~1\\AppData\\Local\\Temp/ipykernel_14612/1374756941.py\u001b[0m in \u001b[0;36m<module>\u001b[1;34m\u001b[0m\n\u001b[0;32m      1\u001b[0m \u001b[0mprint\u001b[0m \u001b[1;33m(\u001b[0m\u001b[1;34m'name error'\u001b[0m\u001b[1;33m)\u001b[0m\u001b[1;33m\u001b[0m\u001b[1;33m\u001b[0m\u001b[0m\n\u001b[1;32m----> 2\u001b[1;33m \u001b[0mage\u001b[0m\u001b[1;33m\u001b[0m\u001b[1;33m\u001b[0m\u001b[0m\n\u001b[0m",
      "\u001b[1;31mNameError\u001b[0m: name 'age' is not defined"
     ]
    }
   ],
   "source": [
    "print ('name error')\n",
    "age"
   ]
  },
  {
   "cell_type": "markdown",
   "id": "6ce9a96a",
   "metadata": {},
   "source": [
    "ZeroDivisionError: ZeroDivisionError is thrown when the second operator in the division is zero.\n",
    "\n",
    "Let's try this code:\n",
    "\n",
    "x=100/0\n",
    "\n",
    "You will obtain: ZeroDivisionError: division by zero"
   ]
  },
  {
   "cell_type": "code",
   "execution_count": 30,
   "id": "902a96fa",
   "metadata": {
    "collapsed": true
   },
   "outputs": [
    {
     "name": "stdout",
     "output_type": "stream",
     "text": [
      "ZeroDivisionError\n"
     ]
    },
    {
     "ename": "ZeroDivisionError",
     "evalue": "division by zero",
     "output_type": "error",
     "traceback": [
      "\u001b[1;31m---------------------------------------------------------------------------\u001b[0m",
      "\u001b[1;31mZeroDivisionError\u001b[0m                         Traceback (most recent call last)",
      "\u001b[1;32mC:\\Users\\JOANJA~1\\AppData\\Local\\Temp/ipykernel_14612/2804170243.py\u001b[0m in \u001b[0;36m<module>\u001b[1;34m\u001b[0m\n\u001b[0;32m      1\u001b[0m \u001b[0mprint\u001b[0m \u001b[1;33m(\u001b[0m\u001b[1;34m'ZeroDivisionError'\u001b[0m\u001b[1;33m)\u001b[0m\u001b[1;33m\u001b[0m\u001b[1;33m\u001b[0m\u001b[0m\n\u001b[1;32m----> 2\u001b[1;33m \u001b[0mx\u001b[0m\u001b[1;33m=\u001b[0m\u001b[1;36m100\u001b[0m\u001b[1;33m/\u001b[0m\u001b[1;36m0\u001b[0m\u001b[1;33m\u001b[0m\u001b[1;33m\u001b[0m\u001b[0m\n\u001b[0m",
      "\u001b[1;31mZeroDivisionError\u001b[0m: division by zero"
     ]
    }
   ],
   "source": [
    "print ('ZeroDivisionError')\n",
    "x=100/0"
   ]
  },
  {
   "cell_type": "markdown",
   "id": "ea8daa67",
   "metadata": {},
   "source": [
    "KeyboardInterrupt: KeyboardInterrupt is thrown when the user hits the interrupt key (normally Control-C) during the execution of the program.\n",
    "\n",
    "Let's try this code:\n",
    "\n",
    "name=input('enter your name') ; \n",
    "enter your name^c\n",
    "\n",
    "You will obtain: KeyboardInterrupt"
   ]
  },
  {
   "cell_type": "code",
   "execution_count": null,
   "id": "607936ea",
   "metadata": {
    "scrolled": true
   },
   "outputs": [
    {
     "name": "stdout",
     "output_type": "stream",
     "text": [
      "KeyboardInterrupt\n"
     ]
    }
   ],
   "source": [
    "print ('KeyboardInterrupt')\n",
    "name=input('enter your name')"
   ]
  },
  {
   "cell_type": "markdown",
   "id": "dca6f901",
   "metadata": {},
   "source": [
    "Other type errors\n",
    "\n",
    "The following table lists important built-in exceptions in Python.\n",
    "\n",
    "Error -- Description\n",
    "\n",
    "SystemError\t-- Raised when the interpreter detects internal error.\n",
    "\n",
    "SystemExit\t-- Raised by the sys.exit() function.\n",
    "\n",
    "UnboundLocalError -- Raised when the interpreter detects internal error.\n",
    "\n",
    "AssertionError -- Raised when the assert statement fails.\n",
    "\n",
    "AttributeError -- Raised on the attribute assignment or reference fails.\n",
    "\n",
    "FloatingPointError -- Raised when a floating point operation fails.\n",
    "\n",
    "GeneratorExit -- Raised when a generator's close() method is called."
   ]
  },
  {
   "cell_type": "markdown",
   "id": "c2927533",
   "metadata": {},
   "source": [
    "Labphase: How to build your own Project using python\n",
    "    \n",
    "This Lab phase is composed of different checkpoints that contains recommendations and directives to develop your final project.\n",
    "\n",
    "This Step is the perfect opportunity to learn by making and apply what you’ve learned through out this track.\n",
    "\n",
    "No amount of theory can replace hands-on practice. Lessons can trick you into a false belief of mastery because there is no practice on real world-data problems. That's why once you go try to apply it, you might find that it's harder than it looks.\n",
    "The goal of this Lab phase is to elevate your applied python skills on real-world problem.\n",
    "\n",
    "The checkpoints that make up this lab phase are:\n",
    "\n",
    "Program to implement simple FLAMES game (step1)\n",
    "\n",
    "Program to implement simple FLAMES game (step2)\n",
    "\n",
    "Program to create a countdown from scratch using Python\n",
    "\n",
    "The First step is Program to implement simple FLAMES game (step1)."
   ]
  },
  {
   "cell_type": "markdown",
   "id": "3b37762d",
   "metadata": {},
   "source": [
    "Lab Phase Introduction\n",
    "\n",
    "This project is awesome for 2 main reasons:\n",
    "\n",
    "First, you'll learn how to translate a real-world problem into code.\n",
    "\n",
    "Second, this project will teach you how to implement a well structured and coherent code.\n",
    "\n",
    "So be inventif, free and make it possible!\n",
    "\n",
    "Don't worry, you are already provided with all the tools you need to achieve this work through previous checkpoints and workshops.\n",
    "\n"
   ]
  },
  {
   "cell_type": "markdown",
   "id": "c9a88ce4",
   "metadata": {},
   "source": [
    "Problem Identification:\n",
    "    \n",
    "The first step in implementing a project is identifying the problem you need to solve.\n",
    "Ask questions like “what outcome is desired?” and “what is the problem that is being attempted to solve here?”\n",
    "To answer to these questions, simply, you are going to match the real problem you're trying to solve to algorithmic problem, and here you will be able to practice what you have learned during this program."
   ]
  },
  {
   "cell_type": "code",
   "execution_count": null,
   "id": "d63cc1bf",
   "metadata": {},
   "outputs": [],
   "source": []
  }
 ],
 "metadata": {
  "kernelspec": {
   "display_name": "Python 3 (ipykernel)",
   "language": "python",
   "name": "python3"
  },
  "language_info": {
   "codemirror_mode": {
    "name": "ipython",
    "version": 3
   },
   "file_extension": ".py",
   "mimetype": "text/x-python",
   "name": "python",
   "nbconvert_exporter": "python",
   "pygments_lexer": "ipython3",
   "version": "3.9.7"
  }
 },
 "nbformat": 4,
 "nbformat_minor": 5
}
